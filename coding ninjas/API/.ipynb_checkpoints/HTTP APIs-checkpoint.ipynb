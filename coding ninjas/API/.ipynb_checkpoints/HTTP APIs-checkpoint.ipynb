{
 "cells": [
  {
   "cell_type": "code",
   "execution_count": 1,
   "id": "f779eb9c",
   "metadata": {},
   "outputs": [
    {
     "name": "stdout",
     "output_type": "stream",
     "text": [
      "422\n",
      "https://codingninjas.in/api/v3/events\n",
      "application/json\n",
      "{\"error\":\"Event Category is required\",\"status\":422}\n"
     ]
    },
    {
     "name": "stderr",
     "output_type": "stream",
     "text": [
      "/Users/skumar6/opt/anaconda3/lib/python3.8/site-packages/urllib3/connectionpool.py:1013: InsecureRequestWarning: Unverified HTTPS request is being made to host 'codingninjas.in'. Adding certificate verification is strongly advised. See: https://urllib3.readthedocs.io/en/latest/advanced-usage.html#ssl-warnings\n",
      "  warnings.warn(\n"
     ]
    }
   ],
   "source": [
    "import requests\n",
    "response = requests.get(\"https://codingninjas.in/api/v3/events\",verify=False)\n",
    "print(response.status_code)\n",
    "print(response.url)\n",
    "print(response.headers[\"content-type\"])\n",
    "print(response.text)"
   ]
  },
  {
   "cell_type": "code",
   "execution_count": null,
   "id": "2d01e700",
   "metadata": {},
   "outputs": [],
   "source": []
  },
  {
   "cell_type": "code",
   "execution_count": 11,
   "id": "f237dc5e",
   "metadata": {},
   "outputs": [
    {
     "name": "stdout",
     "output_type": "stream",
     "text": [
      "{'Student': 'Mohit'}\n",
      "<class 'dict'>\n",
      "Mohit\n"
     ]
    }
   ],
   "source": [
    "import json\n",
    "json_data = '{\"Student\":\"Mohit\"}'\n",
    "python_data = json.loads(json_data)\n",
    "print(python_data)\n",
    "print(type(python_data))\n",
    "print(python_data[\"Student\"])"
   ]
  },
  {
   "cell_type": "code",
   "execution_count": 12,
   "id": "d024530c",
   "metadata": {},
   "outputs": [
    {
     "name": "stdout",
     "output_type": "stream",
     "text": [
      "{'Roll_number': 102}\n",
      "<class 'dict'>\n",
      "102\n"
     ]
    }
   ],
   "source": [
    "json_data = '{\"Roll_number\":102}'\n",
    "python_data = json.loads(json_data)\n",
    "print(python_data)\n",
    "print(type(python_data))\n",
    "print(python_data[\"Roll_number\"])"
   ]
  },
  {
   "cell_type": "code",
   "execution_count": 13,
   "id": "595508de",
   "metadata": {},
   "outputs": [
    {
     "name": "stdout",
     "output_type": "stream",
     "text": [
      "{'Roll_number': None}\n",
      "<class 'dict'>\n",
      "None\n"
     ]
    }
   ],
   "source": [
    "json_data = '{\"Roll_number\":null}'\n",
    "python_data = json.loads(json_data)\n",
    "print(python_data)\n",
    "print(type(python_data))\n",
    "print(python_data[\"Roll_number\"])"
   ]
  },
  {
   "cell_type": "code",
   "execution_count": 5,
   "id": "eadf85df",
   "metadata": {},
   "outputs": [
    {
     "name": "stderr",
     "output_type": "stream",
     "text": [
      "/Users/skumar6/opt/anaconda3/lib/python3.8/site-packages/urllib3/connectionpool.py:1013: InsecureRequestWarning: Unverified HTTPS request is being made to host 'dog.ceo'. Adding certificate verification is strongly advised. See: https://urllib3.readthedocs.io/en/latest/advanced-usage.html#ssl-warnings\n",
      "  warnings.warn(\n"
     ]
    },
    {
     "name": "stdout",
     "output_type": "stream",
     "text": [
      "{\"message\":{\"affenpinscher\":[],\"african\":[],\"airedale\":[],\"akita\":[],\"appenzeller\":[],\"australian\":[\"shepherd\"],\"basenji\":[],\"beagle\":[],\"bluetick\":[],\"borzoi\":[],\"bouvier\":[],\"boxer\":[],\"brabancon\":[],\"briard\":[],\"buhund\":[\"norwegian\"],\"bulldog\":[\"boston\",\"english\",\"french\"],\"bullterrier\":[\"staffordshire\"],\"cattledog\":[\"australian\"],\"chihuahua\":[],\"chow\":[],\"clumber\":[],\"cockapoo\":[],\"collie\":[\"border\"],\"coonhound\":[],\"corgi\":[\"cardigan\"],\"cotondetulear\":[],\"dachshund\":[],\"dalmatian\":[],\"dane\":[\"great\"],\"deerhound\":[\"scottish\"],\"dhole\":[],\"dingo\":[],\"doberman\":[],\"elkhound\":[\"norwegian\"],\"entlebucher\":[],\"eskimo\":[],\"finnish\":[\"lapphund\"],\"frise\":[\"bichon\"],\"germanshepherd\":[],\"greyhound\":[\"italian\"],\"groenendael\":[],\"havanese\":[],\"hound\":[\"afghan\",\"basset\",\"blood\",\"english\",\"ibizan\",\"plott\",\"walker\"],\"husky\":[],\"keeshond\":[],\"kelpie\":[],\"komondor\":[],\"kuvasz\":[],\"labradoodle\":[],\"labrador\":[],\"leonberg\":[],\"lhasa\":[],\"malamute\":[],\"malinois\":[],\"maltese\":[],\"mastiff\":[\"bull\",\"english\",\"tibetan\"],\"mexicanhairless\":[],\"mix\":[],\"mountain\":[\"bernese\",\"swiss\"],\"newfoundland\":[],\"otterhound\":[],\"ovcharka\":[\"caucasian\"],\"papillon\":[],\"pekinese\":[],\"pembroke\":[],\"pinscher\":[\"miniature\"],\"pitbull\":[],\"pointer\":[\"german\",\"germanlonghair\"],\"pomeranian\":[],\"poodle\":[\"miniature\",\"standard\",\"toy\"],\"pug\":[],\"puggle\":[],\"pyrenees\":[],\"redbone\":[],\"retriever\":[\"chesapeake\",\"curly\",\"flatcoated\",\"golden\"],\"ridgeback\":[\"rhodesian\"],\"rottweiler\":[],\"saluki\":[],\"samoyed\":[],\"schipperke\":[],\"schnauzer\":[\"giant\",\"miniature\"],\"setter\":[\"english\",\"gordon\",\"irish\"],\"sheepdog\":[\"english\",\"shetland\"],\"shiba\":[],\"shihtzu\":[],\"spaniel\":[\"blenheim\",\"brittany\",\"cocker\",\"irish\",\"japanese\",\"sussex\",\"welsh\"],\"springer\":[\"english\"],\"stbernard\":[],\"terrier\":[\"american\",\"australian\",\"bedlington\",\"border\",\"cairn\",\"dandie\",\"fox\",\"irish\",\"kerryblue\",\"lakeland\",\"norfolk\",\"norwich\",\"patterdale\",\"russell\",\"scottish\",\"sealyham\",\"silky\",\"tibetan\",\"toy\",\"welsh\",\"westhighland\",\"wheaten\",\"yorkshire\"],\"tervuren\":[],\"vizsla\":[],\"waterdog\":[\"spanish\"],\"weimaraner\":[],\"whippet\":[],\"wolfhound\":[\"irish\"]},\"status\":\"success\"}\n"
     ]
    }
   ],
   "source": [
    "response = requests.get('https://dog.ceo/api/breeds/list/all',verify=False)\n",
    "print(response.text)"
   ]
  },
  {
   "cell_type": "code",
   "execution_count": 6,
   "id": "49a13f3f",
   "metadata": {},
   "outputs": [
    {
     "name": "stdout",
     "output_type": "stream",
     "text": [
      "<class 'dict'>\n"
     ]
    }
   ],
   "source": [
    "python_data = response.json()\n",
    "print(type(python_data))"
   ]
  },
  {
   "cell_type": "code",
   "execution_count": 16,
   "id": "c65c5d65",
   "metadata": {},
   "outputs": [
    {
     "name": "stdout",
     "output_type": "stream",
     "text": [
      "affenpinscher []\n",
      "african []\n",
      "airedale []\n",
      "akita []\n",
      "appenzeller []\n",
      "australian ['shepherd']\n",
      "basenji []\n",
      "beagle []\n",
      "bluetick []\n",
      "borzoi []\n",
      "bouvier []\n",
      "boxer []\n",
      "brabancon []\n",
      "briard []\n",
      "buhund ['norwegian']\n",
      "bulldog ['boston', 'english', 'french']\n",
      "bullterrier ['staffordshire']\n",
      "cattledog ['australian']\n",
      "chihuahua []\n",
      "chow []\n",
      "clumber []\n",
      "cockapoo []\n",
      "collie ['border']\n",
      "coonhound []\n",
      "corgi ['cardigan']\n",
      "cotondetulear []\n",
      "dachshund []\n",
      "dalmatian []\n",
      "dane ['great']\n",
      "deerhound ['scottish']\n",
      "dhole []\n",
      "dingo []\n",
      "doberman []\n",
      "elkhound ['norwegian']\n",
      "entlebucher []\n",
      "eskimo []\n",
      "finnish ['lapphund']\n",
      "frise ['bichon']\n",
      "germanshepherd []\n",
      "greyhound ['italian']\n",
      "groenendael []\n",
      "havanese []\n",
      "hound ['afghan', 'basset', 'blood', 'english', 'ibizan', 'plott', 'walker']\n",
      "husky []\n",
      "keeshond []\n",
      "kelpie []\n",
      "komondor []\n",
      "kuvasz []\n",
      "labradoodle []\n",
      "labrador []\n",
      "leonberg []\n",
      "lhasa []\n",
      "malamute []\n",
      "malinois []\n",
      "maltese []\n",
      "mastiff ['bull', 'english', 'tibetan']\n",
      "mexicanhairless []\n",
      "mix []\n",
      "mountain ['bernese', 'swiss']\n",
      "newfoundland []\n",
      "otterhound []\n",
      "ovcharka ['caucasian']\n",
      "papillon []\n",
      "pekinese []\n",
      "pembroke []\n",
      "pinscher ['miniature']\n",
      "pitbull []\n",
      "pointer ['german', 'germanlonghair']\n",
      "pomeranian []\n",
      "poodle ['miniature', 'standard', 'toy']\n",
      "pug []\n",
      "puggle []\n",
      "pyrenees []\n",
      "redbone []\n",
      "retriever ['chesapeake', 'curly', 'flatcoated', 'golden']\n",
      "ridgeback ['rhodesian']\n",
      "rottweiler []\n",
      "saluki []\n",
      "samoyed []\n",
      "schipperke []\n",
      "schnauzer ['giant', 'miniature']\n",
      "setter ['english', 'gordon', 'irish']\n",
      "sheepdog ['english', 'shetland']\n",
      "shiba []\n",
      "shihtzu []\n",
      "spaniel ['blenheim', 'brittany', 'cocker', 'irish', 'japanese', 'sussex', 'welsh']\n",
      "springer ['english']\n",
      "stbernard []\n",
      "terrier ['american', 'australian', 'bedlington', 'border', 'cairn', 'dandie', 'fox', 'irish', 'kerryblue', 'lakeland', 'norfolk', 'norwich', 'patterdale', 'russell', 'scottish', 'sealyham', 'silky', 'tibetan', 'toy', 'welsh', 'westhighland', 'wheaten', 'yorkshire']\n",
      "tervuren []\n",
      "vizsla []\n",
      "waterdog ['spanish']\n",
      "weimaraner []\n",
      "whippet []\n",
      "wolfhound ['irish']\n"
     ]
    },
    {
     "data": {
      "text/plain": [
       "['afghan', 'basset', 'blood', 'english', 'ibizan', 'plott', 'walker']"
      ]
     },
     "execution_count": 16,
     "metadata": {},
     "output_type": "execute_result"
    }
   ],
   "source": [
    "for key,value in python_data['message'].items():\n",
    "    print(key,end=' ')\n",
    "    print(value)\n",
    "l = python_data['message']['hound']\n",
    "l"
   ]
  },
  {
   "cell_type": "code",
   "execution_count": 17,
   "id": "f552c4e9",
   "metadata": {},
   "outputs": [
    {
     "name": "stdout",
     "output_type": "stream",
     "text": [
      "Premium Machine Learning Course\n",
      "Premium Full Stack Web Development\n",
      "Ninja Competitive Programmer Track\n",
      "Premium Android App Development\n",
      "Machine Learning & Deep Learning Course\n",
      "Advanced  Front-End Web Development with React\n",
      "C++ Foundation with Data Structures\n",
      "Premium Competitive Programming Course\n",
      "Premium Data Science Course\n",
      "Premium Data structures and Algorithms [C++/Java/Python]\n",
      "System Design Course\n",
      "Ninja Android Developer Career Track \n",
      "Full Stack Web Development\n",
      "JAVA Foundation with Data Structures\n",
      "Ninja  Web Developer Career Track - NodeJS & ReactJs\n",
      "Data Science & Machine Learning Complete\n",
      "Grokking the Operating Systems Interview\n",
      "Interview Preparation Course\n",
      "Competitive Programming Course\n",
      "Ninja  Web Developer Career Track - NodeJS\n",
      "Python Foundation with Data Structures\n",
      "Ninja Data Scientist Career Track\n",
      "Android Development with Kotlin\n",
      "Aptitude Preparation Course\n",
      "Ninja Machine Learning Engineer Career Track\n"
     ]
    },
    {
     "name": "stderr",
     "output_type": "stream",
     "text": [
      "/Users/skumar6/opt/anaconda3/lib/python3.8/site-packages/urllib3/connectionpool.py:1013: InsecureRequestWarning: Unverified HTTPS request is being made to host 'api.codingninjas.com'. Adding certificate verification is strongly advised. See: https://urllib3.readthedocs.io/en/latest/advanced-usage.html#ssl-warnings\n",
      "  warnings.warn(\n"
     ]
    }
   ],
   "source": [
    "import requests\n",
    "response = requests.get('https://api.codingninjas.com/api/v3/courses',verify=False)\n",
    "python_data = response.json()\n",
    "l = python_data['data']['courses']\n",
    "for i in l:\n",
    "    print(i['name'])"
   ]
  },
  {
   "cell_type": "code",
   "execution_count": 33,
   "id": "56bc988f",
   "metadata": {},
   "outputs": [
    {
     "name": "stderr",
     "output_type": "stream",
     "text": [
      "/Users/skumar6/opt/anaconda3/lib/python3.8/site-packages/urllib3/connectionpool.py:1013: InsecureRequestWarning: Unverified HTTPS request is being made to host 'docs.openaq.org'. Adding certificate verification is strongly advised. See: https://urllib3.readthedocs.io/en/latest/advanced-usage.html#ssl-warnings\n",
      "  warnings.warn(\n"
     ]
    },
    {
     "name": "stdout",
     "output_type": "stream",
     "text": [
      "200\n"
     ]
    }
   ],
   "source": [
    "res = requests.get('https://docs.openaq.org/v1/cities',verify=False,params={\"country\":\"BE\"})\n",
    "print(res.status_code)"
   ]
  },
  {
   "cell_type": "code",
   "execution_count": 40,
   "id": "d9602924",
   "metadata": {},
   "outputs": [
    {
     "name": "stdout",
     "output_type": "stream",
     "text": [
      "meta {'name': 'openaq-api', 'license': 'CC BY 4.0d', 'website': 'https://u50g7n0cbj.execute-api.us-east-1.amazonaws.com/', 'page': 1, 'limit': 100, 'found': 69}\n",
      "results [{'country': 'AU', 'name': 'Adelaide', 'city': 'Adelaide', 'count': 663866393, 'locations': 8}, {'country': 'AU', 'name': 'Altona North', 'city': 'Altona North', 'count': 84563902, 'locations': 1}, {'country': 'AU', 'name': 'Altona North 1', 'city': 'Altona North 1', 'count': 81, 'locations': 1}, {'country': 'AU', 'name': 'Altona North 2', 'city': 'Altona North 2', 'count': 78, 'locations': 1}, {'country': 'AU', 'name': 'Bairnsdale', 'city': 'Bairnsdale', 'count': 1030, 'locations': 1}, {'country': 'AU', 'name': 'Bendigo', 'city': 'Bendigo', 'count': 27451265, 'locations': 1}, {'country': 'AU', 'name': 'Bright', 'city': 'Bright', 'count': 958, 'locations': 1}, {'country': 'AU', 'name': 'Bulla North', 'city': 'Bulla North', 'count': 42, 'locations': 1}, {'country': 'AU', 'name': 'Bulla South', 'city': 'Bulla South', 'count': 44, 'locations': 1}, {'country': 'AU', 'name': 'Bushfire Emergency - Coffs Harbour', 'city': 'Bushfire Emergency - Coffs Harbour', 'count': 34646, 'locations': 1}, {'country': 'AU', 'name': 'Bushfire Emergency - Lismore', 'city': 'Bushfire Emergency - Lismore', 'count': 5603, 'locations': 1}, {'country': 'AU', 'name': 'Bushfire Emergency - Port Macquarie', 'city': 'Bushfire Emergency - Port Macquarie', 'count': 37908, 'locations': 1}, {'country': 'AU', 'name': 'Campbellfield', 'city': 'Campbellfield', 'count': 28945014, 'locations': 1}, {'country': 'AU', 'name': 'Canberra', 'city': 'Canberra', 'count': 459804440, 'locations': 4}, {'country': 'AU', 'name': 'Cann River', 'city': 'Cann River', 'count': 660, 'locations': 1}, {'country': 'AU', 'name': 'Central Coast', 'city': 'Central Coast', 'count': 195185, 'locations': 1}, {'country': 'AU', 'name': 'Central Queensland', 'city': 'Central Queensland', 'count': 347924716, 'locations': 6}, {'country': 'AU', 'name': 'Central Tablelands', 'city': 'Central Tablelands', 'count': 97861, 'locations': 3}, {'country': 'AU', 'name': 'Churchill', 'city': 'Churchill', 'count': 29141538, 'locations': 1}, {'country': 'AU', 'name': 'Geelong', 'city': 'Geelong', 'count': 170184148, 'locations': 1}, {'country': 'AU', 'name': 'Gladstone', 'city': 'Gladstone', 'count': 443299871, 'locations': 17}, {'country': 'AU', 'name': 'Healesville', 'city': 'Healesville', 'count': 28382125, 'locations': 1}, {'country': 'AU', 'name': 'Illawarra', 'city': 'Illawarra', 'count': 491190, 'locations': 3}, {'country': 'AU', 'name': 'Lakes Entrance', 'city': 'Lakes Entrance', 'count': 404, 'locations': 1}, {'country': 'AU', 'name': 'Laverton North', 'city': 'Laverton North', 'count': 525749, 'locations': 1}, {'country': 'AU', 'name': 'Lower Hunter', 'city': 'Lower Hunter', 'count': 496400, 'locations': 3}, {'country': 'AU', 'name': 'Mackay', 'city': 'Mackay', 'count': 15519, 'locations': 2}, {'country': 'AU', 'name': 'Mallacoota', 'city': 'Mallacoota', 'count': 706, 'locations': 1}, {'country': 'AU', 'name': 'Marlo', 'city': 'Marlo', 'count': 604, 'locations': 1}, {'country': 'AU', 'name': 'Melbourne', 'city': 'Melbourne', 'count': 695701345, 'locations': 11}, {'country': 'AU', 'name': 'Melton', 'city': 'Melton', 'count': 57280175, 'locations': 1}, {'country': 'AU', 'name': 'Moe', 'city': 'Moe', 'count': 29077731, 'locations': 1}, {'country': 'AU', 'name': 'Morwell', 'city': 'Morwell', 'count': 256087671, 'locations': 2}, {'country': 'AU', 'name': 'Mount Isa', 'city': 'Mount Isa', 'count': 31648572, 'locations': 1}, {'country': 'AU', 'name': 'MRI Campbellfield fire', 'city': 'MRI Campbellfield fire', 'count': 122, 'locations': 1}, {'country': 'AU', 'name': 'Mt Isa', 'city': 'Mt Isa', 'count': 31146, 'locations': 2}, {'country': 'AU', 'name': 'Newborough', 'city': 'Newborough', 'count': 27996003, 'locations': 1}, {'country': 'AU', 'name': 'Nicholson', 'city': 'Nicholson', 'count': 181, 'locations': 2}, {'country': 'AU', 'name': 'Northern Tablelands', 'city': 'Northern Tablelands', 'count': 41816, 'locations': 3}, {'country': 'AU', 'name': 'North-west Slopes', 'city': 'North-west Slopes', 'count': 211043, 'locations': 5}, {'country': 'AU', 'name': 'Omeo', 'city': 'Omeo', 'count': 991, 'locations': 1}, {'country': 'AU', 'name': 'Orbost', 'city': 'Orbost', 'count': 934, 'locations': 1}, {'country': 'AU', 'name': 'Point Cook', 'city': 'Point Cook', 'count': 54884719, 'locations': 1}, {'country': 'AU', 'name': 'Port Augusta', 'city': 'Port Augusta', 'count': 6739, 'locations': 1}, {'country': 'AU', 'name': 'Port Pirie', 'city': 'Port Pirie', 'count': 63455475, 'locations': 1}, {'country': 'AU', 'name': 'Rosedale', 'city': 'Rosedale', 'count': 29177563, 'locations': 1}, {'country': 'AU', 'name': 'Sarsfield', 'city': 'Sarsfield', 'count': 482, 'locations': 1}, {'country': 'AU', 'name': 'SIMS Metals Laverton North Site 1', 'city': 'SIMS Metals Laverton North Site 1', 'count': 80199, 'locations': 1}, {'country': 'AU', 'name': 'SIMS Metals Laverton North Site 2', 'city': 'SIMS Metals Laverton North Site 2', 'count': 98021, 'locations': 1}, {'country': 'AU', 'name': 'South East Queensland', 'city': 'South East Queensland', 'count': 981303000, 'locations': 27}, {'country': 'AU', 'name': 'Southern Tablelands', 'city': 'Southern Tablelands', 'count': 26179, 'locations': 2}, {'country': 'AU', 'name': 'South West Queensland', 'city': 'South West Queensland', 'count': 284827587, 'locations': 8}, {'country': 'AU', 'name': 'South-west Slopes', 'city': 'South-west Slopes', 'count': 125099, 'locations': 2}, {'country': 'AU', 'name': 'Sunshine West', 'city': 'Sunshine West', 'count': 472283, 'locations': 1}, {'country': 'AU', 'name': \"Swift's Creek\", 'city': \"Swift's Creek\", 'count': 1003, 'locations': 1}, {'country': 'AU', 'name': 'Sydney East', 'city': 'Sydney East', 'count': 877811, 'locations': 9}, {'country': 'AU', 'name': 'Sydney North-west', 'city': 'Sydney North-west', 'count': 657585, 'locations': 9}, {'country': 'AU', 'name': 'Sydney South-west', 'city': 'Sydney South-west', 'count': 919577, 'locations': 6}, {'country': 'AU', 'name': 'Tasmania Region', 'city': 'Tasmania Region', 'count': 606758, 'locations': 34}, {'country': 'AU', 'name': 'Thomastown East', 'city': 'Thomastown East', 'count': 27, 'locations': 1}, {'country': 'AU', 'name': 'Townsville', 'city': 'Townsville', 'count': 158246540, 'locations': 9}, {'country': 'AU', 'name': 'Traralgon', 'city': 'Traralgon', 'count': 171404179, 'locations': 1}, {'country': 'AU', 'name': 'Upper Hunter - Muswellbrook', 'city': 'Upper Hunter - Muswellbrook', 'count': 130019, 'locations': 1}, {'country': 'AU', 'name': 'Upper Hunter - Singleton', 'city': 'Upper Hunter - Singleton', 'count': 130241, 'locations': 1}, {'country': 'AU', 'name': 'Wangaratta', 'city': 'Wangaratta', 'count': 29275293, 'locations': 1}, {'country': 'AU', 'name': 'Warburton', 'city': 'Warburton', 'count': 29178146, 'locations': 1}, {'country': 'AU', 'name': 'Whyalla', 'city': 'Whyalla', 'count': 63073737, 'locations': 2}, {'country': 'AU', 'name': 'Wodonga', 'city': 'Wodonga', 'count': 1001, 'locations': 1}, {'country': 'AU', 'name': 'Yinnar', 'city': 'Yinnar', 'count': 29337711, 'locations': 1}]\n",
      "Adelaide\n",
      "Altona North\n",
      "Altona North 1\n",
      "Altona North 2\n",
      "Bairnsdale\n"
     ]
    }
   ],
   "source": [
    "for key,value in res.json().items():\n",
    "    print(key,end=' ')\n",
    "    print(value)\n",
    "\n",
    "for i in res.json()['results'][:5]:\n",
    "    print(i['city'])"
   ]
  },
  {
   "cell_type": "code",
   "execution_count": 32,
   "id": "6aab8580",
   "metadata": {},
   "outputs": [
    {
     "name": "stdout",
     "output_type": "stream",
     "text": [
      "Machine Learning\n"
     ]
    },
    {
     "name": "stderr",
     "output_type": "stream",
     "text": [
      "/Users/skumar6/opt/anaconda3/lib/python3.8/site-packages/urllib3/connectionpool.py:1013: InsecureRequestWarning: Unverified HTTPS request is being made to host 'api.codingninjas.com'. Adding certificate verification is strongly advised. See: https://urllib3.readthedocs.io/en/latest/advanced-usage.html#ssl-warnings\n",
      "  warnings.warn(\n"
     ]
    }
   ],
   "source": [
    "res = requests.get('https://api.codingninjas.com/api/v3/courses',verify=False)\n",
    "c = res.json()['data']['courses']\n",
    "for i in c:\n",
    "    if i['id'] == 19:\n",
    "        print(i['title'])"
   ]
  },
  {
   "cell_type": "code",
   "execution_count": 48,
   "id": "f4ee87cc",
   "metadata": {},
   "outputs": [
    {
     "name": "stderr",
     "output_type": "stream",
     "text": [
      "/Users/skumar6/opt/anaconda3/lib/python3.8/site-packages/urllib3/connectionpool.py:1013: InsecureRequestWarning: Unverified HTTPS request is being made to host 'api.nasa.gov'. Adding certificate verification is strongly advised. See: https://urllib3.readthedocs.io/en/latest/advanced-usage.html#ssl-warnings\n",
      "  warnings.warn(\n"
     ]
    },
    {
     "name": "stdout",
     "output_type": "stream",
     "text": [
      "200\n",
      "{'copyright': 'Göran Strand', 'date': '2021-10-30', 'explanation': \"If you see this as a monster's face, don't panic. It's only pareidolia, often experienced as the tendency to see faces in patterns of light and shadow. In fact, the startling visual scene is actually a 180 degree panorama of Northern Lights, digitally mirrored like inkblots on a folded piece of paper. Frames used to construct it were captured on a September night from the middle of a waterfall-crossing suspension bridge in Jamtland, Sweden. With geomagnetic storms triggered by recent solar activity, auroral displays could be very active at planet Earth's high latitudes in the coming days. But if you see a monster's face in your own neighborhood tomorrow night, it might just be Halloween.\", 'hdurl': 'https://apod.nasa.gov/apod/image/2110/GS_20210917_Handol_5651_Pan.jpg', 'media_type': 'image', 'service_version': 'v1', 'title': 'A Rorschach Aurora', 'url': 'https://apod.nasa.gov/apod/image/2110/GS_20210917_Handol_5651_Pan1024.jpg'}\n"
     ]
    }
   ],
   "source": [
    "res = requests.get('https://api.nasa.gov/planetary/apod',verify=False,params={\"api_key\":\"2geeJv7lU0lF4taqSTAWrcHfbQAWNz7CzbhQ3MgT\"})\n",
    "print(res.status_code)\n",
    "print(res.json())"
   ]
  },
  {
   "cell_type": "code",
   "execution_count": 50,
   "id": "9315e35a",
   "metadata": {},
   "outputs": [
    {
     "name": "stderr",
     "output_type": "stream",
     "text": [
      "/Users/skumar6/opt/anaconda3/lib/python3.8/site-packages/urllib3/connectionpool.py:1013: InsecureRequestWarning: Unverified HTTPS request is being made to host 'www.metaweather.com'. Adding certificate verification is strongly advised. See: https://urllib3.readthedocs.io/en/latest/advanced-usage.html#ssl-warnings\n",
      "  warnings.warn(\n"
     ]
    },
    {
     "name": "stdout",
     "output_type": "stream",
     "text": [
      "200\n",
      "1132447\n"
     ]
    }
   ],
   "source": [
    "res = requests.get('https://www.metaweather.com/api/location/search/',verify=False,params={\"query\":\"USA\"})\n",
    "print(res.status_code)\n",
    "print(res.json()[0]['woeid'])"
   ]
  },
  {
   "cell_type": "code",
   "execution_count": 57,
   "id": "8a527acc",
   "metadata": {},
   "outputs": [
    {
     "name": "stderr",
     "output_type": "stream",
     "text": [
      "/Users/skumar6/opt/anaconda3/lib/python3.8/site-packages/urllib3/connectionpool.py:1013: InsecureRequestWarning: Unverified HTTPS request is being made to host 'holidayapi.com'. Adding certificate verification is strongly advised. See: https://urllib3.readthedocs.io/en/latest/advanced-usage.html#ssl-warnings\n",
      "  warnings.warn(\n"
     ]
    },
    {
     "name": "stdout",
     "output_type": "stream",
     "text": [
      "Mahatma Gandhi's Birthday\n"
     ]
    }
   ],
   "source": [
    "res = requests.get('https://holidayapi.com/v1/holidays',verify=False,params={\"key\":\"30254f04-bf8a-43c0-b913-121319a615a0\",\"country\":\"IN\",\"year\":\"2020\"})\n",
    "p_data = res.json()\n",
    "for i in p_data['holidays']:\n",
    "    if i['date'] =='2020-10-02':\n",
    "        print(i['name'])"
   ]
  }
 ],
 "metadata": {
  "kernelspec": {
   "display_name": "Python 3",
   "language": "python",
   "name": "python3"
  },
  "language_info": {
   "codemirror_mode": {
    "name": "ipython",
    "version": 3
   },
   "file_extension": ".py",
   "mimetype": "text/x-python",
   "name": "python",
   "nbconvert_exporter": "python",
   "pygments_lexer": "ipython3",
   "version": "3.8.8"
  }
 },
 "nbformat": 4,
 "nbformat_minor": 5
}
