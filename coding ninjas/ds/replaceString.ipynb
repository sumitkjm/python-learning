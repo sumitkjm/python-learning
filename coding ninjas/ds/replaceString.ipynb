{
 "cells": [
  {
   "cell_type": "code",
   "execution_count": 8,
   "id": "40f9161e",
   "metadata": {},
   "outputs": [
    {
     "name": "stdout",
     "output_type": "stream",
     "text": [
      "absdacd\n",
      "a x\n",
      "a x\n",
      "xbsdxcd\n"
     ]
    }
   ],
   "source": [
    "def replaceChar(str,c1,c2):\n",
    "    if len(str)==0:\n",
    "        emptyStr = \"\"\n",
    "        return emptyStr\n",
    "    \n",
    "    if ord(str[0])==ord(c1):\n",
    "        return c2 + replaceChar(str[1:],c1,c2)\n",
    "    else:\n",
    "        return str[0] + replaceChar(str[1:],c1,c2)\n",
    "\n",
    "str = input()\n",
    "nextLine = input().split(\" \")\n",
    "c1,c2 = nextLine[0],nextLine[1]\n",
    "print(c1,c2)\n",
    "print(replaceChar(str,c1,c2))"
   ]
  },
  {
   "cell_type": "code",
   "execution_count": 7,
   "id": "d1e60569",
   "metadata": {},
   "outputs": [
    {
     "name": "stdout",
     "output_type": "stream",
     "text": [
      "dss\n"
     ]
    }
   ],
   "source": [
    "str = \"adss\"\n",
    "print(str[1:]+\"\")"
   ]
  },
  {
   "cell_type": "code",
   "execution_count": 9,
   "id": "56c3518f",
   "metadata": {},
   "outputs": [
    {
     "name": "stdout",
     "output_type": "stream",
     "text": [
      "6\n"
     ]
    }
   ],
   "source": [
    "n = 25 #\n",
    "# 25 * 24 * 20..15..10..5....\n",
    "# 5*5 * 24 * 5*4..5*3..5*2..5*1....\n",
    "# 25/5 = 5\n",
    "num_of_5s = 0\n",
    "pow_of_5s = 5\n",
    "while pow_of_5s <= n:\n",
    "    num_of_5s = num_of_5s + n//pow_of_5s\n",
    "    pow_of_5s = pow_of_5s * 5\n",
    "print(num_of_5s)"
   ]
  },
  {
   "cell_type": "code",
   "execution_count": 14,
   "id": "fb910542",
   "metadata": {},
   "outputs": [
    {
     "name": "stderr",
     "output_type": "stream",
     "text": [
      "/Users/skumar6/opt/anaconda3/lib/python3.8/site-packages/urllib3/connectionpool.py:1013: InsecureRequestWarning: Unverified HTTPS request is being made to host 'api.themoviedb.org'. Adding certificate verification is strongly advised. See: https://urllib3.readthedocs.io/en/latest/advanced-usage.html#ssl-warnings\n",
      "  warnings.warn(\n"
     ]
    },
    {
     "name": "stdout",
     "output_type": "stream",
     "text": [
      "20453\n"
     ]
    },
    {
     "name": "stderr",
     "output_type": "stream",
     "text": [
      "/Users/skumar6/opt/anaconda3/lib/python3.8/site-packages/urllib3/connectionpool.py:1013: InsecureRequestWarning: Unverified HTTPS request is being made to host 'api.themoviedb.org'. Adding certificate verification is strongly advised. See: https://urllib3.readthedocs.io/en/latest/advanced-usage.html#ssl-warnings\n",
      "  warnings.warn(\n"
     ]
    },
    {
     "name": "stdout",
     "output_type": "stream",
     "text": [
      "1800 8 "
     ]
    }
   ],
   "source": [
    "import requests\n",
    "api_key = \"e226f4a5f5bace766952aa0d17182959\"\n",
    "api_link = \"https://api.themoviedb.org/3/search/company\"\n",
    "\n",
    "param ={'api_key':'e226f4a5f5bace766952aa0d17182959','query':'3 idiots'}\n",
    "r = requests.get('https://api.themoviedb.org/3/search/movie',verify=False,params=param)\n",
    "id = r.json()['results'][0]['id']\n",
    "print(id)\n",
    "param ={'api_key':'e226f4a5f5bace766952aa0d17182959'}\n",
    "r = requests.get('https://api.themoviedb.org/3/movie/20453',verify=False,params=param)\n",
    "data = r.json()\n",
    "print(data['vote_count'],end=' ')\n",
    "print(int(data['vote_average']))\n"
   ]
  },
  {
   "cell_type": "code",
   "execution_count": 21,
   "id": "d6328699",
   "metadata": {},
   "outputs": [
    {
     "name": "stderr",
     "output_type": "stream",
     "text": [
      "/Users/skumar6/opt/anaconda3/lib/python3.8/site-packages/urllib3/connectionpool.py:1013: InsecureRequestWarning: Unverified HTTPS request is being made to host 'api.themoviedb.org'. Adding certificate verification is strongly advised. See: https://urllib3.readthedocs.io/en/latest/advanced-usage.html#ssl-warnings\n",
      "  warnings.warn(\n"
     ]
    },
    {
     "ename": "TypeError",
     "evalue": "'str' object is not callable",
     "output_type": "error",
     "traceback": [
      "\u001b[0;31m---------------------------------------------------------------------------\u001b[0m",
      "\u001b[0;31mTypeError\u001b[0m                                 Traceback (most recent call last)",
      "\u001b[0;32m<ipython-input-21-1c50631faf98>\u001b[0m in \u001b[0;36m<module>\u001b[0;34m\u001b[0m\n\u001b[1;32m      6\u001b[0m \u001b[0mr\u001b[0m \u001b[0;34m=\u001b[0m \u001b[0mrequests\u001b[0m\u001b[0;34m.\u001b[0m\u001b[0mget\u001b[0m\u001b[0;34m(\u001b[0m\u001b[0;34m'https://api.themoviedb.org/3/search/movie'\u001b[0m\u001b[0;34m,\u001b[0m\u001b[0mverify\u001b[0m\u001b[0;34m=\u001b[0m\u001b[0;32mFalse\u001b[0m\u001b[0;34m,\u001b[0m\u001b[0mparams\u001b[0m\u001b[0;34m=\u001b[0m\u001b[0mparam\u001b[0m\u001b[0;34m)\u001b[0m\u001b[0;34m\u001b[0m\u001b[0;34m\u001b[0m\u001b[0m\n\u001b[1;32m      7\u001b[0m \u001b[0mid\u001b[0m \u001b[0;34m=\u001b[0m \u001b[0mr\u001b[0m\u001b[0;34m.\u001b[0m\u001b[0mjson\u001b[0m\u001b[0;34m(\u001b[0m\u001b[0;34m)\u001b[0m\u001b[0;34m[\u001b[0m\u001b[0;34m'results'\u001b[0m\u001b[0;34m]\u001b[0m\u001b[0;34m[\u001b[0m\u001b[0;36m0\u001b[0m\u001b[0;34m]\u001b[0m\u001b[0;34m[\u001b[0m\u001b[0;34m'id'\u001b[0m\u001b[0;34m]\u001b[0m\u001b[0;34m\u001b[0m\u001b[0;34m\u001b[0m\u001b[0m\n\u001b[0;32m----> 8\u001b[0;31m \u001b[0mprint\u001b[0m\u001b[0;34m(\u001b[0m\u001b[0mstr\u001b[0m\u001b[0;34m(\u001b[0m\u001b[0mid\u001b[0m\u001b[0;34m)\u001b[0m\u001b[0;34m)\u001b[0m\u001b[0;34m\u001b[0m\u001b[0;34m\u001b[0m\u001b[0m\n\u001b[0m\u001b[1;32m      9\u001b[0m \u001b[0mparam\u001b[0m \u001b[0;34m=\u001b[0m\u001b[0;34m{\u001b[0m\u001b[0;34m'api_key'\u001b[0m\u001b[0;34m:\u001b[0m\u001b[0;34m'e226f4a5f5bace766952aa0d17182959'\u001b[0m\u001b[0;34m}\u001b[0m\u001b[0;34m\u001b[0m\u001b[0;34m\u001b[0m\u001b[0m\n\u001b[1;32m     10\u001b[0m \u001b[0murl\u001b[0m \u001b[0;34m=\u001b[0m \u001b[0;34m'https://api.themoviedb.org/3/movie'\u001b[0m\u001b[0;34m+\u001b[0m\u001b[0mstr\u001b[0m\u001b[0;34m(\u001b[0m\u001b[0mid\u001b[0m\u001b[0;34m)\u001b[0m\u001b[0;34m+\u001b[0m\u001b[0;34m'/similar'\u001b[0m\u001b[0;34m\u001b[0m\u001b[0;34m\u001b[0m\u001b[0m\n",
      "\u001b[0;31mTypeError\u001b[0m: 'str' object is not callable"
     ]
    }
   ],
   "source": [
    "import requests\n",
    "api_key = \"e226f4a5f5bace766952aa0d17182959\"\n",
    "api_link = \"https://api.themoviedb.org/3/search/company\"\n",
    "\n",
    "param ={'api_key':'e226f4a5f5bace766952aa0d17182959','query':'Inception'}\n",
    "r = requests.get('https://api.themoviedb.org/3/search/movie',verify=False,params=param)\n",
    "id = r.json()['results'][0]['id']\n",
    "print(str(id))\n",
    "param ={'api_key':'e226f4a5f5bace766952aa0d17182959'}\n",
    "url = 'https://api.themoviedb.org/3/movie'+str(id)+'/similar'\n",
    "print(url)\n",
    "r = requests.get(url,verify=False,params=param)\n",
    "data = r.json()\n"
   ]
  },
  {
   "cell_type": "code",
   "execution_count": 24,
   "id": "66c7e0a1",
   "metadata": {},
   "outputs": [
    {
     "ename": "TypeError",
     "evalue": "'str' object is not callable",
     "output_type": "error",
     "traceback": [
      "\u001b[0;31m---------------------------------------------------------------------------\u001b[0m",
      "\u001b[0;31mTypeError\u001b[0m                                 Traceback (most recent call last)",
      "\u001b[0;32m<ipython-input-24-932fb7abd146>\u001b[0m in \u001b[0;36m<module>\u001b[0;34m\u001b[0m\n\u001b[1;32m      1\u001b[0m \u001b[0mid\u001b[0m \u001b[0;34m=\u001b[0m \u001b[0;36m2\u001b[0m\u001b[0;34m\u001b[0m\u001b[0;34m\u001b[0m\u001b[0m\n\u001b[0;32m----> 2\u001b[0;31m \u001b[0mprint\u001b[0m\u001b[0;34m(\u001b[0m\u001b[0mstr\u001b[0m\u001b[0;34m(\u001b[0m\u001b[0mid\u001b[0m\u001b[0;34m)\u001b[0m\u001b[0;34m)\u001b[0m\u001b[0;34m\u001b[0m\u001b[0;34m\u001b[0m\u001b[0m\n\u001b[0m",
      "\u001b[0;31mTypeError\u001b[0m: 'str' object is not callable"
     ]
    }
   ],
   "source": [
    "id = 2\n",
    "print(str(id))"
   ]
  }
 ],
 "metadata": {
  "kernelspec": {
   "display_name": "Python 3",
   "language": "python",
   "name": "python3"
  },
  "language_info": {
   "codemirror_mode": {
    "name": "ipython",
    "version": 3
   },
   "file_extension": ".py",
   "mimetype": "text/x-python",
   "name": "python",
   "nbconvert_exporter": "python",
   "pygments_lexer": "ipython3",
   "version": "3.8.8"
  }
 },
 "nbformat": 4,
 "nbformat_minor": 5
}
