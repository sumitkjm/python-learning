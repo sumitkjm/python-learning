{
 "cells": [
  {
   "cell_type": "code",
   "execution_count": 10,
   "id": "99b3aa71",
   "metadata": {},
   "outputs": [
    {
     "name": "stdout",
     "output_type": "stream",
     "text": [
      "[2, 4]\n",
      "[3, 5]\n",
      "[2, 3, 4, 5]\n",
      "[4, 9]\n",
      "[4, 6, 9]\n",
      "[2, 3, 4, 4, 5, 6, 9]\n",
      "2 3 4 4 5 6 9\n"
     ]
    }
   ],
   "source": [
    "def merge(arr,start,mid,end):\n",
    "    temp_arr = [0 for i in range(start,end+1)]\n",
    "    k = 0\n",
    "    i = start\n",
    "    j = mid+1\n",
    "    while i<=mid and j<=end:\n",
    "        if arr[i] <= arr[j]:\n",
    "            temp_arr[k] = arr[i]\n",
    "            i+=1\n",
    "        else:\n",
    "            temp_arr[k] = arr[j]\n",
    "            j+=1\n",
    "        k+=1\n",
    "    while i<=mid:\n",
    "        temp_arr[k] = arr[i]\n",
    "        i+=1\n",
    "        k+=1\n",
    "    while j<=end:\n",
    "        temp_arr[k] = arr[j]\n",
    "        j+=1\n",
    "        k+=1\n",
    "    print(temp_arr)\n",
    "    for i in range(start,end+1):\n",
    "        arr[i] = temp_arr[i-start]\n",
    "    \n",
    "\n",
    "def mergeSort(arr, start, end):\n",
    "    # Please add your code here\n",
    "    # calculate mid\n",
    "    if start>=end:\n",
    "        return\n",
    "    mid = (start+end)//2\n",
    "    mergeSort(arr,start,mid)\n",
    "    mergeSort(arr,mid+1,end)\n",
    "    merge(arr,start,mid,end)\n",
    "    \n",
    "\n",
    "# Main\n",
    "# n=int(input())\n",
    "# arr=list(int(i) for i in input().strip().split(' '))\n",
    "arr=[2,4,3,5,9,4,6]\n",
    "mergeSort(arr, 0, len(arr)-1)\n",
    "print(*arr)"
   ]
  },
  {
   "cell_type": "code",
   "execution_count": 4,
   "id": "2cd77b4e",
   "metadata": {},
   "outputs": [
    {
     "name": "stdout",
     "output_type": "stream",
     "text": [
      "1 23 34\n"
     ]
    }
   ],
   "source": [
    "arr = [1,23,34]\n",
    "print(*arr)"
   ]
  },
  {
   "cell_type": "code",
   "execution_count": 6,
   "id": "cdfe7a58",
   "metadata": {},
   "outputs": [
    {
     "name": "stdout",
     "output_type": "stream",
     "text": [
      "30\n"
     ]
    },
    {
     "data": {
      "image/png": "[encoded data removed]",
      "text/plain": [
       "<Figure size 432x288 with 1 Axes>"
      ]
     },
     "metadata": {
      "needs_background": "light"
     },
     "output_type": "display_data"
    }
   ],
   "source": [
    "import matplotlib.pyplot as plt\n",
    "import numpy as np\n",
    "x = np.arange(0,40,2)\n",
    "y = 2**x\n",
    "plt.plot(x,y,'b--')\n",
    "plt.grid()\n",
    "print(30)"
   ]
  }
 ],
 "metadata": {
  "kernelspec": {
   "display_name": "Python 3 (ipykernel)",
   "language": "python",
   "name": "python3"
  },
  "language_info": {
   "codemirror_mode": {
    "name": "ipython",
    "version": 3
   },
   "file_extension": ".py",
   "mimetype": "text/x-python",
   "name": "python",
   "nbconvert_exporter": "python",
   "pygments_lexer": "ipython3",
   "version": "3.10.4"
  }
 },
 "nbformat": 4,
 "nbformat_minor": 5
}
