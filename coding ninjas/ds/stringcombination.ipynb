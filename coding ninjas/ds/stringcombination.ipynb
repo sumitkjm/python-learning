{
 "cells": [
  {
   "cell_type": "code",
   "execution_count": 14,
   "id": "7991ef7c",
   "metadata": {},
   "outputs": [
    {
     "name": "stdout",
     "output_type": "stream",
     "text": [
      "ad\n",
      "bd\n",
      "cd\n",
      "ae\n",
      "be\n",
      "ce\n",
      "af\n",
      "bf\n",
      "cf\n"
     ]
    }
   ],
   "source": [
    "def find_string(num):\n",
    "    if(num==2):\n",
    "        return \"abc\"\n",
    "    elif(num==3):\n",
    "        return \"def\"\n",
    "    elif(num==4):\n",
    "        return \"ghi\"\n",
    "    elif(num==5):\n",
    "        return \"jkl\"\n",
    "    elif(num==6):\n",
    "        return \"mno\"\n",
    "    elif(num==7):\n",
    "        return \"pqrs\"\n",
    "    elif(num==8):\n",
    "        return \"tuv\"\n",
    "    elif(num==9):\n",
    "        return \"wxyz\"\n",
    "    else:\n",
    "        return \"\"\n",
    "\n",
    "def stringCombination(num,output):\n",
    "    if num==0 or num==1:\n",
    "        print(output)\n",
    "#     print(num%10)\n",
    "    string = find_string(num%10)\n",
    "#     if string is:\n",
    "#         return\n",
    "    for i in range(len(string)):\n",
    "        stringCombination(num//10,string[i]+output)\n",
    "        \n",
    "        \n",
    "stringCombination(23,\"\")\n"
   ]
  }
 ],
 "metadata": {
  "kernelspec": {
   "display_name": "Python 3 (ipykernel)",
   "language": "python",
   "name": "python3"
  },
  "language_info": {
   "codemirror_mode": {
    "name": "ipython",
    "version": 3
   },
   "file_extension": ".py",
   "mimetype": "text/x-python",
   "name": "python",
   "nbconvert_exporter": "python",
   "pygments_lexer": "ipython3",
   "version": "3.10.4"
  }
 },
 "nbformat": 4,
 "nbformat_minor": 5
}
