{
 "cells": [
  {
   "cell_type": "markdown",
   "id": "14b13172",
   "metadata": {},
   "source": [
    "# NQueen problem"
   ]
  },
  {
   "cell_type": "code",
   "execution_count": 8,
   "id": "301bd814",
   "metadata": {},
   "outputs": [
    {
     "name": "stdout",
     "output_type": "stream",
     "text": [
      "0 1 0 0 0 0 0 1 1 0 0 0 0 0 1 0 \n",
      "0 0 1 0 1 0 0 0 0 0 0 1 0 1 0 0 \n"
     ]
    }
   ],
   "source": [
    "def checkIfQueenCanBePlaced(arr,row,col,n):\n",
    "    i = row-1\n",
    "    j = col\n",
    "    while i>=0:\n",
    "        if arr[i][j]==1:\n",
    "            return False\n",
    "        i-=1\n",
    "    i = row-1\n",
    "    j = col+1\n",
    "    while i>=0 and j<n:\n",
    "        if arr[i][j]==1:\n",
    "            return False\n",
    "        i-=1\n",
    "        j+=1\n",
    "    \n",
    "    i = row-1\n",
    "    j = col-1\n",
    "    while i>=0 and j>=0:\n",
    "        if arr[i][j]==1:\n",
    "            return False\n",
    "        i-=1\n",
    "        j-=1\n",
    "    return True\n",
    "\n",
    "def nQueenHelper(arr,row,n):\n",
    "    \n",
    "    if row==n:\n",
    "        for i in range(n):\n",
    "            for j in range(n):\n",
    "                print(arr[i][j],end=' ')\n",
    "        print()\n",
    "        return\n",
    "    \n",
    "    for col in range(n):\n",
    "        if checkIfQueenCanBePlaced(arr,row,col,n) is True:\n",
    "            arr[row][col] = 1\n",
    "            nQueenHelper(arr,row+1,n)\n",
    "            arr[row][col] = 0\n",
    "    return\n",
    "    \n",
    "\n",
    "def nQueen(n):\n",
    "    arr = [[0 for i in range(n)] for i in range(n)]\n",
    "    nQueenHelper(arr,0,n)\n",
    "\n",
    "nQueen(4)"
   ]
  },
  {
   "cell_type": "code",
   "execution_count": 2,
   "id": "1a9c4182",
   "metadata": {},
   "outputs": [
    {
     "data": {
      "text/plain": [
       "[[0, 0, 0, 0], [0, 0, 0, 0], [0, 0, 0, 0], [0, 0, 0, 0]]"
      ]
     },
     "execution_count": 2,
     "metadata": {},
     "output_type": "execute_result"
    }
   ],
   "source": [
    "n=4\n",
    "arr = [[0 for i in range(n)] for i in range(n)]\n",
    "arr"
   ]
  },
  {
   "cell_type": "markdown",
   "id": "69e72014",
   "metadata": {},
   "source": [
    "## Rate in Maze"
   ]
  },
  {
   "cell_type": "code",
   "execution_count": 22,
   "id": "8e9d5662",
   "metadata": {},
   "outputs": [
    {
     "name": "stdout",
     "output_type": "stream",
     "text": [
      "3\n",
      "1 0 1\n",
      "1 0 1\n",
      "1 1 1\n",
      "1 0 0 1 0 0 1 1 0 \n"
     ]
    }
   ],
   "source": [
    "def ratInMaze(mat,sol,r,c,n):\n",
    "    if r<0 or c<0 or r>n-1 or c>n-1 or mat[r][c]==0 or sol[r][c]==1:\n",
    "        return\n",
    "    \n",
    "    if (r==n-1 and c==n-1):\n",
    "        # print soln\n",
    "        sol[r][c] = 1\n",
    "        for i in range(n):\n",
    "            for j in range(n):\n",
    "                print(sol[i][j],end=' ')\n",
    "        sol[r][c]=0\n",
    "        print(\"\")\n",
    "    else:\n",
    "        sol[r][c]=1\n",
    "        ratInMaze(mat,sol,r,c+1,n)\n",
    "        ratInMaze(mat,sol,r+1,c,n)\n",
    "        ratInMaze(mat,sol,r,c-1,n)\n",
    "        ratInMaze(mat,sol,r-1,c,n)\n",
    "        sol[r][c]=0\n",
    "    \n",
    "n = int(input())\n",
    "mat = [[None for i in range(n)] for i in range(n)]\n",
    "# for i in \n",
    "for i in range(n):\n",
    "    mat[i] = [int(i) for i in input().split(' ')]\n",
    "\n",
    "sol = [[0 for i in range(n)] for i in range(n)]\n",
    "ratInMaze(mat,sol,0,0,n)"
   ]
  },
  {
   "cell_type": "markdown",
   "id": "efaad13a",
   "metadata": {},
   "source": [
    "## Crossword Problem"
   ]
  },
  {
   "cell_type": "code",
   "execution_count": 66,
   "id": "e6b340e5",
   "metadata": {},
   "outputs": [
    {
     "name": "stdout",
     "output_type": "stream",
     "text": [
      "+C++++++++\n",
      "+A++T+++++\n",
      "+NIGERIA++\n",
      "+A++L+++++\n",
      "+D++A+++++\n",
      "+A++V+++++\n",
      "+-++I+++++\n",
      "+-++V+++++\n",
      "++++++++++\n",
      "CALIFORNIA\n"
     ]
    },
    {
     "data": {
      "text/plain": [
       "True"
      ]
     },
     "execution_count": 66,
     "metadata": {},
     "output_type": "execute_result"
    }
   ],
   "source": [
    "def printBoard(board,n):\n",
    "    for i in range(n):\n",
    "        for j in range(n):\n",
    "            print(board[i][j],end='')\n",
    "        print(\"\")\n",
    "\n",
    "def canFillVertical(board,i,j,word,n):\n",
    "    row = i\n",
    "    for w in word:\n",
    "        if row>=n or board[row][j]=='+' or (board[row][j]!='-' and board[row][j]!=w):\n",
    "            return False\n",
    "        row+=1\n",
    "    return True\n",
    "\n",
    "def canFillHorizontal(board,i,j,word,n):\n",
    "    col = j\n",
    "    for w in word:\n",
    "        if col>=n or board[i][col]=='+' or (board[i][col]!='-' and board[i][col]!=w):\n",
    "            return False\n",
    "        col+=1\n",
    "    return True\n",
    "\n",
    "def fillVertical(board,i,j,word):\n",
    "    row = i\n",
    "    revertList = [True for i in range(len(word))]\n",
    "    for wxi in range(len(word)):\n",
    "        if board[row][j]==word[wxi]:\n",
    "            revertList[wxi] = False\n",
    "        else:\n",
    "            board[row][j] = word[wxi]\n",
    "        row+=1\n",
    "    return revertList\n",
    "\n",
    "def fillHorizontal(board,i,j,word):\n",
    "    col = j\n",
    "    revertList = [True for i in range(len(word))]\n",
    "    for wxi in range(len(word)):\n",
    "        if board[i][col]==word[wxi]:\n",
    "            revertList[wxi] = False\n",
    "        else:\n",
    "            board[i][col] = str(word[wxi])\n",
    "        col+=1\n",
    "    return revertList\n",
    "\n",
    "def revertFilledVertical(board,i,j,revertList):\n",
    "    row=i\n",
    "    for revert in revertList:\n",
    "        if revert is True:\n",
    "            board[row][j] = '-'\n",
    "        row+=1\n",
    "        \n",
    "def revertFilledHorizontal(board,i,j,revertList):\n",
    "    col=j\n",
    "    for revert in revertList:\n",
    "        if revert is True:\n",
    "            board[i][col] = '-'\n",
    "        col+=1\n",
    "\n",
    "def fillCrossWord(board,words,wi,n):\n",
    "    if wi==len(words):\n",
    "        printBoard(board,n)\n",
    "        return True\n",
    "    filled = False\n",
    "    for i in range(10):\n",
    "        for j in range(10):\n",
    "            if board[i][j]=='-' or board[i][j]==words[wi][0]:\n",
    "                # validate vertical\n",
    "                if canFillVertical(board,i,j,words[wi],n) is True:\n",
    "                    # fill vertical\n",
    "                    filledboolean = fillVertical(board,i,j,words[wi])\n",
    "                    if fillCrossWord(board,words,wi+1,n) is True:\n",
    "                        return True\n",
    "                    else:\n",
    "                        # revert filled word\n",
    "                        revertFilledVertical(board,i,j,filledboolean)\n",
    "\n",
    "                if canFillHorizontal(board,i,j,words[wi],n) is True:\n",
    "                    # fill horizontal\n",
    "                    filledboolean = fillHorizontal(board,i,j,words[wi])\n",
    "                    if fillCrossWord(board,words,wi+1,n) is True:\n",
    "                        return True\n",
    "                    else:\n",
    "                        # revert filled word\n",
    "                        revertFilledHorizontal(board,i,j,filledboolean)\n",
    "    return filled\n",
    "                        \n",
    "\n",
    "n = 10\n",
    "board = [[[None] for i in range(n)] for i in range(n)]\n",
    "\n",
    "# for i in range(10):\n",
    "#     board = [c for c in input()]\n",
    "board = ['+-++++++++',\n",
    "         '+-++-+++++',\n",
    "         '+-------++',\n",
    "         '+-++-+++++',\n",
    "         '+-++-+++++',\n",
    "         '+-++-+++++',\n",
    "         '+-++-+++++',\n",
    "         '+-++-+++++',\n",
    "         '++++++++++',\n",
    "         '----------'\n",
    "        ]\n",
    "# words = input().split(\";\")\n",
    "for i in range(n):\n",
    "    for j in range(n):\n",
    "        board2[i][j] = board[i][j]\n",
    "words = [\"CALIFORNIA\",\"NIGERIA\",\"CANADA\",\"TELAVIV\"]\n",
    "fillCrossWord(board2,words,0,n)"
   ]
  },
  {
   "cell_type": "markdown",
   "id": "e7f2044f",
   "metadata": {},
   "source": [
    "## Find power of a number"
   ]
  },
  {
   "cell_type": "code",
   "execution_count": 71,
   "id": "f2754cf4",
   "metadata": {},
   "outputs": [
    {
     "name": "stdout",
     "output_type": "stream",
     "text": [
      "2 4\n",
      "16\n"
     ]
    }
   ],
   "source": [
    "def powerOfN(x,n):\n",
    "    if n==0:\n",
    "        return 1\n",
    "    return x*powerOfN(x,n-1)\n",
    "\n",
    "X = input().split(\" \")\n",
    "print(powerOfN(int(X[0]),int(X[1])))"
   ]
  },
  {
   "cell_type": "markdown",
   "id": "12ad5b1d",
   "metadata": {},
   "source": [
    "## Sorting the Skills"
   ]
  },
  {
   "cell_type": "code",
   "execution_count": 73,
   "id": "e875247e",
   "metadata": {},
   "outputs": [
    {
     "ename": "KeyboardInterrupt",
     "evalue": "Interrupted by user",
     "output_type": "error",
     "traceback": [
      "\u001b[0;31m---------------------------------------------------------------------------\u001b[0m",
      "\u001b[0;31mKeyboardInterrupt\u001b[0m                         Traceback (most recent call last)",
      "Input \u001b[0;32mIn [73]\u001b[0m, in \u001b[0;36m<cell line: 1>\u001b[0;34m()\u001b[0m\n\u001b[0;32m----> 1\u001b[0m t \u001b[38;5;241m=\u001b[39m \u001b[38;5;28mint\u001b[39m(\u001b[38;5;28;43minput\u001b[39;49m\u001b[43m(\u001b[49m\u001b[43m)\u001b[49m)\n\u001b[1;32m      2\u001b[0m \u001b[38;5;28;01mwhile\u001b[39;00m t\u001b[38;5;241m>\u001b[39m\u001b[38;5;241m0\u001b[39m:\n\u001b[1;32m      3\u001b[0m     n \u001b[38;5;241m=\u001b[39m \u001b[38;5;28mint\u001b[39m(\u001b[38;5;28minput\u001b[39m())\n",
      "File \u001b[0;32m/Library/Frameworks/Python.framework/Versions/3.10/lib/python3.10/site-packages/ipykernel/kernelbase.py:1161\u001b[0m, in \u001b[0;36mKernel.raw_input\u001b[0;34m(self, prompt)\u001b[0m\n\u001b[1;32m   1157\u001b[0m \u001b[38;5;28;01mif\u001b[39;00m \u001b[38;5;129;01mnot\u001b[39;00m \u001b[38;5;28mself\u001b[39m\u001b[38;5;241m.\u001b[39m_allow_stdin:\n\u001b[1;32m   1158\u001b[0m     \u001b[38;5;28;01mraise\u001b[39;00m StdinNotImplementedError(\n\u001b[1;32m   1159\u001b[0m         \u001b[38;5;124m\"\u001b[39m\u001b[38;5;124mraw_input was called, but this frontend does not support input requests.\u001b[39m\u001b[38;5;124m\"\u001b[39m\n\u001b[1;32m   1160\u001b[0m     )\n\u001b[0;32m-> 1161\u001b[0m \u001b[38;5;28;01mreturn\u001b[39;00m \u001b[38;5;28;43mself\u001b[39;49m\u001b[38;5;241;43m.\u001b[39;49m\u001b[43m_input_request\u001b[49m\u001b[43m(\u001b[49m\n\u001b[1;32m   1162\u001b[0m \u001b[43m    \u001b[49m\u001b[38;5;28;43mstr\u001b[39;49m\u001b[43m(\u001b[49m\u001b[43mprompt\u001b[49m\u001b[43m)\u001b[49m\u001b[43m,\u001b[49m\n\u001b[1;32m   1163\u001b[0m \u001b[43m    \u001b[49m\u001b[38;5;28;43mself\u001b[39;49m\u001b[38;5;241;43m.\u001b[39;49m\u001b[43m_parent_ident\u001b[49m\u001b[43m[\u001b[49m\u001b[38;5;124;43m\"\u001b[39;49m\u001b[38;5;124;43mshell\u001b[39;49m\u001b[38;5;124;43m\"\u001b[39;49m\u001b[43m]\u001b[49m\u001b[43m,\u001b[49m\n\u001b[1;32m   1164\u001b[0m \u001b[43m    \u001b[49m\u001b[38;5;28;43mself\u001b[39;49m\u001b[38;5;241;43m.\u001b[39;49m\u001b[43mget_parent\u001b[49m\u001b[43m(\u001b[49m\u001b[38;5;124;43m\"\u001b[39;49m\u001b[38;5;124;43mshell\u001b[39;49m\u001b[38;5;124;43m\"\u001b[39;49m\u001b[43m)\u001b[49m\u001b[43m,\u001b[49m\n\u001b[1;32m   1165\u001b[0m \u001b[43m    \u001b[49m\u001b[43mpassword\u001b[49m\u001b[38;5;241;43m=\u001b[39;49m\u001b[38;5;28;43;01mFalse\u001b[39;49;00m\u001b[43m,\u001b[49m\n\u001b[1;32m   1166\u001b[0m \u001b[43m\u001b[49m\u001b[43m)\u001b[49m\n",
      "File \u001b[0;32m/Library/Frameworks/Python.framework/Versions/3.10/lib/python3.10/site-packages/ipykernel/kernelbase.py:1205\u001b[0m, in \u001b[0;36mKernel._input_request\u001b[0;34m(self, prompt, ident, parent, password)\u001b[0m\n\u001b[1;32m   1202\u001b[0m             \u001b[38;5;28;01mbreak\u001b[39;00m\n\u001b[1;32m   1203\u001b[0m \u001b[38;5;28;01mexcept\u001b[39;00m \u001b[38;5;167;01mKeyboardInterrupt\u001b[39;00m:\n\u001b[1;32m   1204\u001b[0m     \u001b[38;5;66;03m# re-raise KeyboardInterrupt, to truncate traceback\u001b[39;00m\n\u001b[0;32m-> 1205\u001b[0m     \u001b[38;5;28;01mraise\u001b[39;00m \u001b[38;5;167;01mKeyboardInterrupt\u001b[39;00m(\u001b[38;5;124m\"\u001b[39m\u001b[38;5;124mInterrupted by user\u001b[39m\u001b[38;5;124m\"\u001b[39m) \u001b[38;5;28;01mfrom\u001b[39;00m \u001b[38;5;28mNone\u001b[39m\n\u001b[1;32m   1206\u001b[0m \u001b[38;5;28;01mexcept\u001b[39;00m \u001b[38;5;167;01mException\u001b[39;00m:\n\u001b[1;32m   1207\u001b[0m     \u001b[38;5;28mself\u001b[39m\u001b[38;5;241m.\u001b[39mlog\u001b[38;5;241m.\u001b[39mwarning(\u001b[38;5;124m\"\u001b[39m\u001b[38;5;124mInvalid Message:\u001b[39m\u001b[38;5;124m\"\u001b[39m, exc_info\u001b[38;5;241m=\u001b[39m\u001b[38;5;28;01mTrue\u001b[39;00m)\n",
      "\u001b[0;31mKeyboardInterrupt\u001b[0m: Interrupted by user"
     ]
    }
   ],
   "source": [
    "\n",
    "t = int(input())\n",
    "while t>0:\n",
    "    n = int(input())\n",
    "    arr = [int(i) for i in input().split(\" \")]\n",
    "    ans = \"Yes\"\n",
    "    for i in range(n):\n",
    "        if arr[i]-i>1:\n",
    "            ans = \"No\"\n",
    "            break\n",
    "    t-=1\n",
    "    print(ans)"
   ]
  },
  {
   "cell_type": "markdown",
   "id": "d4869b69",
   "metadata": {},
   "source": [
    "## Collecting the balls"
   ]
  },
  {
   "cell_type": "code",
   "execution_count": 87,
   "id": "cd7ebc70",
   "metadata": {},
   "outputs": [
    {
     "name": "stdout",
     "output_type": "stream",
     "text": [
      "987897897897897987977\n",
      "38784303015127302589\n"
     ]
    }
   ],
   "source": [
    "# A is Mr. Sharma\n",
    "# B is Mr. Singh\n",
    "\n",
    "def getBallsTakenByAB(n,k):\n",
    "    N = n\n",
    "    balls_taken_by_A = 0\n",
    "    balls_taken_by_B = 0\n",
    "    while True:\n",
    "        if(N-k<=0) :\n",
    "            balls_taken_by_A+=N\n",
    "            break\n",
    "        else:\n",
    "            balls_taken_by_A+=k\n",
    "            balls_taken_by_B+=(N-k)//10\n",
    "            N-=(k+(N-k)//10)\n",
    "    return balls_taken_by_A,balls_taken_by_B\n",
    "\n",
    "def getMinK(n,start,end):\n",
    "    # use binary search method to get minimum k for which Mr. Sharma should get at least half balls\n",
    "    if start==end:\n",
    "        return start\n",
    "    k = (start+end)//2\n",
    "    balls_taken_by_A,balls_taken_by_B = getBallsTakenByAB(n,k)\n",
    "    if 2*balls_taken_by_A>=n:\n",
    "        # reduce\n",
    "        return getMinK(n,start,k)\n",
    "    else:\n",
    "        return getMinK(n,k+1,end)\n",
    "n = int(input())\n",
    "\n",
    "print(getMinK(n,1,n))"
   ]
  },
  {
   "cell_type": "markdown",
   "id": "e3bdb5bd",
   "metadata": {},
   "source": [
    "## sudoku solver"
   ]
  },
  {
   "cell_type": "code",
   "execution_count": 88,
   "id": "b774f321",
   "metadata": {},
   "outputs": [
    {
     "ename": "KeyboardInterrupt",
     "evalue": "Interrupted by user",
     "output_type": "error",
     "traceback": [
      "\u001b[0;31m---------------------------------------------------------------------------\u001b[0m",
      "\u001b[0;31mKeyboardInterrupt\u001b[0m                         Traceback (most recent call last)",
      "Input \u001b[0;32mIn [88]\u001b[0m, in \u001b[0;36m<cell line: 5>\u001b[0;34m()\u001b[0m\n\u001b[1;32m      1\u001b[0m \u001b[38;5;28;01mdef\u001b[39;00m \u001b[38;5;21msolveSudoku\u001b[39m(board):\n\u001b[1;32m      2\u001b[0m     \u001b[38;5;66;03m#Implement Your Code Here\u001b[39;00m\n\u001b[1;32m      3\u001b[0m     \u001b[38;5;28;01mpass\u001b[39;00m\n\u001b[0;32m----> 5\u001b[0m board \u001b[38;5;241m=\u001b[39m [[ \u001b[38;5;28mint\u001b[39m(ele) \u001b[38;5;28;01mfor\u001b[39;00m ele \u001b[38;5;129;01min\u001b[39;00m \u001b[38;5;28minput\u001b[39m()\u001b[38;5;241m.\u001b[39msplit() ]\u001b[38;5;28;01mfor\u001b[39;00m i \u001b[38;5;129;01min\u001b[39;00m \u001b[38;5;28mrange\u001b[39m(\u001b[38;5;241m9\u001b[39m)]\n\u001b[1;32m      6\u001b[0m ans \u001b[38;5;241m=\u001b[39m solveSudoku(board)\n\u001b[1;32m      7\u001b[0m \u001b[38;5;28;01mif\u001b[39;00m ans \u001b[38;5;129;01mis\u001b[39;00m \u001b[38;5;28;01mTrue\u001b[39;00m:\n",
      "Input \u001b[0;32mIn [88]\u001b[0m, in \u001b[0;36m<listcomp>\u001b[0;34m(.0)\u001b[0m\n\u001b[1;32m      1\u001b[0m \u001b[38;5;28;01mdef\u001b[39;00m \u001b[38;5;21msolveSudoku\u001b[39m(board):\n\u001b[1;32m      2\u001b[0m     \u001b[38;5;66;03m#Implement Your Code Here\u001b[39;00m\n\u001b[1;32m      3\u001b[0m     \u001b[38;5;28;01mpass\u001b[39;00m\n\u001b[0;32m----> 5\u001b[0m board \u001b[38;5;241m=\u001b[39m [[ \u001b[38;5;28mint\u001b[39m(ele) \u001b[38;5;28;01mfor\u001b[39;00m ele \u001b[38;5;129;01min\u001b[39;00m \u001b[38;5;28;43minput\u001b[39;49m\u001b[43m(\u001b[49m\u001b[43m)\u001b[49m\u001b[38;5;241m.\u001b[39msplit() ]\u001b[38;5;28;01mfor\u001b[39;00m i \u001b[38;5;129;01min\u001b[39;00m \u001b[38;5;28mrange\u001b[39m(\u001b[38;5;241m9\u001b[39m)]\n\u001b[1;32m      6\u001b[0m ans \u001b[38;5;241m=\u001b[39m solveSudoku(board)\n\u001b[1;32m      7\u001b[0m \u001b[38;5;28;01mif\u001b[39;00m ans \u001b[38;5;129;01mis\u001b[39;00m \u001b[38;5;28;01mTrue\u001b[39;00m:\n",
      "File \u001b[0;32m/Library/Frameworks/Python.framework/Versions/3.10/lib/python3.10/site-packages/ipykernel/kernelbase.py:1161\u001b[0m, in \u001b[0;36mKernel.raw_input\u001b[0;34m(self, prompt)\u001b[0m\n\u001b[1;32m   1157\u001b[0m \u001b[38;5;28;01mif\u001b[39;00m \u001b[38;5;129;01mnot\u001b[39;00m \u001b[38;5;28mself\u001b[39m\u001b[38;5;241m.\u001b[39m_allow_stdin:\n\u001b[1;32m   1158\u001b[0m     \u001b[38;5;28;01mraise\u001b[39;00m StdinNotImplementedError(\n\u001b[1;32m   1159\u001b[0m         \u001b[38;5;124m\"\u001b[39m\u001b[38;5;124mraw_input was called, but this frontend does not support input requests.\u001b[39m\u001b[38;5;124m\"\u001b[39m\n\u001b[1;32m   1160\u001b[0m     )\n\u001b[0;32m-> 1161\u001b[0m \u001b[38;5;28;01mreturn\u001b[39;00m \u001b[38;5;28;43mself\u001b[39;49m\u001b[38;5;241;43m.\u001b[39;49m\u001b[43m_input_request\u001b[49m\u001b[43m(\u001b[49m\n\u001b[1;32m   1162\u001b[0m \u001b[43m    \u001b[49m\u001b[38;5;28;43mstr\u001b[39;49m\u001b[43m(\u001b[49m\u001b[43mprompt\u001b[49m\u001b[43m)\u001b[49m\u001b[43m,\u001b[49m\n\u001b[1;32m   1163\u001b[0m \u001b[43m    \u001b[49m\u001b[38;5;28;43mself\u001b[39;49m\u001b[38;5;241;43m.\u001b[39;49m\u001b[43m_parent_ident\u001b[49m\u001b[43m[\u001b[49m\u001b[38;5;124;43m\"\u001b[39;49m\u001b[38;5;124;43mshell\u001b[39;49m\u001b[38;5;124;43m\"\u001b[39;49m\u001b[43m]\u001b[49m\u001b[43m,\u001b[49m\n\u001b[1;32m   1164\u001b[0m \u001b[43m    \u001b[49m\u001b[38;5;28;43mself\u001b[39;49m\u001b[38;5;241;43m.\u001b[39;49m\u001b[43mget_parent\u001b[49m\u001b[43m(\u001b[49m\u001b[38;5;124;43m\"\u001b[39;49m\u001b[38;5;124;43mshell\u001b[39;49m\u001b[38;5;124;43m\"\u001b[39;49m\u001b[43m)\u001b[49m\u001b[43m,\u001b[49m\n\u001b[1;32m   1165\u001b[0m \u001b[43m    \u001b[49m\u001b[43mpassword\u001b[49m\u001b[38;5;241;43m=\u001b[39;49m\u001b[38;5;28;43;01mFalse\u001b[39;49;00m\u001b[43m,\u001b[49m\n\u001b[1;32m   1166\u001b[0m \u001b[43m\u001b[49m\u001b[43m)\u001b[49m\n",
      "File \u001b[0;32m/Library/Frameworks/Python.framework/Versions/3.10/lib/python3.10/site-packages/ipykernel/kernelbase.py:1205\u001b[0m, in \u001b[0;36mKernel._input_request\u001b[0;34m(self, prompt, ident, parent, password)\u001b[0m\n\u001b[1;32m   1202\u001b[0m             \u001b[38;5;28;01mbreak\u001b[39;00m\n\u001b[1;32m   1203\u001b[0m \u001b[38;5;28;01mexcept\u001b[39;00m \u001b[38;5;167;01mKeyboardInterrupt\u001b[39;00m:\n\u001b[1;32m   1204\u001b[0m     \u001b[38;5;66;03m# re-raise KeyboardInterrupt, to truncate traceback\u001b[39;00m\n\u001b[0;32m-> 1205\u001b[0m     \u001b[38;5;28;01mraise\u001b[39;00m \u001b[38;5;167;01mKeyboardInterrupt\u001b[39;00m(\u001b[38;5;124m\"\u001b[39m\u001b[38;5;124mInterrupted by user\u001b[39m\u001b[38;5;124m\"\u001b[39m) \u001b[38;5;28;01mfrom\u001b[39;00m \u001b[38;5;28mNone\u001b[39m\n\u001b[1;32m   1206\u001b[0m \u001b[38;5;28;01mexcept\u001b[39;00m \u001b[38;5;167;01mException\u001b[39;00m:\n\u001b[1;32m   1207\u001b[0m     \u001b[38;5;28mself\u001b[39m\u001b[38;5;241m.\u001b[39mlog\u001b[38;5;241m.\u001b[39mwarning(\u001b[38;5;124m\"\u001b[39m\u001b[38;5;124mInvalid Message:\u001b[39m\u001b[38;5;124m\"\u001b[39m, exc_info\u001b[38;5;241m=\u001b[39m\u001b[38;5;28;01mTrue\u001b[39;00m)\n",
      "\u001b[0;31mKeyboardInterrupt\u001b[0m: Interrupted by user"
     ]
    }
   ],
   "source": [
    "\n",
    "    \n",
    "def isNumPresentInRow(board,row,col,num):\n",
    "    i = row\n",
    "    for j in range(9):\n",
    "        if board[i][j]==num:\n",
    "            return True\n",
    "    return False\n",
    "\n",
    "def isNumPresentInColumn(board,row,col,num):\n",
    "    j = col\n",
    "    for i in range(9):\n",
    "        if board[i][j]==num:\n",
    "            return True\n",
    "    return False\n",
    "\n",
    "def isNumPresentInSquareBox(board,row,col,num):\n",
    "    row_box_num = row-row%3\n",
    "    col_box_num = col-col%3\n",
    "\n",
    "    for i in range(row_box_num,row_box_num+3):\n",
    "        for j in range(col_box_num,col_box_num+3):\n",
    "            if board[i][j]==num:\n",
    "                return True\n",
    "    return False\n",
    "\n",
    "\n",
    "def solveSudoku(board):\n",
    "    #Implement Your Code Here\n",
    "    i = -1\n",
    "    j = -1\n",
    "    flag = False\n",
    "    for r in range(9):\n",
    "        for c in range(9):\n",
    "            if board[r][c]==0:\n",
    "                i = r\n",
    "                j = c\n",
    "                flag = False\n",
    "                break\n",
    "        if flag is True:\n",
    "            break\n",
    "    if i==-1:\n",
    "        return True\n",
    "        \n",
    "    for num in range(1,10):\n",
    "        if isNumPresentInRow(board,i,j,num) is False and isNumPresentInColumn(board,i,j,num) is False and isNumPresentInSquareBox(board,i,j,num) is False:\n",
    "            board[i][j]=num\n",
    "            if solveSudoku(board) is True:\n",
    "                return True\n",
    "            board[i][j] = 0\n",
    "    return False\n",
    "\n",
    "board = [[ int(ele) for ele in input().split() ]for i in range(9)]\n",
    "ans = solveSudoku(board)\n",
    "if ans is True:\n",
    "    print('true')\n",
    "else:\n",
    "    print('false')"
   ]
  }
 ],
 "metadata": {
  "kernelspec": {
   "display_name": "Python 3 (ipykernel)",
   "language": "python",
   "name": "python3"
  },
  "language_info": {
   "codemirror_mode": {
    "name": "ipython",
    "version": 3
   },
   "file_extension": ".py",
   "mimetype": "text/x-python",
   "name": "python",
   "nbconvert_exporter": "python",
   "pygments_lexer": "ipython3",
   "version": "3.10.4"
  }
 },
 "nbformat": 4,
 "nbformat_minor": 5
}
