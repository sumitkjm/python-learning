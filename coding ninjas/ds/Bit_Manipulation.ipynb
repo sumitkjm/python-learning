{
 "cells": [
  {
   "cell_type": "markdown",
   "id": "2acf58c3",
   "metadata": {},
   "source": [
    "## Set ith bit"
   ]
  },
  {
   "cell_type": "code",
   "execution_count": 10,
   "id": "56cf0610",
   "metadata": {},
   "outputs": [
    {
     "name": "stdout",
     "output_type": "stream",
     "text": [
      "4 0\n",
      "1\n",
      "5\n"
     ]
    }
   ],
   "source": [
    "def turnOnIthBit(n,i):\n",
    "    n=n|1<<i\n",
    "    return n\n",
    "\n",
    "N,I = input().split()\n",
    "n = int(N)\n",
    "i = int(I)\n",
    "# print(num)\n",
    "print(turnOnIthBit(n,i))"
   ]
  },
  {
   "cell_type": "markdown",
   "id": "35beeb98",
   "metadata": {},
   "source": [
    "## Flip Ith bit"
   ]
  },
  {
   "cell_type": "code",
   "execution_count": 12,
   "id": "1e7f3e29",
   "metadata": {},
   "outputs": [
    {
     "name": "stdout",
     "output_type": "stream",
     "text": [
      "12 1\n",
      "14\n"
     ]
    }
   ],
   "source": [
    "def flipIthBit(n,i):\n",
    "    n=n^1<<i\n",
    "    return n\n",
    "\n",
    "N,I = input().split()\n",
    "n = int(N)\n",
    "i = int(I)\n",
    "# print(num)\n",
    "print(flipIthBit(n,i))"
   ]
  },
  {
   "cell_type": "markdown",
   "id": "cb4f53b7",
   "metadata": {},
   "source": [
    "## Unset Ith Bit"
   ]
  },
  {
   "cell_type": "code",
   "execution_count": 15,
   "id": "b5e265ca",
   "metadata": {},
   "outputs": [
    {
     "name": "stdout",
     "output_type": "stream",
     "text": [
      "7 2\n",
      "3\n"
     ]
    }
   ],
   "source": [
    "def unsetIthBit(n,i):\n",
    "    n=n&~(1<<i)\n",
    "    return n\n",
    "\n",
    "N,I = input().split()\n",
    "n = int(N)\n",
    "i = int(I)\n",
    "# print(num)\n",
    "print(unsetIthBit(n,i))"
   ]
  },
  {
   "cell_type": "markdown",
   "id": "a15b850a",
   "metadata": {},
   "source": [
    "## Find first ith bit"
   ]
  },
  {
   "cell_type": "code",
   "execution_count": 31,
   "id": "84321585",
   "metadata": {},
   "outputs": [
    {
     "name": "stdout",
     "output_type": "stream",
     "text": [
      "0\n",
      "0\n"
     ]
    }
   ],
   "source": [
    "def findFirstIthBitSet(n):\n",
    "    if n==0:\n",
    "        return 0\n",
    "    i = 0\n",
    "    while True:\n",
    "        leftShiftNum = 1<<i\n",
    "        n1 = n&(leftShiftNum)\n",
    "        if n1==leftShiftNum:\n",
    "            return leftShiftNum\n",
    "        i+=1\n",
    "\n",
    "def findFirstIthBitSet2(n):\n",
    "    n = n&(-1*n)\n",
    "    return n\n",
    "        \n",
    "n = int(input())\n",
    "# print(num)\n",
    "print(findFirstIthBitSet(n))"
   ]
  }
 ],
 "metadata": {
  "kernelspec": {
   "display_name": "Python 3 (ipykernel)",
   "language": "python",
   "name": "python3"
  },
  "language_info": {
   "codemirror_mode": {
    "name": "ipython",
    "version": 3
   },
   "file_extension": ".py",
   "mimetype": "text/x-python",
   "name": "python",
   "nbconvert_exporter": "python",
   "pygments_lexer": "ipython3",
   "version": "3.10.4"
  }
 },
 "nbformat": 4,
 "nbformat_minor": 5
}
