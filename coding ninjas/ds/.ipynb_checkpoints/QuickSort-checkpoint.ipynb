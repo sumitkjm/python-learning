{
 "cells": [
  {
   "cell_type": "code",
   "execution_count": 38,
   "id": "eac3b9c4",
   "metadata": {},
   "outputs": [
    {
     "name": "stdout",
     "output_type": "stream",
     "text": [
      "1 2 3 4 6 7 9\n"
     ]
    }
   ],
   "source": [
    "def swap(arr, i, j):\n",
    "    temp = arr[i]\n",
    "    arr[i] = arr[j]\n",
    "    arr[j] = temp\n",
    "\n",
    "def partition(arr,start,end):\n",
    "    # choose first element to be positioned as pivot\n",
    "    x = arr[start]\n",
    "    # count number of element smaller than x in array\n",
    "    count = 0\n",
    "    for i in range(start+1,end+1):\n",
    "        if arr[i] <x:\n",
    "            count+=1\n",
    "    # swap the element x to it's position\n",
    "    swap(arr,start,start+count)\n",
    "    # compare left partition and right partition to arrange all smaller elements from x on left side\n",
    "    # and all greater or equal elements on right side of x\n",
    "    i = start\n",
    "    j = end\n",
    "    while i<j:\n",
    "        if arr[i]<x:\n",
    "            i+=1\n",
    "        elif arr[j]>=x:\n",
    "            j-=1\n",
    "        else:\n",
    "            swap(arr,i,j)\n",
    "            i+=1\n",
    "            j-=1\n",
    "    return start+count\n",
    "\n",
    "\n",
    "def quickSort(arr, start, end):\n",
    "    # Please add your code here\n",
    "    if start>=end:\n",
    "        return\n",
    "    position = partition(arr, start,end)\n",
    "    quickSort(arr,start,position-1)\n",
    "    quickSort(arr,position+1,end)\n",
    "\n",
    "# n=int(input())\n",
    "# arr=list(int(i) for i in input().strip().split(' '))\n",
    "arr = [2,4,1,6,7,3,9]\n",
    "quickSort(arr, 0, len(arr)-1)\n",
    "print(*arr)"
   ]
  }
 ],
 "metadata": {
  "kernelspec": {
   "display_name": "Python 3 (ipykernel)",
   "language": "python",
   "name": "python3"
  },
  "language_info": {
   "codemirror_mode": {
    "name": "ipython",
    "version": 3
   },
   "file_extension": ".py",
   "mimetype": "text/x-python",
   "name": "python",
   "nbconvert_exporter": "python",
   "pygments_lexer": "ipython3",
   "version": "3.10.4"
  }
 },
 "nbformat": 4,
 "nbformat_minor": 5
}
