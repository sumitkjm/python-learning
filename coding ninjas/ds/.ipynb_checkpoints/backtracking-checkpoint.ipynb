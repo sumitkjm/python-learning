{
 "cells": [
  {
   "cell_type": "markdown",
   "id": "14b13172",
   "metadata": {},
   "source": [
    "# NQueen problem"
   ]
  },
  {
   "cell_type": "code",
   "execution_count": 8,
   "id": "301bd814",
   "metadata": {},
   "outputs": [
    {
     "name": "stdout",
     "output_type": "stream",
     "text": [
      "0 1 0 0 0 0 0 1 1 0 0 0 0 0 1 0 \n",
      "0 0 1 0 1 0 0 0 0 0 0 1 0 1 0 0 \n"
     ]
    }
   ],
   "source": [
    "def checkIfQueenCanBePlaced(arr,row,col,n):\n",
    "    i = row-1\n",
    "    j = col\n",
    "    while i>=0:\n",
    "        if arr[i][j]==1:\n",
    "            return False\n",
    "        i-=1\n",
    "    i = row-1\n",
    "    j = col+1\n",
    "    while i>=0 and j<n:\n",
    "        if arr[i][j]==1:\n",
    "            return False\n",
    "        i-=1\n",
    "        j+=1\n",
    "    \n",
    "    i = row-1\n",
    "    j = col-1\n",
    "    while i>=0 and j>=0:\n",
    "        if arr[i][j]==1:\n",
    "            return False\n",
    "        i-=1\n",
    "        j-=1\n",
    "    return True\n",
    "\n",
    "def nQueenHelper(arr,row,n):\n",
    "    \n",
    "    if row==n:\n",
    "        for i in range(n):\n",
    "            for j in range(n):\n",
    "                print(arr[i][j],end=' ')\n",
    "        print()\n",
    "        return\n",
    "    \n",
    "    for col in range(n):\n",
    "        if checkIfQueenCanBePlaced(arr,row,col,n) is True:\n",
    "            arr[row][col] = 1\n",
    "            nQueenHelper(arr,row+1,n)\n",
    "            arr[row][col] = 0\n",
    "    return\n",
    "    \n",
    "\n",
    "def nQueen(n):\n",
    "    arr = [[0 for i in range(n)] for i in range(n)]\n",
    "    nQueenHelper(arr,0,n)\n",
    "\n",
    "nQueen(4)"
   ]
  },
  {
   "cell_type": "code",
   "execution_count": 2,
   "id": "1a9c4182",
   "metadata": {},
   "outputs": [
    {
     "data": {
      "text/plain": [
       "[[0, 0, 0, 0], [0, 0, 0, 0], [0, 0, 0, 0], [0, 0, 0, 0]]"
      ]
     },
     "execution_count": 2,
     "metadata": {},
     "output_type": "execute_result"
    }
   ],
   "source": [
    "n=4\n",
    "arr = [[0 for i in range(n)] for i in range(n)]\n",
    "arr"
   ]
  },
  {
   "cell_type": "markdown",
   "id": "e72762eb",
   "metadata": {},
   "source": [
    "## Rate in Maze"
   ]
  },
  {
   "cell_type": "code",
   "execution_count": 22,
   "id": "f217c451",
   "metadata": {},
   "outputs": [
    {
     "name": "stdout",
     "output_type": "stream",
     "text": [
      "3\n",
      "1 0 1\n",
      "1 0 1\n",
      "1 1 1\n",
      "1 0 0 1 0 0 1 1 0 \n"
     ]
    }
   ],
   "source": [
    "def ratInMaze(mat,sol,r,c,n):\n",
    "    if r<0 or c<0 or r>n-1 or c>n-1 or mat[r][c]==0 or sol[r][c]==1:\n",
    "        return\n",
    "    \n",
    "    if (r==n-1 and c==n-1):\n",
    "        # print soln\n",
    "        sol[r][c] = 1\n",
    "        for i in range(n):\n",
    "            for j in range(n):\n",
    "                print(sol[i][j],end=' ')\n",
    "        sol[r][c]=0\n",
    "        print(\"\")\n",
    "    else:\n",
    "        sol[r][c]=1\n",
    "        ratInMaze(mat,sol,r,c+1,n)\n",
    "        ratInMaze(mat,sol,r+1,c,n)\n",
    "        ratInMaze(mat,sol,r,c-1,n)\n",
    "        ratInMaze(mat,sol,r-1,c,n)\n",
    "        sol[r][c]=0\n",
    "    \n",
    "n = int(input())\n",
    "mat = [[None for i in range(n)] for i in range(n)]\n",
    "# for i in \n",
    "for i in range(n):\n",
    "    mat[i] = [int(i) for i in input().split(' ')]\n",
    "\n",
    "sol = [[0 for i in range(n)] for i in range(n)]\n",
    "ratInMaze(mat,sol,0,0,n)"
   ]
  },
  {
   "cell_type": "markdown",
   "id": "36295f60",
   "metadata": {},
   "source": [
    "## Crossword Problem"
   ]
  },
  {
   "cell_type": "code",
   "execution_count": 23,
   "id": "acc5cb6f",
   "metadata": {},
   "outputs": [
    {
     "name": "stdout",
     "output_type": "stream",
     "text": [
      "+-++++++++\n",
      "+-++-+++++\n",
      "+-------++\n",
      "+-++-+++++\n",
      "+-++-+++++\n",
      "+-++-+++++\n",
      "++++-+++++\n",
      "++++-+++++\n",
      "++++++++++\n",
      "----------\n",
      "CALIFORNIA;NIGERIA;CANADA;TELAVIV\n"
     ]
    },
    {
     "data": {
      "text/plain": [
       "(['-', '-', '-', '-', '-', '-', '-', '-', '-', '-'],\n",
       " ['CALIFORNIA', 'NIGERIA', 'CANADA', 'TELAVIV'])"
      ]
     },
     "execution_count": 23,
     "metadata": {},
     "output_type": "execute_result"
    }
   ],
   "source": [
    "def printBoard(board,n):\n",
    "    for i in range(n):\n",
    "        for j in range(n):\n",
    "            print(board[i][j],end='')\n",
    "        print(\"\")\n",
    "\n",
    "def canFillVertical(board,i,j,word,n):\n",
    "    row = i\n",
    "    for w in word:\n",
    "        if row>=n or board[row][j]=='+' or (board[row][j]!='-' and board[row][j]!=w):\n",
    "            return False\n",
    "        row+=1\n",
    "    return True\n",
    "\n",
    "def canFillHorizontal(board,i,j,word,n):\n",
    "    col = j\n",
    "    for w in word:\n",
    "        if col>=n or board[i][col]=='+' or (board[i][col]!='-' and board[i][col]!=w):\n",
    "            return False\n",
    "        col+=1\n",
    "    return True\n",
    "\n",
    "def fillVertical(board,i,j,word):\n",
    "    row = i\n",
    "    revertList = [True for i in range(len(word))]\n",
    "    for wxi in range(len(word)):\n",
    "        if board[row][j]==word[wxi]:\n",
    "            revertList[wxi] = False\n",
    "        row+=1\n",
    "    return revertList\n",
    "\n",
    "def fillHorizontal(board,i,j,word):\n",
    "    col = i\n",
    "    revertList = [True for i in range(len(word))]\n",
    "    for wxi in range(len(word)):\n",
    "        if board[i][col]==word[wxi]:\n",
    "            revertList[wxi] = False\n",
    "        col+=1\n",
    "    return revertList\n",
    "\n",
    "def revertVertical(board,i,j,revertList):\n",
    "    row=i\n",
    "    for revert in revertList:\n",
    "        if revert is True:\n",
    "            board[row][j] = '-'\n",
    "        row+=1\n",
    "        \n",
    "def revertHorizontal(board,i,j,revertList):\n",
    "    col=j\n",
    "    for revert in revertList:\n",
    "        if revert is True:\n",
    "            board[i][col] = '-'\n",
    "        col+=1\n",
    "\n",
    "def fillCrossWord(board,words,wi,n):\n",
    "    if wi==len(words):\n",
    "        return True\n",
    "    filled = False\n",
    "    for i in range(10):\n",
    "        for j in range(10):\n",
    "            if board[i][j]=='-' or board[i][j]==words[wi][0]:\n",
    "                # validate vertical\n",
    "#                 filledboolean = [False for i in range(len(word))]\n",
    "                if canFillVertical(board,i,j,words[wi]) is True:\n",
    "                    # fill vertical\n",
    "                    filledboolean = fillVertical(board,i,j,word)\n",
    "                    if fillCrossWord(board,words[wi],wi+1,n) is True:\n",
    "                        return True\n",
    "                    else:\n",
    "                        # revert filled word\n",
    "                        revertFilledVertical(board,i,j,filledboolean)\n",
    "\n",
    "                if canFillHorizontal(board,i,j,words[wi]) is True:\n",
    "                    # fill horizontal\n",
    "                    filledboolean = fillHorizontal(board,i,j,word)\n",
    "                    if fillCrossWord(board,words,wi+1,n) is True:\n",
    "                        return True\n",
    "                    else:\n",
    "                        # revert filled word\n",
    "                        revertFilledHorizontal(board,i,j,filledboolean)\n",
    "    return filled\n",
    "                        \n",
    "\n",
    "n = 10\n",
    "board = [[None for i in range(n)] for i in range(n)]\n",
    "for i in range(10):\n",
    "    board = [c for c in input()]\n",
    "words = input().split(\";\")\n",
    "for word in words:\n",
    "    fillCrossWord(board,word,n)\n",
    "printBoard(board,n)"
   ]
  }
 ],
 "metadata": {
  "kernelspec": {
   "display_name": "Python 3 (ipykernel)",
   "language": "python",
   "name": "python3"
  },
  "language_info": {
   "codemirror_mode": {
    "name": "ipython",
    "version": 3
   },
   "file_extension": ".py",
   "mimetype": "text/x-python",
   "name": "python",
   "nbconvert_exporter": "python",
   "pygments_lexer": "ipython3",
   "version": "3.10.4"
  }
 },
 "nbformat": 4,
 "nbformat_minor": 5
}
