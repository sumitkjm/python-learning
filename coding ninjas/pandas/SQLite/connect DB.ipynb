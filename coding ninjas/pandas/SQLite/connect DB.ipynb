{
 "cells": [
  {
   "cell_type": "code",
   "execution_count": 1,
   "id": "049302aa",
   "metadata": {},
   "outputs": [],
   "source": [
    "import sqlite3"
   ]
  },
  {
   "cell_type": "code",
   "execution_count": 2,
   "id": "7496b5ef",
   "metadata": {},
   "outputs": [
    {
     "data": {
      "text/plain": [
       "<sqlite3.Connection at 0x7fb83f8a5120>"
      ]
     },
     "execution_count": 2,
     "metadata": {},
     "output_type": "execute_result"
    }
   ],
   "source": [
    "db = sqlite3.connect('School.sqlite')\n",
    "db"
   ]
  },
  {
   "cell_type": "code",
   "execution_count": 26,
   "id": "b773df35",
   "metadata": {},
   "outputs": [
    {
     "data": {
      "text/plain": [
       "<sqlite3.Connection at 0x7fb840f56030>"
      ]
     },
     "execution_count": 26,
     "metadata": {},
     "output_type": "execute_result"
    }
   ],
   "source": [
    "db = sqlite3.connect('School2.sqlite')\n",
    "db"
   ]
  },
  {
   "cell_type": "code",
   "execution_count": 27,
   "id": "3422a6a4",
   "metadata": {},
   "outputs": [
    {
     "data": {
      "text/plain": [
       "<sqlite3.Cursor at 0x7fb840eff9d0>"
      ]
     },
     "execution_count": 27,
     "metadata": {},
     "output_type": "execute_result"
    }
   ],
   "source": [
    "cur = db.cursor()\n",
    "cur"
   ]
  },
  {
   "cell_type": "code",
   "execution_count": 8,
   "id": "45148928",
   "metadata": {},
   "outputs": [],
   "source": [
    "query = \"create table Student(ID int Primary Key, Name text, Age int)\""
   ]
  },
  {
   "cell_type": "code",
   "execution_count": 9,
   "id": "2642159c",
   "metadata": {},
   "outputs": [
    {
     "data": {
      "text/plain": [
       "<sqlite3.Cursor at 0x7fb83f8a71f0>"
      ]
     },
     "execution_count": 9,
     "metadata": {},
     "output_type": "execute_result"
    }
   ],
   "source": [
    "cur.execute(query)"
   ]
  },
  {
   "cell_type": "code",
   "execution_count": 13,
   "id": "9e6ebd8c",
   "metadata": {},
   "outputs": [
    {
     "data": {
      "text/plain": [
       "<sqlite3.Cursor at 0x7fb83f8a71f0>"
      ]
     },
     "execution_count": 13,
     "metadata": {},
     "output_type": "execute_result"
    }
   ],
   "source": [
    "cur.execute(\"insert into Student values(102,'Manasvi',12)\")"
   ]
  },
  {
   "cell_type": "code",
   "execution_count": 28,
   "id": "e32c65ad",
   "metadata": {},
   "outputs": [
    {
     "data": {
      "text/plain": [
       "<sqlite3.Cursor at 0x7fb840eff9d0>"
      ]
     },
     "execution_count": 28,
     "metadata": {},
     "output_type": "execute_result"
    }
   ],
   "source": [
    "rollNumber  = 104\n",
    "Name = 'Namit'\n",
    "age = 24\n",
    "cur.execute('insert into Student values(?,?,?)',(rollNumber,Name,age))"
   ]
  },
  {
   "cell_type": "code",
   "execution_count": 30,
   "id": "f30f5ea9",
   "metadata": {},
   "outputs": [
    {
     "data": {
      "text/plain": [
       "<sqlite3.Cursor at 0x7fb840eff9d0>"
      ]
     },
     "execution_count": 30,
     "metadata": {},
     "output_type": "execute_result"
    }
   ],
   "source": [
    "values = [(105,'Nidhi',20),(106,'Sudha',24),(107,'Nisha',23)]\n",
    "cur.executemany('insert into Student values(?,?,?)',values)"
   ]
  },
  {
   "cell_type": "code",
   "execution_count": 33,
   "id": "fc8843d1",
   "metadata": {},
   "outputs": [
    {
     "data": {
      "text/plain": [
       "<sqlite3.Cursor at 0x7fb840eff9d0>"
      ]
     },
     "execution_count": 33,
     "metadata": {},
     "output_type": "execute_result"
    }
   ],
   "source": [
    "cur.execute(\"update Student set age = 24 where id=107\")"
   ]
  },
  {
   "cell_type": "code",
   "execution_count": 35,
   "id": "0923fb02",
   "metadata": {},
   "outputs": [
    {
     "data": {
      "text/plain": [
       "<sqlite3.Cursor at 0x7fb840eff9d0>"
      ]
     },
     "execution_count": 35,
     "metadata": {},
     "output_type": "execute_result"
    }
   ],
   "source": [
    "new_age = 25\n",
    "cur.execute(\"update Student set age = ? where id=107\",(new_age,))"
   ]
  },
  {
   "cell_type": "code",
   "execution_count": 36,
   "id": "95809d38",
   "metadata": {},
   "outputs": [],
   "source": [
    "db.commit()"
   ]
  },
  {
   "cell_type": "code",
   "execution_count": 14,
   "id": "bc46a2a9",
   "metadata": {},
   "outputs": [],
   "source": [
    "db.commit()"
   ]
  },
  {
   "cell_type": "code",
   "execution_count": 15,
   "id": "2abc9b66",
   "metadata": {},
   "outputs": [],
   "source": [
    "db.close()"
   ]
  },
  {
   "cell_type": "code",
   "execution_count": 37,
   "id": "208538c2",
   "metadata": {},
   "outputs": [
    {
     "data": {
      "text/plain": [
       "<sqlite3.Connection at 0x7fb840f568a0>"
      ]
     },
     "execution_count": 37,
     "metadata": {},
     "output_type": "execute_result"
    }
   ],
   "source": [
    "db = sqlite3.connect('Employee.sqlite')\n",
    "db"
   ]
  },
  {
   "cell_type": "code",
   "execution_count": 38,
   "id": "e3ad5e72",
   "metadata": {},
   "outputs": [],
   "source": [
    "cur = db.cursor()"
   ]
  },
  {
   "cell_type": "code",
   "execution_count": 20,
   "id": "51725fd7",
   "metadata": {},
   "outputs": [
    {
     "data": {
      "text/plain": [
       "<sqlite3.Cursor at 0x7fb840f42a40>"
      ]
     },
     "execution_count": 20,
     "metadata": {},
     "output_type": "execute_result"
    }
   ],
   "source": [
    "cur.execute(\"create table EmployeeDetail(employee_id int Primary Key, name text, age int, department text, salary int)\")"
   ]
  },
  {
   "cell_type": "code",
   "execution_count": 21,
   "id": "4620a8c7",
   "metadata": {},
   "outputs": [
    {
     "data": {
      "text/plain": [
       "<sqlite3.Cursor at 0x7fb840f42a40>"
      ]
     },
     "execution_count": 21,
     "metadata": {},
     "output_type": "execute_result"
    }
   ],
   "source": [
    "cur.execute(\"insert into EmployeeDetail values(100,'Rishav',25,'Marketing',50000)\")"
   ]
  },
  {
   "cell_type": "code",
   "execution_count": 22,
   "id": "dcbaf49c",
   "metadata": {},
   "outputs": [
    {
     "data": {
      "text/plain": [
       "<sqlite3.Cursor at 0x7fb840f42a40>"
      ]
     },
     "execution_count": 22,
     "metadata": {},
     "output_type": "execute_result"
    }
   ],
   "source": [
    "cur.execute(\"insert into EmployeeDetail values(101,'Abhishek',26,'Operations',60000)\")"
   ]
  },
  {
   "cell_type": "code",
   "execution_count": 23,
   "id": "2402b73d",
   "metadata": {},
   "outputs": [
    {
     "data": {
      "text/plain": [
       "<sqlite3.Cursor at 0x7fb840f42a40>"
      ]
     },
     "execution_count": 23,
     "metadata": {},
     "output_type": "execute_result"
    }
   ],
   "source": [
    "cur.execute(\"insert into EmployeeDetail values(102,'Aman',24,'Human Resource',75000)\")"
   ]
  },
  {
   "cell_type": "code",
   "execution_count": 39,
   "id": "84984680",
   "metadata": {},
   "outputs": [
    {
     "data": {
      "text/plain": [
       "<sqlite3.Cursor at 0x7fb84110a7a0>"
      ]
     },
     "execution_count": 39,
     "metadata": {},
     "output_type": "execute_result"
    }
   ],
   "source": [
    "cur.execute(\"delete from employeedetail where employee_id in(101,102)\")"
   ]
  },
  {
   "cell_type": "code",
   "execution_count": 42,
   "id": "93dd8a72",
   "metadata": {},
   "outputs": [],
   "source": [
    "employee_id=[101,102,103,104,105,106,107,108,109,110,111,112]\n",
    "name=['Aadarsh','Aarti','Siddharth','Aman','Amit','Shivansh','Vaibhav','Himanshu','Raman','Kunal','Adhira','Tanya']\n",
    "age=[25,27,25,24,30,26,23,26,25,26,29,24]\n",
    "department=['Marketing','Operations','Finance','Human Resource','Marketing','IT','Finance','IT','Operations','Marketing','Human Resource','Marketing']\n",
    "salary=[50000,60000,85000,75000,50000,90000,85000,90000,60000,50000,75000,50000]"
   ]
  },
  {
   "cell_type": "code",
   "execution_count": 43,
   "id": "e499d6fc",
   "metadata": {},
   "outputs": [
    {
     "data": {
      "text/plain": [
       "[(101, 'Aadarsh', 25, 'Marketing', 50000),\n",
       " (102, 'Aarti', 27, 'Operations', 60000),\n",
       " (103, 'Siddharth', 25, 'Finance', 85000),\n",
       " (104, 'Aman', 24, 'Human Resource', 75000),\n",
       " (105, 'Amit', 30, 'Marketing', 50000),\n",
       " (106, 'Shivansh', 26, 'IT', 90000),\n",
       " (107, 'Vaibhav', 23, 'Finance', 85000),\n",
       " (108, 'Himanshu', 26, 'IT', 90000),\n",
       " (109, 'Raman', 25, 'Operations', 60000),\n",
       " (110, 'Kunal', 26, 'Marketing', 50000),\n",
       " (111, 'Adhira', 29, 'Human Resource', 75000),\n",
       " (112, 'Tanya', 24, 'Marketing', 50000)]"
      ]
     },
     "execution_count": 43,
     "metadata": {},
     "output_type": "execute_result"
    }
   ],
   "source": [
    "list_tuple = []\n",
    "for i in range(len(employee_id)):\n",
    "    tuple1 = (employee_id[i],name[i],age[i],department[i],salary[i])\n",
    "    list_tuple.append(tuple1)\n",
    "list_tuple"
   ]
  },
  {
   "cell_type": "code",
   "execution_count": 44,
   "id": "6b028619",
   "metadata": {},
   "outputs": [
    {
     "data": {
      "text/plain": [
       "<sqlite3.Cursor at 0x7fb84110a7a0>"
      ]
     },
     "execution_count": 44,
     "metadata": {},
     "output_type": "execute_result"
    }
   ],
   "source": [
    "cur.executemany(\"insert into EmployeeDetail values(?,?,?,?,?)\",list_tuple)\n",
    "print(\"Done\")"
   ]
  },
  {
   "cell_type": "code",
   "execution_count": 49,
   "id": "08220ebe",
   "metadata": {},
   "outputs": [
    {
     "name": "stdout",
     "output_type": "stream",
     "text": [
      "(100, 'Rishav', 25, 'Marketing', 50000)\n",
      "(101, 'Aadarsh', 25, 'Marketing', 50000)\n"
     ]
    }
   ],
   "source": [
    "cur.execute(\"select * from EmployeeDetail\")\n",
    "print(cur.fetchone())\n",
    "print(cur.fetchone())"
   ]
  },
  {
   "cell_type": "code",
   "execution_count": 50,
   "id": "73e712df",
   "metadata": {},
   "outputs": [
    {
     "name": "stdout",
     "output_type": "stream",
     "text": [
      "[(100, 'Rishav', 25, 'Marketing', 50000), (101, 'Aadarsh', 25, 'Marketing', 50000), (102, 'Aarti', 27, 'Operations', 60000)]\n"
     ]
    }
   ],
   "source": [
    "cur.execute(\"select * from EmployeeDetail\")\n",
    "print(cur.fetchmany(3))"
   ]
  },
  {
   "cell_type": "code",
   "execution_count": 51,
   "id": "d7ffc77e",
   "metadata": {},
   "outputs": [
    {
     "name": "stdout",
     "output_type": "stream",
     "text": [
      "[(100, 'Rishav', 25, 'Marketing', 50000), (101, 'Aadarsh', 25, 'Marketing', 50000), (102, 'Aarti', 27, 'Operations', 60000), (103, 'Siddharth', 25, 'Finance', 85000), (104, 'Aman', 24, 'Human Resource', 75000), (105, 'Amit', 30, 'Marketing', 50000), (106, 'Shivansh', 26, 'IT', 90000), (107, 'Vaibhav', 23, 'Finance', 85000), (108, 'Himanshu', 26, 'IT', 90000), (109, 'Raman', 25, 'Operations', 60000), (110, 'Kunal', 26, 'Marketing', 50000), (111, 'Adhira', 29, 'Human Resource', 75000), (112, 'Tanya', 24, 'Marketing', 50000)]\n"
     ]
    }
   ],
   "source": [
    "cur.execute(\"select * from EmployeeDetail\")\n",
    "print(cur.fetchall())"
   ]
  },
  {
   "cell_type": "code",
   "execution_count": 72,
   "id": "d1708693",
   "metadata": {},
   "outputs": [
    {
     "data": {
      "text/plain": [
       "<sqlite3.Cursor at 0x7fb84110a7a0>"
      ]
     },
     "execution_count": 72,
     "metadata": {},
     "output_type": "execute_result"
    }
   ],
   "source": [
    "cur.execute(\"select department,count(department) from EmployeeDetail group by department\")"
   ]
  },
  {
   "cell_type": "code",
   "execution_count": 73,
   "id": "3c0f57f3",
   "metadata": {},
   "outputs": [
    {
     "name": "stdout",
     "output_type": "stream",
     "text": [
      "('Finance', 2)\n",
      "('Human Resource', 2)\n",
      "('IT', 2)\n",
      "('Marketing', 5)\n",
      "('Operations', 2)\n"
     ]
    }
   ],
   "source": [
    "for row in cur:\n",
    "    print(row)"
   ]
  },
  {
   "cell_type": "code",
   "execution_count": 74,
   "id": "d1fcbf95",
   "metadata": {},
   "outputs": [
    {
     "name": "stdout",
     "output_type": "stream",
     "text": [
      "Finance 2\n",
      "Human Resource 2\n",
      "IT 2\n",
      "Marketing 5\n",
      "Operations 2\n"
     ]
    }
   ],
   "source": [
    "l = [('Finance', 2),\n",
    "('Human Resource', 2),\n",
    "('IT', 2),\n",
    "('Marketing', 5),\n",
    "('Operations', 2)]\n",
    "for i in l:\n",
    "    print(i[0],end=' ')\n",
    "    print(i[1])"
   ]
  },
  {
   "cell_type": "code",
   "execution_count": 45,
   "id": "3c396c5a",
   "metadata": {},
   "outputs": [],
   "source": [
    "db.commit()"
   ]
  },
  {
   "cell_type": "code",
   "execution_count": null,
   "id": "69d956fc",
   "metadata": {},
   "outputs": [],
   "source": [
    "db.close()"
   ]
  }
 ],
 "metadata": {
  "kernelspec": {
   "display_name": "Python 3",
   "language": "python",
   "name": "python3"
  },
  "language_info": {
   "codemirror_mode": {
    "name": "ipython",
    "version": 3
   },
   "file_extension": ".py",
   "mimetype": "text/x-python",
   "name": "python",
   "nbconvert_exporter": "python",
   "pygments_lexer": "ipython3",
   "version": "3.8.8"
  }
 },
 "nbformat": 4,
 "nbformat_minor": 5
}
