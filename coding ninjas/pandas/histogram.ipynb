{
 "cells": [
  {
   "cell_type": "code",
   "execution_count": 8,
   "id": "55df8303",
   "metadata": {},
   "outputs": [],
   "source": [
    "import matplotlib.pyplot as plt\n",
    "import numpy as np"
   ]
  },
  {
   "cell_type": "code",
   "execution_count": 9,
   "id": "52614b3c",
   "metadata": {},
   "outputs": [
    {
     "data": {
      "text/plain": [
       "array([ 0,  1,  2,  3,  4,  5,  6,  7,  8,  9, 10, 11, 12, 13, 14, 15, 16,\n",
       "       17, 18, 19, 20, 21, 22])"
      ]
     },
     "execution_count": 9,
     "metadata": {},
     "output_type": "execute_result"
    }
   ],
   "source": [
    "xt = np.arange(23)\n",
    "xt"
   ]
  },
  {
   "cell_type": "code",
   "execution_count": 19,
   "id": "01a55528",
   "metadata": {},
   "outputs": [
    {
     "data": {
      "image/png": "[encoded data removed]",
      "text/plain": [
       "<Figure size 432x288 with 1 Axes>"
      ]
     },
     "metadata": {
      "needs_background": "light"
     },
     "output_type": "display_data"
    }
   ],
   "source": [
    "a = [1,2,3,4,5,2,1,30,20,25,4,5,2,4,5,6,7,73,2,1,3]\n",
    "plt.hist(a,bins=[1,2,4,6,8,10,20,20,75],edgecolor=\"black\")\n",
    "plt.xticks(a)\n",
    "plt.show()"
   ]
  },
  {
   "cell_type": "code",
   "execution_count": null,
   "id": "ae150792",
   "metadata": {},
   "outputs": [],
   "source": []
  },
  {
   "cell_type": "code",
   "execution_count": 22,
   "id": "95d7a134",
   "metadata": {},
   "outputs": [
    {
     "data": {
      "text/plain": [
       "array([20, 21, 22, 23, 24, 25, 26, 27, 28, 29])"
      ]
     },
     "execution_count": 22,
     "metadata": {},
     "output_type": "execute_result"
    }
   ],
   "source": [
    "xt1 = np.arange(20,30)\n",
    "xt1"
   ]
  },
  {
   "cell_type": "code",
   "execution_count": 31,
   "id": "a0059b1e",
   "metadata": {},
   "outputs": [
    {
     "data": {
      "image/png": "[encoded data removed]",
      "text/plain": [
       "<Figure size 432x288 with 1 Axes>"
      ]
     },
     "metadata": {
      "needs_background": "light"
     },
     "output_type": "display_data"
    },
    {
     "data": {
      "image/png": "[encoded data removed]",
      "text/plain": [
       "<Figure size 432x288 with 1 Axes>"
      ]
     },
     "metadata": {
      "needs_background": "light"
     },
     "output_type": "display_data"
    }
   ],
   "source": [
    "height=[189,185,195,149,189,147,154,174,169,195,159,192,155,191,153,157,140,144,172,157]\n",
    "## Weight\n",
    "weight=[87,110,104,61,104,92,111,90,103,81,80,101,51,79,107,110,129,145,139,110]\n",
    "\n",
    "xt1 = np.arange(min(height),max(height),4)\n",
    "\n",
    "plt.hist(height,bins=5,edgecolor=\"black\")\n",
    "plt.xticks(xt1)\n",
    "plt.show()\n",
    "plt.hist(weight,bins=5,edgecolor=\"black\")\n",
    "xt2 = np.arange(min(weight),max(weight),5)\n",
    "plt.xticks(xt2)\n",
    "plt.show()"
   ]
  }
 ],
 "metadata": {
  "kernelspec": {
   "display_name": "Python 3",
   "language": "python",
   "name": "python3"
  },
  "language_info": {
   "codemirror_mode": {
    "name": "ipython",
    "version": 3
   },
   "file_extension": ".py",
   "mimetype": "text/x-python",
   "name": "python",
   "nbconvert_exporter": "python",
   "pygments_lexer": "ipython3",
   "version": "3.8.8"
  }
 },
 "nbformat": 4,
 "nbformat_minor": 5
}
