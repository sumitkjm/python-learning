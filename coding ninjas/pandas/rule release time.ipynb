{
 "cells": [
  {
   "cell_type": "code",
   "execution_count": 95,
   "id": "e604a230",
   "metadata": {},
   "outputs": [
    {
     "name": "stdout",
     "output_type": "stream",
     "text": [
      "2021-08-11 00:00:00 174,30\n",
      "2021-08-12 00:00:00 112,29\n",
      "2021-08-15 00:00:00 110,35\n",
      "2021-08-17 00:00:00 158,24\n",
      "2021-08-19 00:00:00 117,27\n",
      "2021-08-22 00:00:00 105,26\n",
      "2021-08-24 00:00:00 95,31\n",
      "2021-08-26 00:00:00 135,34\n",
      "2021-08-29 00:00:00 112,33\n",
      "2021-08-31 00:00:00 157,32\n",
      "2021-09-02 00:00:00 143,34\n",
      "2021-09-06 00:00:00 175,28\n",
      "2021-09-07 00:00:00 209,27\n",
      "2021-09-09 00:00:00 182,29\n",
      "2021-09-12 00:00:00 87,24\n",
      "2021-09-14 00:00:00 137,29\n",
      "2021-09-16 00:00:00 131,28\n",
      "2021-09-21 00:00:00 146,34\n",
      "2021-09-23 00:00:00 145,34\n",
      "2021-09-28 00:00:00 129,32\n",
      "2021-09-30 00:00:00 122,30\n",
      "2021-10-05 00:00:00 140,32\n",
      "Average Total Time of Schedule Rule Release 137.3181818181818\n",
      "Average no of RuleApps participating 30.09090909090909\n"
     ]
    },
    {
     "data": {
      "image/png": "[encoded data removed]",
      "text/plain": [
       "<Figure size 432x288 with 1 Axes>"
      ]
     },
     "metadata": {
      "needs_background": "light"
     },
     "output_type": "display_data"
    }
   ],
   "source": [
    "import pandas as pd\n",
    "import os\n",
    "import matplotlib.pyplot as plt\n",
    "from datetime import datetime\n",
    "release_time = []\n",
    "dates = []\n",
    "ruleapps_count = []\n",
    "d = {}\n",
    "for f in os.listdir(\"/Users/skumar6/git/rr_data/batch-rule-release-stats/csv\"):\n",
    "    df = pd.read_csv(\"/Users/skumar6/git/rr_data/batch-rule-release-stats/csv/\"+f)\n",
    "    isScheduleRR = df.isScheduledRuleRelease\n",
    "    if 'True' in str(isScheduleRR):\n",
    "        tt_time = int(str(df.timeTakenInSeconds).split()[1].strip())\n",
    "        baseline = str(df.baseline).split()\n",
    "        date = datetime.strptime(baseline[1].split(\"_\")[0],'%Y%m%d')\n",
    "        no_ruleapps = len(df.changedRuleApps.values[0].split())\n",
    "#         date = baseline[1].split(\"_\")[0][4:]\n",
    "        d[date] = str(tt_time//60 - 30) + \",\" + str(no_ruleapps)\n",
    "#         print(date)\n",
    "d_v_sorted = {k: v for k, v in sorted(d.items(), key=lambda item: item[1],reverse=True)}\n",
    "for i in sorted(d.keys()):\n",
    "    dates.append(i)\n",
    "    release_time.append(int(d[i].split(\",\")[0]))\n",
    "    ruleapps_count.append(int(d[i].split(\",\")[1]))\n",
    "    print(i,end=' ')\n",
    "    print(d[i])\n",
    "print(\"Average Total Time of Schedule Rule Release\",end=' ')\n",
    "print((sum(release_time)/len(release_time)))\n",
    "print(\"Average no of RuleApps participating\",end=' ')\n",
    "print((sum(ruleapps_count)/len(ruleapps_count)))\n",
    "# print(df.columns.values)\n",
    "plt.bar(dates,release_time,width=0.6)\n",
    "plt.xticks(rotation=40)\n",
    "plt.show()"
   ]
  },
  {
   "cell_type": "code",
   "execution_count": null,
   "id": "58ac3f91",
   "metadata": {},
   "outputs": [],
   "source": [
    "baseline' 'changedRuleApps' 'childJobs' 'endTime' 'exceptions'\n",
    " 'failedRuleApps' 'id' 'isScheduledRuleRelease' 'jobExecutionId'\n",
    " 'jobParams' 'name' 'ruleAppInfoMap' 'startTime' 'status' 'stepDetails'\n",
    " 'submittedRuleApps' 'succeededRuleApps' 'timeTakenInSeconds'"
   ]
  },
  {
   "cell_type": "code",
   "execution_count": 90,
   "id": "86bfc1eb",
   "metadata": {},
   "outputs": [
    {
     "name": "stdout",
     "output_type": "stream",
     "text": [
      "32\n"
     ]
    }
   ],
   "source": [
    "df1 = pd.read_csv(\"/Users/skumar6/git/rr_data/batch-rule-release-stats/csv/jobExecution_consolidated_95069.csv\")\n",
    "print(len(df1.changedRuleApps.values[0].split()))"
   ]
  }
 ],
 "metadata": {
  "kernelspec": {
   "display_name": "Python 3",
   "language": "python",
   "name": "python3"
  },
  "language_info": {
   "codemirror_mode": {
    "name": "ipython",
    "version": 3
   },
   "file_extension": ".py",
   "mimetype": "text/x-python",
   "name": "python",
   "nbconvert_exporter": "python",
   "pygments_lexer": "ipython3",
   "version": "3.8.8"
  }
 },
 "nbformat": 4,
 "nbformat_minor": 5
}
