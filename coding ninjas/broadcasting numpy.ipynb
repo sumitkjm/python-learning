{
 "cells": [
  {
   "cell_type": "code",
   "execution_count": 1,
   "id": "9bb114d4",
   "metadata": {},
   "outputs": [
    {
     "name": "stdout",
     "output_type": "stream",
     "text": [
      "[[1 1 5]\n",
      " [9 1 7]\n",
      " [6 4 5]]\n",
      "[[6 1 8]\n",
      " [1 6 4]\n",
      " [8 9 7]]\n"
     ]
    }
   ],
   "source": [
    "import numpy as np\n",
    "\n",
    "x = np.random.randint(1,10,(3,3))\n",
    "y = np.random.randint(1,10,(3,3))\n",
    "print(x)\n",
    "print(y)"
   ]
  },
  {
   "cell_type": "code",
   "execution_count": 3,
   "id": "4eb2e154",
   "metadata": {},
   "outputs": [
    {
     "name": "stdout",
     "output_type": "stream",
     "text": [
      "[[-5  0 -3]\n",
      " [ 8 -5  3]\n",
      " [-2 -5 -2]]\n"
     ]
    }
   ],
   "source": [
    "ans = x - y\n",
    "print(ans)"
   ]
  },
  {
   "cell_type": "code",
   "execution_count": 6,
   "id": "7a3c0784",
   "metadata": {},
   "outputs": [
    {
     "name": "stdout",
     "output_type": "stream",
     "text": [
      "[[9 6 1]\n",
      " [5 7 6]\n",
      " [3 6 4]]\n",
      "[3 5 5]\n"
     ]
    }
   ],
   "source": [
    "x = np.random.randint(1,10,(3,3))\n",
    "y = np.random.randint(1,10,3)\n",
    "print(x)\n",
    "print(y)"
   ]
  },
  {
   "cell_type": "code",
   "execution_count": 7,
   "id": "86723bdc",
   "metadata": {},
   "outputs": [
    {
     "name": "stdout",
     "output_type": "stream",
     "text": [
      "[[ 6  1 -4]\n",
      " [ 2  2  1]\n",
      " [ 0  1 -1]]\n"
     ]
    }
   ],
   "source": [
    "ans = x - y\n",
    "print(ans) # 1st row is auto replicated to all remaning rows"
   ]
  },
  {
   "cell_type": "code",
   "execution_count": 8,
   "id": "49f1e7ce",
   "metadata": {},
   "outputs": [
    {
     "name": "stdout",
     "output_type": "stream",
     "text": [
      "[[-6 -1  4]\n",
      " [-2 -2 -1]\n",
      " [ 0 -1  1]]\n"
     ]
    }
   ],
   "source": [
    "ans = y - x\n",
    "print(ans)"
   ]
  },
  {
   "cell_type": "code",
   "execution_count": 9,
   "id": "911410e4",
   "metadata": {},
   "outputs": [
    {
     "name": "stdout",
     "output_type": "stream",
     "text": [
      "[[1 6]\n",
      " [2 9]\n",
      " [4 2]]\n",
      "[[9 7 1]\n",
      " [7 6 1]]\n"
     ]
    }
   ],
   "source": [
    "x = np.random.randint(1,10,(3,2))\n",
    "y = np.random.randint(1,10,(2,3))\n",
    "print(x)\n",
    "print(y)"
   ]
  },
  {
   "cell_type": "code",
   "execution_count": 11,
   "id": "2654c2c7",
   "metadata": {},
   "outputs": [
    {
     "name": "stdout",
     "output_type": "stream",
     "text": [
      "[[ 8  1]\n",
      " [ 5 -3]\n",
      " [-3 -1]]\n"
     ]
    }
   ],
   "source": [
    "y = np.transpose(y)\n",
    "ans = y - x\n",
    "print(ans)"
   ]
  },
  {
   "cell_type": "code",
   "execution_count": 19,
   "id": "be5a7fd2",
   "metadata": {},
   "outputs": [
    {
     "name": "stdout",
     "output_type": "stream",
     "text": [
      "[[3 7 6 1]\n",
      " [8 1 8 9]\n",
      " [8 3 1 3]\n",
      " [4 5 6 5]\n",
      " [4 1 6 4]\n",
      " [3 2 8 3]\n",
      " [6 7 3 5]]\n",
      "[1 7 2 9 8 3 3 2 2 5]\n"
     ]
    }
   ],
   "source": [
    "x = np.random.randint(1,10,(7,4))\n",
    "y = np.random.randint(1,10,10)\n",
    "print(x)\n",
    "print(y)"
   ]
  },
  {
   "cell_type": "code",
   "execution_count": 24,
   "id": "95bc0b21",
   "metadata": {},
   "outputs": [
    {
     "name": "stdout",
     "output_type": "stream",
     "text": [
      "[[1 7 2 9 8]\n",
      " [3 3 2 2 5]]\n",
      "[1 7 2 9 8 3 3 2 2 5]\n"
     ]
    }
   ],
   "source": [
    "z = y.reshape(2,5)\n",
    "print(z)\n",
    "print(y)"
   ]
  },
  {
   "cell_type": "code",
   "execution_count": 29,
   "id": "32c16bfe",
   "metadata": {},
   "outputs": [
    {
     "name": "stdout",
     "output_type": "stream",
     "text": [
      "[[1 7 2 9 8]\n",
      " [3 3 2 2 5]]\n"
     ]
    }
   ],
   "source": [
    "y.resize(2,5)\n",
    "print(y)"
   ]
  }
 ],
 "metadata": {
  "kernelspec": {
   "display_name": "Python 3",
   "language": "python",
   "name": "python3"
  },
  "language_info": {
   "codemirror_mode": {
    "name": "ipython",
    "version": 3
   },
   "file_extension": ".py",
   "mimetype": "text/x-python",
   "name": "python",
   "nbconvert_exporter": "python",
   "pygments_lexer": "ipython3",
   "version": "3.8.8"
  }
 },
 "nbformat": 4,
 "nbformat_minor": 5
}
