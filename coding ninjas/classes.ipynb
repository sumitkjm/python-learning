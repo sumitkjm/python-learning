{
 "cells": [
  {
   "cell_type": "code",
   "execution_count": 30,
   "id": "30e8c9c0",
   "metadata": {},
   "outputs": [],
   "source": [
    "class Student:\n",
    "    lovesReadingBooks = True"
   ]
  },
  {
   "cell_type": "code",
   "execution_count": 31,
   "id": "02a53754",
   "metadata": {},
   "outputs": [],
   "source": [
    "s1 = Student()\n",
    "s2 = Student()\n",
    "s3 = Student()\n"
   ]
  },
  {
   "cell_type": "code",
   "execution_count": 32,
   "id": "be1f8c61",
   "metadata": {},
   "outputs": [],
   "source": [
    "s1.name = \"Darsh\"\n",
    "s1.age = 7\n",
    "s1.isNaughty = True\n",
    "s2.name = \"Manasvi\"\n",
    "s2.age = 12\n",
    "s2.isBookWorm = True"
   ]
  },
  {
   "cell_type": "code",
   "execution_count": 35,
   "id": "ac63f571",
   "metadata": {},
   "outputs": [
    {
     "name": "stdout",
     "output_type": "stream",
     "text": [
      "{'name': 'Darsh', 'age': 7, 'isNaughty': True}\n",
      "{'name': 'Manasvi', 'age': 12, 'isBookWorm': True}\n"
     ]
    }
   ],
   "source": [
    "print(s1.__dict__)\n",
    "print(s2.__dict__)"
   ]
  },
  {
   "cell_type": "code",
   "execution_count": 21,
   "id": "6998e8db",
   "metadata": {},
   "outputs": [
    {
     "name": "stdout",
     "output_type": "stream",
     "text": [
      "True\n",
      "False\n"
     ]
    }
   ],
   "source": [
    "print(hasattr(s1,\"isNaughty\"))\n",
    "print(hasattr(s2,\"isNaughty\"))"
   ]
  },
  {
   "cell_type": "code",
   "execution_count": 28,
   "id": "891e4e49",
   "metadata": {},
   "outputs": [
    {
     "name": "stdout",
     "output_type": "stream",
     "text": [
      "True\n",
      "True\n",
      "False\n"
     ]
    }
   ],
   "source": [
    "print(getattr(s1,\"isNaughty\"))\n",
    "print(getattr(s2,\"isBookWorm\"))\n",
    "print(getattr(s2,\"isNaughty\",False))"
   ]
  },
  {
   "cell_type": "code",
   "execution_count": 36,
   "id": "6a8f4474",
   "metadata": {},
   "outputs": [
    {
     "name": "stdout",
     "output_type": "stream",
     "text": [
      "{'__module__': '__main__', 'lovesReadingBooks': True, '__dict__': <attribute '__dict__' of 'Student' objects>, '__weakref__': <attribute '__weakref__' of 'Student' objects>, '__doc__': None}\n"
     ]
    }
   ],
   "source": [
    "print(Student.__dict__)"
   ]
  }
 ],
 "metadata": {
  "kernelspec": {
   "display_name": "Python 3",
   "language": "python",
   "name": "python3"
  },
  "language_info": {
   "codemirror_mode": {
    "name": "ipython",
    "version": 3
   },
   "file_extension": ".py",
   "mimetype": "text/x-python",
   "name": "python",
   "nbconvert_exporter": "python",
   "pygments_lexer": "ipython3",
   "version": "3.8.8"
  }
 },
 "nbformat": 4,
 "nbformat_minor": 5
}
