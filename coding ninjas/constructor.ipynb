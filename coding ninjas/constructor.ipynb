{
 "cells": [
  {
   "cell_type": "code",
   "execution_count": 20,
   "id": "e7844ee3",
   "metadata": {},
   "outputs": [],
   "source": [
    "class Student:\n",
    "    totalStudents = 50\n",
    "    classTeacherName = \"Pramod Maheshwari\"\n",
    "    \n",
    "    def __init__(self,name,age,rn):\n",
    "        print(\"constructor is called\")\n",
    "        self.name = name\n",
    "        self.__age = age\n",
    "        self.rollnumber = rn\n",
    "    \n",
    "    # __ is used to make a method as private\n",
    "    def __print(self,str):\n",
    "        print(str)\n",
    "    # _ is used to make a method as protected\n",
    "    def _printName(self,name):\n",
    "        print(name)\n",
    "    \n"
   ]
  },
  {
   "cell_type": "code",
   "execution_count": 3,
   "id": "ac8e1cfb",
   "metadata": {},
   "outputs": [
    {
     "name": "stdout",
     "output_type": "stream",
     "text": [
      "{'name': 'Manasvi', 'age': 12, 'rollnumber': 20}\n",
      "{'name': 'Manasvi', 'age': 12, 'rollnumber': 20}\n"
     ]
    }
   ],
   "source": [
    "print(s1.__dict__)\n",
    "print(s2.__dict__)"
   ]
  },
  {
   "cell_type": "code",
   "execution_count": 21,
   "id": "983d336b",
   "metadata": {},
   "outputs": [
    {
     "name": "stdout",
     "output_type": "stream",
     "text": [
      "constructor is called\n",
      "constructor is called\n"
     ]
    }
   ],
   "source": [
    "s3 = Student('Darsh',7,21)\n",
    "s4 = Student('Manasvi',12,20)"
   ]
  },
  {
   "cell_type": "code",
   "execution_count": 12,
   "id": "ee3c5960",
   "metadata": {},
   "outputs": [
    {
     "name": "stdout",
     "output_type": "stream",
     "text": [
      "{'name': 'Darsh', 'age': 7, 'rollnumber': 21}\n",
      "{'name': 'Manasvi', 'age': 12, 'rollnumber': 20}\n"
     ]
    }
   ],
   "source": [
    "print(s3.__dict__)\n",
    "print(s4.__dict__)"
   ]
  },
  {
   "cell_type": "code",
   "execution_count": 13,
   "id": "bee08ba8",
   "metadata": {},
   "outputs": [
    {
     "ename": "AttributeError",
     "evalue": "'Student' object has no attribute '__print'",
     "output_type": "error",
     "traceback": [
      "\u001b[0;31m---------------------------------------------------------------------------\u001b[0m",
      "\u001b[0;31mAttributeError\u001b[0m                            Traceback (most recent call last)",
      "\u001b[0;32m<ipython-input-13-cfd4a40fadda>\u001b[0m in \u001b[0;36m<module>\u001b[0;34m\u001b[0m\n\u001b[0;32m----> 1\u001b[0;31m \u001b[0mprint\u001b[0m\u001b[0;34m(\u001b[0m\u001b[0ms3\u001b[0m\u001b[0;34m.\u001b[0m\u001b[0m__print\u001b[0m\u001b[0;34m(\u001b[0m\u001b[0;34m\"Test\"\u001b[0m\u001b[0;34m)\u001b[0m\u001b[0;34m)\u001b[0m\u001b[0;34m\u001b[0m\u001b[0;34m\u001b[0m\u001b[0m\n\u001b[0m",
      "\u001b[0;31mAttributeError\u001b[0m: 'Student' object has no attribute '__print'"
     ]
    }
   ],
   "source": [
    "print(s3.__print(\"Test\"))"
   ]
  },
  {
   "cell_type": "code",
   "execution_count": 19,
   "id": "ae779711",
   "metadata": {},
   "outputs": [
    {
     "name": "stdout",
     "output_type": "stream",
     "text": [
      "test\n"
     ]
    }
   ],
   "source": [
    "s3._printName(\"test\")"
   ]
  },
  {
   "cell_type": "code",
   "execution_count": 23,
   "id": "bb91fdd9",
   "metadata": {},
   "outputs": [
    {
     "name": "stdout",
     "output_type": "stream",
     "text": [
      "Darsh\n"
     ]
    }
   ],
   "source": [
    "print(s3.name)"
   ]
  },
  {
   "cell_type": "code",
   "execution_count": 24,
   "id": "9023ba98",
   "metadata": {},
   "outputs": [],
   "source": [
    "s3.__age = 4 # private properties also can be access outside"
   ]
  },
  {
   "cell_type": "code",
   "execution_count": 25,
   "id": "ebdc8e34",
   "metadata": {},
   "outputs": [
    {
     "name": "stdout",
     "output_type": "stream",
     "text": [
      "4\n"
     ]
    }
   ],
   "source": [
    "print(s3.__age)"
   ]
  },
  {
   "cell_type": "code",
   "execution_count": 32,
   "id": "44491a15",
   "metadata": {},
   "outputs": [
    {
     "name": "stdout",
     "output_type": "stream",
     "text": [
      "Rohan 20\n",
      "None\n"
     ]
    },
    {
     "ename": "AttributeError",
     "evalue": "'Student1' object has no attribute 'name'",
     "output_type": "error",
     "traceback": [
      "\u001b[0;31m---------------------------------------------------------------------------\u001b[0m",
      "\u001b[0;31mAttributeError\u001b[0m                            Traceback (most recent call last)",
      "\u001b[0;32m<ipython-input-32-ee088e4c7e92>\u001b[0m in \u001b[0;36m<module>\u001b[0;34m\u001b[0m\n\u001b[1;32m      9\u001b[0m \u001b[0ms\u001b[0m \u001b[0;34m=\u001b[0m \u001b[0mStudent1\u001b[0m\u001b[0;34m(\u001b[0m\u001b[0;34m\"Rohan\"\u001b[0m\u001b[0;34m,\u001b[0m\u001b[0;36m20\u001b[0m\u001b[0;34m)\u001b[0m\u001b[0;34m\u001b[0m\u001b[0;34m\u001b[0m\u001b[0m\n\u001b[1;32m     10\u001b[0m \u001b[0mprint\u001b[0m\u001b[0;34m(\u001b[0m\u001b[0ms\u001b[0m\u001b[0;34m.\u001b[0m\u001b[0mprint_student_details\u001b[0m\u001b[0;34m(\u001b[0m\u001b[0;34m)\u001b[0m\u001b[0;34m)\u001b[0m\u001b[0;34m\u001b[0m\u001b[0;34m\u001b[0m\u001b[0m\n\u001b[0;32m---> 11\u001b[0;31m \u001b[0mprint\u001b[0m\u001b[0;34m(\u001b[0m\u001b[0ms\u001b[0m\u001b[0;34m.\u001b[0m\u001b[0mname\u001b[0m\u001b[0;34m)\u001b[0m\u001b[0;34m\u001b[0m\u001b[0;34m\u001b[0m\u001b[0m\n\u001b[0m",
      "\u001b[0;31mAttributeError\u001b[0m: 'Student1' object has no attribute 'name'"
     ]
    }
   ],
   "source": [
    "class Student1:\n",
    "    def __init__(self,name,age):\n",
    "        self.__name = name\n",
    "        self.age = age\n",
    "    def print_student_details(self):\n",
    "        print(self.__name, end= \" \")\n",
    "        print(self.age)\n",
    "\n",
    "s = Student1(\"Rohan\",20)\n",
    "print(s.print_student_details())\n",
    "print(s.name)"
   ]
  },
  {
   "cell_type": "code",
   "execution_count": 42,
   "id": "0218af51",
   "metadata": {},
   "outputs": [],
   "source": [
    "class Student2:\n",
    "    \n",
    "    #class vars are static vars\n",
    "    __totalStudents = 50\n",
    "    \n",
    "    \n",
    "    # Static method\n",
    "    @classmethod\n",
    "    def getTotalStudents(cls):\n",
    "        return Student2.__totalStudents\n",
    "    \n",
    "    def __init__(self,name,age):\n",
    "        self.__name = name\n",
    "        self.age = age\n",
    "    \n",
    "    def print_student_details(self):\n",
    "        print(self.__name, end= \" \")\n",
    "        print(self.age)\n",
    "        \n",
    "    @staticmethod\n",
    "    def isTeen(age):\n",
    "        return age>16\n",
    "\n",
    "s = Student2(\"Rohan\",20)"
   ]
  },
  {
   "cell_type": "code",
   "execution_count": 43,
   "id": "713a1a78",
   "metadata": {},
   "outputs": [
    {
     "data": {
      "text/plain": [
       "True"
      ]
     },
     "execution_count": 43,
     "metadata": {},
     "output_type": "execute_result"
    }
   ],
   "source": [
    "Student2.getTotalStudents()\n",
    "Student2.isTeen(18)"
   ]
  }
 ],
 "metadata": {
  "kernelspec": {
   "display_name": "Python 3",
   "language": "python",
   "name": "python3"
  },
  "language_info": {
   "codemirror_mode": {
    "name": "ipython",
    "version": 3
   },
   "file_extension": ".py",
   "mimetype": "text/x-python",
   "name": "python",
   "nbconvert_exporter": "python",
   "pygments_lexer": "ipython3",
   "version": "3.8.8"
  }
 },
 "nbformat": 4,
 "nbformat_minor": 5
}
