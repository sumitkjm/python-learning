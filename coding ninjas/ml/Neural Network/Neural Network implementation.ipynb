{
 "cells": [
  {
   "cell_type": "code",
   "execution_count": 20,
   "id": "ca126e1e",
   "metadata": {},
   "outputs": [],
   "source": [
    "import numpy as np"
   ]
  },
  {
   "cell_type": "code",
   "execution_count": 21,
   "id": "668396b3",
   "metadata": {},
   "outputs": [],
   "source": [
    "X = np.array([[0,0],[0,1],[1,0],[1,1]])\n",
    "Y = np.array([[0,0,0,1]]).T"
   ]
  },
  {
   "cell_type": "code",
   "execution_count": 15,
   "id": "f5a397df",
   "metadata": {},
   "outputs": [
    {
     "data": {
      "text/plain": [
       "((4, 2), (4, 1))"
      ]
     },
     "execution_count": 15,
     "metadata": {},
     "output_type": "execute_result"
    }
   ],
   "source": [
    "X.shape,Y.shape"
   ]
  },
  {
   "cell_type": "code",
   "execution_count": 22,
   "id": "680df204",
   "metadata": {},
   "outputs": [],
   "source": [
    "def sig(z):\n",
    "    return 1/(1+np.exp(-z))"
   ]
  },
  {
   "cell_type": "code",
   "execution_count": 23,
   "id": "ca497441",
   "metadata": {},
   "outputs": [],
   "source": [
    "def derivativeSig(z):\n",
    "    return sig(z) * (1-sig(z))"
   ]
  },
  {
   "cell_type": "code",
   "execution_count": 24,
   "id": "9bd73e33",
   "metadata": {},
   "outputs": [
    {
     "data": {
      "text/plain": [
       "(array([[ 0.73766318],\n",
       "        [-0.02697928]]),\n",
       " array([-0.07792327]))"
      ]
     },
     "execution_count": 24,
     "metadata": {},
     "output_type": "execute_result"
    }
   ],
   "source": [
    "# no hidden layer weights\n",
    "weights = 2*np.random.random((2,1)) - 1\n",
    "bias = 2 * np.random.random(1) - 1\n",
    "lr = 0.1\n",
    "weights,bias"
   ]
  },
  {
   "cell_type": "code",
   "execution_count": 25,
   "id": "3e0337c0",
   "metadata": {},
   "outputs": [
    {
     "name": "stdout",
     "output_type": "stream",
     "text": [
      "[[2.64909388]\n",
      " [2.64701149]]\n",
      "[-4.09701402]\n",
      "[[0.01635045]\n",
      " [0.19000118]\n",
      " [0.19032187]\n",
      " [0.7683631 ]]\n"
     ]
    }
   ],
   "source": [
    "# forward propagation without any hidden layer\n",
    "for iter in range(1000):\n",
    "    output0 = X\n",
    "    output = sig(np.dot(output0,weights)+bias)\n",
    "    first_term = output - Y\n",
    "    input_for_last_layer = np.dot(output0,weights)+bias\n",
    "    second_term = derivativeSig(input_for_last_layer)\n",
    "    first_two = first_term * second_term\n",
    "\n",
    "#     changes = np.array([[0.0],[0.0]])\n",
    "#     for i in range(2):\n",
    "#         for j in range(4):\n",
    "#             changes[i][0] += first_two[j][0] * output0[j][i]\n",
    "    changes = np.dot(output0.T,first_two)\n",
    "    weights = weights - lr * changes\n",
    "#     bias_change = 0.0\n",
    "#     for j in range(4):\n",
    "#         bias_change += first_two[j][0] * 1\n",
    "    bias_change = np.sum(first_two)\n",
    "    bias = bias - lr * bias_change\n",
    "output = sig(np.dot(X,weights)+bias)\n",
    "print(weights)\n",
    "print(bias)\n",
    "print(output)"
   ]
  },
  {
   "cell_type": "code",
   "execution_count": null,
   "id": "4d3879aa",
   "metadata": {},
   "outputs": [],
   "source": []
  },
  {
   "cell_type": "markdown",
   "id": "2aa3d370",
   "metadata": {},
   "source": [
    "# with hidden layer"
   ]
  },
  {
   "cell_type": "code",
   "execution_count": 26,
   "id": "762e9f6d",
   "metadata": {},
   "outputs": [],
   "source": [
    "wh = 2 * np.random.random((2,2)) - 1\n",
    "bh = 2 * np.random.random((1,2)) - 1\n",
    "wo = 2 * np.random.random((2,1)) - 1\n",
    "bo = 2 * np.random.random((1,1)) - 1"
   ]
  },
  {
   "cell_type": "code",
   "execution_count": 27,
   "id": "b1699273",
   "metadata": {},
   "outputs": [
    {
     "data": {
      "text/plain": [
       "array([[0.46858257],\n",
       "       [0.43056365],\n",
       "       [0.48586735],\n",
       "       [0.44980695]])"
      ]
     },
     "execution_count": 27,
     "metadata": {},
     "output_type": "execute_result"
    }
   ],
   "source": [
    "output0 = X\n",
    "outputHidden = sig(np.dot(output0,wh)+bh)\n",
    "output = sig(np.dot(outputHidden,wo)+bo)\n",
    "output"
   ]
  },
  {
   "cell_type": "code",
   "execution_count": null,
   "id": "b13b4da8",
   "metadata": {},
   "outputs": [],
   "source": []
  }
 ],
 "metadata": {
  "kernelspec": {
   "display_name": "Python 3 (ipykernel)",
   "language": "python",
   "name": "python3"
  },
  "language_info": {
   "codemirror_mode": {
    "name": "ipython",
    "version": 3
   },
   "file_extension": ".py",
   "mimetype": "text/x-python",
   "name": "python",
   "nbconvert_exporter": "python",
   "pygments_lexer": "ipython3",
   "version": "3.10.4"
  }
 },
 "nbformat": 4,
 "nbformat_minor": 5
}
