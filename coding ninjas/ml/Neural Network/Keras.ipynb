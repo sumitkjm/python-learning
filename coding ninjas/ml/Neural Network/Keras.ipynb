{
 "cells": [
  {
   "cell_type": "code",
   "execution_count": 7,
   "id": "87763966",
   "metadata": {},
   "outputs": [],
   "source": [
    "from keras.models import Sequential\n",
    "from keras.layers import Dense"
   ]
  },
  {
   "cell_type": "code",
   "execution_count": 2,
   "id": "1bf50954",
   "metadata": {},
   "outputs": [],
   "source": [
    "model = Sequential()"
   ]
  },
  {
   "cell_type": "code",
   "execution_count": 3,
   "id": "5f7cb151",
   "metadata": {},
   "outputs": [],
   "source": [
    "layer1 = Dense(units=32,activation='relu',input_dim=(30))\n",
    "model.add(layer1)\n",
    "model.add(Dense(units=16,activation='relu'))\n",
    "model.add(Dense(units=1,activation='sigmoid'))"
   ]
  },
  {
   "cell_type": "code",
   "execution_count": 4,
   "id": "b74e1006",
   "metadata": {},
   "outputs": [],
   "source": [
    "model.compile(optimizer='adam',loss='binary_crossentropy',metrics=['accuracy'])"
   ]
  },
  {
   "cell_type": "code",
   "execution_count": 5,
   "id": "de3d8762",
   "metadata": {},
   "outputs": [],
   "source": [
    "from sklearn import datasets\n",
    "from sklearn.model_selection import train_test_split\n",
    "cancer = datasets.load_breast_cancer()\n",
    "x_train,x_test,y_train,y_test = train_test_split(cancer.data,cancer.target,test_size=0.2,random_state=0)"
   ]
  },
  {
   "cell_type": "code",
   "execution_count": 6,
   "id": "7bacf542",
   "metadata": {},
   "outputs": [],
   "source": [
    "from sklearn.preprocessing import StandardScaler\n",
    "sc = StandardScaler()\n",
    "x_train = sc.fit_transform(x_train)\n",
    "x_test = sc.transform(x_test)"
   ]
  },
  {
   "cell_type": "code",
   "execution_count": 7,
   "id": "7eb34084",
   "metadata": {},
   "outputs": [
    {
     "data": {
      "text/plain": [
       "((455, 30), (114, 30))"
      ]
     },
     "execution_count": 7,
     "metadata": {},
     "output_type": "execute_result"
    }
   ],
   "source": [
    "x_train.shape,x_test.shape"
   ]
  },
  {
   "cell_type": "code",
   "execution_count": 8,
   "id": "0714dba7",
   "metadata": {},
   "outputs": [
    {
     "name": "stdout",
     "output_type": "stream",
     "text": [
      "Epoch 1/10\n",
      "46/46 [==============================] - 1s 4ms/step - loss: 0.5223 - accuracy: 0.7670 - val_loss: 0.3003 - val_accuracy: 0.9298\n",
      "Epoch 2/10\n",
      "46/46 [==============================] - 0s 2ms/step - loss: 0.2166 - accuracy: 0.9495 - val_loss: 0.1894 - val_accuracy: 0.9298\n",
      "Epoch 3/10\n",
      "46/46 [==============================] - 0s 1ms/step - loss: 0.1420 - accuracy: 0.9626 - val_loss: 0.1493 - val_accuracy: 0.9649\n",
      "Epoch 4/10\n",
      "46/46 [==============================] - 0s 1ms/step - loss: 0.1088 - accuracy: 0.9714 - val_loss: 0.1249 - val_accuracy: 0.9649\n",
      "Epoch 5/10\n",
      "46/46 [==============================] - 0s 1ms/step - loss: 0.0906 - accuracy: 0.9780 - val_loss: 0.1106 - val_accuracy: 0.9649\n",
      "Epoch 6/10\n",
      "46/46 [==============================] - 0s 1ms/step - loss: 0.0803 - accuracy: 0.9780 - val_loss: 0.1019 - val_accuracy: 0.9649\n",
      "Epoch 7/10\n",
      "46/46 [==============================] - 0s 2ms/step - loss: 0.0725 - accuracy: 0.9824 - val_loss: 0.0953 - val_accuracy: 0.9649\n",
      "Epoch 8/10\n",
      "46/46 [==============================] - 0s 2ms/step - loss: 0.0659 - accuracy: 0.9846 - val_loss: 0.0918 - val_accuracy: 0.9649\n",
      "Epoch 9/10\n",
      "46/46 [==============================] - 0s 2ms/step - loss: 0.0610 - accuracy: 0.9846 - val_loss: 0.0878 - val_accuracy: 0.9649\n",
      "Epoch 10/10\n",
      "46/46 [==============================] - 0s 2ms/step - loss: 0.0567 - accuracy: 0.9846 - val_loss: 0.0836 - val_accuracy: 0.9649\n"
     ]
    },
    {
     "data": {
      "text/plain": [
       "<keras.callbacks.History at 0x7fdd14303f70>"
      ]
     },
     "execution_count": 8,
     "metadata": {},
     "output_type": "execute_result"
    }
   ],
   "source": [
    "model.fit(x_train,y_train,epochs=10,batch_size=10,validation_data=(x_test,y_test))"
   ]
  },
  {
   "cell_type": "code",
   "execution_count": 9,
   "id": "1e9b1f52",
   "metadata": {},
   "outputs": [],
   "source": [
    "model.compile(optimizer='adam',loss='categorical_crossentropy',metrics=['accuracy'])"
   ]
  },
  {
   "cell_type": "code",
   "execution_count": 10,
   "id": "49903872",
   "metadata": {},
   "outputs": [
    {
     "name": "stdout",
     "output_type": "stream",
     "text": [
      "Epoch 1/10\n",
      "1/1 [==============================] - 0s 285ms/step - loss: 0.0000e+00 - accuracy: 0.9846\n",
      "Epoch 2/10\n",
      "1/1 [==============================] - 0s 4ms/step - loss: 0.0000e+00 - accuracy: 0.9846\n",
      "Epoch 3/10\n",
      "1/1 [==============================] - 0s 3ms/step - loss: 0.0000e+00 - accuracy: 0.9846\n",
      "Epoch 4/10\n",
      "1/1 [==============================] - 0s 3ms/step - loss: 0.0000e+00 - accuracy: 0.9846\n",
      "Epoch 5/10\n",
      "1/1 [==============================] - 0s 3ms/step - loss: 0.0000e+00 - accuracy: 0.9846\n",
      "Epoch 6/10\n",
      "1/1 [==============================] - 0s 4ms/step - loss: 0.0000e+00 - accuracy: 0.9846\n",
      "Epoch 7/10\n",
      "1/1 [==============================] - 0s 3ms/step - loss: 0.0000e+00 - accuracy: 0.9846\n",
      "Epoch 8/10\n",
      "1/1 [==============================] - 0s 4ms/step - loss: 0.0000e+00 - accuracy: 0.9846\n",
      "Epoch 9/10\n",
      "1/1 [==============================] - 0s 4ms/step - loss: 0.0000e+00 - accuracy: 0.9846\n",
      "Epoch 10/10\n",
      "1/1 [==============================] - 0s 4ms/step - loss: 0.0000e+00 - accuracy: 0.9824\n"
     ]
    },
    {
     "data": {
      "text/plain": [
       "<keras.callbacks.History at 0x7fdcf6650e50>"
      ]
     },
     "execution_count": 10,
     "metadata": {},
     "output_type": "execute_result"
    }
   ],
   "source": [
    "model.fit(x_train,y_train,epochs=10,batch_size=512)"
   ]
  },
  {
   "cell_type": "code",
   "execution_count": 11,
   "id": "f02e7a9e",
   "metadata": {},
   "outputs": [
    {
     "name": "stdout",
     "output_type": "stream",
     "text": [
      "[[2.3399293e-03]\n",
      " [9.5304608e-01]\n",
      " [9.9775386e-01]\n",
      " [9.8827207e-01]\n",
      " [9.9955845e-01]\n",
      " [9.9687827e-01]\n",
      " [9.9846393e-01]\n",
      " [9.9868542e-01]\n",
      " [9.9990523e-01]\n",
      " [9.9997890e-01]\n",
      " [3.3489209e-01]\n",
      " [9.1246921e-01]\n",
      " [9.9986112e-01]\n",
      " [1.5818769e-01]\n",
      " [3.2411939e-01]\n",
      " [6.9852471e-03]\n",
      " [9.8416370e-01]\n",
      " [3.3961107e-05]\n",
      " [1.8200278e-04]\n",
      " [3.7469428e-07]\n",
      " [1.1206865e-03]\n",
      " [3.2521784e-03]\n",
      " [9.7862148e-01]\n",
      " [9.9805903e-01]\n",
      " [3.2263994e-04]\n",
      " [9.9921882e-01]\n",
      " [9.9995190e-01]\n",
      " [2.1180511e-04]\n",
      " [9.9765646e-01]\n",
      " [8.8306460e-06]\n",
      " [9.9984205e-01]\n",
      " [4.0268898e-04]\n",
      " [8.0732912e-01]\n",
      " [4.6420097e-03]\n",
      " [9.9999619e-01]\n",
      " [2.5918484e-03]\n",
      " [9.8354501e-01]\n",
      " [1.9198954e-03]\n",
      " [9.8938227e-01]\n",
      " [3.4556091e-03]\n",
      " [1.1505887e-01]\n",
      " [9.9987507e-01]\n",
      " [8.7658018e-02]\n",
      " [9.9990171e-01]\n",
      " [6.8691957e-01]\n",
      " [5.0870341e-07]\n",
      " [9.9999857e-01]\n",
      " [9.7977734e-01]\n",
      " [9.9960291e-01]\n",
      " [2.0568066e-05]\n",
      " [1.6395344e-06]\n",
      " [7.2015524e-03]\n",
      " [5.1560998e-04]\n",
      " [9.9896979e-01]\n",
      " [9.9498308e-01]\n",
      " [9.9963605e-01]\n",
      " [9.9742156e-01]\n",
      " [9.7124821e-01]\n",
      " [9.9036813e-01]\n",
      " [5.9933306e-08]\n",
      " [5.6932569e-03]\n",
      " [6.8039596e-03]\n",
      " [9.9992943e-01]\n",
      " [9.9617177e-01]\n",
      " [3.8092934e-05]\n",
      " [8.2149136e-01]\n",
      " [5.4445753e-12]\n",
      " [7.1301647e-06]\n",
      " [2.4285842e-05]\n",
      " [9.9868733e-01]\n",
      " [4.2880893e-01]\n",
      " [2.8946652e-05]\n",
      " [9.9699688e-01]\n",
      " [2.3163357e-01]\n",
      " [9.7981165e-06]\n",
      " [9.7681773e-01]\n",
      " [9.9985689e-01]\n",
      " [8.9998734e-01]\n",
      " [9.9979383e-01]\n",
      " [9.9989015e-01]\n",
      " [1.0124207e-02]\n",
      " [1.0739789e-09]\n",
      " [1.9843032e-05]\n",
      " [9.9992943e-01]\n",
      " [9.6345842e-03]\n",
      " [9.9919772e-01]\n",
      " [9.9988413e-01]\n",
      " [9.9999106e-01]\n",
      " [7.6591969e-04]\n",
      " [1.1243116e-10]\n",
      " [9.9994504e-01]\n",
      " [3.9610153e-01]\n",
      " [1.7881620e-01]\n",
      " [6.9181550e-07]\n",
      " [9.9813473e-01]\n",
      " [9.9556637e-01]\n",
      " [2.5347126e-06]\n",
      " [9.2302746e-01]\n",
      " [9.8864073e-01]\n",
      " [9.9764585e-01]\n",
      " [9.9999774e-01]\n",
      " [9.9440390e-01]\n",
      " [9.9412727e-01]\n",
      " [6.3227725e-01]\n",
      " [1.8712878e-04]\n",
      " [9.9461257e-01]\n",
      " [2.5644906e-06]\n",
      " [6.9905448e-01]\n",
      " [7.4231607e-01]\n",
      " [7.0471704e-02]\n",
      " [9.7307289e-01]\n",
      " [7.5225820e-05]\n",
      " [5.5027008e-04]\n",
      " [7.9342461e-01]]\n"
     ]
    }
   ],
   "source": [
    "predictions = model.predict(x_test)\n",
    "print(predictions)"
   ]
  },
  {
   "cell_type": "code",
   "execution_count": 12,
   "id": "cc175d4b",
   "metadata": {},
   "outputs": [
    {
     "name": "stdout",
     "output_type": "stream",
     "text": [
      "4/4 [==============================] - 0s 2ms/step - loss: 0.0000e+00 - accuracy: 0.9474\n"
     ]
    },
    {
     "data": {
      "text/plain": [
       "[0.0, 0.9473684430122375]"
      ]
     },
     "execution_count": 12,
     "metadata": {},
     "output_type": "execute_result"
    }
   ],
   "source": [
    "model.evaluate(x_test,y_test)"
   ]
  }
 ],
 "metadata": {
  "kernelspec": {
   "display_name": "Python 3",
   "language": "python",
   "name": "python3"
  },
  "language_info": {
   "codemirror_mode": {
    "name": "ipython",
    "version": 3
   },
   "file_extension": ".py",
   "mimetype": "text/x-python",
   "name": "python",
   "nbconvert_exporter": "python",
   "pygments_lexer": "ipython3",
   "version": "3.8.8"
  }
 },
 "nbformat": 4,
 "nbformat_minor": 5
}
