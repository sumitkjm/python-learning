{
 "cells": [
  {
   "cell_type": "code",
   "execution_count": 30,
   "id": "18f2f567",
   "metadata": {},
   "outputs": [],
   "source": [
    "###Implementation of a neural network with the input layer consisting of 2 neurons and 1 hidden layer comprising of 2 neurons\n",
    "\n",
    "import numpy as np"
   ]
  },
  {
   "cell_type": "code",
   "execution_count": 31,
   "id": "4fe5af77",
   "metadata": {},
   "outputs": [
    {
     "data": {
      "text/plain": [
       "((4, 2), (4, 1))"
      ]
     },
     "execution_count": 31,
     "metadata": {},
     "output_type": "execute_result"
    }
   ],
   "source": [
    "X = np.array([[0,0],[1,0],[0,1],[1,1]])\n",
    "Y = np.array([[0,1,1,0]]).T\n",
    "X.shape,Y.shape"
   ]
  },
  {
   "cell_type": "code",
   "execution_count": 32,
   "id": "25c525c4",
   "metadata": {},
   "outputs": [],
   "source": [
    "def sig(z):\n",
    "    return 1/(1+np.exp(-z))"
   ]
  },
  {
   "cell_type": "code",
   "execution_count": 33,
   "id": "b5cc1358",
   "metadata": {},
   "outputs": [],
   "source": [
    "def derivativeSig(z):\n",
    "    return sig(z)*(1-sig(z))"
   ]
  },
  {
   "cell_type": "code",
   "execution_count": 36,
   "id": "1e1e9a39",
   "metadata": {},
   "outputs": [],
   "source": [
    "#weights of one hidden layer\n",
    "wh = 2*np.random.random((2,2))-1    # 2X2 Weights in the hidden layer\n",
    "bh = 2*np.random.random((1,2))-1    # 2 biases\n",
    "wo = 2*np.random.random((2,1))-1    # 2 weights in the output layer\n",
    "bo= 2*np.random.random((1,1))-1       # 1 bias in the output layer\n",
    "lr=0.1                           #learning rate"
   ]
  },
  {
   "cell_type": "code",
   "execution_count": 37,
   "id": "63d036f3",
   "metadata": {},
   "outputs": [
    {
     "data": {
      "text/plain": [
       "(array([[0.53083495],\n",
       "        [0.49290764],\n",
       "        [0.51424346],\n",
       "        [0.47638444]]),\n",
       " array([[-0.01499794,  0.2434398 ],\n",
       "        [-1.94032268,  0.26190523]]),\n",
       " array([[-0.82757303, -0.18808025]]),\n",
       " array([[-0.40093983],\n",
       "        [-2.52208648]]),\n",
       " array([[1.38824871]]))"
      ]
     },
     "execution_count": 37,
     "metadata": {},
     "output_type": "execute_result"
    }
   ],
   "source": [
    "#forward propagation\n",
    "for iter in range(10000):\n",
    "    output0=X\n",
    "    inputHidden = np.dot(output0,wh)+bh\n",
    "    outputHidden = sig(inputHidden)\n",
    "    inputForOutputLayer = np.dot(outputHidden,wo)+bo\n",
    "    output = sig(inputForOutputLayer)\n",
    "\n",
    "    #back propagation\n",
    "    first_term_output_layer = output-Y\n",
    "    second_term_output_layer = derivativeSig(inputForOutputLayer)\n",
    "    first_two_output_layer = first_term_output_layer*second_term_output_layer\n",
    "\n",
    "    first_term_hidden_layer = np.dot(first_two_output_layer,wo.T)   #transpose for multiplication compatibility\n",
    "    second_term_hidden_layer = derivativeSig(inputHidden)\n",
    "    first_two_hidden_layer = first_term_hidden_layer*second_term_hidden_layer\n",
    "\n",
    "    #changes to be made after back propagation\n",
    "\n",
    "    changes_output= np.dot(output0.T,first_two_output_layer)\n",
    "    changes_output_bias = np.sum(first_two_output_layer,axis=0,keepdims=True)  # We add keepdims=True.This is because if we just add the first two terms of all units in the layer,it will just return an integer,but we need it in the form of a vector.Axis=0 is added to provide the axis along which the vector summation needs to be performed.\n",
    "\n",
    "    changes_hidden= np.dot(outputHidden.T,first_two_hidden_layer)\n",
    "    changes_hidden_bias = np.sum(first_two_hidden_layer,axis=0,keepdims=True)\n",
    "\n",
    "    #appying gradient descent\n",
    "\n",
    "    wo = wo-lr*changes_output\n",
    "    bo = bo-lr*changes_output_bias\n",
    "    wh = wh-lr*changes_hidden\n",
    "    bh = bh-lr*changes_hidden_bias\n",
    "\n",
    "output0=X\n",
    "inputHidden = np.dot(output0,wh)+bh\n",
    "outputHidden = sig(inputHidden)\n",
    "inputForOutputLayer = np.dot(outputHidden,wo)+bo\n",
    "output = sig(inputForOutputLayer)\n",
    "output,wh,bh,wo,bo\n"
   ]
  },
  {
   "cell_type": "code",
   "execution_count": null,
   "id": "031d5842",
   "metadata": {},
   "outputs": [],
   "source": []
  }
 ],
 "metadata": {
  "kernelspec": {
   "display_name": "Python 3",
   "language": "python",
   "name": "python3"
  },
  "language_info": {
   "codemirror_mode": {
    "name": "ipython",
    "version": 3
   },
   "file_extension": ".py",
   "mimetype": "text/x-python",
   "name": "python",
   "nbconvert_exporter": "python",
   "pygments_lexer": "ipython3",
   "version": "3.8.8"
  }
 },
 "nbformat": 4,
 "nbformat_minor": 5
}
