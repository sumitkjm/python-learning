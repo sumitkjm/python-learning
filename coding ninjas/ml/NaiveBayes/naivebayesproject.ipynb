{
 "cells": [
  {
   "cell_type": "code",
   "execution_count": 335,
   "id": "85e5d9a8",
   "metadata": {},
   "outputs": [],
   "source": [
    "import os \n",
    "import numpy as np\n",
    "from sklearn.metrics import classification_report, confusion_matrix\n",
    "import pandas as pd"
   ]
  },
  {
   "cell_type": "code",
   "execution_count": 76,
   "id": "4b7e4129",
   "metadata": {},
   "outputs": [
    {
     "name": "stderr",
     "output_type": "stream",
     "text": [
      "[nltk_data] Downloading package stopwords to\n",
      "[nltk_data]     /Users/skumar6/nltk_data...\n",
      "[nltk_data]   Package stopwords is already up-to-date!\n"
     ]
    },
    {
     "data": {
      "text/plain": [
       "True"
      ]
     },
     "execution_count": 76,
     "metadata": {},
     "output_type": "execute_result"
    }
   ],
   "source": [
    "import nltk\n",
    "nltk.download('stopwords')"
   ]
  },
  {
   "cell_type": "code",
   "execution_count": 83,
   "id": "093c8c0d",
   "metadata": {},
   "outputs": [
    {
     "name": "stdout",
     "output_type": "stream",
     "text": [
      "<class 'set'>\n"
     ]
    }
   ],
   "source": [
    "from nltk.corpus import stopwords\n",
    "from spacy.lang.en import English\n",
    "\n",
    "stops = set(stopwords.words('english'))\n",
    "print(type(stops))"
   ]
  },
  {
   "cell_type": "code",
   "execution_count": 88,
   "id": "46dd0cfd",
   "metadata": {},
   "outputs": [],
   "source": [
    "from spacy.lang.en.stop_words import STOP_WORDS\n",
    "from spacy.lang.en import English\n",
    "nlp = English()"
   ]
  },
  {
   "cell_type": "code",
   "execution_count": 78,
   "id": "54a67a8c",
   "metadata": {},
   "outputs": [],
   "source": [
    "def read_text_file(file_path):\n",
    "    with open(file_path, 'r',encoding='utf-8',errors='ignore') as f:\n",
    "        return f.read()"
   ]
  },
  {
   "cell_type": "code",
   "execution_count": 79,
   "id": "7eee91c8",
   "metadata": {},
   "outputs": [],
   "source": [
    "def parse_words(file_content):\n",
    "    replaced_file_content = file_content.replace('\\n','')\n",
    "    replaced_file_content = replaced_file_content.replace(',','')\n",
    "    replaced_file_content = replaced_file_content.replace(':','')\n",
    "    return replaced_file_content.split(\" \")"
   ]
  },
  {
   "cell_type": "code",
   "execution_count": 94,
   "id": "2a20b5f9",
   "metadata": {},
   "outputs": [],
   "source": [
    "def populate_word_dict_freq(word_dictionary_frequency, words):\n",
    "    for word in words:\n",
    "#         if word in stops:\n",
    "        if word.strip() =='' or nlp.vocab[word.strip()].is_stop==True:\n",
    "            continue\n",
    "        else:\n",
    "            word_dictionary_frequency[word.strip()] = word_dictionary_frequency.get(word.strip(),1) + 1"
   ]
  },
  {
   "cell_type": "code",
   "execution_count": 159,
   "id": "7f96d925",
   "metadata": {},
   "outputs": [],
   "source": [
    "os.chdir('../')"
   ]
  },
  {
   "cell_type": "code",
   "execution_count": 166,
   "id": "3b8bdf72",
   "metadata": {},
   "outputs": [
    {
     "name": "stdout",
     "output_type": "stream",
     "text": [
      "talk.politics.mideast 750\n",
      "rec.autos 750\n",
      "comp.sys.mac.hardware 750\n",
      "alt.atheism 750\n",
      "rec.sport.baseball 750\n",
      "comp.os.ms-windows.misc 750\n",
      "rec.sport.hockey 750\n",
      "sci.crypt 750\n",
      "sci.med 750\n",
      "talk.politics.misc 750\n",
      "rec.motorcycles 750\n",
      "comp.windows.x 750\n",
      "comp.graphics 750\n",
      "comp.sys.ibm.pc.hardware 750\n",
      "sci.electronics 750\n",
      "talk.politics.guns 750\n",
      "sci.space 750\n",
      "soc.religion.christian 750\n",
      "misc.forsale 750\n",
      "talk.religion.misc 750\n"
     ]
    }
   ],
   "source": [
    "word_dictionary_frequency = {}\n",
    "Y_train = []\n",
    "os.chdir('./20_newsgroups')\n",
    "doc_max_count = 750 # taking first 750 as training data\n",
    "for doc_type_dir in os.listdir():\n",
    "    print(doc_type_dir,end=\" \")\n",
    "    Y_train.append(doc_type_dir)\n",
    "    dir_count+=1\n",
    "    os.chdir('./'+doc_type_dir)\n",
    "    doc_count = 0\n",
    "    for doc in os.listdir():\n",
    "        file_content = read_text_file(doc)\n",
    "        words = parse_words(file_content)\n",
    "        populate_word_dict_freq(word_dictionary_frequency, words)\n",
    "        doc_count+=1\n",
    "        if doc_count>=doc_max_count:\n",
    "            break\n",
    "    print(doc_count)\n",
    "    doc_count=0\n",
    "    os.chdir('../')\n",
    "os.chdir('../')\n",
    "Y_train = np.array(Y_train)"
   ]
  },
  {
   "cell_type": "code",
   "execution_count": 150,
   "id": "8f6132ce",
   "metadata": {},
   "outputs": [],
   "source": [
    "x = word_dictionary_frequency\n",
    "sorted_vocab_dict = {k:v for k,v in sorted(x.items(),key=lambda item: item[1],reverse=True)}\n",
    "# for k in sorted_vocab_dict.keys():\n",
    "#     print(k,' ',sorted_vocab_dict[k])"
   ]
  },
  {
   "cell_type": "code",
   "execution_count": 187,
   "id": "6c62f581",
   "metadata": {},
   "outputs": [],
   "source": [
    "words = sorted_vocab_dict.keys()\n",
    "word_freq_v = sorted_vocab_dict.values()\n",
    "word_freq = [f for f in word_freq]    "
   ]
  },
  {
   "cell_type": "code",
   "execution_count": 294,
   "id": "9725fc27",
   "metadata": {},
   "outputs": [
    {
     "data": {
      "image/png": "[encoded data removed]",
      "text/plain": [
       "<Figure size 432x288 with 1 Axes>"
      ]
     },
     "metadata": {
      "needs_background": "light"
     },
     "output_type": "display_data"
    },
    {
     "data": {
      "text/plain": [
       "196"
      ]
     },
     "execution_count": 294,
     "metadata": {},
     "output_type": "execute_result"
    }
   ],
   "source": [
    "import matplotlib.pyplot as plt\n",
    "plt.plot(word_freq[:10000])\n",
    "plt.show()\n",
    "word_freq[2000]"
   ]
  },
  {
   "cell_type": "code",
   "execution_count": 325,
   "id": "985f1704",
   "metadata": {},
   "outputs": [],
   "source": [
    "# choosing K as 1000 as per graph above\n",
    "k = 1000\n",
    "# features_words = [words[f] for f in range(k)]\n",
    "# features_words\n",
    "\n",
    "features = []\n",
    "count = 0\n",
    "for key in sorted_vocab_dict.keys():\n",
    "    features.append(key)\n",
    "    count+=1\n",
    "    if count==k:\n",
    "        break\n",
    "# features"
   ]
  },
  {
   "cell_type": "code",
   "execution_count": 305,
   "id": "cfd0a4fa",
   "metadata": {},
   "outputs": [],
   "source": [
    "def populate_data(doc_global_count, data, words, features):\n",
    "    for word in words:\n",
    "        if word in features:\n",
    "            # get feature index of word\n",
    "            feature_index = features.index(word)\n",
    "            data[doc_global_count][feature_index]+=1"
   ]
  },
  {
   "cell_type": "code",
   "execution_count": 264,
   "id": "30ee5b83",
   "metadata": {},
   "outputs": [],
   "source": [
    "os.chdir('../')"
   ]
  },
  {
   "cell_type": "code",
   "execution_count": 326,
   "id": "a676420c",
   "metadata": {},
   "outputs": [
    {
     "name": "stdout",
     "output_type": "stream",
     "text": [
      "talk.politics.mideast 1000\n",
      "rec.autos 1000\n",
      "comp.sys.mac.hardware 1000\n",
      "alt.atheism 1000\n",
      "rec.sport.baseball 1000\n",
      "comp.os.ms-windows.misc 1000\n",
      "rec.sport.hockey 1000\n",
      "sci.crypt 1000\n",
      "sci.med 1000\n",
      "talk.politics.misc 1000\n",
      "rec.motorcycles 1000\n",
      "comp.windows.x 1000\n",
      "comp.graphics 1000\n",
      "comp.sys.ibm.pc.hardware 1000\n",
      "sci.electronics 1000\n",
      "talk.politics.guns 1000\n",
      "sci.space 1000\n",
      "soc.religion.christian 997\n",
      "misc.forsale 1000\n",
      "talk.religion.misc 1000\n",
      "Data populated.\n"
     ]
    }
   ],
   "source": [
    "# computing X_train,Y_train,X_test,Y_test\n",
    "X_train = np.array([[0 for i in range(k)] for j in range(750*20)])\n",
    "Y_train = [\"\" for i in range(750*20)]\n",
    "X_test = np.array([[0 for i in range(k)] for j in range(250*20)])\n",
    "Y_test = [\"\" for i in range(250*20)]\n",
    "os.chdir('./20_newsgroups')\n",
    "train_test_split_limit = 750 # taking first 750 as training data\n",
    "doc_global_train_count = 0\n",
    "doc_global_test_count = 0\n",
    "for doc_type_dir in os.listdir():\n",
    "    print(doc_type_dir,end=\" \")\n",
    "    dir_count+=1\n",
    "    os.chdir('./'+doc_type_dir)\n",
    "    doc_count = 0\n",
    "    for doc in os.listdir():\n",
    "        file_content = read_text_file(doc)\n",
    "        words = parse_words(file_content)\n",
    "        if doc_count<train_test_split_limit:\n",
    "            populate_data(doc_global_train_count,X_train, words,features)\n",
    "            Y_train[doc_global_train_count] = doc_type_dir\n",
    "            doc_global_train_count+=1\n",
    "        else:\n",
    "            populate_data(doc_global_test_count ,X_test, words,features)\n",
    "            Y_test[doc_global_test_count] = doc_type_dir\n",
    "            doc_global_test_count+=1\n",
    "        doc_count+=1\n",
    "    print(doc_count)\n",
    "    doc_count=0\n",
    "    os.chdir('../')\n",
    "os.chdir('../')\n",
    "Y_train = np.array(Y_train)\n",
    "Y_test = np.array(Y_test)\n",
    "print(\"Data populated.\")"
   ]
  },
  {
   "cell_type": "code",
   "execution_count": 330,
   "id": "feb013e8",
   "metadata": {},
   "outputs": [
    {
     "name": "stdout",
     "output_type": "stream",
     "text": [
      "(15000, 1000) (15000,) (5000, 1000) (5000,)\n"
     ]
    }
   ],
   "source": [
    "print(X_train.shape,Y_train.shape,X_test.shape,Y_test.shape)"
   ]
  },
  {
   "cell_type": "code",
   "execution_count": 415,
   "id": "f47538ab",
   "metadata": {},
   "outputs": [],
   "source": [
    "# save to CSV file\n",
    "pd.DataFrame(X_train).to_csv(\"X_train.csv\")\n",
    "pd.DataFrame(Y_train).to_csv(\"Y_train.csv\")\n",
    "pd.DataFrame(X_test).to_csv(\"X_test.csv\")\n",
    "pd.DataFrame(Y_test).to_csv(\"Y_test.csv\")"
   ]
  },
  {
   "cell_type": "code",
   "execution_count": 312,
   "id": "c82b5c6f",
   "metadata": {},
   "outputs": [],
   "source": [
    "def fit(X_train, Y_train):\n",
    "    result ={}\n",
    "    class_values = set(Y_train)\n",
    "    for c in class_values:\n",
    "        result[c] = {}\n",
    "        result[\"total_data\"] = len(Y_train)\n",
    "        current_class_rows = (Y_train == c)\n",
    "        X_train_current = X_train[current_class_rows]\n",
    "        Y_train_current = Y_train[current_class_rows]\n",
    "        num_features = X_train.shape[1]\n",
    "        result[c][\"total_count\"] = len(Y_train_current)\n",
    "        for j in range(1,num_features+1):\n",
    "            result[c][j] = {}\n",
    "            all_possible_values = set(X_train[:,j-1])\n",
    "            for cur_value in all_possible_values:\n",
    "                result[c][j][cur_value] = (X_train_current[:,j-1] == cur_value).sum()\n",
    "    return result\n",
    "\n",
    "def predictSinglePoint(dictionary,x):\n",
    "    classes = dictionary.keys()\n",
    "    best_p = -1000\n",
    "    best_class = -1\n",
    "    first_run = True\n",
    "    for current_class in classes:\n",
    "        if (current_class==\"total_data\"):\n",
    "            continue\n",
    "        p_current_class = probability(dictionary,x,current_class)\n",
    "        if first_run == True or p_current_class > best_p:\n",
    "            best_p = p_current_class\n",
    "            best_class = current_class\n",
    "        first_run = False\n",
    "    return best_class\n",
    "\n",
    "def probability(dictionary,x,current_class):\n",
    "    output = np.log(dictionary[current_class][\"total_count\"]) - np.log(dictionary[\"total_data\"])\n",
    "    num_features = len(dictionary[current_class].keys()) - 1\n",
    "    for j in range(1,num_features+1):\n",
    "        xj = x[j-1]\n",
    "        count_current_class_with_value_xj = dictionary[current_class][j].get(xj,0) + 1\n",
    "        count_current_class = dictionary[current_class][\"total_count\"] + len(dictionary[current_class][j].keys())\n",
    "        current_xj_probability = np.log(count_current_class_with_value_xj) - np.log(count_current_class)\n",
    "        output = output + current_xj_probability\n",
    "    return output\n",
    "\n",
    "def predict(dictionary, X_test):\n",
    "    y_pred = []\n",
    "    for x in X_test:\n",
    "        x_class = predictSinglePoint(dictionary,x)\n",
    "        y_pred.append(x_class)\n",
    "    return y_pred"
   ]
  },
  {
   "cell_type": "code",
   "execution_count": 406,
   "id": "9e202f25",
   "metadata": {},
   "outputs": [],
   "source": [
    "def convertStringToFloat(string):\n",
    "    if string.strip()=='':\n",
    "        return 0\n",
    "    else:\n",
    "        return float(string)\n",
    "\n",
    "def parse_classification_report(report):\n",
    "    report_data = []\n",
    "    lines = report.split('\\n')\n",
    "    for line in lines[3:-4]:\n",
    "        row = {}\n",
    "        row_data = line.split('      ')\n",
    "        if len(row_data)<=1:\n",
    "            continue\n",
    "        index = 0\n",
    "        while row_data[index].strip()=='':\n",
    "            index+=1\n",
    "        row['class'] = row_data[index].strip()\n",
    "        row['precision'] = convertStringToFloat(row_data[index+1].strip())\n",
    "        row['recall'] = convertStringToFloat(row_data[index+2].strip())\n",
    "        row['f1_score'] = convertStringToFloat(row_data[index+3].strip())\n",
    "        row['support'] = convertStringToFloat(row_data[index+4].strip())\n",
    "        report_data.append(row)\n",
    "        df = pd.DataFrame(report_data)\n",
    "    return df"
   ]
  },
  {
   "cell_type": "code",
   "execution_count": 401,
   "id": "7bfecbd9",
   "metadata": {},
   "outputs": [],
   "source": [
    "# fit and predict using own implementation\n",
    "dictionary = fit(X_train,Y_train)\n",
    "Y_own_pred = predict(dictionary,X_test)"
   ]
  },
  {
   "cell_type": "code",
   "execution_count": 407,
   "id": "846d77ec",
   "metadata": {},
   "outputs": [
    {
     "name": "stdout",
     "output_type": "stream",
     "text": [
      "[[  0   0   0   0   0   0   0   3   0   0   0   0   0   0   0   0   0   0\n",
      "    0   0   0]\n",
      " [  0 201   2   2   3   2   0   6   3   3   7   0   1   0   0   1   1   2\n",
      "    3   4   9]\n",
      " [  0   0  28  39  24  46  23  65   0   3   9   1   3   6   0   2   0   0\n",
      "    0   0   1]\n",
      " [  0   0   2  81  36  51  16  52   0   1   3   1   4   2   0   1   0   0\n",
      "    0   0   0]\n",
      " [  0   0   1   4 217   9   4  11   1   0   0   0   1   1   0   1   0   0\n",
      "    0   0   0]\n",
      " [  0   0   2   1   6 226   0  12   0   0   0   0   0   1   1   0   0   1\n",
      "    0   0   0]\n",
      " [  0   0   6  16  16  17 159  27   0   1   2   0   2   2   1   1   0   0\n",
      "    0   0   0]\n",
      " [  0   0   3   4  13   8   1 200   3   3   8   0   1   5   0   0   0   0\n",
      "    0   1   0]\n",
      " [  0   1   2   4   2   7   0  32 143  26  14   0   1   9   1   0   0   4\n",
      "    0   2   2]\n",
      " [  0   3   0   0   1   1   0   8   4 226   2   0   1   1   0   0   0   2\n",
      "    1   0   0]\n",
      " [  0   1   0   0   0   1   0   2   0   2 243   1   0   0   0   0   0   0\n",
      "    0   0   0]\n",
      " [  0   1   0   0   0   0   0   2   0   1   2 244   0   0   0   0   0   0\n",
      "    0   0   0]\n",
      " [  0   6   1   3   9  11  11  15   8   2   5   2 146  14   2   6   0   8\n",
      "    0   0   1]\n",
      " [  0   1   4   5   6  20   7  37   5   6  11   1   4 137   1   2   0   1\n",
      "    0   1   1]\n",
      " [  0   9   4   2   4   8   3  24   5  15  25   2   1   3 131   5   0   3\n",
      "    3   2   1]\n",
      " [  0   5   9  19   3  18  12  33  13  12  24   5   8   8   4  68   0   3\n",
      "    1   3   2]\n",
      " [  0   0   0   0   0   1   1   0   0   0   0   0   0   0   0   1 244   0\n",
      "    0   0   0]\n",
      " [  0  12   0   1   1   5   0  12  22  14   6   3   6   3   0   0   0 141\n",
      "    0  15   9]\n",
      " [  0  16   3   1   1   5   3   9   5   3   9   1   0   0   3   0   2  10\n",
      "  159   9  11]\n",
      " [  0  17   1   1   1   3   1  12  22  13  16   7   8   2   7   2   0  56\n",
      "    9  47  25]\n",
      " [  0 107   0   1   3   1   0  12   6   8  16   2   0   0   2   1   2  38\n",
      "    4   7  40]]\n"
     ]
    },
    {
     "data": {
      "text/html": [
       "<div>\n",
       "<style scoped>\n",
       "    .dataframe tbody tr th:only-of-type {\n",
       "        vertical-align: middle;\n",
       "    }\n",
       "\n",
       "    .dataframe tbody tr th {\n",
       "        vertical-align: top;\n",
       "    }\n",
       "\n",
       "    .dataframe thead th {\n",
       "        text-align: right;\n",
       "    }\n",
       "</style>\n",
       "<table border=\"1\" class=\"dataframe\">\n",
       "  <thead>\n",
       "    <tr style=\"text-align: right;\">\n",
       "      <th></th>\n",
       "      <th>class</th>\n",
       "      <th>precision</th>\n",
       "      <th>recall</th>\n",
       "      <th>f1_score</th>\n",
       "      <th>support</th>\n",
       "    </tr>\n",
       "  </thead>\n",
       "  <tbody>\n",
       "    <tr>\n",
       "      <th>0</th>\n",
       "      <td>alt.atheism</td>\n",
       "      <td>0.72</td>\n",
       "      <td>0.60</td>\n",
       "      <td>0.66</td>\n",
       "      <td>250.0</td>\n",
       "    </tr>\n",
       "    <tr>\n",
       "      <th>1</th>\n",
       "      <td>comp.graphics</td>\n",
       "      <td>0.72</td>\n",
       "      <td>0.32</td>\n",
       "      <td>0.44</td>\n",
       "      <td>250.0</td>\n",
       "    </tr>\n",
       "    <tr>\n",
       "      <th>2</th>\n",
       "      <td>comp.os.ms-windows.misc</td>\n",
       "      <td>0.55</td>\n",
       "      <td>0.66</td>\n",
       "      <td>0.60</td>\n",
       "      <td>250.0</td>\n",
       "    </tr>\n",
       "    <tr>\n",
       "      <th>3</th>\n",
       "      <td>comp.sys.ibm.pc.hardware</td>\n",
       "      <td>0.87</td>\n",
       "      <td>0.80</td>\n",
       "      <td>0.83</td>\n",
       "      <td>250.0</td>\n",
       "    </tr>\n",
       "    <tr>\n",
       "      <th>4</th>\n",
       "      <td>comp.sys.mac.hardware</td>\n",
       "      <td>0.84</td>\n",
       "      <td>0.82</td>\n",
       "      <td>0.83</td>\n",
       "      <td>250.0</td>\n",
       "    </tr>\n",
       "    <tr>\n",
       "      <th>5</th>\n",
       "      <td>comp.windows.x</td>\n",
       "      <td>0.86</td>\n",
       "      <td>0.70</td>\n",
       "      <td>0.77</td>\n",
       "      <td>250.0</td>\n",
       "    </tr>\n",
       "    <tr>\n",
       "      <th>6</th>\n",
       "      <td>misc.forsale</td>\n",
       "      <td>0.27</td>\n",
       "      <td>0.90</td>\n",
       "      <td>0.42</td>\n",
       "      <td>250.0</td>\n",
       "    </tr>\n",
       "    <tr>\n",
       "      <th>7</th>\n",
       "      <td>rec.autos</td>\n",
       "      <td>0.65</td>\n",
       "      <td>0.65</td>\n",
       "      <td>0.65</td>\n",
       "      <td>250.0</td>\n",
       "    </tr>\n",
       "    <tr>\n",
       "      <th>8</th>\n",
       "      <td>rec.motorcycles</td>\n",
       "      <td>0.70</td>\n",
       "      <td>0.86</td>\n",
       "      <td>0.77</td>\n",
       "      <td>250.0</td>\n",
       "    </tr>\n",
       "    <tr>\n",
       "      <th>9</th>\n",
       "      <td>rec.sport.baseball</td>\n",
       "      <td>0.93</td>\n",
       "      <td>0.87</td>\n",
       "      <td>0.90</td>\n",
       "      <td>250.0</td>\n",
       "    </tr>\n",
       "    <tr>\n",
       "      <th>10</th>\n",
       "      <td>rec.sport.hockey</td>\n",
       "      <td>1.00</td>\n",
       "      <td>0.90</td>\n",
       "      <td>0.94</td>\n",
       "      <td>250.0</td>\n",
       "    </tr>\n",
       "    <tr>\n",
       "      <th>11</th>\n",
       "      <td>sci.crypt</td>\n",
       "      <td>0.78</td>\n",
       "      <td>0.70</td>\n",
       "      <td>0.74</td>\n",
       "      <td>250.0</td>\n",
       "    </tr>\n",
       "    <tr>\n",
       "      <th>12</th>\n",
       "      <td>sci.electronics</td>\n",
       "      <td>0.62</td>\n",
       "      <td>0.59</td>\n",
       "      <td>0.61</td>\n",
       "      <td>250.0</td>\n",
       "    </tr>\n",
       "    <tr>\n",
       "      <th>13</th>\n",
       "      <td>sci.med</td>\n",
       "      <td>0.74</td>\n",
       "      <td>0.56</td>\n",
       "      <td>0.63</td>\n",
       "      <td>250.0</td>\n",
       "    </tr>\n",
       "    <tr>\n",
       "      <th>14</th>\n",
       "      <td>sci.space</td>\n",
       "      <td>0.73</td>\n",
       "      <td>0.60</td>\n",
       "      <td>0.66</td>\n",
       "      <td>250.0</td>\n",
       "    </tr>\n",
       "    <tr>\n",
       "      <th>15</th>\n",
       "      <td>soc.religion.christian</td>\n",
       "      <td>0.97</td>\n",
       "      <td>0.93</td>\n",
       "      <td>0.95</td>\n",
       "      <td>247.0</td>\n",
       "    </tr>\n",
       "    <tr>\n",
       "      <th>16</th>\n",
       "      <td>talk.politics.guns</td>\n",
       "      <td>0.67</td>\n",
       "      <td>0.62</td>\n",
       "      <td>0.64</td>\n",
       "      <td>250.0</td>\n",
       "    </tr>\n",
       "    <tr>\n",
       "      <th>17</th>\n",
       "      <td>talk.politics.mideast</td>\n",
       "      <td>0.89</td>\n",
       "      <td>0.62</td>\n",
       "      <td>0.73</td>\n",
       "      <td>250.0</td>\n",
       "    </tr>\n",
       "    <tr>\n",
       "      <th>18</th>\n",
       "      <td>talk.politics.misc</td>\n",
       "      <td>0.62</td>\n",
       "      <td>0.37</td>\n",
       "      <td>0.46</td>\n",
       "      <td>250.0</td>\n",
       "    </tr>\n",
       "    <tr>\n",
       "      <th>19</th>\n",
       "      <td>talk.religion.misc</td>\n",
       "      <td>0.51</td>\n",
       "      <td>0.44</td>\n",
       "      <td>0.47</td>\n",
       "      <td>250.0</td>\n",
       "    </tr>\n",
       "  </tbody>\n",
       "</table>\n",
       "</div>"
      ],
      "text/plain": [
       "                       class  precision  recall  f1_score  support\n",
       "0                alt.atheism       0.72    0.60      0.66    250.0\n",
       "1              comp.graphics       0.72    0.32      0.44    250.0\n",
       "2    comp.os.ms-windows.misc       0.55    0.66      0.60    250.0\n",
       "3   comp.sys.ibm.pc.hardware       0.87    0.80      0.83    250.0\n",
       "4      comp.sys.mac.hardware       0.84    0.82      0.83    250.0\n",
       "5             comp.windows.x       0.86    0.70      0.77    250.0\n",
       "6               misc.forsale       0.27    0.90      0.42    250.0\n",
       "7                  rec.autos       0.65    0.65      0.65    250.0\n",
       "8            rec.motorcycles       0.70    0.86      0.77    250.0\n",
       "9         rec.sport.baseball       0.93    0.87      0.90    250.0\n",
       "10          rec.sport.hockey       1.00    0.90      0.94    250.0\n",
       "11                 sci.crypt       0.78    0.70      0.74    250.0\n",
       "12           sci.electronics       0.62    0.59      0.61    250.0\n",
       "13                   sci.med       0.74    0.56      0.63    250.0\n",
       "14                 sci.space       0.73    0.60      0.66    250.0\n",
       "15    soc.religion.christian       0.97    0.93      0.95    247.0\n",
       "16        talk.politics.guns       0.67    0.62      0.64    250.0\n",
       "17     talk.politics.mideast       0.89    0.62      0.73    250.0\n",
       "18        talk.politics.misc       0.62    0.37      0.46    250.0\n",
       "19        talk.religion.misc       0.51    0.44      0.47    250.0"
      ]
     },
     "execution_count": 407,
     "metadata": {},
     "output_type": "execute_result"
    }
   ],
   "source": [
    "#generate Confusion matrix for own implementation prediction for X_test\n",
    "from sklearn.metrics import classification_report, confusion_matrix\n",
    "own_implementation_report_data_frame = parse_classification_report(classification_report(Y_test,Y_own_pred,zero_division=1))\n",
    "print(confusion_matrix(Y_test,Y_pred))\n",
    "own_implementation_report_data_frame"
   ]
  },
  {
   "cell_type": "code",
   "execution_count": 388,
   "id": "adcc91c1",
   "metadata": {},
   "outputs": [],
   "source": []
  },
  {
   "cell_type": "code",
   "execution_count": 410,
   "id": "11044e57",
   "metadata": {},
   "outputs": [
    {
     "name": "stdout",
     "output_type": "stream",
     "text": [
      "[[  0   0   0   0   0   0   0   3   0   0   0   0   0   0   0   0   0   0\n",
      "    0   0   0]\n",
      " [  0 201   2   2   3   2   0   6   3   3   7   0   1   0   0   1   1   2\n",
      "    3   4   9]\n",
      " [  0   0  28  39  24  46  23  65   0   3   9   1   3   6   0   2   0   0\n",
      "    0   0   1]\n",
      " [  0   0   2  81  36  51  16  52   0   1   3   1   4   2   0   1   0   0\n",
      "    0   0   0]\n",
      " [  0   0   1   4 217   9   4  11   1   0   0   0   1   1   0   1   0   0\n",
      "    0   0   0]\n",
      " [  0   0   2   1   6 226   0  12   0   0   0   0   0   1   1   0   0   1\n",
      "    0   0   0]\n",
      " [  0   0   6  16  16  17 159  27   0   1   2   0   2   2   1   1   0   0\n",
      "    0   0   0]\n",
      " [  0   0   3   4  13   8   1 200   3   3   8   0   1   5   0   0   0   0\n",
      "    0   1   0]\n",
      " [  0   1   2   4   2   7   0  32 143  26  14   0   1   9   1   0   0   4\n",
      "    0   2   2]\n",
      " [  0   3   0   0   1   1   0   8   4 226   2   0   1   1   0   0   0   2\n",
      "    1   0   0]\n",
      " [  0   1   0   0   0   1   0   2   0   2 243   1   0   0   0   0   0   0\n",
      "    0   0   0]\n",
      " [  0   1   0   0   0   0   0   2   0   1   2 244   0   0   0   0   0   0\n",
      "    0   0   0]\n",
      " [  0   6   1   3   9  11  11  15   8   2   5   2 146  14   2   6   0   8\n",
      "    0   0   1]\n",
      " [  0   1   4   5   6  20   7  37   5   6  11   1   4 137   1   2   0   1\n",
      "    0   1   1]\n",
      " [  0   9   4   2   4   8   3  24   5  15  25   2   1   3 131   5   0   3\n",
      "    3   2   1]\n",
      " [  0   5   9  19   3  18  12  33  13  12  24   5   8   8   4  68   0   3\n",
      "    1   3   2]\n",
      " [  0   0   0   0   0   1   1   0   0   0   0   0   0   0   0   1 244   0\n",
      "    0   0   0]\n",
      " [  0  12   0   1   1   5   0  12  22  14   6   3   6   3   0   0   0 141\n",
      "    0  15   9]\n",
      " [  0  16   3   1   1   5   3   9   5   3   9   1   0   0   3   0   2  10\n",
      "  159   9  11]\n",
      " [  0  17   1   1   1   3   1  12  22  13  16   7   8   2   7   2   0  56\n",
      "    9  47  25]\n",
      " [  0 107   0   1   3   1   0  12   6   8  16   2   0   0   2   1   2  38\n",
      "    4   7  40]]\n"
     ]
    },
    {
     "data": {
      "text/html": [
       "<div>\n",
       "<style scoped>\n",
       "    .dataframe tbody tr th:only-of-type {\n",
       "        vertical-align: middle;\n",
       "    }\n",
       "\n",
       "    .dataframe tbody tr th {\n",
       "        vertical-align: top;\n",
       "    }\n",
       "\n",
       "    .dataframe thead th {\n",
       "        text-align: right;\n",
       "    }\n",
       "</style>\n",
       "<table border=\"1\" class=\"dataframe\">\n",
       "  <thead>\n",
       "    <tr style=\"text-align: right;\">\n",
       "      <th></th>\n",
       "      <th>class</th>\n",
       "      <th>precision</th>\n",
       "      <th>recall</th>\n",
       "      <th>f1_score</th>\n",
       "      <th>support</th>\n",
       "    </tr>\n",
       "  </thead>\n",
       "  <tbody>\n",
       "    <tr>\n",
       "      <th>0</th>\n",
       "      <td>alt.atheism</td>\n",
       "      <td>0.53</td>\n",
       "      <td>0.80</td>\n",
       "      <td>0.64</td>\n",
       "      <td>250.0</td>\n",
       "    </tr>\n",
       "    <tr>\n",
       "      <th>1</th>\n",
       "      <td>comp.graphics</td>\n",
       "      <td>0.41</td>\n",
       "      <td>0.11</td>\n",
       "      <td>0.18</td>\n",
       "      <td>250.0</td>\n",
       "    </tr>\n",
       "    <tr>\n",
       "      <th>2</th>\n",
       "      <td>comp.os.ms-windows.misc</td>\n",
       "      <td>0.44</td>\n",
       "      <td>0.32</td>\n",
       "      <td>0.37</td>\n",
       "      <td>250.0</td>\n",
       "    </tr>\n",
       "    <tr>\n",
       "      <th>3</th>\n",
       "      <td>comp.sys.ibm.pc.hardware</td>\n",
       "      <td>0.63</td>\n",
       "      <td>0.87</td>\n",
       "      <td>0.73</td>\n",
       "      <td>250.0</td>\n",
       "    </tr>\n",
       "    <tr>\n",
       "      <th>4</th>\n",
       "      <td>comp.sys.mac.hardware</td>\n",
       "      <td>0.51</td>\n",
       "      <td>0.90</td>\n",
       "      <td>0.66</td>\n",
       "      <td>250.0</td>\n",
       "    </tr>\n",
       "    <tr>\n",
       "      <th>5</th>\n",
       "      <td>comp.windows.x</td>\n",
       "      <td>0.66</td>\n",
       "      <td>0.64</td>\n",
       "      <td>0.65</td>\n",
       "      <td>250.0</td>\n",
       "    </tr>\n",
       "    <tr>\n",
       "      <th>6</th>\n",
       "      <td>misc.forsale</td>\n",
       "      <td>0.35</td>\n",
       "      <td>0.80</td>\n",
       "      <td>0.49</td>\n",
       "      <td>250.0</td>\n",
       "    </tr>\n",
       "    <tr>\n",
       "      <th>7</th>\n",
       "      <td>rec.autos</td>\n",
       "      <td>0.60</td>\n",
       "      <td>0.57</td>\n",
       "      <td>0.58</td>\n",
       "      <td>250.0</td>\n",
       "    </tr>\n",
       "    <tr>\n",
       "      <th>8</th>\n",
       "      <td>rec.motorcycles</td>\n",
       "      <td>0.67</td>\n",
       "      <td>0.90</td>\n",
       "      <td>0.77</td>\n",
       "      <td>250.0</td>\n",
       "    </tr>\n",
       "    <tr>\n",
       "      <th>9</th>\n",
       "      <td>rec.sport.baseball</td>\n",
       "      <td>0.60</td>\n",
       "      <td>0.97</td>\n",
       "      <td>0.75</td>\n",
       "      <td>250.0</td>\n",
       "    </tr>\n",
       "    <tr>\n",
       "      <th>10</th>\n",
       "      <td>rec.sport.hockey</td>\n",
       "      <td>0.90</td>\n",
       "      <td>0.98</td>\n",
       "      <td>0.94</td>\n",
       "      <td>250.0</td>\n",
       "    </tr>\n",
       "    <tr>\n",
       "      <th>11</th>\n",
       "      <td>sci.crypt</td>\n",
       "      <td>0.78</td>\n",
       "      <td>0.58</td>\n",
       "      <td>0.67</td>\n",
       "      <td>250.0</td>\n",
       "    </tr>\n",
       "    <tr>\n",
       "      <th>12</th>\n",
       "      <td>sci.electronics</td>\n",
       "      <td>0.71</td>\n",
       "      <td>0.55</td>\n",
       "      <td>0.62</td>\n",
       "      <td>250.0</td>\n",
       "    </tr>\n",
       "    <tr>\n",
       "      <th>13</th>\n",
       "      <td>sci.med</td>\n",
       "      <td>0.86</td>\n",
       "      <td>0.52</td>\n",
       "      <td>0.65</td>\n",
       "      <td>250.0</td>\n",
       "    </tr>\n",
       "    <tr>\n",
       "      <th>14</th>\n",
       "      <td>sci.space</td>\n",
       "      <td>0.75</td>\n",
       "      <td>0.27</td>\n",
       "      <td>0.40</td>\n",
       "      <td>250.0</td>\n",
       "    </tr>\n",
       "    <tr>\n",
       "      <th>15</th>\n",
       "      <td>soc.religion.christian</td>\n",
       "      <td>0.98</td>\n",
       "      <td>0.99</td>\n",
       "      <td>0.98</td>\n",
       "      <td>247.0</td>\n",
       "    </tr>\n",
       "    <tr>\n",
       "      <th>16</th>\n",
       "      <td>talk.politics.guns</td>\n",
       "      <td>0.52</td>\n",
       "      <td>0.56</td>\n",
       "      <td>0.54</td>\n",
       "      <td>250.0</td>\n",
       "    </tr>\n",
       "    <tr>\n",
       "      <th>17</th>\n",
       "      <td>talk.politics.mideast</td>\n",
       "      <td>0.88</td>\n",
       "      <td>0.64</td>\n",
       "      <td>0.74</td>\n",
       "      <td>250.0</td>\n",
       "    </tr>\n",
       "    <tr>\n",
       "      <th>18</th>\n",
       "      <td>talk.politics.misc</td>\n",
       "      <td>0.52</td>\n",
       "      <td>0.19</td>\n",
       "      <td>0.28</td>\n",
       "      <td>250.0</td>\n",
       "    </tr>\n",
       "    <tr>\n",
       "      <th>19</th>\n",
       "      <td>talk.religion.misc</td>\n",
       "      <td>0.39</td>\n",
       "      <td>0.16</td>\n",
       "      <td>0.23</td>\n",
       "      <td>250.0</td>\n",
       "    </tr>\n",
       "  </tbody>\n",
       "</table>\n",
       "</div>"
      ],
      "text/plain": [
       "                       class  precision  recall  f1_score  support\n",
       "0                alt.atheism       0.53    0.80      0.64    250.0\n",
       "1              comp.graphics       0.41    0.11      0.18    250.0\n",
       "2    comp.os.ms-windows.misc       0.44    0.32      0.37    250.0\n",
       "3   comp.sys.ibm.pc.hardware       0.63    0.87      0.73    250.0\n",
       "4      comp.sys.mac.hardware       0.51    0.90      0.66    250.0\n",
       "5             comp.windows.x       0.66    0.64      0.65    250.0\n",
       "6               misc.forsale       0.35    0.80      0.49    250.0\n",
       "7                  rec.autos       0.60    0.57      0.58    250.0\n",
       "8            rec.motorcycles       0.67    0.90      0.77    250.0\n",
       "9         rec.sport.baseball       0.60    0.97      0.75    250.0\n",
       "10          rec.sport.hockey       0.90    0.98      0.94    250.0\n",
       "11                 sci.crypt       0.78    0.58      0.67    250.0\n",
       "12           sci.electronics       0.71    0.55      0.62    250.0\n",
       "13                   sci.med       0.86    0.52      0.65    250.0\n",
       "14                 sci.space       0.75    0.27      0.40    250.0\n",
       "15    soc.religion.christian       0.98    0.99      0.98    247.0\n",
       "16        talk.politics.guns       0.52    0.56      0.54    250.0\n",
       "17     talk.politics.mideast       0.88    0.64      0.74    250.0\n",
       "18        talk.politics.misc       0.52    0.19      0.28    250.0\n",
       "19        talk.religion.misc       0.39    0.16      0.23    250.0"
      ]
     },
     "execution_count": 410,
     "metadata": {},
     "output_type": "execute_result"
    }
   ],
   "source": [
    "# Predict and generate report using inbuilt SK Learn Gaussian Naive Base implementation\n",
    "from sklearn.naive_bayes import GaussianNB\n",
    "import re\n",
    "from io import StringIO\n",
    "\n",
    "clf = GaussianNB()\n",
    "clf.fit(X_train,Y_train)\n",
    "Y_pred = clf.predict(X_test)\n",
    "\n",
    "\n",
    "\n",
    "#txt report to df\n",
    "report = classification_report(Y_test,Y_pred,zero_division=1)\n",
    "report_df_inbuilt_implementation = parse_classification_report(report)\n",
    "print(confusion_matrix(Y_test,Y_pred))\n",
    "report_df_inbuilt_implementation"
   ]
  },
  {
   "cell_type": "code",
   "execution_count": 411,
   "id": "73cb5245",
   "metadata": {},
   "outputs": [
    {
     "data": {
      "image/png": "[encoded data removed]",
      "text/plain": [
       "<Figure size 432x288 with 1 Axes>"
      ]
     },
     "metadata": {
      "needs_background": "light"
     },
     "output_type": "display_data"
    }
   ],
   "source": [
    "# Compare Own implementation and Sklearn inbuilt implementation result\n",
    "plt.plot(own_implementation_report_data_frame.precision,label = \"own precision\")\n",
    "plt.plot(report_df_inbuilt_implementation.precision,label = \"Sk learn precision\")\n",
    "plt.legend()\n",
    "plt.show()"
   ]
  },
  {
   "cell_type": "code",
   "execution_count": 412,
   "id": "48e9912b",
   "metadata": {},
   "outputs": [
    {
     "data": {
      "image/png": "[encoded data removed]",
      "text/plain": [
       "<Figure size 432x288 with 1 Axes>"
      ]
     },
     "metadata": {
      "needs_background": "light"
     },
     "output_type": "display_data"
    }
   ],
   "source": [
    "plt.plot(own_implementation_report_data_frame.recall,label = \"own recall\")\n",
    "plt.plot(report_df_inbuilt_implementation.recall,label = \"Sk learn recall\")\n",
    "plt.legend()\n",
    "plt.show()"
   ]
  },
  {
   "cell_type": "code",
   "execution_count": 413,
   "id": "0eb89fe3",
   "metadata": {},
   "outputs": [
    {
     "data": {
      "image/png": "[encoded data removed]",
      "text/plain": [
       "<Figure size 432x288 with 1 Axes>"
      ]
     },
     "metadata": {
      "needs_background": "light"
     },
     "output_type": "display_data"
    }
   ],
   "source": [
    "plt.plot(own_implementation_report_data_frame.f1_score,label = \"own f1_score\")\n",
    "plt.plot(report_df_inbuilt_implementation.f1_score,label = \"Sk learn f1_score\")\n",
    "plt.legend()\n",
    "plt.show()"
   ]
  },
  {
   "cell_type": "code",
   "execution_count": 414,
   "id": "fda9c8a3",
   "metadata": {},
   "outputs": [
    {
     "data": {
      "image/png": "[encoded data removed]",
      "text/plain": [
       "<Figure size 432x288 with 1 Axes>"
      ]
     },
     "metadata": {
      "needs_background": "light"
     },
     "output_type": "display_data"
    }
   ],
   "source": [
    "plt.plot(own_implementation_report_data_frame.support,label = \"own support\")\n",
    "plt.plot(report_df_inbuilt_implementation.support,label = \"Sk learn support\")\n",
    "plt.legend()\n",
    "plt.show()"
   ]
  },
  {
   "cell_type": "markdown",
   "id": "5aece8bd",
   "metadata": {},
   "source": [
    "# Accuracy is slightly better in own implementation than SK learn but training time is bit more in own vs SK learn"
   ]
  }
 ],
 "metadata": {
  "kernelspec": {
   "display_name": "Python 3 (ipykernel)",
   "language": "python",
   "name": "python3"
  },
  "language_info": {
   "codemirror_mode": {
    "name": "ipython",
    "version": 3
   },
   "file_extension": ".py",
   "mimetype": "text/x-python",
   "name": "python",
   "nbconvert_exporter": "python",
   "pygments_lexer": "ipython3",
   "version": "3.10.4"
  }
 },
 "nbformat": 4,
 "nbformat_minor": 5
}
