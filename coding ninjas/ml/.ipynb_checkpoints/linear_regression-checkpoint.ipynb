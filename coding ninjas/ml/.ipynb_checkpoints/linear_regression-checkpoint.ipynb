{
 "cells": [
  {
   "cell_type": "code",
   "execution_count": 1,
   "id": "b09ddf68",
   "metadata": {},
   "outputs": [],
   "source": [
    "import numpy as np"
   ]
  },
  {
   "cell_type": "code",
   "execution_count": 3,
   "id": "9333f025",
   "metadata": {},
   "outputs": [],
   "source": [
    "data = np.loadtxt(\"data.csv\",delimiter=\",\")"
   ]
  },
  {
   "cell_type": "code",
   "execution_count": 64,
   "id": "2bd369ac",
   "metadata": {},
   "outputs": [],
   "source": [
    "x = data[:,0].reshape(-1,1) # to make it multidimention array\n",
    "y = data[:,1]"
   ]
  },
  {
   "cell_type": "code",
   "execution_count": 65,
   "id": "28e6aaed",
   "metadata": {},
   "outputs": [
    {
     "data": {
      "text/plain": [
       "(100, 1)"
      ]
     },
     "execution_count": 65,
     "metadata": {},
     "output_type": "execute_result"
    }
   ],
   "source": [
    "x.shape"
   ]
  },
  {
   "cell_type": "code",
   "execution_count": 66,
   "id": "e65c5631",
   "metadata": {},
   "outputs": [],
   "source": [
    "from sklearn import model_selection\n",
    "X_train, X_test, Y_train, Y_test = model_selection.train_test_split(x,y)"
   ]
  },
  {
   "cell_type": "code",
   "execution_count": 67,
   "id": "b0256f8d",
   "metadata": {},
   "outputs": [
    {
     "data": {
      "text/plain": [
       "LinearRegression()"
      ]
     },
     "execution_count": 67,
     "metadata": {},
     "output_type": "execute_result"
    }
   ],
   "source": [
    "from sklearn.linear_model import LinearRegression\n",
    "alg1 = LinearRegression()\n",
    "alg1.fit(X_train,Y_train)"
   ]
  },
  {
   "cell_type": "code",
   "execution_count": 68,
   "id": "31cfb921",
   "metadata": {},
   "outputs": [
    {
     "data": {
      "text/plain": [
       "array([1.38808187])"
      ]
     },
     "execution_count": 68,
     "metadata": {},
     "output_type": "execute_result"
    }
   ],
   "source": [
    "alg1.coef_"
   ]
  },
  {
   "cell_type": "code",
   "execution_count": 69,
   "id": "bbbad749",
   "metadata": {},
   "outputs": [
    {
     "data": {
      "text/plain": [
       "5.382800699769973"
      ]
     },
     "execution_count": 69,
     "metadata": {},
     "output_type": "execute_result"
    }
   ],
   "source": [
    "alg1.intercept_"
   ]
  },
  {
   "cell_type": "code",
   "execution_count": 70,
   "id": "6a745a90",
   "metadata": {},
   "outputs": [
    {
     "data": {
      "image/png": "[encoded data removed]",
      "text/plain": [
       "<Figure size 432x288 with 1 Axes>"
      ]
     },
     "metadata": {
      "needs_background": "light"
     },
     "output_type": "display_data"
    }
   ],
   "source": [
    "import matplotlib.pyplot as plt\n",
    "m = alg1.coef_[0]\n",
    "c = alg1.intercept_\n",
    "x_line = np.arange(30,70,0.1)\n",
    "y_line = m * x_line + c\n",
    "plt.plot(x_line,y_line,\"r\")\n",
    "\n",
    "plt.scatter(X_train,Y_train)\n",
    "plt.show()"
   ]
  },
  {
   "cell_type": "code",
   "execution_count": 71,
   "id": "b2bcef10",
   "metadata": {},
   "outputs": [
    {
     "data": {
      "image/png": "[encoded data removed]",
      "text/plain": [
       "<Figure size 432x288 with 1 Axes>"
      ]
     },
     "metadata": {
      "needs_background": "light"
     },
     "output_type": "display_data"
    },
    {
     "name": "stdout",
     "output_type": "stream",
     "text": [
      "1.3880818684675982 5.382800699769973\n"
     ]
    }
   ],
   "source": [
    "import matplotlib.pyplot as plt\n",
    "m = alg1.coef_[0]\n",
    "c = alg1.intercept_\n",
    "x_line = np.arange(30,70,0.1)\n",
    "y_line = m * x_line + c\n",
    "plt.plot(x_line,y_line,\"r\")\n",
    "\n",
    "plt.scatter(X_test,Y_test)\n",
    "plt.show()\n",
    "print(m,c)"
   ]
  },
  {
   "cell_type": "code",
   "execution_count": 72,
   "id": "346b25bb",
   "metadata": {},
   "outputs": [
    {
     "name": "stdout",
     "output_type": "stream",
     "text": [
      "0.3348830101425798 0.6381784379196845\n"
     ]
    }
   ],
   "source": [
    "score_test = alg1.score(X_test,Y_test)\n",
    "score_training = alg1.score(X_train,Y_train)\n",
    "print(score_test,score_training)"
   ]
  },
  {
   "cell_type": "code",
   "execution_count": 61,
   "id": "4494b409",
   "metadata": {},
   "outputs": [],
   "source": [
    "# my fit function\n",
    "def myFit(x, y):\n",
    "    xy = x*y\n",
    "    xx = x*x\n",
    "#     print(xy,xx)\n",
    "    a = (xy.mean() - x.mean() * y.mean())\n",
    "    b = (xx.mean() - x.mean() * x.mean())\n",
    "    m = a/b\n",
    "#     print(a,b)\n",
    "    c = y.mean() - m * x.mean()\n",
    "    return m,c"
   ]
  },
  {
   "cell_type": "code",
   "execution_count": 56,
   "id": "45c22b5b",
   "metadata": {},
   "outputs": [],
   "source": [
    "# my predict function\n",
    "def myPred(x,m,c):\n",
    "    return m * x + c"
   ]
  },
  {
   "cell_type": "code",
   "execution_count": 62,
   "id": "ca035436",
   "metadata": {},
   "outputs": [
    {
     "name": "stdout",
     "output_type": "stream",
     "text": [
      "1.37691408051437 5.751155905619157\n"
     ]
    }
   ],
   "source": [
    "m,c = myFit(X_train,Y_train)\n",
    "print(m,c)"
   ]
  },
  {
   "cell_type": "code",
   "execution_count": 63,
   "id": "763412cf",
   "metadata": {},
   "outputs": [
    {
     "data": {
      "text/plain": [
       "array([ 75.36347082,  67.02732719,  77.65911146,  62.34602189,\n",
       "        50.73362226,  74.6513526 ,  90.47317225,  82.59085594,\n",
       "        56.60069838,  80.58868727,  66.15722018,  84.92983952,\n",
       "        74.85350225,  81.58896169,  73.55008213,  80.49325862,\n",
       "        85.84414228,  72.04937459,  84.9299575 , 102.61165793,\n",
       "        67.28158562,  85.32057521,  76.09593369,  62.72473019,\n",
       "        84.09923963])"
      ]
     },
     "execution_count": 63,
     "metadata": {},
     "output_type": "execute_result"
    }
   ],
   "source": [
    "y_pred = myPred(X_test,m,c)\n",
    "y_pred"
   ]
  }
 ],
 "metadata": {
  "kernelspec": {
   "display_name": "Python 3",
   "language": "python",
   "name": "python3"
  },
  "language_info": {
   "codemirror_mode": {
    "name": "ipython",
    "version": 3
   },
   "file_extension": ".py",
   "mimetype": "text/x-python",
   "name": "python",
   "nbconvert_exporter": "python",
   "pygments_lexer": "ipython3",
   "version": "3.8.8"
  }
 },
 "nbformat": 4,
 "nbformat_minor": 5
}
