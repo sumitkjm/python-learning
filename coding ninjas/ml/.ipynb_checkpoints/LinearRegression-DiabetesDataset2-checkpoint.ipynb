{
 "cells": [
  {
   "cell_type": "code",
   "execution_count": 1,
   "id": "ccbad998",
   "metadata": {},
   "outputs": [],
   "source": [
    "from sklearn import datasets"
   ]
  },
  {
   "cell_type": "code",
   "execution_count": 3,
   "id": "6a1a2ae0",
   "metadata": {},
   "outputs": [],
   "source": [
    "diabetes = datasets.load_diabetes()"
   ]
  },
  {
   "cell_type": "code",
   "execution_count": 5,
   "id": "666b35c0",
   "metadata": {},
   "outputs": [],
   "source": [
    "X = diabetes.data\n",
    "Y = diabetes.target"
   ]
  },
  {
   "cell_type": "code",
   "execution_count": 6,
   "id": "277183ae",
   "metadata": {},
   "outputs": [
    {
     "data": {
      "text/plain": [
       "(442, 10)"
      ]
     },
     "execution_count": 6,
     "metadata": {},
     "output_type": "execute_result"
    }
   ],
   "source": [
    "X.shape"
   ]
  },
  {
   "cell_type": "code",
   "execution_count": 9,
   "id": "1fd3d900",
   "metadata": {},
   "outputs": [
    {
     "data": {
      "text/html": [
       "<div>\n",
       "<style scoped>\n",
       "    .dataframe tbody tr th:only-of-type {\n",
       "        vertical-align: middle;\n",
       "    }\n",
       "\n",
       "    .dataframe tbody tr th {\n",
       "        vertical-align: top;\n",
       "    }\n",
       "\n",
       "    .dataframe thead th {\n",
       "        text-align: right;\n",
       "    }\n",
       "</style>\n",
       "<table border=\"1\" class=\"dataframe\">\n",
       "  <thead>\n",
       "    <tr style=\"text-align: right;\">\n",
       "      <th></th>\n",
       "      <th>age</th>\n",
       "      <th>sex</th>\n",
       "      <th>bmi</th>\n",
       "      <th>bp</th>\n",
       "      <th>s1</th>\n",
       "      <th>s2</th>\n",
       "      <th>s3</th>\n",
       "      <th>s4</th>\n",
       "      <th>s5</th>\n",
       "      <th>s6</th>\n",
       "    </tr>\n",
       "  </thead>\n",
       "  <tbody>\n",
       "    <tr>\n",
       "      <th>0</th>\n",
       "      <td>0.038076</td>\n",
       "      <td>0.050680</td>\n",
       "      <td>0.061696</td>\n",
       "      <td>0.021872</td>\n",
       "      <td>-0.044223</td>\n",
       "      <td>-0.034821</td>\n",
       "      <td>-0.043401</td>\n",
       "      <td>-0.002592</td>\n",
       "      <td>0.019908</td>\n",
       "      <td>-0.017646</td>\n",
       "    </tr>\n",
       "    <tr>\n",
       "      <th>1</th>\n",
       "      <td>-0.001882</td>\n",
       "      <td>-0.044642</td>\n",
       "      <td>-0.051474</td>\n",
       "      <td>-0.026328</td>\n",
       "      <td>-0.008449</td>\n",
       "      <td>-0.019163</td>\n",
       "      <td>0.074412</td>\n",
       "      <td>-0.039493</td>\n",
       "      <td>-0.068330</td>\n",
       "      <td>-0.092204</td>\n",
       "    </tr>\n",
       "    <tr>\n",
       "      <th>2</th>\n",
       "      <td>0.085299</td>\n",
       "      <td>0.050680</td>\n",
       "      <td>0.044451</td>\n",
       "      <td>-0.005671</td>\n",
       "      <td>-0.045599</td>\n",
       "      <td>-0.034194</td>\n",
       "      <td>-0.032356</td>\n",
       "      <td>-0.002592</td>\n",
       "      <td>0.002864</td>\n",
       "      <td>-0.025930</td>\n",
       "    </tr>\n",
       "    <tr>\n",
       "      <th>3</th>\n",
       "      <td>-0.089063</td>\n",
       "      <td>-0.044642</td>\n",
       "      <td>-0.011595</td>\n",
       "      <td>-0.036656</td>\n",
       "      <td>0.012191</td>\n",
       "      <td>0.024991</td>\n",
       "      <td>-0.036038</td>\n",
       "      <td>0.034309</td>\n",
       "      <td>0.022692</td>\n",
       "      <td>-0.009362</td>\n",
       "    </tr>\n",
       "    <tr>\n",
       "      <th>4</th>\n",
       "      <td>0.005383</td>\n",
       "      <td>-0.044642</td>\n",
       "      <td>-0.036385</td>\n",
       "      <td>0.021872</td>\n",
       "      <td>0.003935</td>\n",
       "      <td>0.015596</td>\n",
       "      <td>0.008142</td>\n",
       "      <td>-0.002592</td>\n",
       "      <td>-0.031991</td>\n",
       "      <td>-0.046641</td>\n",
       "    </tr>\n",
       "  </tbody>\n",
       "</table>\n",
       "</div>"
      ],
      "text/plain": [
       "        age       sex       bmi        bp        s1        s2        s3  \\\n",
       "0  0.038076  0.050680  0.061696  0.021872 -0.044223 -0.034821 -0.043401   \n",
       "1 -0.001882 -0.044642 -0.051474 -0.026328 -0.008449 -0.019163  0.074412   \n",
       "2  0.085299  0.050680  0.044451 -0.005671 -0.045599 -0.034194 -0.032356   \n",
       "3 -0.089063 -0.044642 -0.011595 -0.036656  0.012191  0.024991 -0.036038   \n",
       "4  0.005383 -0.044642 -0.036385  0.021872  0.003935  0.015596  0.008142   \n",
       "\n",
       "         s4        s5        s6  \n",
       "0 -0.002592  0.019908 -0.017646  \n",
       "1 -0.039493 -0.068330 -0.092204  \n",
       "2 -0.002592  0.002864 -0.025930  \n",
       "3  0.034309  0.022692 -0.009362  \n",
       "4 -0.002592 -0.031991 -0.046641  "
      ]
     },
     "execution_count": 9,
     "metadata": {},
     "output_type": "execute_result"
    }
   ],
   "source": [
    "import pandas as pd\n",
    "df = pd.DataFrame(X)\n",
    "df.columns = diabetes.feature_names\n",
    "df.head()"
   ]
  },
  {
   "cell_type": "code",
   "execution_count": 51,
   "id": "0565f971",
   "metadata": {},
   "outputs": [],
   "source": [
    "import numpy as np\n",
    "training_data=np.loadtxt('datasets/0000000000002329_training_diabetes_x_y_train.csv', delimiter=',')\n",
    "testing_data=np.loadtxt('datasets/0000000000002329_test_diabetes_x_test.csv', delimiter=',')\n",
    "print(testing_data.shape)\n",
    "print(training_data.shape)"
   ]
  },
  {
   "cell_type": "code",
   "execution_count": 52,
   "id": "d20eecb0",
   "metadata": {},
   "outputs": [],
   "source": [
    "'''\n",
    "X_train = train_data[:,9].reshape(-1,1)\n",
    "Y_train = train_data[:,10]\n",
    "X_test = test_data[:,9].reshape(-1,1)\n",
    "'''\n",
    "X_test=testing_data\n",
    "X_train=training_data[:, :10]\n",
    "Y_train=training_data[:, 10:]\n",
    "print(X_test.shape)\n",
    "print(Y_train.shape)\n",
    "print(X_train.shape)"
   ]
  },
  {
   "cell_type": "code",
   "execution_count": 53,
   "id": "6f48aabc",
   "metadata": {},
   "outputs": [
    {
     "data": {
      "text/plain": [
       "LinearRegression()"
      ]
     },
     "execution_count": 53,
     "metadata": {},
     "output_type": "execute_result"
    }
   ],
   "source": [
    "from sklearn.linear_model import LinearRegression\n",
    "alg1 = LinearRegression()\n",
    "alg1.fit(X_train,Y_train)"
   ]
  },
  {
   "cell_type": "code",
   "execution_count": 55,
   "id": "b265d7ec",
   "metadata": {},
   "outputs": [
    {
     "name": "stdout",
     "output_type": "stream",
     "text": [
      "m, c  [626.99937306] 149.66022546607653\n"
     ]
    }
   ],
   "source": [
    "m = alg1.coef_\n",
    "c = alg1.intercept_\n",
    "print(\"m, c \",m,c)"
   ]
  },
  {
   "cell_type": "code",
   "execution_count": 56,
   "id": "0248940a",
   "metadata": {},
   "outputs": [
    {
     "data": {
      "text/plain": [
       "array([141.19321,  97.04254, 151.58161,  94.44544, 120.41643, 104.83384,\n",
       "       123.01353, 151.58161, 148.98451, 143.79031, 161.97   , 190.53808,\n",
       "       125.61062, 167.1642 , 146.38741, 141.19321,  89.25125,  68.47446,\n",
       "       125.61062, 164.5671 , 115.22223, 154.17871, 146.38741, 159.3729 ,\n",
       "       180.14969, 130.80482, 148.98451, 143.79031, 195.73228, 224.30036,\n",
       "       177.55259, 151.58161, 154.17871, 159.3729 , 143.79031,  68.47446,\n",
       "       151.58161, 156.77581, 211.31487, 112.62513, 159.3729 , 169.7613 ,\n",
       "       130.80482, 161.97   , 146.38741, 146.38741, 123.01353, 193.13518,\n",
       "       156.77581, 172.3584 , 172.3584 , 206.12068, 143.79031, 135.99902,\n",
       "       123.01353, 143.79031, 224.30036, 107.43093, 169.7613 ,  91.84834,\n",
       "       187.94099, 115.22223, 164.5671 , 151.58161, 115.22223, 135.99902,\n",
       "       138.59612, 115.22223, 138.59612, 154.17871, 133.40192, 161.97   ,\n",
       "       203.52358, 143.79031, 141.19321, 138.59612, 154.17871, 130.80482,\n",
       "       156.77581, 117.81933, 161.97   , 167.1642 , 120.41643, 138.59612,\n",
       "       125.61062, 161.97   , 159.3729 , 151.58161, 169.7613 , 185.34389,\n",
       "       193.13518, 187.94099, 141.19321, 135.99902, 146.38741, 172.3584 ,\n",
       "       161.97   , 138.59612, 138.59612, 229.49456, 169.7613 ,  91.84834,\n",
       "       120.41643, 195.73228, 125.61062, 148.98451, 195.73228, 141.19321,\n",
       "       146.38741, 193.13518, 154.17871])"
      ]
     },
     "execution_count": 56,
     "metadata": {},
     "output_type": "execute_result"
    }
   ],
   "source": [
    "Y_pred = alg1.predict(X_test)\n",
    "Y_pred_decimal5 = np.around(Y_pred,decimals=5)\n",
    "Y_pred_decimal5"
   ]
  },
  {
   "cell_type": "code",
   "execution_count": 50,
   "id": "27face07",
   "metadata": {
    "scrolled": true
   },
   "outputs": [],
   "source": [
    "np.savetxt(\"pred.csv\",Y_pred_decimal5,delimiter=\",\",fmt='%f')"
   ]
  }
 ],
 "metadata": {
  "kernelspec": {
   "display_name": "Python 3",
   "language": "python",
   "name": "python3"
  },
  "language_info": {
   "codemirror_mode": {
    "name": "ipython",
    "version": 3
   },
   "file_extension": ".py",
   "mimetype": "text/x-python",
   "name": "python",
   "nbconvert_exporter": "python",
   "pygments_lexer": "ipython3",
   "version": "3.8.5"
  }
 },
 "nbformat": 4,
 "nbformat_minor": 5
}
