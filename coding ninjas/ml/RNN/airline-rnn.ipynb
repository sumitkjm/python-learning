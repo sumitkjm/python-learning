{
 "cells": [
  {
   "cell_type": "code",
   "execution_count": 1,
   "id": "27381d47",
   "metadata": {},
   "outputs": [],
   "source": [
    "from pandas import read_csv\n",
    "import numpy as np"
   ]
  },
  {
   "cell_type": "code",
   "execution_count": 2,
   "id": "8ddf4e06",
   "metadata": {},
   "outputs": [
    {
     "data": {
      "text/html": [
       "<div>\n",
       "<style scoped>\n",
       "    .dataframe tbody tr th:only-of-type {\n",
       "        vertical-align: middle;\n",
       "    }\n",
       "\n",
       "    .dataframe tbody tr th {\n",
       "        vertical-align: top;\n",
       "    }\n",
       "\n",
       "    .dataframe thead th {\n",
       "        text-align: right;\n",
       "    }\n",
       "</style>\n",
       "<table border=\"1\" class=\"dataframe\">\n",
       "  <thead>\n",
       "    <tr style=\"text-align: right;\">\n",
       "      <th></th>\n",
       "      <th>International airline passengers: monthly totals in thousands. Jan 49 ? Dec 60</th>\n",
       "    </tr>\n",
       "  </thead>\n",
       "  <tbody>\n",
       "    <tr>\n",
       "      <th>count</th>\n",
       "      <td>144.000000</td>\n",
       "    </tr>\n",
       "    <tr>\n",
       "      <th>mean</th>\n",
       "      <td>280.298611</td>\n",
       "    </tr>\n",
       "    <tr>\n",
       "      <th>std</th>\n",
       "      <td>119.966317</td>\n",
       "    </tr>\n",
       "    <tr>\n",
       "      <th>min</th>\n",
       "      <td>104.000000</td>\n",
       "    </tr>\n",
       "    <tr>\n",
       "      <th>25%</th>\n",
       "      <td>180.000000</td>\n",
       "    </tr>\n",
       "    <tr>\n",
       "      <th>50%</th>\n",
       "      <td>265.500000</td>\n",
       "    </tr>\n",
       "    <tr>\n",
       "      <th>75%</th>\n",
       "      <td>360.500000</td>\n",
       "    </tr>\n",
       "    <tr>\n",
       "      <th>max</th>\n",
       "      <td>622.000000</td>\n",
       "    </tr>\n",
       "  </tbody>\n",
       "</table>\n",
       "</div>"
      ],
      "text/plain": [
       "       International airline passengers: monthly totals in thousands. Jan 49 ? Dec 60\n",
       "count                                         144.000000                             \n",
       "mean                                          280.298611                             \n",
       "std                                           119.966317                             \n",
       "min                                           104.000000                             \n",
       "25%                                           180.000000                             \n",
       "50%                                           265.500000                             \n",
       "75%                                           360.500000                             \n",
       "max                                           622.000000                             "
      ]
     },
     "execution_count": 2,
     "metadata": {},
     "output_type": "execute_result"
    }
   ],
   "source": [
    "df = read_csv('international-airline-passengers.csv',usecols=[1])\n",
    "df.describe()"
   ]
  },
  {
   "cell_type": "code",
   "execution_count": 3,
   "id": "f57f62de",
   "metadata": {},
   "outputs": [
    {
     "data": {
      "text/plain": [
       "(144, 1)"
      ]
     },
     "execution_count": 3,
     "metadata": {},
     "output_type": "execute_result"
    }
   ],
   "source": [
    "values = df.values.astype('float32')\n",
    "values.shape"
   ]
  },
  {
   "cell_type": "code",
   "execution_count": 4,
   "id": "b10ca70f",
   "metadata": {},
   "outputs": [],
   "source": [
    "train_size = int(values.shape[0]*0.67)\n",
    "test_size = values.shape[0] - train_size\n",
    "train = values[0:train_size]\n",
    "test = values[train_size:]"
   ]
  },
  {
   "cell_type": "code",
   "execution_count": 5,
   "id": "3b9d4416",
   "metadata": {},
   "outputs": [],
   "source": [
    "from sklearn.preprocessing import MinMaxScaler\n",
    "scaler = MinMaxScaler(feature_range=(0,1))\n",
    "train = scaler.fit_transform(train)\n",
    "test = scaler.transform(test)"
   ]
  },
  {
   "cell_type": "code",
   "execution_count": 6,
   "id": "80074f9d",
   "metadata": {},
   "outputs": [],
   "source": [
    "def create_dataset(data,k):\n",
    "    dataX,dataY = [],[]\n",
    "    for i in range(data.shape[0] - k):\n",
    "        x = data[i:i+k,0]\n",
    "        y = data[i+k,0]\n",
    "        dataX.append(x)\n",
    "        dataY.append(y)\n",
    "    return np.array(dataX),np.array(dataY)"
   ]
  },
  {
   "cell_type": "code",
   "execution_count": 7,
   "id": "7788dd12",
   "metadata": {},
   "outputs": [
    {
     "data": {
      "text/plain": [
       "(48, 1)"
      ]
     },
     "execution_count": 7,
     "metadata": {},
     "output_type": "execute_result"
    }
   ],
   "source": [
    "test.shape"
   ]
  },
  {
   "cell_type": "code",
   "execution_count": 8,
   "id": "f8807d36",
   "metadata": {},
   "outputs": [],
   "source": [
    "look_back = 12\n",
    "trainX,trainY = create_dataset(train,look_back)\n",
    "testX,testY = create_dataset(test,look_back)"
   ]
  },
  {
   "cell_type": "code",
   "execution_count": 9,
   "id": "ad491f17",
   "metadata": {},
   "outputs": [],
   "source": [
    "from keras.models import Sequential\n",
    "from keras.layers import SimpleRNN, Dense"
   ]
  },
  {
   "cell_type": "code",
   "execution_count": 10,
   "id": "7bd5525e",
   "metadata": {},
   "outputs": [
    {
     "name": "stdout",
     "output_type": "stream",
     "text": [
      "Epoch 1/100\n",
      "84/84 [==============================] - 1s 1ms/step - loss: 0.0308\n",
      "Epoch 2/100\n",
      "84/84 [==============================] - 0s 1ms/step - loss: 0.0130\n",
      "Epoch 3/100\n",
      "84/84 [==============================] - 0s 1ms/step - loss: 0.0112\n",
      "Epoch 4/100\n",
      "84/84 [==============================] - 0s 1ms/step - loss: 0.0104\n",
      "Epoch 5/100\n",
      "84/84 [==============================] - 0s 1ms/step - loss: 0.0100\n",
      "Epoch 6/100\n",
      "84/84 [==============================] - 0s 1ms/step - loss: 0.0093\n",
      "Epoch 7/100\n",
      "84/84 [==============================] - 0s 1ms/step - loss: 0.0091\n",
      "Epoch 8/100\n",
      "84/84 [==============================] - 0s 1ms/step - loss: 0.0085\n",
      "Epoch 9/100\n",
      "84/84 [==============================] - 0s 1ms/step - loss: 0.0080\n",
      "Epoch 10/100\n",
      "84/84 [==============================] - 0s 1ms/step - loss: 0.0077\n",
      "Epoch 11/100\n",
      "84/84 [==============================] - 0s 1ms/step - loss: 0.0075\n",
      "Epoch 12/100\n",
      "84/84 [==============================] - 0s 1ms/step - loss: 0.0072\n",
      "Epoch 13/100\n",
      "84/84 [==============================] - 0s 1ms/step - loss: 0.0073\n",
      "Epoch 14/100\n",
      "84/84 [==============================] - 0s 1ms/step - loss: 0.0070\n",
      "Epoch 15/100\n",
      "84/84 [==============================] - 0s 1ms/step - loss: 0.0068\n",
      "Epoch 16/100\n",
      "84/84 [==============================] - 0s 1ms/step - loss: 0.0068\n",
      "Epoch 17/100\n",
      "84/84 [==============================] - 0s 1ms/step - loss: 0.0066\n",
      "Epoch 18/100\n",
      "84/84 [==============================] - 0s 1ms/step - loss: 0.0067\n",
      "Epoch 19/100\n",
      "84/84 [==============================] - 0s 1ms/step - loss: 0.0064\n",
      "Epoch 20/100\n",
      "84/84 [==============================] - 0s 1ms/step - loss: 0.0066\n",
      "Epoch 21/100\n",
      "84/84 [==============================] - 0s 1ms/step - loss: 0.0064\n",
      "Epoch 22/100\n",
      "84/84 [==============================] - 0s 1ms/step - loss: 0.0063\n",
      "Epoch 23/100\n",
      "84/84 [==============================] - 0s 1ms/step - loss: 0.0062\n",
      "Epoch 24/100\n",
      "84/84 [==============================] - 0s 1ms/step - loss: 0.0062\n",
      "Epoch 25/100\n",
      "84/84 [==============================] - 0s 1ms/step - loss: 0.0064\n",
      "Epoch 26/100\n",
      "84/84 [==============================] - 0s 1ms/step - loss: 0.0061\n",
      "Epoch 27/100\n",
      "84/84 [==============================] - 0s 1ms/step - loss: 0.0058\n",
      "Epoch 28/100\n",
      "84/84 [==============================] - 0s 1ms/step - loss: 0.0061\n",
      "Epoch 29/100\n",
      "84/84 [==============================] - 0s 1ms/step - loss: 0.0061\n",
      "Epoch 30/100\n",
      "84/84 [==============================] - 0s 1ms/step - loss: 0.0059\n",
      "Epoch 31/100\n",
      "84/84 [==============================] - 0s 1ms/step - loss: 0.0057\n",
      "Epoch 32/100\n",
      "84/84 [==============================] - 0s 1ms/step - loss: 0.0057\n",
      "Epoch 33/100\n",
      "84/84 [==============================] - 0s 1ms/step - loss: 0.0059\n",
      "Epoch 34/100\n",
      "84/84 [==============================] - 0s 1ms/step - loss: 0.0060\n",
      "Epoch 35/100\n",
      "84/84 [==============================] - 0s 1ms/step - loss: 0.0058\n",
      "Epoch 36/100\n",
      "84/84 [==============================] - 0s 2ms/step - loss: 0.0055\n",
      "Epoch 37/100\n",
      "84/84 [==============================] - 0s 1ms/step - loss: 0.0057\n",
      "Epoch 38/100\n",
      "84/84 [==============================] - 0s 1ms/step - loss: 0.0056\n",
      "Epoch 39/100\n",
      "84/84 [==============================] - 0s 1ms/step - loss: 0.0055\n",
      "Epoch 40/100\n",
      "84/84 [==============================] - 0s 1ms/step - loss: 0.0055\n",
      "Epoch 41/100\n",
      "84/84 [==============================] - 0s 1ms/step - loss: 0.0058\n",
      "Epoch 42/100\n",
      "84/84 [==============================] - 0s 1ms/step - loss: 0.0055\n",
      "Epoch 43/100\n",
      "84/84 [==============================] - 0s 1ms/step - loss: 0.0057\n",
      "Epoch 44/100\n",
      "84/84 [==============================] - 0s 1ms/step - loss: 0.0056\n",
      "Epoch 45/100\n",
      "84/84 [==============================] - 0s 1ms/step - loss: 0.0053\n",
      "Epoch 46/100\n",
      "84/84 [==============================] - 0s 1ms/step - loss: 0.0055\n",
      "Epoch 47/100\n",
      "84/84 [==============================] - 0s 1ms/step - loss: 0.0056\n",
      "Epoch 48/100\n",
      "84/84 [==============================] - 0s 1ms/step - loss: 0.0052\n",
      "Epoch 49/100\n",
      "84/84 [==============================] - 0s 1ms/step - loss: 0.0052\n",
      "Epoch 50/100\n",
      "84/84 [==============================] - 0s 1ms/step - loss: 0.0053\n",
      "Epoch 51/100\n",
      "84/84 [==============================] - 0s 1ms/step - loss: 0.0055\n",
      "Epoch 52/100\n",
      "84/84 [==============================] - 0s 1ms/step - loss: 0.0051\n",
      "Epoch 53/100\n",
      "84/84 [==============================] - 0s 1ms/step - loss: 0.0058\n",
      "Epoch 54/100\n",
      "84/84 [==============================] - 0s 1ms/step - loss: 0.0052\n",
      "Epoch 55/100\n",
      "84/84 [==============================] - 0s 1ms/step - loss: 0.0048\n",
      "Epoch 56/100\n",
      "84/84 [==============================] - 0s 1ms/step - loss: 0.0054\n",
      "Epoch 57/100\n",
      "84/84 [==============================] - 0s 1ms/step - loss: 0.0049\n",
      "Epoch 58/100\n",
      "84/84 [==============================] - 0s 1ms/step - loss: 0.0050\n",
      "Epoch 59/100\n",
      "84/84 [==============================] - 0s 1ms/step - loss: 0.0048\n",
      "Epoch 60/100\n",
      "84/84 [==============================] - 0s 1ms/step - loss: 0.0048\n",
      "Epoch 61/100\n",
      "84/84 [==============================] - 0s 1ms/step - loss: 0.0047\n",
      "Epoch 62/100\n",
      "84/84 [==============================] - 0s 1ms/step - loss: 0.0048\n",
      "Epoch 63/100\n",
      "84/84 [==============================] - 0s 1ms/step - loss: 0.0047\n",
      "Epoch 64/100\n",
      "84/84 [==============================] - 0s 1ms/step - loss: 0.0047\n",
      "Epoch 65/100\n",
      "84/84 [==============================] - 0s 1ms/step - loss: 0.0047\n",
      "Epoch 66/100\n",
      "84/84 [==============================] - 0s 1ms/step - loss: 0.0046\n",
      "Epoch 67/100\n",
      "84/84 [==============================] - 0s 1ms/step - loss: 0.0047\n",
      "Epoch 68/100\n",
      "84/84 [==============================] - 0s 1ms/step - loss: 0.0047\n",
      "Epoch 69/100\n",
      "84/84 [==============================] - 0s 1ms/step - loss: 0.0045\n",
      "Epoch 70/100\n",
      "84/84 [==============================] - 0s 1ms/step - loss: 0.0044\n",
      "Epoch 71/100\n",
      "84/84 [==============================] - 0s 1ms/step - loss: 0.0046\n",
      "Epoch 72/100\n",
      "84/84 [==============================] - 0s 1ms/step - loss: 0.0041\n",
      "Epoch 73/100\n",
      "84/84 [==============================] - 0s 1ms/step - loss: 0.0045\n",
      "Epoch 74/100\n",
      "84/84 [==============================] - 0s 1ms/step - loss: 0.0044\n",
      "Epoch 75/100\n",
      "84/84 [==============================] - 0s 1ms/step - loss: 0.0043\n",
      "Epoch 76/100\n",
      "84/84 [==============================] - 0s 1ms/step - loss: 0.0043\n",
      "Epoch 77/100\n",
      "84/84 [==============================] - 0s 1ms/step - loss: 0.0040\n",
      "Epoch 78/100\n",
      "84/84 [==============================] - 0s 1ms/step - loss: 0.0047\n",
      "Epoch 79/100\n",
      "84/84 [==============================] - 0s 2ms/step - loss: 0.0043\n",
      "Epoch 80/100\n",
      "84/84 [==============================] - 0s 1ms/step - loss: 0.0041\n",
      "Epoch 81/100\n",
      "84/84 [==============================] - 0s 1ms/step - loss: 0.0041\n",
      "Epoch 82/100\n",
      "84/84 [==============================] - 0s 1ms/step - loss: 0.0039\n",
      "Epoch 83/100\n",
      "84/84 [==============================] - 0s 1ms/step - loss: 0.0043\n",
      "Epoch 84/100\n",
      "84/84 [==============================] - 0s 1ms/step - loss: 0.0042\n",
      "Epoch 85/100\n",
      "84/84 [==============================] - 0s 1ms/step - loss: 0.0039\n",
      "Epoch 86/100\n",
      "84/84 [==============================] - 0s 1ms/step - loss: 0.0036\n",
      "Epoch 87/100\n",
      "84/84 [==============================] - 0s 2ms/step - loss: 0.0041\n",
      "Epoch 88/100\n",
      "84/84 [==============================] - 0s 2ms/step - loss: 0.0038\n",
      "Epoch 89/100\n",
      "84/84 [==============================] - 0s 1ms/step - loss: 0.0037\n",
      "Epoch 90/100\n",
      "84/84 [==============================] - 0s 1ms/step - loss: 0.0040\n",
      "Epoch 91/100\n",
      "84/84 [==============================] - 0s 1ms/step - loss: 0.0038\n",
      "Epoch 92/100\n",
      "84/84 [==============================] - 0s 1ms/step - loss: 0.0033\n",
      "Epoch 93/100\n",
      "84/84 [==============================] - 0s 1ms/step - loss: 0.0036\n",
      "Epoch 94/100\n",
      "84/84 [==============================] - 0s 1ms/step - loss: 0.0036\n",
      "Epoch 95/100\n",
      "84/84 [==============================] - 0s 1ms/step - loss: 0.0037\n",
      "Epoch 96/100\n",
      "84/84 [==============================] - 0s 1ms/step - loss: 0.0033\n",
      "Epoch 97/100\n",
      "84/84 [==============================] - 0s 1ms/step - loss: 0.0034\n",
      "Epoch 98/100\n",
      "84/84 [==============================] - 0s 1ms/step - loss: 0.0032\n",
      "Epoch 99/100\n",
      "84/84 [==============================] - 0s 1ms/step - loss: 0.0033\n",
      "Epoch 100/100\n",
      "84/84 [==============================] - 0s 1ms/step - loss: 0.0033\n"
     ]
    },
    {
     "data": {
      "text/plain": [
       "<keras.callbacks.History at 0x7f93b3a18760>"
      ]
     },
     "execution_count": 10,
     "metadata": {},
     "output_type": "execute_result"
    }
   ],
   "source": [
    "model = Sequential()\n",
    "model.add(SimpleRNN(4,input_shape=(look_back,1)))\n",
    "model.add(Dense(1))\n",
    "model.compile(loss='mean_squared_error',optimizer='adam')\n",
    "model.fit(trainX,trainY,epochs=100,batch_size=1)"
   ]
  },
  {
   "cell_type": "code",
   "execution_count": 11,
   "id": "62184c4c",
   "metadata": {},
   "outputs": [
    {
     "data": {
      "text/plain": [
       "((36,), (36,))"
      ]
     },
     "execution_count": 11,
     "metadata": {},
     "output_type": "execute_result"
    }
   ],
   "source": [
    "testPredict = model.predict(testX)\n",
    "testPredict = scaler.inverse_transform(testPredict).ravel()\n",
    "\n",
    "trainPredict = model.predict(trainX)\n",
    "trainPredict = scaler.inverse_transform(trainPredict).ravel()\n",
    "\n",
    "testTrue = scaler.inverse_transform([testY]).ravel()\n",
    "trainTrue = scaler.inverse_transform([trainY]).ravel()\n",
    "\n",
    "testPredict.shape,testTrue.shape"
   ]
  },
  {
   "cell_type": "code",
   "execution_count": 12,
   "id": "1914a60c",
   "metadata": {},
   "outputs": [],
   "source": [
    "from matplotlib import pyplot as plt"
   ]
  },
  {
   "cell_type": "code",
   "execution_count": 13,
   "id": "628a540d",
   "metadata": {},
   "outputs": [
    {
     "data": {
      "image/png": "[encoded data removed]",
      "text/plain": [
       "<Figure size 432x288 with 1 Axes>"
      ]
     },
     "metadata": {
      "needs_background": "light"
     },
     "output_type": "display_data"
    }
   ],
   "source": [
    "plt.plot(trainTrue,c='g')\n",
    "plt.plot(trainPredict,c='b')\n",
    "plt.show()"
   ]
  },
  {
   "cell_type": "code",
   "execution_count": 16,
   "id": "596c7808",
   "metadata": {},
   "outputs": [
    {
     "data": {
      "image/png": "[encoded data removed]",
      "text/plain": [
       "<Figure size 432x288 with 1 Axes>"
      ]
     },
     "metadata": {
      "needs_background": "light"
     },
     "output_type": "display_data"
    }
   ],
   "source": [
    "combinedPredicted = np.concatenate((trainPredict,testPredict))\n",
    "combinedTrue = np.concatenate((trainTrue,testTrue))\n",
    "plt.plot(combinedTrue,c='g')\n",
    "plt.plot(combinedPredicted,c='b')\n",
    "plt.show()"
   ]
  }
 ],
 "metadata": {
  "kernelspec": {
   "display_name": "Python 3",
   "language": "python",
   "name": "python3"
  },
  "language_info": {
   "codemirror_mode": {
    "name": "ipython",
    "version": 3
   },
   "file_extension": ".py",
   "mimetype": "text/x-python",
   "name": "python",
   "nbconvert_exporter": "python",
   "pygments_lexer": "ipython3",
   "version": "3.8.8"
  }
 },
 "nbformat": 4,
 "nbformat_minor": 5
}
