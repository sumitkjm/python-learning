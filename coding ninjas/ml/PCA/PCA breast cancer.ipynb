{
 "cells": [
  {
   "cell_type": "code",
   "execution_count": 1,
   "id": "3fcf4a92",
   "metadata": {},
   "outputs": [],
   "source": [
    "from sklearn import decomposition, linear_model, datasets\n",
    "import numpy as np\n",
    "import time\n",
    "from sklearn.preprocessing import StandardScaler\n",
    "from sklearn.model_selection import train_test_split"
   ]
  },
  {
   "cell_type": "code",
   "execution_count": 2,
   "id": "96785a7a",
   "metadata": {},
   "outputs": [],
   "source": [
    "breast_cancer = datasets.load_breast_cancer()"
   ]
  },
  {
   "cell_type": "code",
   "execution_count": 3,
   "id": "dafeea5e",
   "metadata": {},
   "outputs": [
    {
     "data": {
      "text/plain": [
       "(569, 30)"
      ]
     },
     "execution_count": 3,
     "metadata": {},
     "output_type": "execute_result"
    }
   ],
   "source": [
    "X = breast_cancer.data\n",
    "X.shape"
   ]
  },
  {
   "cell_type": "code",
   "execution_count": 4,
   "id": "39e72b95",
   "metadata": {},
   "outputs": [],
   "source": [
    "sc = StandardScaler()\n",
    "X_std = sc.fit_transform(X)"
   ]
  },
  {
   "cell_type": "code",
   "execution_count": 5,
   "id": "a08c591b",
   "metadata": {},
   "outputs": [],
   "source": [
    "x_train, x_test, y_train, y_test = train_test_split(X_std,breast_cancer.target,random_state=0)"
   ]
  },
  {
   "cell_type": "code",
   "execution_count": 12,
   "id": "f55d5eeb",
   "metadata": {},
   "outputs": [],
   "source": [
    "pca = decomposition.PCA()"
   ]
  },
  {
   "cell_type": "code",
   "execution_count": 14,
   "id": "d3a532f5",
   "metadata": {},
   "outputs": [
    {
     "data": {
      "text/plain": [
       "array([[-2.83807710e+00, -3.19380204e-01, -5.09786956e-01, ...,\n",
       "         2.21524204e-03,  1.76560105e-02,  2.17290491e-03],\n",
       "       [-3.23881077e+00,  9.46695152e-01,  1.46301470e+00, ...,\n",
       "        -3.50930341e-03,  1.56914143e-02,  1.44518116e-02],\n",
       "       [ 3.92831902e+00, -3.30091570e+00,  1.84183164e+00, ...,\n",
       "         2.00501871e-02, -3.44990391e-02, -1.16657352e-02],\n",
       "       ...,\n",
       "       [-3.17962251e+00,  4.33267733e-01,  5.77005027e-01, ...,\n",
       "         3.85704447e-02, -4.18716728e-02,  1.59435183e-02],\n",
       "       [-5.59141525e+00, -7.52889177e-01,  4.06478207e+00, ...,\n",
       "         1.97618354e-02, -1.70355933e-02,  4.38111630e-03],\n",
       "       [-1.20802261e+00,  1.32965049e+00,  1.26115052e+00, ...,\n",
       "        -1.32544095e-02, -1.58653526e-03, -1.14601436e-02]])"
      ]
     },
     "execution_count": 14,
     "metadata": {},
     "output_type": "execute_result"
    }
   ],
   "source": [
    "pca.fit_transform(x_train)"
   ]
  },
  {
   "cell_type": "code",
   "execution_count": 16,
   "id": "9679dc06",
   "metadata": {},
   "outputs": [
    {
     "data": {
      "text/plain": [
       "array([1.30274684e+01, 5.81556555e+00, 2.85848795e+00, 1.91901713e+00,\n",
       "       1.70021491e+00, 1.20663908e+00, 6.53337152e-01, 4.26738474e-01,\n",
       "       4.26450541e-01, 3.45589858e-01, 3.08054910e-01, 2.56054468e-01,\n",
       "       2.28152003e-01, 1.43262745e-01, 9.26283031e-02, 7.80260477e-02,\n",
       "       6.13812037e-02, 5.26182531e-02, 4.50933578e-02, 3.08275366e-02,\n",
       "       3.03277956e-02, 2.51390631e-02, 2.12226717e-02, 1.77427715e-02,\n",
       "       1.63886382e-02, 7.83681541e-03, 6.61084728e-03, 1.45257891e-03,\n",
       "       7.98794510e-04, 1.11908784e-04])"
      ]
     },
     "execution_count": 16,
     "metadata": {},
     "output_type": "execute_result"
    }
   ],
   "source": [
    "pca.explained_variance_"
   ]
  },
  {
   "cell_type": "code",
   "execution_count": 21,
   "id": "d3184cb1",
   "metadata": {},
   "outputs": [
    {
     "name": "stdout",
     "output_type": "stream",
     "text": [
      "10\n"
     ]
    }
   ],
   "source": [
    "total = sum(pca.explained_variance_)\n",
    "k = 0\n",
    "current_variance = 0\n",
    "while current_variance/total < 0.95:\n",
    "    current_variance += pca.explained_variance_[k]\n",
    "    k+=1\n",
    "print(k)"
   ]
  },
  {
   "cell_type": "code",
   "execution_count": 6,
   "id": "4db7e60e",
   "metadata": {},
   "outputs": [
    {
     "data": {
      "text/plain": [
       "(143, 15)"
      ]
     },
     "execution_count": 6,
     "metadata": {},
     "output_type": "execute_result"
    }
   ],
   "source": [
    "pca = decomposition.PCA(n_components = 15)\n",
    "x_train_pca = pca.fit_transform(x_train)\n",
    "x_test_pca = pca.transform(x_test)\n",
    "x_test_pca.shape"
   ]
  },
  {
   "cell_type": "code",
   "execution_count": 11,
   "id": "deacda1a",
   "metadata": {},
   "outputs": [
    {
     "name": "stdout",
     "output_type": "stream",
     "text": [
      "0.012123823165893555\n",
      "0.965034965034965\n"
     ]
    }
   ],
   "source": [
    "# without PCA\n",
    "lr = linear_model.LogisticRegression()\n",
    "start = time.time()\n",
    "lr.fit(x_train,y_train)\n",
    "end = time.time()\n",
    "print(end-start)\n",
    "print(lr.score(x_test,y_test))\n"
   ]
  },
  {
   "cell_type": "code",
   "execution_count": 10,
   "id": "e8763f9f",
   "metadata": {},
   "outputs": [
    {
     "name": "stdout",
     "output_type": "stream",
     "text": [
      "0.0074770450592041016\n",
      "0.958041958041958\n"
     ]
    }
   ],
   "source": [
    "# with PCA\n",
    "lr = linear_model.LogisticRegression()\n",
    "start = time.time()\n",
    "lr.fit(x_train_pca,y_train)\n",
    "end = time.time()\n",
    "print(end-start)\n",
    "print(lr.score(x_test_pca,y_test))"
   ]
  }
 ],
 "metadata": {
  "kernelspec": {
   "display_name": "Python 3 (ipykernel)",
   "language": "python",
   "name": "python3"
  },
  "language_info": {
   "codemirror_mode": {
    "name": "ipython",
    "version": 3
   },
   "file_extension": ".py",
   "mimetype": "text/x-python",
   "name": "python",
   "nbconvert_exporter": "python",
   "pygments_lexer": "ipython3",
   "version": "3.10.4"
  }
 },
 "nbformat": 4,
 "nbformat_minor": 5
}
