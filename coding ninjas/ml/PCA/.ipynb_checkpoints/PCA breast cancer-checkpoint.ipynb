{
 "cells": [
  {
   "cell_type": "code",
   "execution_count": 1,
   "id": "3fcf4a92",
   "metadata": {},
   "outputs": [],
   "source": [
    "from sklearn import decomposition, linear_model, datasets\n",
    "import numpy as np\n",
    "import time\n",
    "from sklearn.preprocessing import StandardScaler\n",
    "from sklearn.model_selection import train_test_split"
   ]
  },
  {
   "cell_type": "code",
   "execution_count": 2,
   "id": "96785a7a",
   "metadata": {},
   "outputs": [],
   "source": [
    "breast_cancer = datasets.load_breast_cancer()"
   ]
  },
  {
   "cell_type": "code",
   "execution_count": 3,
   "id": "dafeea5e",
   "metadata": {},
   "outputs": [
    {
     "data": {
      "text/plain": [
       "(569, 30)"
      ]
     },
     "execution_count": 3,
     "metadata": {},
     "output_type": "execute_result"
    }
   ],
   "source": [
    "X = breast_cancer.data\n",
    "X.shape"
   ]
  },
  {
   "cell_type": "code",
   "execution_count": 4,
   "id": "39e72b95",
   "metadata": {},
   "outputs": [],
   "source": [
    "sc = StandardScaler()\n",
    "X_std = sc.fit_transform(X)"
   ]
  },
  {
   "cell_type": "code",
   "execution_count": 5,
   "id": "a08c591b",
   "metadata": {},
   "outputs": [],
   "source": [
    "x_train, x_test, y_train, y_test = train_test_split(X_std,breast_cancer.target,random_state=0)"
   ]
  },
  {
   "cell_type": "code",
   "execution_count": 6,
   "id": "4db7e60e",
   "metadata": {},
   "outputs": [
    {
     "data": {
      "text/plain": [
       "(143, 15)"
      ]
     },
     "execution_count": 6,
     "metadata": {},
     "output_type": "execute_result"
    }
   ],
   "source": [
    "pca = decomposition.PCA(n_components = 15)\n",
    "x_train_pca = pca.fit_transform(x_train)\n",
    "x_test_pca = pca.transform(x_test)\n",
    "x_test_pca.shape"
   ]
  },
  {
   "cell_type": "code",
   "execution_count": 11,
   "id": "deacda1a",
   "metadata": {},
   "outputs": [
    {
     "name": "stdout",
     "output_type": "stream",
     "text": [
      "0.012123823165893555\n",
      "0.965034965034965\n"
     ]
    }
   ],
   "source": [
    "# without PCA\n",
    "lr = linear_model.LogisticRegression()\n",
    "start = time.time()\n",
    "lr.fit(x_train,y_train)\n",
    "end = time.time()\n",
    "print(end-start)\n",
    "print(lr.score(x_test,y_test))\n"
   ]
  },
  {
   "cell_type": "code",
   "execution_count": 10,
   "id": "e8763f9f",
   "metadata": {},
   "outputs": [
    {
     "name": "stdout",
     "output_type": "stream",
     "text": [
      "0.0074770450592041016\n",
      "0.958041958041958\n"
     ]
    }
   ],
   "source": [
    "# with PCA\n",
    "lr = linear_model.LogisticRegression()\n",
    "start = time.time()\n",
    "lr.fit(x_train_pca,y_train)\n",
    "end = time.time()\n",
    "print(end-start)\n",
    "print(lr.score(x_test_pca,y_test))"
   ]
  }
 ],
 "metadata": {
  "kernelspec": {
   "display_name": "Python 3 (ipykernel)",
   "language": "python",
   "name": "python3"
  },
  "language_info": {
   "codemirror_mode": {
    "name": "ipython",
    "version": 3
   },
   "file_extension": ".py",
   "mimetype": "text/x-python",
   "name": "python",
   "nbconvert_exporter": "python",
   "pygments_lexer": "ipython3",
   "version": "3.10.4"
  }
 },
 "nbformat": 4,
 "nbformat_minor": 5
}
