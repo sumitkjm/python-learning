{
 "cells": [
  {
   "cell_type": "code",
   "execution_count": 1,
   "id": "ccbad998",
   "metadata": {},
   "outputs": [],
   "source": [
    "from sklearn import datasets"
   ]
  },
  {
   "cell_type": "code",
   "execution_count": 2,
   "id": "6a1a2ae0",
   "metadata": {},
   "outputs": [],
   "source": [
    "diabetes = datasets.load_diabetes()"
   ]
  },
  {
   "cell_type": "code",
   "execution_count": 3,
   "id": "666b35c0",
   "metadata": {},
   "outputs": [],
   "source": [
    "X = diabetes.data\n",
    "Y = diabetes.target"
   ]
  },
  {
   "cell_type": "code",
   "execution_count": 4,
   "id": "277183ae",
   "metadata": {},
   "outputs": [
    {
     "data": {
      "text/plain": [
       "(442, 10)"
      ]
     },
     "execution_count": 4,
     "metadata": {},
     "output_type": "execute_result"
    }
   ],
   "source": [
    "X.shape"
   ]
  },
  {
   "cell_type": "code",
   "execution_count": 9,
   "id": "1fd3d900",
   "metadata": {},
   "outputs": [
    {
     "data": {
      "text/html": [
       "<div>\n",
       "<style scoped>\n",
       "    .dataframe tbody tr th:only-of-type {\n",
       "        vertical-align: middle;\n",
       "    }\n",
       "\n",
       "    .dataframe tbody tr th {\n",
       "        vertical-align: top;\n",
       "    }\n",
       "\n",
       "    .dataframe thead th {\n",
       "        text-align: right;\n",
       "    }\n",
       "</style>\n",
       "<table border=\"1\" class=\"dataframe\">\n",
       "  <thead>\n",
       "    <tr style=\"text-align: right;\">\n",
       "      <th></th>\n",
       "      <th>age</th>\n",
       "      <th>sex</th>\n",
       "      <th>bmi</th>\n",
       "      <th>bp</th>\n",
       "      <th>s1</th>\n",
       "      <th>s2</th>\n",
       "      <th>s3</th>\n",
       "      <th>s4</th>\n",
       "      <th>s5</th>\n",
       "      <th>s6</th>\n",
       "    </tr>\n",
       "  </thead>\n",
       "  <tbody>\n",
       "    <tr>\n",
       "      <th>0</th>\n",
       "      <td>0.038076</td>\n",
       "      <td>0.050680</td>\n",
       "      <td>0.061696</td>\n",
       "      <td>0.021872</td>\n",
       "      <td>-0.044223</td>\n",
       "      <td>-0.034821</td>\n",
       "      <td>-0.043401</td>\n",
       "      <td>-0.002592</td>\n",
       "      <td>0.019908</td>\n",
       "      <td>-0.017646</td>\n",
       "    </tr>\n",
       "    <tr>\n",
       "      <th>1</th>\n",
       "      <td>-0.001882</td>\n",
       "      <td>-0.044642</td>\n",
       "      <td>-0.051474</td>\n",
       "      <td>-0.026328</td>\n",
       "      <td>-0.008449</td>\n",
       "      <td>-0.019163</td>\n",
       "      <td>0.074412</td>\n",
       "      <td>-0.039493</td>\n",
       "      <td>-0.068330</td>\n",
       "      <td>-0.092204</td>\n",
       "    </tr>\n",
       "    <tr>\n",
       "      <th>2</th>\n",
       "      <td>0.085299</td>\n",
       "      <td>0.050680</td>\n",
       "      <td>0.044451</td>\n",
       "      <td>-0.005671</td>\n",
       "      <td>-0.045599</td>\n",
       "      <td>-0.034194</td>\n",
       "      <td>-0.032356</td>\n",
       "      <td>-0.002592</td>\n",
       "      <td>0.002864</td>\n",
       "      <td>-0.025930</td>\n",
       "    </tr>\n",
       "    <tr>\n",
       "      <th>3</th>\n",
       "      <td>-0.089063</td>\n",
       "      <td>-0.044642</td>\n",
       "      <td>-0.011595</td>\n",
       "      <td>-0.036656</td>\n",
       "      <td>0.012191</td>\n",
       "      <td>0.024991</td>\n",
       "      <td>-0.036038</td>\n",
       "      <td>0.034309</td>\n",
       "      <td>0.022692</td>\n",
       "      <td>-0.009362</td>\n",
       "    </tr>\n",
       "    <tr>\n",
       "      <th>4</th>\n",
       "      <td>0.005383</td>\n",
       "      <td>-0.044642</td>\n",
       "      <td>-0.036385</td>\n",
       "      <td>0.021872</td>\n",
       "      <td>0.003935</td>\n",
       "      <td>0.015596</td>\n",
       "      <td>0.008142</td>\n",
       "      <td>-0.002592</td>\n",
       "      <td>-0.031991</td>\n",
       "      <td>-0.046641</td>\n",
       "    </tr>\n",
       "  </tbody>\n",
       "</table>\n",
       "</div>"
      ],
      "text/plain": [
       "        age       sex       bmi        bp        s1        s2        s3  \\\n",
       "0  0.038076  0.050680  0.061696  0.021872 -0.044223 -0.034821 -0.043401   \n",
       "1 -0.001882 -0.044642 -0.051474 -0.026328 -0.008449 -0.019163  0.074412   \n",
       "2  0.085299  0.050680  0.044451 -0.005671 -0.045599 -0.034194 -0.032356   \n",
       "3 -0.089063 -0.044642 -0.011595 -0.036656  0.012191  0.024991 -0.036038   \n",
       "4  0.005383 -0.044642 -0.036385  0.021872  0.003935  0.015596  0.008142   \n",
       "\n",
       "         s4        s5        s6  \n",
       "0 -0.002592  0.019908 -0.017646  \n",
       "1 -0.039493 -0.068330 -0.092204  \n",
       "2 -0.002592  0.002864 -0.025930  \n",
       "3  0.034309  0.022692 -0.009362  \n",
       "4 -0.002592 -0.031991 -0.046641  "
      ]
     },
     "execution_count": 9,
     "metadata": {},
     "output_type": "execute_result"
    }
   ],
   "source": [
    "import pandas as pd\n",
    "df = pd.DataFrame(X)\n",
    "df.columns = diabetes.feature_names\n",
    "df.head()"
   ]
  },
  {
   "cell_type": "code",
   "execution_count": 5,
   "id": "0565f971",
   "metadata": {},
   "outputs": [
    {
     "name": "stdout",
     "output_type": "stream",
     "text": [
      "(111, 10)\n",
      "(331, 11)\n"
     ]
    }
   ],
   "source": [
    "import numpy as np\n",
    "training_data=np.loadtxt('training_diabetes_x_y_train.csv', delimiter=',')\n",
    "testing_data=np.loadtxt('test_diabetes_x_test.csv', delimiter=',')\n",
    "print(testing_data.shape)\n",
    "print(training_data.shape)"
   ]
  },
  {
   "cell_type": "code",
   "execution_count": 6,
   "id": "d20eecb0",
   "metadata": {},
   "outputs": [
    {
     "name": "stdout",
     "output_type": "stream",
     "text": [
      "(111, 10)\n",
      "(331, 1)\n",
      "(331, 10)\n"
     ]
    }
   ],
   "source": [
    "'''\n",
    "X_train = train_data[:,9].reshape(-1,1)\n",
    "Y_train = train_data[:,10]\n",
    "X_test = test_data[:,9].reshape(-1,1)\n",
    "'''\n",
    "X_test=testing_data\n",
    "X_train=training_data[:, :10]\n",
    "Y_train=training_data[:, 10:]\n",
    "print(X_test.shape)\n",
    "print(Y_train.shape)\n",
    "print(X_train.shape)"
   ]
  },
  {
   "cell_type": "code",
   "execution_count": 7,
   "id": "6f48aabc",
   "metadata": {},
   "outputs": [
    {
     "data": {
      "text/plain": [
       "LinearRegression()"
      ]
     },
     "execution_count": 7,
     "metadata": {},
     "output_type": "execute_result"
    }
   ],
   "source": [
    "from sklearn.linear_model import LinearRegression\n",
    "alg1 = LinearRegression()\n",
    "alg1.fit(X_train,Y_train)"
   ]
  },
  {
   "cell_type": "code",
   "execution_count": 8,
   "id": "b265d7ec",
   "metadata": {},
   "outputs": [
    {
     "name": "stdout",
     "output_type": "stream",
     "text": [
      "m, c  [[  21.73408096 -256.66866675  569.60940087  303.63233545 -833.11088526\n",
      "   525.74313633  136.07129167  140.89458927  731.44498492   53.32119133]] [150.70257489]\n"
     ]
    }
   ],
   "source": [
    "m = alg1.coef_\n",
    "c = alg1.intercept_\n",
    "print(\"m, c \",m,c)"
   ]
  },
  {
   "cell_type": "code",
   "execution_count": 9,
   "id": "0248940a",
   "metadata": {},
   "outputs": [
    {
     "data": {
      "text/plain": [
       "array([[105.52975],\n",
       "       [105.80392],\n",
       "       [178.60857],\n",
       "       [ 79.38288],\n",
       "       [ 52.95869],\n",
       "       [ 98.87264],\n",
       "       [150.71755],\n",
       "       [ 34.86515],\n",
       "       [113.13536],\n",
       "       [161.50184],\n",
       "       [135.86156],\n",
       "       [ 94.71592],\n",
       "       [138.48094],\n",
       "       [141.37442],\n",
       "       [158.76863],\n",
       "       [171.65289],\n",
       "       [106.44836],\n",
       "       [103.9266 ],\n",
       "       [ 95.38694],\n",
       "       [167.40118],\n",
       "       [166.53426],\n",
       "       [101.53465],\n",
       "       [252.45036],\n",
       "       [147.02259],\n",
       "       [214.78907],\n",
       "       [161.27557],\n",
       "       [210.61315],\n",
       "       [ 71.78092],\n",
       "       [189.65032],\n",
       "       [206.61343],\n",
       "       [219.98643],\n",
       "       [168.80193],\n",
       "       [116.84846],\n",
       "       [178.744  ],\n",
       "       [ 77.03247],\n",
       "       [ 59.54633],\n",
       "       [111.56738],\n",
       "       [156.95187],\n",
       "       [154.59591],\n",
       "       [198.94457],\n",
       "       [115.53884],\n",
       "       [153.46699],\n",
       "       [ 84.9618 ],\n",
       "       [113.70337],\n",
       "       [142.14156],\n",
       "       [147.3104 ],\n",
       "       [ 82.78072],\n",
       "       [ 77.89237],\n",
       "       [128.99006],\n",
       "       [261.58712],\n",
       "       [213.31188],\n",
       "       [243.98791],\n",
       "       [167.68132],\n",
       "       [183.69712],\n",
       "       [166.85927],\n",
       "       [202.1144 ],\n",
       "       [220.39236],\n",
       "       [172.40288],\n",
       "       [176.60898],\n",
       "       [109.04657],\n",
       "       [276.3779 ],\n",
       "       [ 90.99942],\n",
       "       [289.37221],\n",
       "       [119.56253],\n",
       "       [ 75.45688],\n",
       "       [180.78599],\n",
       "       [146.62093],\n",
       "       [156.42382],\n",
       "       [ 41.07904],\n",
       "       [247.90645],\n",
       "       [207.99121],\n",
       "       [ 90.09641],\n",
       "       [222.2417 ],\n",
       "       [189.86378],\n",
       "       [182.26954],\n",
       "       [164.39881],\n",
       "       [190.27067],\n",
       "       [105.44868],\n",
       "       [199.86136],\n",
       "       [245.79639],\n",
       "       [123.20281],\n",
       "       [119.41032],\n",
       "       [145.8662 ],\n",
       "       [206.19247],\n",
       "       [150.86282],\n",
       "       [142.23222],\n",
       "       [154.56875],\n",
       "       [115.29233],\n",
       "       [134.0781 ],\n",
       "       [118.42225],\n",
       "       [203.57676],\n",
       "       [170.66484],\n",
       "       [127.4098 ],\n",
       "       [ 57.13508],\n",
       "       [231.92227],\n",
       "       [185.20714],\n",
       "       [187.37495],\n",
       "       [ 83.55921],\n",
       "       [185.42586],\n",
       "       [217.34036],\n",
       "       [108.86715],\n",
       "       [ 80.98715],\n",
       "       [127.05524],\n",
       "       [242.00739],\n",
       "       [155.97234],\n",
       "       [125.67575],\n",
       "       [246.41236],\n",
       "       [234.96393],\n",
       "       [191.51298],\n",
       "       [168.33254],\n",
       "       [163.02965]])"
      ]
     },
     "execution_count": 9,
     "metadata": {},
     "output_type": "execute_result"
    }
   ],
   "source": [
    "Y_pred = alg1.predict(X_test)\n",
    "Y_pred_decimal5 = np.around(Y_pred,decimals=5)\n",
    "Y_pred_decimal5"
   ]
  },
  {
   "cell_type": "code",
   "execution_count": 10,
   "id": "27face07",
   "metadata": {
    "scrolled": true
   },
   "outputs": [],
   "source": [
    "np.savetxt(\"pred.csv\",Y_pred_decimal5,delimiter=\",\",fmt='%f')"
   ]
  }
 ],
 "metadata": {
  "kernelspec": {
   "display_name": "Python 3",
   "language": "python",
   "name": "python3"
  },
  "language_info": {
   "codemirror_mode": {
    "name": "ipython",
    "version": 3
   },
   "file_extension": ".py",
   "mimetype": "text/x-python",
   "name": "python",
   "nbconvert_exporter": "python",
   "pygments_lexer": "ipython3",
   "version": "3.8.8"
  }
 },
 "nbformat": 4,
 "nbformat_minor": 5
}
