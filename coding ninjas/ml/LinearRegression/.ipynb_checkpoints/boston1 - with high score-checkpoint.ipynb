{
 "cells": [
  {
   "cell_type": "code",
   "execution_count": 2,
   "metadata": {
    "colab": {},
    "colab_type": "code",
    "id": "QRQqVwreFpgo"
   },
   "outputs": [
    {
     "ename": "ModuleNotFoundError",
     "evalue": "No module named 'xgboost'",
     "output_type": "error",
     "traceback": [
      "\u001b[0;31m---------------------------------------------------------------------------\u001b[0m",
      "\u001b[0;31mModuleNotFoundError\u001b[0m                       Traceback (most recent call last)",
      "\u001b[0;32m<ipython-input-2-e0513f71955c>\u001b[0m in \u001b[0;36m<module>\u001b[0;34m\u001b[0m\n\u001b[0;32m----> 1\u001b[0;31m \u001b[0;32mimport\u001b[0m \u001b[0mxgboost\u001b[0m \u001b[0;32mas\u001b[0m \u001b[0mgb\u001b[0m\u001b[0;34m\u001b[0m\u001b[0;34m\u001b[0m\u001b[0m\n\u001b[0m\u001b[1;32m      2\u001b[0m \u001b[0;32mimport\u001b[0m \u001b[0mnumpy\u001b[0m \u001b[0;32mas\u001b[0m \u001b[0mnp\u001b[0m\u001b[0;34m\u001b[0m\u001b[0;34m\u001b[0m\u001b[0m\n\u001b[1;32m      3\u001b[0m \u001b[0;32mimport\u001b[0m \u001b[0mpandas\u001b[0m \u001b[0;32mas\u001b[0m \u001b[0mpd\u001b[0m\u001b[0;34m\u001b[0m\u001b[0;34m\u001b[0m\u001b[0m\n\u001b[1;32m      4\u001b[0m \u001b[0mtrain\u001b[0m\u001b[0;34m=\u001b[0m\u001b[0mnp\u001b[0m\u001b[0;34m.\u001b[0m\u001b[0mloadtxt\u001b[0m\u001b[0;34m(\u001b[0m\u001b[0;34m\"0000000000002417_training_boston_x_y_train.csv\"\u001b[0m\u001b[0;34m,\u001b[0m\u001b[0mdelimiter\u001b[0m\u001b[0;34m=\u001b[0m\u001b[0;34m','\u001b[0m\u001b[0;34m)\u001b[0m\u001b[0;34m\u001b[0m\u001b[0;34m\u001b[0m\u001b[0m\n\u001b[1;32m      5\u001b[0m \u001b[0mtest\u001b[0m\u001b[0;34m=\u001b[0m\u001b[0mnp\u001b[0m\u001b[0;34m.\u001b[0m\u001b[0mloadtxt\u001b[0m\u001b[0;34m(\u001b[0m\u001b[0;34m\"0000000000002417_test_boston_x_test.csv\"\u001b[0m\u001b[0;34m,\u001b[0m\u001b[0mdelimiter\u001b[0m\u001b[0;34m=\u001b[0m\u001b[0;34m','\u001b[0m\u001b[0;34m)\u001b[0m\u001b[0;34m\u001b[0m\u001b[0;34m\u001b[0m\u001b[0m\n",
      "\u001b[0;31mModuleNotFoundError\u001b[0m: No module named 'xgboost'"
     ]
    }
   ],
   "source": [
    "import xgboost as gb\n",
    "import numpy as np\n",
    "import pandas as pd\n",
    "train=np.loadtxt(\"0000000000002417_training_boston_x_y_train.csv\",delimiter=',')\n",
    "test=np.loadtxt(\"0000000000002417_test_boston_x_test.csv\",delimiter=',')"
   ]
  },
  {
   "cell_type": "code",
   "execution_count": 5,
   "metadata": {
    "colab": {},
    "colab_type": "code",
    "id": "Mp1cb8nfFumL"
   },
   "outputs": [],
   "source": [
    "GB = gb.XGBRegressor(objective=\"reg:linear\", n_estimators=265, seed=123,max_depth=4)"
   ]
  },
  {
   "cell_type": "code",
   "execution_count": 6,
   "metadata": {
    "colab": {},
    "colab_type": "code",
    "id": "VzwPpKHZGJJ-"
   },
   "outputs": [],
   "source": [
    "x=train[:,:13]\n",
    "y=train[:,13]"
   ]
  },
  {
   "cell_type": "code",
   "execution_count": 7,
   "metadata": {
    "colab": {
     "base_uri": "https://localhost:8080/",
     "height": 207
    },
    "colab_type": "code",
    "id": "BCfNu4TGGXtF",
    "outputId": "2e397d41-4ffc-4c5e-988d-4ea8bfd9b326"
   },
   "outputs": [
    {
     "name": "stderr",
     "output_type": "stream",
     "text": [
      "/usr/local/lib/python3.6/dist-packages/xgboost/core.py:614: UserWarning: Use subset (sliced data) of np.ndarray is not recommended because it will generate extra copies and increase memory consumption\n",
      "  \"because it will generate extra copies and increase memory consumption\")\n"
     ]
    },
    {
     "name": "stdout",
     "output_type": "stream",
     "text": [
      "[19:30:36] WARNING: /workspace/src/objective/regression_obj.cu:152: reg:linear is now deprecated in favor of reg:squarederror.\n"
     ]
    },
    {
     "data": {
      "text/plain": [
       "XGBRegressor(base_score=0.5, booster='gbtree', colsample_bylevel=1,\n",
       "             colsample_bynode=1, colsample_bytree=1, gamma=0,\n",
       "             importance_type='gain', learning_rate=0.1, max_delta_step=0,\n",
       "             max_depth=4, min_child_weight=1, missing=None, n_estimators=265,\n",
       "             n_jobs=1, nthread=None, objective='reg:linear', random_state=0,\n",
       "             reg_alpha=0, reg_lambda=1, scale_pos_weight=1, seed=123,\n",
       "             silent=None, subsample=1, verbosity=1)"
      ]
     },
     "execution_count": 7,
     "metadata": {
      "tags": []
     },
     "output_type": "execute_result"
    }
   ],
   "source": [
    "GB.fit(x,y)"
   ]
  },
  {
   "cell_type": "code",
   "execution_count": 10,
   "metadata": {
    "colab": {},
    "colab_type": "code",
    "id": "Vi0SJfJ4GcpG"
   },
   "outputs": [],
   "source": [
    "predictions=GB.predict(test)"
   ]
  },
  {
   "cell_type": "code",
   "execution_count": 11,
   "metadata": {
    "colab": {},
    "colab_type": "code",
    "id": "fEWCeFPQGjIy"
   },
   "outputs": [],
   "source": [
    "np.savetxt(\"Predictions.csv\",predictions,fmt='%1.5f')"
   ]
  },
  {
   "cell_type": "code",
   "execution_count": 12,
   "metadata": {
    "colab": {
     "base_uri": "https://localhost:8080/",
     "height": 459
    },
    "colab_type": "code",
    "id": "0K3pVqk2G0zS",
    "outputId": "10f3f6ae-e0c2-4c86-88f3-a70d5db60dfe"
   },
   "outputs": [
    {
     "data": {
      "text/plain": [
       "array([15.284439 , 27.613277 , 15.905181 , 21.582811 , 22.162941 ,\n",
       "       12.227646 , 30.46454  , 26.700758 , 19.134727 , 21.23025  ,\n",
       "       24.081127 , 17.263605 , 18.902617 , 19.969648 , 49.5592   ,\n",
       "       19.812428 , 24.002007 , 22.475975 , 18.792307 , 31.54839  ,\n",
       "       20.798233 , 20.815233 , 37.981228 , 30.826944 , 31.936804 ,\n",
       "       16.509388 , 20.907764 , 30.261137 , 20.713945 , 29.545069 ,\n",
       "       17.844917 , 25.430462 , 21.03823  , 21.76753  ,  9.741494 ,\n",
       "       24.734756 , 22.720566 , 20.55893  , 21.39503  ,  7.664347 ,\n",
       "       16.48246  , 22.610504 , 24.935356 , 18.989698 , 22.351309 ,\n",
       "       11.216014 , 40.800842 , 24.581089 , 34.64941  , 14.480527 ,\n",
       "       14.2774725, 46.580734 , 13.669304 , 19.890963 , 15.9899845,\n",
       "       19.779741 , 19.130426 , 21.742794 , 14.427294 , 15.655847 ,\n",
       "       13.047991 , 27.67044  , 22.437016 , 23.80079  , 14.252055 ,\n",
       "       15.196441 , 35.599926 , 14.052759 , 20.654413 , 21.403454 ,\n",
       "       27.169954 , 22.11103  , 15.943489 ,  9.122678 , 42.2791   ,\n",
       "       23.066097 , 24.42383  , 25.151808 , 10.783509 , 32.923973 ,\n",
       "       21.427586 , 21.234238 , 20.21919  , 18.174908 , 17.084187 ,\n",
       "       37.499237 , 24.696873 , 10.550429 , 21.671629 , 16.557505 ,\n",
       "       20.898129 , 20.015556 , 18.5772   , 11.612463 , 20.385056 ,\n",
       "       24.966198 , 48.104774 , 18.764523 , 36.509583 , 23.001095 ,\n",
       "       23.645636 , 22.212414 , 22.53819  , 27.883572 , 13.277473 ,\n",
       "       24.93125  , 20.351498 , 46.286415 , 22.813187 , 13.091015 ,\n",
       "       23.32367  , 15.822572 , 18.293856 , 19.428438 , 42.258797 ,\n",
       "       18.056458 , 19.731243 , 25.138498 , 20.514925 , 17.323895 ,\n",
       "       11.962104 , 32.575726 , 20.495619 , 21.545904 , 21.036526 ,\n",
       "       20.349005 , 15.398244 ], dtype=float32)"
      ]
     },
     "execution_count": 12,
     "metadata": {
      "tags": []
     },
     "output_type": "execute_result"
    }
   ],
   "source": [
    "predictions"
   ]
  },
  {
   "cell_type": "code",
   "execution_count": null,
   "metadata": {
    "colab": {},
    "colab_type": "code",
    "id": "kVIrYYv_G5Ms"
   },
   "outputs": [],
   "source": []
  }
 ],
 "metadata": {
  "colab": {
   "name": "using xgboost.ipynb",
   "provenance": []
  },
  "kernelspec": {
   "display_name": "Python 3",
   "language": "python",
   "name": "python3"
  },
  "language_info": {
   "codemirror_mode": {
    "name": "ipython",
    "version": 3
   },
   "file_extension": ".py",
   "mimetype": "text/x-python",
   "name": "python",
   "nbconvert_exporter": "python",
   "pygments_lexer": "ipython3",
   "version": "3.8.8"
  }
 },
 "nbformat": 4,
 "nbformat_minor": 1
}
