{
 "cells": [
  {
   "cell_type": "code",
   "execution_count": 2,
   "id": "0378dc58",
   "metadata": {},
   "outputs": [],
   "source": [
    "import numpy as np"
   ]
  },
  {
   "cell_type": "code",
   "execution_count": 3,
   "id": "c7a6920e",
   "metadata": {},
   "outputs": [],
   "source": [
    "data = np.loadtxt(\"data.csv\",delimiter=\",\")"
   ]
  },
  {
   "cell_type": "code",
   "execution_count": 4,
   "id": "7b7861c6",
   "metadata": {},
   "outputs": [],
   "source": [
    "x = data[:,0]\n",
    "y = data[:,1]"
   ]
  },
  {
   "cell_type": "code",
   "execution_count": 5,
   "id": "f786cd03",
   "metadata": {},
   "outputs": [
    {
     "data": {
      "text/plain": [
       "(100,)"
      ]
     },
     "execution_count": 5,
     "metadata": {},
     "output_type": "execute_result"
    }
   ],
   "source": [
    "x.shape"
   ]
  },
  {
   "cell_type": "code",
   "execution_count": 8,
   "id": "8d674284",
   "metadata": {},
   "outputs": [
    {
     "data": {
      "text/plain": [
       "(70,)"
      ]
     },
     "execution_count": 8,
     "metadata": {},
     "output_type": "execute_result"
    }
   ],
   "source": [
    "from sklearn import model_selection\n",
    "X_train, X_test, Y_train, Y_test = model_selection.train_test_split(x,y,test_size=0.3)\n",
    "X_train.shape"
   ]
  },
  {
   "cell_type": "code",
   "execution_count": 9,
   "id": "0aecc620",
   "metadata": {},
   "outputs": [],
   "source": [
    "# my fit function\n",
    "def myFit(x, y):\n",
    "    xy = x*y\n",
    "    xx = x*x\n",
    "#     print(xy,xx)\n",
    "    a = (xy.mean() - x.mean() * y.mean())\n",
    "    b = (xx.mean() - x.mean() * x.mean())\n",
    "    m = a/b\n",
    "#     print(a,b)\n",
    "    c = y.mean() - m * x.mean()\n",
    "    return m,c"
   ]
  },
  {
   "cell_type": "code",
   "execution_count": 10,
   "id": "fb38b360",
   "metadata": {},
   "outputs": [],
   "source": [
    "# my predict function\n",
    "def myPred(x,m,c):\n",
    "    return m * x + c"
   ]
  },
  {
   "cell_type": "code",
   "execution_count": 22,
   "id": "718f8ae8",
   "metadata": {},
   "outputs": [],
   "source": [
    "# my score function\n",
    "def myScore(y_truth,y_pred):\n",
    "    u = ((y_truth - y_pred)**2).sum()\n",
    "    v = ((y_truth - y_truth.mean())**2).sum()\n",
    "    return 1 - u/v"
   ]
  },
  {
   "cell_type": "code",
   "execution_count": 23,
   "id": "fbfb7c55",
   "metadata": {},
   "outputs": [],
   "source": [
    "# my cost function\n",
    "def myCost(x,y,m,c):\n",
    "#     return ((y - m*x - c)**2).sum() # sometimes sum is also taken\n",
    "    return ((y - m*x - c)**2).mean()"
   ]
  },
  {
   "cell_type": "code",
   "execution_count": 25,
   "id": "75ac1c06",
   "metadata": {},
   "outputs": [
    {
     "name": "stdout",
     "output_type": "stream",
     "text": [
      "M, C 1.269491099786341 9.281697838378328\n",
      "myScore Test 0.6309633613456233\n",
      "myScore Train 0.5638649501592277\n",
      "Cost on training data  109.8340155421044\n"
     ]
    }
   ],
   "source": [
    "m,c = myFit(X_train,Y_train)\n",
    "print(\"M, C\",m,c)\n",
    "y_test_pred = myPred(X_test,m,c)\n",
    "y_train_pred = myPred(X_train,m,c)\n",
    "print(\"myScore Test\",myScore(Y_test,y_test_pred))\n",
    "print(\"myScore Train\",myScore(Y_train,y_train_pred))\n",
    "print(\"Cost on training data \",myCost(X_train,Y_train,m,c))"
   ]
  },
  {
   "cell_type": "code",
   "execution_count": 18,
   "id": "44793819",
   "metadata": {
    "scrolled": true
   },
   "outputs": [],
   "source": []
  },
  {
   "cell_type": "code",
   "execution_count": 19,
   "id": "cd339648",
   "metadata": {},
   "outputs": [
    {
     "name": "stdout",
     "output_type": "stream",
     "text": [
      "myScore Test 0.6309633613456233\n",
      "myScore Train 0.5638649501592277\n"
     ]
    }
   ],
   "source": []
  },
  {
   "cell_type": "code",
   "execution_count": null,
   "id": "ac70d1b1",
   "metadata": {},
   "outputs": [],
   "source": []
  }
 ],
 "metadata": {
  "kernelspec": {
   "display_name": "Python 3",
   "language": "python",
   "name": "python3"
  },
  "language_info": {
   "codemirror_mode": {
    "name": "ipython",
    "version": 3
   },
   "file_extension": ".py",
   "mimetype": "text/x-python",
   "name": "python",
   "nbconvert_exporter": "python",
   "pygments_lexer": "ipython3",
   "version": "3.8.8"
  }
 },
 "nbformat": 4,
 "nbformat_minor": 5
}
