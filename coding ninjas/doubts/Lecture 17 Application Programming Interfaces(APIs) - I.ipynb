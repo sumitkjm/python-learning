{
 "cells": [
  {
   "cell_type": "markdown",
   "id": "bd7c6fd2",
   "metadata": {},
   "source": [
    "## Content type"
   ]
  },
  {
   "cell_type": "code",
   "execution_count": 2,
   "id": "5dbf904b",
   "metadata": {},
   "outputs": [
    {
     "name": "stdout",
     "output_type": "stream",
     "text": [
      "application/json\n"
     ]
    },
    {
     "name": "stderr",
     "output_type": "stream",
     "text": [
      "/Users/skumar6/opt/anaconda3/lib/python3.8/site-packages/urllib3/connectionpool.py:1013: InsecureRequestWarning: Unverified HTTPS request is being made to host 'codingninjas.in'. Adding certificate verification is strongly advised. See: https://urllib3.readthedocs.io/en/latest/advanced-usage.html#ssl-warnings\n",
      "  warnings.warn(\n"
     ]
    }
   ],
   "source": [
    "## Print the required output in given format\n",
    "import requests\n",
    "response = requests.get(\"https://codingninjas.in/api/v3/events\",verify=False)\n",
    "print(response.headers[\"content-type\"])"
   ]
  },
  {
   "cell_type": "markdown",
   "id": "76dd2e1a",
   "metadata": {},
   "source": [
    "## Hound sub-breeds"
   ]
  },
  {
   "cell_type": "code",
   "execution_count": 3,
   "id": "23545243",
   "metadata": {},
   "outputs": [
    {
     "name": "stderr",
     "output_type": "stream",
     "text": [
      "/Users/skumar6/opt/anaconda3/lib/python3.8/site-packages/urllib3/connectionpool.py:1013: InsecureRequestWarning: Unverified HTTPS request is being made to host 'dog.ceo'. Adding certificate verification is strongly advised. See: https://urllib3.readthedocs.io/en/latest/advanced-usage.html#ssl-warnings\n",
      "  warnings.warn(\n"
     ]
    },
    {
     "name": "stdout",
     "output_type": "stream",
     "text": [
      "afghan\n",
      "basset\n",
      "blood\n",
      "english\n",
      "ibizan\n",
      "plott\n",
      "walker\n"
     ]
    }
   ],
   "source": [
    "## Print the required output in given format\n",
    "import requests\n",
    "response = requests.get('https://dog.ceo/api/breeds/list/all',verify=False)\n",
    "python_data = response.json()\n",
    "l = python_data['message']['hound']\n",
    "for i in l:\n",
    "    print(i)"
   ]
  },
  {
   "cell_type": "markdown",
   "id": "011c9b09",
   "metadata": {},
   "source": [
    "## Poodle sub breeds count"
   ]
  },
  {
   "cell_type": "code",
   "execution_count": 4,
   "id": "aa2024c8",
   "metadata": {},
   "outputs": [
    {
     "name": "stderr",
     "output_type": "stream",
     "text": [
      "/Users/skumar6/opt/anaconda3/lib/python3.8/site-packages/urllib3/connectionpool.py:1013: InsecureRequestWarning: Unverified HTTPS request is being made to host 'dog.ceo'. Adding certificate verification is strongly advised. See: https://urllib3.readthedocs.io/en/latest/advanced-usage.html#ssl-warnings\n",
      "  warnings.warn(\n"
     ]
    },
    {
     "name": "stdout",
     "output_type": "stream",
     "text": [
      "afghan\n",
      "basset\n",
      "blood\n",
      "english\n",
      "ibizan\n",
      "plott\n",
      "walker\n"
     ]
    }
   ],
   "source": [
    "## Print the required output in given format\n",
    "import requests\n",
    "response = requests.get('https://dog.ceo/api/breeds/list/all',verify=False)\n",
    "python_data = response.json()\n",
    "l = python_data['message']['hound']\n",
    "for i in l:\n",
    "    print(i)"
   ]
  },
  {
   "cell_type": "markdown",
   "id": "3447ee4c",
   "metadata": {},
   "source": [
    "## CN Online Courses"
   ]
  },
  {
   "cell_type": "code",
   "execution_count": 6,
   "id": "8b8cebf1",
   "metadata": {},
   "outputs": [
    {
     "name": "stderr",
     "output_type": "stream",
     "text": [
      "/Users/skumar6/opt/anaconda3/lib/python3.8/site-packages/urllib3/connectionpool.py:1013: InsecureRequestWarning: Unverified HTTPS request is being made to host 'api.codingninjas.com'. Adding certificate verification is strongly advised. See: https://urllib3.readthedocs.io/en/latest/advanced-usage.html#ssl-warnings\n",
      "  warnings.warn(\n"
     ]
    },
    {
     "name": "stdout",
     "output_type": "stream",
     "text": [
      "System Design Course\n",
      "Premium Android App Development\n",
      "Premium Machine Learning Course\n",
      "Premium Competitive Programming Course\n",
      "Ninja Competitive Programmer Track\n",
      "Premium Full Stack Web Development\n",
      "Premium Data Science Course\n",
      "C++ Foundation with Data Structures\n",
      "Advanced  Front-End Web Development with React\n",
      "Machine Learning & Deep Learning Course\n",
      "Premium Data structures and Algorithms [C++/Java/Python]\n",
      "Ninja Android Developer Career Track \n",
      "Full Stack Web Development\n",
      "JAVA Foundation with Data Structures\n",
      "Data Science & Machine Learning Complete\n",
      "Ninja  Web Developer Career Track - NodeJS & ReactJs\n",
      "Interview Preparation Course\n",
      "Grokking the Operating Systems Interview\n",
      "Ninja  Web Developer Career Track - NodeJS\n",
      "Competitive Programming Course\n",
      "Python Foundation with Data Structures\n",
      "Android Development with Kotlin\n",
      "Ninja Data Scientist Career Track\n",
      "Ninja Machine Learning Engineer Career Track\n",
      "Aptitude Preparation Course\n"
     ]
    }
   ],
   "source": [
    "import requests\n",
    "response = requests.get('https://api.codingninjas.com/api/v3/courses',verify=False)\n",
    "python_data = response.json()\n",
    "l = python_data['data']['courses']\n",
    "for i in l:\n",
    "    print(i['name'])"
   ]
  },
  {
   "cell_type": "markdown",
   "id": "94e654ab",
   "metadata": {},
   "source": [
    "## Workshop Events"
   ]
  },
  {
   "cell_type": "code",
   "execution_count": 7,
   "id": "92e737d7",
   "metadata": {},
   "outputs": [
    {
     "name": "stderr",
     "output_type": "stream",
     "text": [
      "/Users/skumar6/opt/anaconda3/lib/python3.8/site-packages/urllib3/connectionpool.py:1013: InsecureRequestWarning: Unverified HTTPS request is being made to host 'api.codingninjas.com'. Adding certificate verification is strongly advised. See: https://urllib3.readthedocs.io/en/latest/advanced-usage.html#ssl-warnings\n",
      "  warnings.warn(\n"
     ]
    },
    {
     "name": "stdout",
     "output_type": "stream",
     "text": [
      "Run through the wave of codes smoothly and showcase your coding skills to stay ahead amongst your peers\n"
     ]
    }
   ],
   "source": [
    "import requests\n",
    "response = requests.get('https://api.codingninjas.com/api/v3/events?event_category=ALL_EVENTS&event_sub_category=All%20Time%20Favorites&tag_list=&offset=0&_ga=2.206840852.662979705.1635617305-497302944.1633495257',verify=False)\n",
    "python_data = response.json()\n",
    "l = python_data['data']['events']\n",
    "print(l[0]['short_desc'])"
   ]
  },
  {
   "cell_type": "markdown",
   "id": "12ef70d4",
   "metadata": {},
   "source": [
    "## Title of course"
   ]
  },
  {
   "cell_type": "code",
   "execution_count": 9,
   "id": "2e0ecff5",
   "metadata": {},
   "outputs": [
    {
     "name": "stderr",
     "output_type": "stream",
     "text": [
      "/Users/skumar6/opt/anaconda3/lib/python3.8/site-packages/urllib3/connectionpool.py:1013: InsecureRequestWarning: Unverified HTTPS request is being made to host 'api.codingninjas.com'. Adding certificate verification is strongly advised. See: https://urllib3.readthedocs.io/en/latest/advanced-usage.html#ssl-warnings\n",
      "  warnings.warn(\n"
     ]
    },
    {
     "name": "stdout",
     "output_type": "stream",
     "text": [
      "Machine Learning\n"
     ]
    }
   ],
   "source": [
    "## Print the required output in given format\n",
    "import requests\n",
    "res = requests.get('http://api.codingninjas.com/api/v3/courses',params={\"id\":19},verify=False)\n",
    "c = res.json()['data']['courses']\n",
    "for i in c:\n",
    "    if i['id'] == 19:\n",
    "        print(i['title'])"
   ]
  },
  {
   "cell_type": "markdown",
   "id": "1cac84c7",
   "metadata": {},
   "source": [
    "## Total number of cities"
   ]
  },
  {
   "cell_type": "code",
   "execution_count": 10,
   "id": "fbb9aa14",
   "metadata": {},
   "outputs": [
    {
     "name": "stderr",
     "output_type": "stream",
     "text": [
      "/Users/skumar6/opt/anaconda3/lib/python3.8/site-packages/urllib3/connectionpool.py:1013: InsecureRequestWarning: Unverified HTTPS request is being made to host 'docs.openaq.org'. Adding certificate verification is strongly advised. See: https://urllib3.readthedocs.io/en/latest/advanced-usage.html#ssl-warnings\n",
      "  warnings.warn(\n"
     ]
    },
    {
     "name": "stdout",
     "output_type": "stream",
     "text": [
      "69\n"
     ]
    }
   ],
   "source": [
    "import requests\n",
    "res = requests.get('https://docs.openaq.org/v1/cities',verify=False,params={\"country\":\"AU\"})\n",
    "print(len(res.json()['results']))"
   ]
  },
  {
   "cell_type": "markdown",
   "id": "45427807",
   "metadata": {},
   "source": [
    "## Cities from BE"
   ]
  },
  {
   "cell_type": "code",
   "execution_count": 11,
   "id": "81b6e001",
   "metadata": {},
   "outputs": [
    {
     "name": "stderr",
     "output_type": "stream",
     "text": [
      "/Users/skumar6/opt/anaconda3/lib/python3.8/site-packages/urllib3/connectionpool.py:1013: InsecureRequestWarning: Unverified HTTPS request is being made to host 'docs.openaq.org'. Adding certificate verification is strongly advised. See: https://urllib3.readthedocs.io/en/latest/advanced-usage.html#ssl-warnings\n",
      "  warnings.warn(\n"
     ]
    },
    {
     "name": "stdout",
     "output_type": "stream",
     "text": [
      "Antwerpen\n",
      "Brabant wallon\n",
      "Brussels-Capital Region\n",
      "Flanders\n",
      "Hainaut\n"
     ]
    }
   ],
   "source": [
    "import requests\n",
    "res = requests.get('https://docs.openaq.org/v1/cities',verify=False,params={\"country\":\"BE\"})\n",
    "for i in res.json()['results'][:5]:\n",
    "    print(i['city'])"
   ]
  },
  {
   "cell_type": "markdown",
   "id": "3b8affc1",
   "metadata": {},
   "source": [
    "## USA WOEID"
   ]
  },
  {
   "cell_type": "code",
   "execution_count": 13,
   "id": "7a026518",
   "metadata": {},
   "outputs": [
    {
     "name": "stderr",
     "output_type": "stream",
     "text": [
      "/Users/skumar6/opt/anaconda3/lib/python3.8/site-packages/urllib3/connectionpool.py:1013: InsecureRequestWarning: Unverified HTTPS request is being made to host 'www.metaweather.com'. Adding certificate verification is strongly advised. See: https://urllib3.readthedocs.io/en/latest/advanced-usage.html#ssl-warnings\n",
      "  warnings.warn(\n"
     ]
    },
    {
     "name": "stdout",
     "output_type": "stream",
     "text": [
      "1132447\n"
     ]
    }
   ],
   "source": [
    "## Print the required output in given format\n",
    "import requests\n",
    "res = requests.get('https://www.metaweather.com/api/location/search/',verify=False,params={\"query\":\"USA\"})\n",
    "print(res.json()[0]['woeid'])"
   ]
  },
  {
   "cell_type": "markdown",
   "id": "d955789e",
   "metadata": {},
   "source": [
    "## Holiday"
   ]
  },
  {
   "cell_type": "code",
   "execution_count": 1,
   "id": "ef3ceade",
   "metadata": {},
   "outputs": [
    {
     "name": "stderr",
     "output_type": "stream",
     "text": [
      "/Users/skumar6/opt/anaconda3/lib/python3.8/site-packages/urllib3/connectionpool.py:1013: InsecureRequestWarning: Unverified HTTPS request is being made to host 'holidayapi.com'. Adding certificate verification is strongly advised. See: https://urllib3.readthedocs.io/en/latest/advanced-usage.html#ssl-warnings\n",
      "  warnings.warn(\n"
     ]
    },
    {
     "name": "stdout",
     "output_type": "stream",
     "text": [
      "Mahatma Gandhi's Birthday\n"
     ]
    }
   ],
   "source": [
    "# You can read the documentation here : https://holidayapi.com/\n",
    "# API Link to be used -\n",
    "# https://holidayapi.com/v1/holidays\n",
    "\n",
    "\n",
    "\n",
    "import requests\n",
    "res = requests.get('https://holidayapi.com/v1/holidays',verify=False,params={\"key\":\"30254f04-bf8a-43c0-b913-121319a615a0\",\"country\":\"IN\",\"year\":\"2021\"})\n",
    "p_data = res.json()\n",
    "for i in p_data['holidays']:\n",
    "    if i['date'] =='2021-10-02':\n",
    "        print(i['name'])"
   ]
  }
 ],
 "metadata": {
  "kernelspec": {
   "display_name": "Python 3 (ipykernel)",
   "language": "python",
   "name": "python3"
  },
  "language_info": {
   "codemirror_mode": {
    "name": "ipython",
    "version": 3
   },
   "file_extension": ".py",
   "mimetype": "text/x-python",
   "name": "python",
   "nbconvert_exporter": "python",
   "pygments_lexer": "ipython3",
   "version": "3.10.4"
  }
 },
 "nbformat": 4,
 "nbformat_minor": 5
}
