{
 "cells": [
  {
   "cell_type": "code",
   "execution_count": 3,
   "id": "e7ffa990",
   "metadata": {},
   "outputs": [],
   "source": [
    "import ssl\n",
    "ssl._create_default_https_context = ssl._create_unverified_context"
   ]
  },
  {
   "cell_type": "code",
   "execution_count": 5,
   "id": "0c5183fc",
   "metadata": {},
   "outputs": [
    {
     "name": "stdout",
     "output_type": "stream",
     "text": [
      "\u001b[33mWARNING: The directory '/Users/skumar6/Library/Caches/pip' or its parent directory is not owned or is not writable by the current user. The cache has been disabled. Check the permissions and owner of that directory. If executing pip with sudo, you may want sudo's -H flag.\u001b[0m\n",
      "Collecting nbmerge\n",
      "  Downloading nbmerge-0.0.4.tar.gz (7.6 kB)\n",
      "Building wheels for collected packages: nbmerge\n",
      "  Building wheel for nbmerge (setup.py) ... \u001b[?25ldone\n",
      "\u001b[?25h  Created wheel for nbmerge: filename=nbmerge-0.0.4-py2.py3-none-any.whl size=6406 sha256=bb8abc76d9260d6f1499e6e6974cd429a1e6735c97c4576dd2cd97000fdbe7fa\n",
      "  Stored in directory: /private/var/folders/68/7mxf2tks43z7qvwz7zqysxr00000gp/T/pip-ephem-wheel-cache-8fvzsu6n/wheels/2d/3c/a9/8753a8ef327aca9c908d4f150628b87b548e1659ecc5fe1b54\n",
      "Successfully built nbmerge\n",
      "Installing collected packages: nbmerge\n",
      "Successfully installed nbmerge-0.0.4\n"
     ]
    }
   ],
   "source": [
    "!pip install nbmerge --trusted-host pypi.org --trusted-host pypi.python.org --trusted-host files.pythonhosted.org"
   ]
  },
  {
   "cell_type": "code",
   "execution_count": 6,
   "id": "78903583",
   "metadata": {},
   "outputs": [],
   "source": [
    "import nbmerge"
   ]
  },
  {
   "cell_type": "code",
   "execution_count": 7,
   "id": "c2c50478",
   "metadata": {},
   "outputs": [
    {
     "ename": "SyntaxError",
     "evalue": "invalid syntax (<ipython-input-7-558157c504f2>, line 1)",
     "output_type": "error",
     "traceback": [
      "\u001b[0;36m  File \u001b[0;32m\"<ipython-input-7-558157c504f2>\"\u001b[0;36m, line \u001b[0;32m1\u001b[0m\n\u001b[0;31m    nbmerge \"Lecture 10 Working With Files.ipynb\" \"Lecture 11 - NumPy.ipynb\" > merge10_11.ipynb\u001b[0m\n\u001b[0m            ^\u001b[0m\n\u001b[0;31mSyntaxError\u001b[0m\u001b[0;31m:\u001b[0m invalid syntax\n"
     ]
    }
   ],
   "source": []
  },
  {
   "cell_type": "markdown",
   "id": "ef6b8dba",
   "metadata": {},
   "source": [
    "## Print 100 Bytes"
   ]
  },
  {
   "cell_type": "code",
   "execution_count": 2,
   "id": "5a59d2f6",
   "metadata": {},
   "outputs": [
    {
     "name": "stdout",
     "output_type": "stream",
     "text": [
      "Lorem ipsum dolor sit amet, consectetur adipiscing elit. Vivamus condimentum sagittis lacus, laoreet\n"
     ]
    }
   ],
   "source": [
    "## Open and read data file as specified in the question\n",
    "## Print the required output in given format\n",
    "file_obj = open('Sample.txt')\n",
    "\n",
    "print(file_obj.read(100))"
   ]
  },
  {
   "cell_type": "markdown",
   "id": "c94c5e25",
   "metadata": {},
   "source": [
    "## Print 5 lines"
   ]
  },
  {
   "cell_type": "code",
   "execution_count": 3,
   "id": "81b908fc",
   "metadata": {},
   "outputs": [
    {
     "name": "stdout",
     "output_type": "stream",
     "text": [
      "Lorem ipsum dolor sit amet, consectetur adipiscing elit. Vivamus condimentum sagittis lacus, laoreet luctus ligula laoreet ut. Vestibulum ullamcorper accumsan velit vel vehicula. Proin tempor lacus arcu. Nunc at elit condimentum, semper nisi et, condimentum mi. In venenatis blandit nibh at sollicitudin. Vestibulum dapibus mauris at orci maximus pellentesque. Nullam id elementum ipsum. Suspendisse cursus lobortis viverra. Proin et erat at mauris tincidunt porttitor vitae ac dui.\n",
      "\n",
      "Donec vulputate lorem tortor, nec fermentum nibh bibendum vel. Lorem ipsum dolor sit amet, consectetur adipiscing elit. Praesent dictum luctus massa, non euismod lacus. Pellentesque condimentum dolor est, ut dapibus lectus luctus ac. Ut sagittis commodo arcu. Integer nisi nulla, facilisis sit amet nulla quis, eleifend suscipit purus. Class aptent taciti sociosqu ad litora torquent per conubia nostra, per inceptos himenaeos. Aliquam euismod ultrices lorem, sit amet imperdiet est tincidunt vel. Phasellus dictum justo sit amet ligula varius aliquet auctor et metus. Fusce vitae tortor et nisi pulvinar vestibulum eget in risus. Donec ante ex, placerat a lorem eget, ultricies bibendum purus. Nam sit amet neque non ante laoreet rutrum. Nullam aliquet commodo urna, sed ullamcorper odio feugiat id. Mauris nisi sapien, porttitor in condimentum nec, venenatis eu urna. Pellentesque feugiat diam est, at rhoncus orci porttitor non.\n",
      "\n",
      "Nulla luctus sem sit amet nisi consequat, id ornare ipsum dignissim. Sed elementum elit nibh, eu condimentum orci viverra quis. Aenean suscipit vitae felis non suscipit. Suspendisse pharetra turpis non eros semper dictum. Etiam tincidunt venenatis venenatis. Praesent eget gravida lorem, ut congue diam. Etiam facilisis elit at porttitor egestas. Praesent consequat, velit non vulputate convallis, ligula diam sagittis urna, in venenatis nisi justo ut mauris. Vestibulum posuere sollicitudin mi, et vulputate nisl fringilla non. Nulla ornare pretium velit a euismod. Nunc sagittis venenatis vestibulum. Nunc sodales libero a est ornare ultricies. Sed sed leo sed orci pellentesque ultrices. Mauris sollicitudin, sem quis placerat ornare, velit arcu convallis ligula, pretium finibus nisl sapien vel sem. Vivamus sit amet tortor id lorem consequat hendrerit. Nullam at dui risus.\n",
      "\n",
      "Vestibulum ante ipsum primis in faucibus orci luctus et ultrices posuere cubilia Curae; Lorem ipsum dolor sit amet, consectetur adipiscing elit. Sed feugiat semper velit consequat facilisis. Etiam facilisis justo non iaculis dictum. Fusce turpis neque, pharetra ut odio eu, hendrerit rhoncus lacus. Nunc orci felis, imperdiet vel interdum quis, porta eu ipsum. Pellentesque dictum sem lacinia, auctor dui in, malesuada nunc. Maecenas sit amet mollis eros. Proin fringilla viverra ligula, sollicitudin viverra ante sollicitudin congue. Donec mollis felis eu libero malesuada, et lacinia risus interdum.\n",
      "\n",
      "Etiam vitae accumsan augue. Ut urna orci, malesuada ut nisi a, condimentum gravida magna. Nulla bibendum ex in vulputate sagittis. Nulla facilisi. Nullam faucibus et metus ac consequat. Quisque tempor eros velit, id mattis nibh aliquet a. Aenean tempor elit ut finibus auctor. Sed at imperdiet mauris. Vestibulum pharetra non lacus sed pulvinar. Sed pellentesque magna a eros volutpat ullamcorper. In hac habitasse platea dictumst. Donec ipsum mi, feugiat in eros sed, varius lacinia turpis. Donec vulputate tincidunt dui ac laoreet. Sed in eros dui. Pellentesque placerat tristique ligula eu finibus. Proin nec faucibus felis, eu commodo ipsum.\n",
      "\n"
     ]
    }
   ],
   "source": [
    "file = open('Sample.txt')\n",
    "\n",
    "i = 0\n",
    "while i<5:\n",
    "    print(file.readline())\n",
    "    i+=1"
   ]
  },
  {
   "cell_type": "markdown",
   "id": "862c6592",
   "metadata": {},
   "source": [
    "## Print 5 Lines (Readlines)"
   ]
  },
  {
   "cell_type": "code",
   "execution_count": 4,
   "id": "3a38fd23",
   "metadata": {},
   "outputs": [
    {
     "name": "stdout",
     "output_type": "stream",
     "text": [
      "Lorem ipsum dolor sit amet, consectetur adipiscing elit. Vivamus condimentum sagittis lacus, laoreet luctus ligula laoreet ut. Vestibulum ullamcorper accumsan velit vel vehicula. Proin tempor lacus arcu. Nunc at elit condimentum, semper nisi et, condimentum mi. In venenatis blandit nibh at sollicitudin. Vestibulum dapibus mauris at orci maximus pellentesque. Nullam id elementum ipsum. Suspendisse cursus lobortis viverra. Proin et erat at mauris tincidunt porttitor vitae ac dui.\n",
      "\n",
      "Donec vulputate lorem tortor, nec fermentum nibh bibendum vel. Lorem ipsum dolor sit amet, consectetur adipiscing elit. Praesent dictum luctus massa, non euismod lacus. Pellentesque condimentum dolor est, ut dapibus lectus luctus ac. Ut sagittis commodo arcu. Integer nisi nulla, facilisis sit amet nulla quis, eleifend suscipit purus. Class aptent taciti sociosqu ad litora torquent per conubia nostra, per inceptos himenaeos. Aliquam euismod ultrices lorem, sit amet imperdiet est tincidunt vel. Phasellus dictum justo sit amet ligula varius aliquet auctor et metus. Fusce vitae tortor et nisi pulvinar vestibulum eget in risus. Donec ante ex, placerat a lorem eget, ultricies bibendum purus. Nam sit amet neque non ante laoreet rutrum. Nullam aliquet commodo urna, sed ullamcorper odio feugiat id. Mauris nisi sapien, porttitor in condimentum nec, venenatis eu urna. Pellentesque feugiat diam est, at rhoncus orci porttitor non.\n",
      "\n",
      "Nulla luctus sem sit amet nisi consequat, id ornare ipsum dignissim. Sed elementum elit nibh, eu condimentum orci viverra quis. Aenean suscipit vitae felis non suscipit. Suspendisse pharetra turpis non eros semper dictum. Etiam tincidunt venenatis venenatis. Praesent eget gravida lorem, ut congue diam. Etiam facilisis elit at porttitor egestas. Praesent consequat, velit non vulputate convallis, ligula diam sagittis urna, in venenatis nisi justo ut mauris. Vestibulum posuere sollicitudin mi, et vulputate nisl fringilla non. Nulla ornare pretium velit a euismod. Nunc sagittis venenatis vestibulum. Nunc sodales libero a est ornare ultricies. Sed sed leo sed orci pellentesque ultrices. Mauris sollicitudin, sem quis placerat ornare, velit arcu convallis ligula, pretium finibus nisl sapien vel sem. Vivamus sit amet tortor id lorem consequat hendrerit. Nullam at dui risus.\n",
      "\n",
      "Vestibulum ante ipsum primis in faucibus orci luctus et ultrices posuere cubilia Curae; Lorem ipsum dolor sit amet, consectetur adipiscing elit. Sed feugiat semper velit consequat facilisis. Etiam facilisis justo non iaculis dictum. Fusce turpis neque, pharetra ut odio eu, hendrerit rhoncus lacus. Nunc orci felis, imperdiet vel interdum quis, porta eu ipsum. Pellentesque dictum sem lacinia, auctor dui in, malesuada nunc. Maecenas sit amet mollis eros. Proin fringilla viverra ligula, sollicitudin viverra ante sollicitudin congue. Donec mollis felis eu libero malesuada, et lacinia risus interdum.\n",
      "\n",
      "Etiam vitae accumsan augue. Ut urna orci, malesuada ut nisi a, condimentum gravida magna. Nulla bibendum ex in vulputate sagittis. Nulla facilisi. Nullam faucibus et metus ac consequat. Quisque tempor eros velit, id mattis nibh aliquet a. Aenean tempor elit ut finibus auctor. Sed at imperdiet mauris. Vestibulum pharetra non lacus sed pulvinar. Sed pellentesque magna a eros volutpat ullamcorper. In hac habitasse platea dictumst. Donec ipsum mi, feugiat in eros sed, varius lacinia turpis. Donec vulputate tincidunt dui ac laoreet. Sed in eros dui. Pellentesque placerat tristique ligula eu finibus. Proin nec faucibus felis, eu commodo ipsum.\n",
      "\n"
     ]
    }
   ],
   "source": [
    "with open('Sample.txt') as file:\n",
    "    file_data = file.readlines()\n",
    "\n",
    "i = 0\n",
    "while i < 5:\n",
    "    print(file_data[i])\n",
    "    i+=1"
   ]
  },
  {
   "cell_type": "markdown",
   "id": "f503bb8e",
   "metadata": {},
   "source": [
    "## First 3 lines"
   ]
  },
  {
   "cell_type": "code",
   "execution_count": 6,
   "id": "65194646",
   "metadata": {},
   "outputs": [
    {
     "name": "stdout",
     "output_type": "stream",
     "text": [
      "2017 1 2 Afghanistan South Asia Takhta Pul 31.320556 65.961111 Hostage Taking (Kidnapping) 0.0 0.0 Construction Workers Taliban Business Firearms 0.0 \n",
      "2017 1 3 Sudan Sub-Saharan Africa Fantaga 12.921007000000001 24.318324 Armed Assault 2.0 0.0 Civilians: Haroun Yousif, Hamid Ibrahim Unknown Private Citizens & Property Firearms 2.0 \n",
      "2017 1 1 Democratic Republic of the Congo Sub-Saharan Africa Saboko 1.452372 29.875162 Armed Assault 7.0 0.0 Village Allied Democratic Forces (ADF) Private Citizens & Property Melee 7.0 \n"
     ]
    }
   ],
   "source": [
    "import csv\n",
    "with open('year2017.csv') as file:\n",
    "    file_data = csv.reader(file)\n",
    "    file_list = list(file_data)[1:4]\n",
    "    for row in file_list:\n",
    "        for c in row:\n",
    "            print(c, end=' ')\n",
    "        print('')"
   ]
  },
  {
   "cell_type": "code",
   "execution_count": 2,
   "id": "2a7cb725",
   "metadata": {},
   "outputs": [
    {
     "name": "stdout",
     "output_type": "stream",
     "text": [
      "2017 1 2 Afghanistan South Asia Takhta Pul 31.320556 65.961111 Hostage Taking (Kidnapping) 0.0 0.0 Construction Workers Taliban Business Firearms 0.0 \n",
      "2017 1 3 Sudan Sub-Saharan Africa Fantaga 12.921007000000001 24.318324 Armed Assault 2.0 0.0 Civilians: Haroun Yousif, Hamid Ibrahim Unknown Private Citizens & Property Firearms 2.0 \n",
      "2017 1 1 Democratic Republic of the Congo Sub-Saharan Africa Saboko 1.452372 29.875162 Armed Assault 7.0 0.0 Village Allied Democratic Forces (ADF) Private Citizens & Property Melee 7.0 \n"
     ]
    }
   ],
   "source": [
    "import csv\n",
    "with open('year2017.csv' ) as csvfile:\n",
    "    reader = csv.reader(csvfile)\n",
    "    filedata = list(reader)[1:4]\n",
    "    for row in filedata:\n",
    "        for c in row:\n",
    "            print(c,end=' ')\n",
    "        print('')"
   ]
  },
  {
   "cell_type": "markdown",
   "id": "fcb80d7a",
   "metadata": {},
   "source": [
    "## Print all column names"
   ]
  },
  {
   "cell_type": "code",
   "execution_count": 7,
   "id": "9e2219ac",
   "metadata": {},
   "outputs": [
    {
     "name": "stdout",
     "output_type": "stream",
     "text": [
      "Year\n",
      "Month\n",
      "Day\n",
      "Country\n",
      "Region\n",
      "city\n",
      "latitude\n",
      "longitude\n",
      "AttackType\n",
      "Killed\n",
      "Wounded\n",
      "Target\n",
      "Group\n",
      "Target_type\n",
      "Weapon_type\n",
      "casualities\n"
     ]
    }
   ],
   "source": [
    "import csv\n",
    "with open('year2017.csv') as file:\n",
    "    file_data = csv.reader(file)\n",
    "    file_list = list(file_data)[:1]\n",
    "    for row in file_list:\n",
    "        for c in row:\n",
    "            print(c)"
   ]
  },
  {
   "cell_type": "markdown",
   "id": "ab0f0fbe",
   "metadata": {},
   "source": [
    "## Country Names"
   ]
  },
  {
   "cell_type": "code",
   "execution_count": 8,
   "id": "89ec0b24",
   "metadata": {},
   "outputs": [
    {
     "name": "stdout",
     "output_type": "stream",
     "text": [
      "Afghanistan\n",
      "Sudan\n",
      "Democratic Republic of the Congo\n",
      "Democratic Republic of the Congo\n",
      "Turkey\n",
      "Syria\n",
      "Pakistan\n",
      "Italy\n",
      "Turkey\n",
      "Turkey\n"
     ]
    }
   ],
   "source": [
    "import csv\n",
    "with open('year2017.csv') as file:\n",
    "    file_data = csv.reader(file)\n",
    "    file_list = list(file_data)[1:11]\n",
    "    for row in file_list:\n",
    "        print(row[3])"
   ]
  },
  {
   "cell_type": "markdown",
   "id": "e4bff705",
   "metadata": {},
   "source": [
    "## Total Wounded People"
   ]
  },
  {
   "cell_type": "code",
   "execution_count": 9,
   "id": "d8760ced",
   "metadata": {},
   "outputs": [
    {
     "name": "stdout",
     "output_type": "stream",
     "text": [
      "24927\n"
     ]
    }
   ],
   "source": [
    "## Open and read data file as specified in the question\n",
    "## Print the required output in given format\n",
    "import csv\n",
    "with open('year2017.csv') as file:\n",
    "    file_data = csv.reader(file,skipinitialspace=True)\n",
    "    file_list = list(file_data)[1:]\n",
    "    list_of_wounded = []\n",
    "    for row in file_list:\n",
    "        if row[10]=='':\n",
    "            continue\n",
    "        list_of_wounded.append(float(row[10]))\n",
    "    print(int(sum(list_of_wounded)))"
   ]
  },
  {
   "cell_type": "markdown",
   "id": "ff263b3f",
   "metadata": {},
   "source": [
    "## Total Wounded from India"
   ]
  },
  {
   "cell_type": "code",
   "execution_count": 10,
   "id": "ffb1031f",
   "metadata": {},
   "outputs": [
    {
     "name": "stdout",
     "output_type": "stream",
     "text": [
      "702\n"
     ]
    }
   ],
   "source": [
    "## Open and read data file as specified in the question\n",
    "## Print the required output in given format\n",
    "import csv\n",
    "with open('year2017.csv') as file:\n",
    "    file_data = csv.reader(file,skipinitialspace=True)\n",
    "    file_list = list(file_data)[1:]\n",
    "    list_of_wounded = []\n",
    "    for row in file_list:\n",
    "        if row[10]=='' or row[3]!='India':\n",
    "            continue\n",
    "        list_of_wounded.append(float(row[10]))\n",
    "    print(int(sum(list_of_wounded)))"
   ]
  },
  {
   "cell_type": "markdown",
   "id": "b7f7cd06",
   "metadata": {},
   "source": [
    "## Casualties from Explosives"
   ]
  },
  {
   "cell_type": "code",
   "execution_count": 14,
   "id": "0658aabe",
   "metadata": {},
   "outputs": [
    {
     "name": "stdout",
     "output_type": "stream",
     "text": [
      "29280\n"
     ]
    }
   ],
   "source": [
    "## Open and read data file as specified in the question\n",
    "## Print the required output in given format\n",
    "import csv\n",
    "with open('year2017.csv') as file:\n",
    "    file_data = csv.reader(file,skipinitialspace=True)\n",
    "    file_list = list(file_data)[1:]\n",
    "    casualities = []\n",
    "    for row in file_list:\n",
    "        if row[15]!='' and row[14]=='Explosives':\n",
    "            casualities.append(float(row[15]))\n",
    "    print(int(sum(casualities)))"
   ]
  },
  {
   "cell_type": "code",
   "execution_count": 20,
   "id": "28214465",
   "metadata": {},
   "outputs": [
    {
     "name": "stdout",
     "output_type": "stream",
     "text": [
      "<class 'list'>\n",
      "29280\n"
     ]
    }
   ],
   "source": [
    "import csv\n",
    "file_obj=open(\"year2017.csv\")\n",
    "file_data=csv.reader(file_obj,skipinitialspace=True)\n",
    "\n",
    "file_data = list(file_data)\n",
    "print(type(file_data))\n",
    "count=0\n",
    "for row in file_data[1:]:\n",
    "    weapon_type=row[14]\n",
    "    if weapon_type==\"Explosives\" and row[15]!='':\n",
    "        count=count+int(float(row[15]))\n",
    "print(count)"
   ]
  },
  {
   "cell_type": "markdown",
   "id": "4ef91d8f",
   "metadata": {},
   "source": [
    "## Month vs Killed"
   ]
  },
  {
   "cell_type": "code",
   "execution_count": 13,
   "id": "8f8a2acb",
   "metadata": {},
   "outputs": [
    {
     "name": "stdout",
     "output_type": "stream",
     "text": [
      "1 2275\n",
      "2 2027\n",
      "3 2463\n",
      "4 2142\n",
      "5 2936\n",
      "6 2506\n",
      "7 2228\n",
      "8 2145\n",
      "9 1764\n",
      "10 2580\n",
      "11 2014\n",
      "12 1365\n"
     ]
    }
   ],
   "source": [
    "## Open and read data file as specified in the question\n",
    "## Print the required output in given format\n",
    "import csv\n",
    "with open('year2017.csv') as file:\n",
    "    file_list = list(csv.DictReader(file,skipinitialspace=True))\n",
    "    dict = {}\n",
    "    for row in file_list:\n",
    "        if row['Killed'] !='':\n",
    "            killed = int(float(row['Killed']))\n",
    "            month = row['Month']\n",
    "            dict[month] = dict.get(month,0) + killed\n",
    "    for r in dict:\n",
    "        print(r,end=' ')\n",
    "        print(dict[r])"
   ]
  },
  {
   "cell_type": "markdown",
   "id": "f578d7be",
   "metadata": {},
   "source": [
    "## Country vs Casualties"
   ]
  },
  {
   "cell_type": "code",
   "execution_count": 14,
   "id": "0586fd7e",
   "metadata": {},
   "outputs": [
    {
     "name": "stdout",
     "output_type": "stream",
     "text": [
      "Afghanistan 11698\n",
      "Sudan 255\n",
      "Democratic Republic of the Congo 636\n",
      "Turkey 548\n",
      "Syria 2731\n",
      "Pakistan 3153\n",
      "Italy 8\n",
      "Somalia 3038\n",
      "Yemen 1446\n",
      "Bahrain 32\n",
      "Myanmar 85\n",
      "Burundi 147\n",
      "Iraq 10999\n",
      "Egypt 1499\n",
      "Burkina Faso 98\n",
      "India 1157\n",
      "Algeria 31\n",
      "United States 1027\n",
      "Philippines 1148\n",
      "Greece 7\n",
      "Mali 657\n",
      "Libya 316\n",
      "Central African Republic 569\n",
      "Nigeria 2300\n",
      "Lebanon 66\n",
      "Mexico 29\n",
      "Cameroon 448\n",
      "Ethiopia 80\n",
      "Kyrgyzstan 0\n",
      "Serbia 1\n",
      "Sweden 37\n",
      "Thailand 342\n",
      "Iran 106\n",
      "France 35\n",
      "United Kingdom 343\n",
      "West Bank and Gaza Strip 125\n",
      "Ukraine 104\n",
      "Paraguay 5\n",
      "Colombia 188\n",
      "Malaysia 6\n",
      "Russia 175\n",
      "Kosovo 4\n",
      "South Africa 28\n",
      "Chile 2\n",
      "Kenya 204\n",
      "Israel 18\n",
      "Saudi Arabia 100\n",
      "China 92\n",
      "Nepal 97\n",
      "Ecuador 0\n",
      "Niger 210\n",
      "Venezuela 37\n",
      "South Sudan 836\n",
      "Canada 31\n",
      "Bangladesh 97\n",
      "Tajikistan 1\n",
      "Angola 416\n",
      "Ireland 0\n",
      "Peru 12\n",
      "Dominican Republic 3\n",
      "Poland 0\n",
      "Jordan 5\n",
      "Azerbaijan 7\n",
      "Mozambique 33\n",
      "Indonesia 47\n",
      "Germany 11\n",
      "Brazil 0\n",
      "Macedonia 0\n",
      "Tunisia 10\n",
      "Uganda 9\n",
      "Chad 2\n",
      "Finland 12\n",
      "Australia 25\n",
      "Norway 0\n",
      "Vietnam 0\n",
      "Tanzania 10\n",
      "Sierra Leone 0\n",
      "Sri Lanka 4\n",
      "Maldives 1\n",
      "Belgium 4\n",
      "Rwanda 10\n",
      "Honduras 2\n",
      "Czech Republic 0\n",
      "Malta 1\n",
      "Gabon 2\n",
      "Laos 1\n",
      "Djibouti 0\n",
      "Austria 2\n",
      "Zambia 0\n",
      "Argentina 0\n",
      "Papua New Guinea 3\n",
      "Zimbabwe 1\n",
      "Ivory Coast 5\n",
      "Spain 132\n",
      "Taiwan 1\n",
      "Jamaica 0\n",
      "Albania 0\n",
      "Liberia 0\n",
      "Georgia 5\n",
      "Malawi 0\n",
      "Netherlands 0\n",
      "Latvia 0\n"
     ]
    }
   ],
   "source": [
    "## Open and read data file as specified in the question\n",
    "## Print the required output in given format\n",
    "import csv\n",
    "with open('year2017.csv') as file:\n",
    "    file_list = list(csv.DictReader(file,skipinitialspace=True))\n",
    "    dict = {}\n",
    "    for row in file_list:\n",
    "        casualty = 0\n",
    "        if row['casualities'] !='':\n",
    "            casualty = int(float(row['casualities']))\n",
    "        key = row['Country']\n",
    "        dict[key] = dict.get(key,0) + casualty\n",
    "    for r in dict:\n",
    "        print(r,end=' ')\n",
    "        print(dict[r])"
   ]
  },
  {
   "cell_type": "code",
   "execution_count": 4,
   "id": "feb0c423",
   "metadata": {},
   "outputs": [
    {
     "name": "stdout",
     "output_type": "stream",
     "text": [
      "Afghanistan 11698\n",
      "Sudan 255\n",
      "Democratic Republic of the Congo 636\n",
      "Turkey 548\n",
      "Pakistan 3153\n",
      "Italy 8\n",
      "Somalia 3038\n",
      "Bahrain 32\n",
      "Myanmar 85\n",
      "Burundi 147\n",
      "Iraq 10999\n",
      "Burkina Faso 98\n",
      "India 1157\n",
      "Algeria 31\n",
      "United States 1027\n",
      "Philippines 1148\n",
      "Greece 7\n",
      "Mali 657\n",
      "Yemen 1446\n",
      "Libya 316\n",
      "Central African Republic 569\n",
      "Egypt 1499\n",
      "Lebanon 66\n",
      "Mexico 29\n",
      "Cameroon 448\n",
      "Ethiopia 80\n",
      "Nigeria 2300\n",
      "Kyrgyzstan 0\n",
      "Syria 2731\n",
      "Serbia 1\n",
      "Sweden 37\n",
      "Thailand 342\n",
      "Iran 106\n",
      "France 35\n",
      "United Kingdom 343\n",
      "West Bank and Gaza Strip 125\n",
      "Ukraine 104\n",
      "Paraguay 5\n",
      "Colombia 188\n",
      "Malaysia 6\n",
      "Russia 175\n",
      "Kosovo 4\n",
      "South Africa 28\n",
      "Chile 2\n",
      "Kenya 204\n",
      "Israel 18\n",
      "Saudi Arabia 100\n",
      "China 92\n",
      "Nepal 97\n",
      "Ecuador 0\n",
      "Niger 210\n",
      "Venezuela 37\n",
      "South Sudan 836\n",
      "Canada 31\n",
      "Bangladesh 97\n",
      "Tajikistan 1\n",
      "Ireland 0\n",
      "Peru 12\n",
      "Angola 416\n",
      "Dominican Republic 3\n",
      "Poland 0\n",
      "Jordan 5\n",
      "Azerbaijan 7\n",
      "Mozambique 33\n",
      "Indonesia 47\n",
      "Germany 11\n",
      "Brazil 0\n",
      "Macedonia 0\n",
      "Tunisia 10\n",
      "Uganda 9\n",
      "Chad 2\n",
      "Finland 12\n",
      "Australia 25\n",
      "Norway 0\n",
      "Vietnam 0\n",
      "Tanzania 10\n",
      "Sierra Leone 0\n",
      "Sri Lanka 4\n",
      "Maldives 1\n",
      "Belgium 4\n",
      "Rwanda 10\n",
      "Honduras 2\n",
      "Czech Republic 0\n",
      "Malta 1\n",
      "Gabon 2\n",
      "Laos 1\n",
      "Austria 2\n",
      "Zambia 0\n",
      "Argentina 0\n",
      "Zimbabwe 1\n",
      "Ivory Coast 5\n",
      "Papua New Guinea 3\n",
      "Spain 132\n",
      "Taiwan 1\n",
      "Jamaica 0\n",
      "Albania 0\n",
      "Liberia 0\n",
      "Georgia 5\n",
      "Malawi 0\n",
      "Netherlands 0\n",
      "Latvia 0\n"
     ]
    }
   ],
   "source": [
    "import csv\n",
    "def month_vs_killed():\n",
    "    f_obj = open('year2017.csv','r')\n",
    "    f_data = csv.DictReader(f_obj,skipinitialspace=True)\n",
    "    month_vs_killed = {}\n",
    "    for ele in f_data:\n",
    "        if ele['Country'] != '' and ele['casualities'] != '':\n",
    "            month_vs_killed[ele['Country']] = month_vs_killed.get(ele['Country'],0) + int(float(ele['casualities']))\n",
    "    \n",
    "    for key in month_vs_killed:\n",
    "        print(key.strip(),month_vs_killed[key])\n",
    "\n",
    "month_vs_killed()"
   ]
  },
  {
   "cell_type": "markdown",
   "id": "62aac737",
   "metadata": {},
   "source": [
    "## Job Location"
   ]
  },
  {
   "cell_type": "code",
   "execution_count": 15,
   "id": "f0f10807",
   "metadata": {},
   "outputs": [
    {
     "name": "stdout",
     "output_type": "stream",
     "text": [
      "66 1856\n"
     ]
    }
   ],
   "source": [
    "## Open and read data file as specified in the question\n",
    "## Print the required output in given format\n",
    "\n",
    "import csv\n",
    "with open('amazon_jobs_dataset.csv') as file:\n",
    "    file_list = list(csv.DictReader(file,skipinitialspace=True))\n",
    "    dict = {}\n",
    "    for row in file_list:\n",
    "        casualty = 0\n",
    "        location =  row['location'].strip()\n",
    "        if location == 'IN, KA, Bangalore' or location == 'US, WA, Seattle':\n",
    "            dict[location] = dict.get(location,0) + 1\n",
    "    print(dict['IN, KA, Bangalore'],end=' ')\n",
    "    print(dict['US, WA, Seattle'])\n"
   ]
  },
  {
   "cell_type": "markdown",
   "id": "91ebcf8a",
   "metadata": {},
   "source": [
    "## Job Computer Vision"
   ]
  },
  {
   "cell_type": "code",
   "execution_count": 16,
   "id": "ef220001",
   "metadata": {},
   "outputs": [
    {
     "name": "stdout",
     "output_type": "stream",
     "text": [
      "14\n"
     ]
    }
   ],
   "source": [
    "## Open and read data file as specified in the question\n",
    "## Print the required output in given format\n",
    "\n",
    "import csv\n",
    "with open('amazon_jobs_dataset.csv') as file:\n",
    "    file_list = list(csv.DictReader(file,skipinitialspace=True))\n",
    "    dict = {}\n",
    "    count = 0\n",
    "    for row in file_list:\n",
    "        title =  row['Title'].strip()\n",
    "        if 'Computer Vision' in title:\n",
    "            count+=1\n",
    "    print(count)"
   ]
  },
  {
   "cell_type": "markdown",
   "id": "daae29fd",
   "metadata": {},
   "source": [
    "## Job Canada"
   ]
  },
  {
   "cell_type": "code",
   "execution_count": 17,
   "id": "f50f02cf",
   "metadata": {},
   "outputs": [
    {
     "name": "stdout",
     "output_type": "stream",
     "text": [
      "156\n"
     ]
    }
   ],
   "source": [
    "## Open and read data file as specified in the question\n",
    "## Print the required output in given format\n",
    "\n",
    "\n",
    "import csv\n",
    "with open('amazon_jobs_dataset.csv') as file:\n",
    "    file_list = list(csv.DictReader(file,skipinitialspace=True))\n",
    "    dict = {}\n",
    "    count = 0\n",
    "    for row in file_list:\n",
    "        title =  row['location'].strip()\n",
    "        if title!='' and 'CA' == title.split(',')[0]:\n",
    "            count+=1\n",
    "    print(count)"
   ]
  },
  {
   "cell_type": "markdown",
   "id": "ba8e9eb2",
   "metadata": {},
   "source": [
    "## Job Month 2018"
   ]
  },
  {
   "cell_type": "code",
   "execution_count": 18,
   "id": "63017965",
   "metadata": {},
   "outputs": [
    {
     "name": "stdout",
     "output_type": "stream",
     "text": [
      "January 907\n"
     ]
    }
   ],
   "source": [
    "## Open and read data file as specified in the question\n",
    "## Print the required output in given format\n",
    "import csv\n",
    "with open('amazon_jobs_dataset.csv') as file:\n",
    "    file_list = list(csv.DictReader(file,skipinitialspace=True))\n",
    "    dict = {}\n",
    "    for row in file_list:\n",
    "        date =  row['Posting_date'].strip()\n",
    "        if date!='' and '2018' in date :\n",
    "            dict[date.split()[0]] = dict.get(date.split()[0],0) + 1\n",
    "    h_month = ''\n",
    "    h_count = 0\n",
    "    for e in dict:\n",
    "        if(dict[e]>h_count):\n",
    "            h_month = e\n",
    "            h_count = dict[e]\n",
    "    print(h_month,end=' ')\n",
    "    print(h_count)"
   ]
  },
  {
   "cell_type": "markdown",
   "id": "85cbd6f7",
   "metadata": {},
   "source": [
    "## Job Degree"
   ]
  },
  {
   "cell_type": "code",
   "execution_count": 20,
   "id": "b7f50c8b",
   "metadata": {},
   "outputs": [
    {
     "name": "stdout",
     "output_type": "stream",
     "text": [
      "2961\n"
     ]
    }
   ],
   "source": [
    "## Open and read data file as specified in the question\n",
    "## Print the required output in given format\n",
    "import csv\n",
    "with open('amazon_jobs_dataset.csv') as file:\n",
    "    file_list = list(csv.DictReader(file,skipinitialspace=True))\n",
    "    count = 0\n",
    "    for row in file_list:\n",
    "        qualification =  row['BASIC QUALIFICATIONS']\n",
    "        if 'Bachelor' in qualification or 'BS' in qualification or 'BA' in qualification :\n",
    "            count+=1\n",
    "\n",
    "    print(count)"
   ]
  },
  {
   "cell_type": "markdown",
   "id": "d2b3252c",
   "metadata": {},
   "source": [
    "## Job Language"
   ]
  },
  {
   "cell_type": "code",
   "execution_count": 21,
   "id": "5bd07a6c",
   "metadata": {},
   "outputs": [
    {
     "name": "stdout",
     "output_type": "stream",
     "text": [
      "Java 103\n"
     ]
    }
   ],
   "source": [
    "## Open and read data file as specified in the question\n",
    "## Print the required output in given format\n",
    "import csv\n",
    "with open('amazon_jobs_dataset.csv') as file:\n",
    "    file_list = list(csv.DictReader(file,skipinitialspace=True))\n",
    "    count = 0\n",
    "    dict = {}\n",
    "    for row in file_list:\n",
    "        title =  row['location'].strip()\n",
    "        if title!='' and 'IN' == title.split(',')[0]:\n",
    "            qualification =  row['BASIC QUALIFICATIONS']\n",
    "            if 'Bachelor' in qualification or 'BS' in qualification or 'BA' in qualification :\n",
    "                if 'Java' in qualification:\n",
    "                    dict['Java'] = dict.get('Java',0) + 1\n",
    "                if 'C++' in qualification:\n",
    "                    dict['C++'] = dict.get('C++',0) + 1\n",
    "                if 'Python' in qualification:\n",
    "                    dict['Python'] = dict.get('Python',0) + 1\n",
    "    h_lang = ''\n",
    "    h_count = 0\n",
    "    for e in dict:\n",
    "        if dict[e]>h_count:\n",
    "            h_count = dict[e]\n",
    "            h_lang = e\n",
    "    print(h_lang,end=' ')\n",
    "    print(h_count)"
   ]
  },
  {
   "cell_type": "markdown",
   "id": "674dbc12",
   "metadata": {},
   "source": [
    "## Job Java"
   ]
  },
  {
   "cell_type": "code",
   "execution_count": 22,
   "id": "28aa7bff",
   "metadata": {},
   "outputs": [
    {
     "name": "stdout",
     "output_type": "stream",
     "text": [
      "US 2009\n"
     ]
    }
   ],
   "source": [
    "## Open and read data file as specified in the question\n",
    "## Print the required output in given format\n",
    "import csv\n",
    "with open('amazon_jobs_dataset.csv') as file:\n",
    "    file_list = list(csv.DictReader(file,skipinitialspace=True))\n",
    "    count = 0\n",
    "    dict = {}\n",
    "    for row in file_list:\n",
    "        title =  row['location'].strip()\n",
    "        country = title.split(',')[0]\n",
    "        qualification = row['BASIC QUALIFICATIONS']\n",
    "        if 'Java' in qualification:\n",
    "            dict[country] = dict.get(country,0) + 1\n",
    "    h_country = ''\n",
    "    h_count = 0\n",
    "    for e in dict:\n",
    "        if dict[e]>h_count:\n",
    "            h_count = dict[e]\n",
    "            h_country = e\n",
    "    print(h_country,end=' ')\n",
    "    print(h_count)"
   ]
  },
  {
   "cell_type": "code",
   "execution_count": 7,
   "id": "9727580c",
   "metadata": {},
   "outputs": [
    {
     "name": "stdout",
     "output_type": "stream",
     "text": [
      "<class 'list'>\n",
      "<class 'list'>\n",
      "[10, [34], 56, 2]\n",
      "[10, 23, 56, [95]]\n"
     ]
    }
   ],
   "source": [
    "a = [10,23,56,[78]]\n",
    "b = list(a)\n",
    "print(type(a))\n",
    "print(type(b))\n",
    "a[3][0] = 95\n",
    "# print(a[1])\n",
    "a[1] = [34]\n",
    "a[3] = 2\n",
    "print(a)\n",
    "print(b)\n"
   ]
  }
 ],
 "metadata": {
  "kernelspec": {
   "display_name": "Python 3",
   "language": "python",
   "name": "python3"
  },
  "language_info": {
   "codemirror_mode": {
    "name": "ipython",
    "version": 3
   },
   "file_extension": ".py",
   "mimetype": "text/x-python",
   "name": "python",
   "nbconvert_exporter": "python",
   "pygments_lexer": "ipython3",
   "version": "3.8.8"
  }
 },
 "nbformat": 4,
 "nbformat_minor": 5
}
