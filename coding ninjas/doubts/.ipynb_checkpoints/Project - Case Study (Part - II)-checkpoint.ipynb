{
 "cells": [
  {
   "cell_type": "markdown",
   "id": "7e397ab4",
   "metadata": {},
   "source": [
    "## 1. Location with most investments"
   ]
  },
  {
   "cell_type": "code",
   "execution_count": 137,
   "id": "9bc134a2",
   "metadata": {},
   "outputs": [
    {
     "name": "stdout",
     "output_type": "stream",
     "text": [
      "NCR 703\n",
      "Bangalore 635\n",
      "Mumbai 449\n"
     ]
    },
    {
     "data": {
      "image/png": "[encoded data removed]",
      "text/plain": [
       "<Figure size 432x288 with 1 Axes>"
      ]
     },
     "metadata": {
      "needs_background": "light"
     },
     "output_type": "display_data"
    }
   ],
   "source": [
    "import pandas as pd\n",
    "import matplotlib.pyplot as plt\n",
    "df = pd.read_csv(\"startup_funding.csv\",encoding='UTF-8')\n",
    "\n",
    "def getcityName(cityName):\n",
    "    return cityName.split(\"/\")[0].strip()\n",
    "d = {}\n",
    "df['CityLocation'].replace('Delhi','NCR',inplace=True)\n",
    "df['CityLocation'].replace('New Delhi','NCR',inplace=True)\n",
    "df['CityLocation'].replace('Gurgaon','NCR',inplace=True)\n",
    "df['CityLocation'].replace('Noida','NCR',inplace=True)\n",
    "df['CityLocation'].replace('bangalore','Bangalore',inplace=True)\n",
    "for i in df[df['CityLocation'].notnull()].values:\n",
    "    city = getcityName(i[5])\n",
    "    if city in ['NCR','Bangalore','Mumbai']:\n",
    "        d[city] = d.get(city,0) + 1\n",
    "city = []\n",
    "funding = []\n",
    "d_sorted = {k: v for k, v in sorted(d.items(), key=lambda item: item[1],reverse=True)}\n",
    "for k in d_sorted.keys():\n",
    "    city.append(k)\n",
    "    print(k,end=' ')\n",
    "    funding.append(d_sorted[k])\n",
    "    print(d_sorted[k])\n",
    "\n",
    "plt.bar(city,funding)\n",
    "plt.show()"
   ]
  },
  {
   "cell_type": "code",
   "execution_count": 2,
   "id": "0a88f9e2",
   "metadata": {},
   "outputs": [
    {
     "ename": "AttributeError",
     "evalue": "'Series' object has no attribute 'split'",
     "output_type": "error",
     "traceback": [
      "\u001b[0;31m---------------------------------------------------------------------------\u001b[0m",
      "\u001b[0;31mAttributeError\u001b[0m                            Traceback (most recent call last)",
      "\u001b[0;32m<ipython-input-2-6643073356cf>\u001b[0m in \u001b[0;36m<module>\u001b[0;34m\u001b[0m\n\u001b[1;32m      8\u001b[0m     \u001b[0;32mreturn\u001b[0m \u001b[0mcity\u001b[0m\u001b[0;34m.\u001b[0m\u001b[0msplit\u001b[0m\u001b[0;34m(\u001b[0m\u001b[0;34m'/'\u001b[0m\u001b[0;34m)\u001b[0m\u001b[0;34m[\u001b[0m\u001b[0;36m0\u001b[0m\u001b[0;34m]\u001b[0m\u001b[0;34m.\u001b[0m\u001b[0mstrip\u001b[0m\u001b[0;34m(\u001b[0m\u001b[0;34m)\u001b[0m\u001b[0;34m\u001b[0m\u001b[0;34m\u001b[0m\u001b[0m\n\u001b[1;32m      9\u001b[0m \u001b[0;31m#df['CityLocation'] = df['CityLocation'].apply(seperateCity)\u001b[0m\u001b[0;34m\u001b[0m\u001b[0;34m\u001b[0m\u001b[0;34m\u001b[0m\u001b[0m\n\u001b[0;32m---> 10\u001b[0;31m \u001b[0mdf\u001b[0m\u001b[0;34m[\u001b[0m\u001b[0;34m'CityLocation'\u001b[0m\u001b[0;34m]\u001b[0m \u001b[0;34m=\u001b[0m \u001b[0mseperateCity\u001b[0m\u001b[0;34m(\u001b[0m\u001b[0mdf\u001b[0m\u001b[0;34m[\u001b[0m\u001b[0;34m'CityLocation'\u001b[0m\u001b[0;34m]\u001b[0m\u001b[0;34m)\u001b[0m\u001b[0;34m\u001b[0m\u001b[0;34m\u001b[0m\u001b[0m\n\u001b[0m\u001b[1;32m     11\u001b[0m \u001b[0mdf_city\u001b[0m \u001b[0;34m=\u001b[0m \u001b[0mdf\u001b[0m\u001b[0;34m[\u001b[0m\u001b[0;34m'CityLocation'\u001b[0m\u001b[0;34m]\u001b[0m\u001b[0;34m\u001b[0m\u001b[0;34m\u001b[0m\u001b[0m\n\u001b[1;32m     12\u001b[0m \u001b[0mdf_city\u001b[0m\u001b[0;34m.\u001b[0m\u001b[0mreplace\u001b[0m\u001b[0;34m(\u001b[0m\u001b[0;34m'bangalore'\u001b[0m\u001b[0;34m,\u001b[0m\u001b[0;34m'Bangalore'\u001b[0m\u001b[0;34m,\u001b[0m\u001b[0minplace\u001b[0m\u001b[0;34m=\u001b[0m\u001b[0;32mTrue\u001b[0m\u001b[0;34m)\u001b[0m\u001b[0;34m\u001b[0m\u001b[0;34m\u001b[0m\u001b[0m\n",
      "\u001b[0;32m<ipython-input-2-6643073356cf>\u001b[0m in \u001b[0;36mseperateCity\u001b[0;34m(city)\u001b[0m\n\u001b[1;32m      6\u001b[0m \u001b[0mdf\u001b[0m\u001b[0;34m[\u001b[0m\u001b[0;34m'CityLocation'\u001b[0m\u001b[0;34m]\u001b[0m\u001b[0;34m.\u001b[0m\u001b[0mdropna\u001b[0m\u001b[0;34m(\u001b[0m\u001b[0minplace\u001b[0m\u001b[0;34m=\u001b[0m\u001b[0;32mTrue\u001b[0m\u001b[0;34m)\u001b[0m\u001b[0;34m\u001b[0m\u001b[0;34m\u001b[0m\u001b[0m\n\u001b[1;32m      7\u001b[0m \u001b[0;32mdef\u001b[0m \u001b[0mseperateCity\u001b[0m\u001b[0;34m(\u001b[0m\u001b[0mcity\u001b[0m\u001b[0;34m)\u001b[0m\u001b[0;34m:\u001b[0m\u001b[0;34m\u001b[0m\u001b[0;34m\u001b[0m\u001b[0m\n\u001b[0;32m----> 8\u001b[0;31m     \u001b[0;32mreturn\u001b[0m \u001b[0mcity\u001b[0m\u001b[0;34m.\u001b[0m\u001b[0msplit\u001b[0m\u001b[0;34m(\u001b[0m\u001b[0;34m'/'\u001b[0m\u001b[0;34m)\u001b[0m\u001b[0;34m[\u001b[0m\u001b[0;36m0\u001b[0m\u001b[0;34m]\u001b[0m\u001b[0;34m.\u001b[0m\u001b[0mstrip\u001b[0m\u001b[0;34m(\u001b[0m\u001b[0;34m)\u001b[0m\u001b[0;34m\u001b[0m\u001b[0;34m\u001b[0m\u001b[0m\n\u001b[0m\u001b[1;32m      9\u001b[0m \u001b[0;31m#df['CityLocation'] = df['CityLocation'].apply(seperateCity)\u001b[0m\u001b[0;34m\u001b[0m\u001b[0;34m\u001b[0m\u001b[0;34m\u001b[0m\u001b[0m\n\u001b[1;32m     10\u001b[0m \u001b[0mdf\u001b[0m\u001b[0;34m[\u001b[0m\u001b[0;34m'CityLocation'\u001b[0m\u001b[0;34m]\u001b[0m \u001b[0;34m=\u001b[0m \u001b[0mseperateCity\u001b[0m\u001b[0;34m(\u001b[0m\u001b[0mdf\u001b[0m\u001b[0;34m[\u001b[0m\u001b[0;34m'CityLocation'\u001b[0m\u001b[0;34m]\u001b[0m\u001b[0;34m)\u001b[0m\u001b[0;34m\u001b[0m\u001b[0;34m\u001b[0m\u001b[0m\n",
      "\u001b[0;32m~/opt/anaconda3/lib/python3.8/site-packages/pandas/core/generic.py\u001b[0m in \u001b[0;36m__getattr__\u001b[0;34m(self, name)\u001b[0m\n\u001b[1;32m   5463\u001b[0m             \u001b[0;32mif\u001b[0m \u001b[0mself\u001b[0m\u001b[0;34m.\u001b[0m\u001b[0m_info_axis\u001b[0m\u001b[0;34m.\u001b[0m\u001b[0m_can_hold_identifiers_and_holds_name\u001b[0m\u001b[0;34m(\u001b[0m\u001b[0mname\u001b[0m\u001b[0;34m)\u001b[0m\u001b[0;34m:\u001b[0m\u001b[0;34m\u001b[0m\u001b[0;34m\u001b[0m\u001b[0m\n\u001b[1;32m   5464\u001b[0m                 \u001b[0;32mreturn\u001b[0m \u001b[0mself\u001b[0m\u001b[0;34m[\u001b[0m\u001b[0mname\u001b[0m\u001b[0;34m]\u001b[0m\u001b[0;34m\u001b[0m\u001b[0;34m\u001b[0m\u001b[0m\n\u001b[0;32m-> 5465\u001b[0;31m             \u001b[0;32mreturn\u001b[0m \u001b[0mobject\u001b[0m\u001b[0;34m.\u001b[0m\u001b[0m__getattribute__\u001b[0m\u001b[0;34m(\u001b[0m\u001b[0mself\u001b[0m\u001b[0;34m,\u001b[0m \u001b[0mname\u001b[0m\u001b[0;34m)\u001b[0m\u001b[0;34m\u001b[0m\u001b[0;34m\u001b[0m\u001b[0m\n\u001b[0m\u001b[1;32m   5466\u001b[0m \u001b[0;34m\u001b[0m\u001b[0m\n\u001b[1;32m   5467\u001b[0m     \u001b[0;32mdef\u001b[0m \u001b[0m__setattr__\u001b[0m\u001b[0;34m(\u001b[0m\u001b[0mself\u001b[0m\u001b[0;34m,\u001b[0m \u001b[0mname\u001b[0m\u001b[0;34m:\u001b[0m \u001b[0mstr\u001b[0m\u001b[0;34m,\u001b[0m \u001b[0mvalue\u001b[0m\u001b[0;34m)\u001b[0m \u001b[0;34m->\u001b[0m \u001b[0;32mNone\u001b[0m\u001b[0;34m:\u001b[0m\u001b[0;34m\u001b[0m\u001b[0;34m\u001b[0m\u001b[0m\n",
      "\u001b[0;31mAttributeError\u001b[0m: 'Series' object has no attribute 'split'"
     ]
    }
   ],
   "source": [
    "import numpy as np\n",
    "import pandas as pd\n",
    "import matplotlib.pyplot as plt\n",
    "\n",
    "df=pd.read_csv('startup_funding.csv',encoding='utf-8')\n",
    "df['CityLocation'].dropna(inplace=True)\n",
    "def seperateCity(city):\n",
    "    return city.split('/')[0].strip()\n",
    "#df['CityLocation'] = df['CityLocation'].apply(seperateCity)\n",
    "df['CityLocation'] = seperateCity(df['CityLocation'])\n",
    "df_city = df['CityLocation']\n",
    "df_city.replace('bangalore','Bangalore',inplace=True)\n",
    "df_city.replace('Delhi','New Delhi',inplace=True)\n",
    "\n",
    "city={}\n",
    "ncr = 0\n",
    "for i in df_city:\n",
    "    if(i == 'Gurgaon') | (i == 'Noida') |  (i == 'New Delhi'):\n",
    "        ncr = ncr + 1       \n",
    "    if (i == 'Bangalore') | (i == 'Mumbai'):\n",
    "        city[i] = city.get(i,0)+1\n",
    "city['NCR'] = ncr\n",
    "maxcity = max(zip(city.values(),city.keys()))[1]\n",
    "print(\" The Location with maximum number of startups is\",maxcity)\n",
    "\n",
    "ind = city.keys()\n",
    "val = city.values()\n",
    "plt.bar(ind,val)\n",
    "plt.show()"
   ]
  },
  {
   "cell_type": "code",
   "execution_count": null,
   "id": "3c7b41ad",
   "metadata": {},
   "outputs": [],
   "source": [
    "NCR 709\n",
    "Bangalore 635\n",
    "Mumbai 449"
   ]
  },
  {
   "cell_type": "markdown",
   "id": "9eda0a21",
   "metadata": {},
   "source": [
    "## 2. Top 5 investors"
   ]
  },
  {
   "cell_type": "code",
   "execution_count": 140,
   "id": "44c62d6b",
   "metadata": {},
   "outputs": [
    {
     "name": "stdout",
     "output_type": "stream",
     "text": [
      "Sequoia Capital 64\n",
      "Accel Partners 53\n",
      "Kalaari Capital 44\n",
      "SAIF Partners 41\n",
      "Indian Angel Network 40\n"
     ]
    },
    {
     "data": {
      "image/png": "[encoded data removed]",
      "text/plain": [
       "<Figure size 432x288 with 1 Axes>"
      ]
     },
     "metadata": {},
     "output_type": "display_data"
    }
   ],
   "source": [
    "import pandas as pd\n",
    "import numpy as np\n",
    "import matplotlib.pyplot as plt\n",
    "df =   pd.read_csv(\"startup_funding.csv\")\n",
    "\n",
    "df.dropna(subset=[\"InvestorsName\"],inplace=True)\n",
    "df.reset_index(drop=True,inplace = True)\n",
    "invester  =  df[\"InvestorsName\"].str.split(',')\n",
    "\n",
    "newarray =  [j.strip() for sub in invester for j in sub]\n",
    "nameseries =  pd.Series(newarray).value_counts()\n",
    "name = nameseries.index[:5]\n",
    "count = nameseries.values[:5]\n",
    "for i in range(len(name)):\n",
    "    print(name[i],count[i])\n",
    "\n",
    "plt.pie(count,labels=name,autopct='%.2f%%')\n",
    "plt.show()"
   ]
  },
  {
   "cell_type": "markdown",
   "id": "0cd4b2db",
   "metadata": {},
   "source": [
    "## 3. top 5 investors who have invested in different number of startups"
   ]
  },
  {
   "cell_type": "code",
   "execution_count": 129,
   "id": "bbc381da",
   "metadata": {},
   "outputs": [
    {
     "name": "stdout",
     "output_type": "stream",
     "text": [
      "[50, 47, 41, 40, 36]\n",
      "['Sequoia Capital', 'Accel Partners', 'Kalaari Capital', 'Indian Angel Network', 'Blume Ventures']\n"
     ]
    },
    {
     "data": {
      "image/png": "[encoded data removed]",
      "text/plain": [
       "<Figure size 432x288 with 1 Axes>"
      ]
     },
     "metadata": {
      "needs_background": "light"
     },
     "output_type": "display_data"
    }
   ],
   "source": [
    "import pandas as pd\n",
    "import matplotlib.pyplot as plt\n",
    "\n",
    "df = pd.read_csv(\"startup_funding.csv\")\n",
    "df['StartupName'].replace('Flipkart.com','Flipkart',inplace=True)\n",
    "df['StartupName'].replace('Ola Cabs','Ola',inplace=True)\n",
    "df['StartupName'].replace('Olacabs','Ola',inplace=True)\n",
    "df['StartupName'].replace('Oyo Rooms','Oyo',inplace=True)\n",
    "df['StartupName'].replace('Paytm Marketplace','Paytm',inplace=True)\n",
    "d = {}\n",
    "df.dropna(subset=[\"InvestorsName\"],inplace=True)\n",
    "df.reset_index(drop=True,inplace = True)\n",
    "\n",
    "for i in df.values:\n",
    "    startupName = i[2].strip()\n",
    "    investors = i[6].split(\",\")\n",
    "    for inv in investors:\n",
    "        if inv.strip() in ('','Undisclosed Investors','Undisclosed investors','undisclosed Investors'):\n",
    "            continue\n",
    "        v = d.get(inv.strip(),set())\n",
    "        v.add(startupName)\n",
    "        d[inv.strip()] = v\n",
    "invs = []\n",
    "startups = []\n",
    "d1 = {}\n",
    "for k in d.keys():\n",
    "    d1[k] = len(d[k])\n",
    "d_sorted = {k: v for k, v in sorted(d1.items(), key=lambda item: item[1],reverse=True)}\n",
    "count = 0\n",
    "for k in d_sorted.keys():\n",
    "    if count==5:\n",
    "        break\n",
    "    startups.append(d_sorted[k])\n",
    "    invs.append(k)\n",
    "    count+=1\n",
    "\n",
    "print(startups)\n",
    "print(invs)\n",
    "plt.bar(invs,startups)\n",
    "plt.xticks(rotation=70)\n",
    "plt.show()\n",
    "# for i in range(len(invs)):\n",
    "#     print(startups[i])"
   ]
  },
  {
   "cell_type": "code",
   "execution_count": 109,
   "id": "b08541a7",
   "metadata": {},
   "outputs": [
    {
     "data": {
      "text/plain": [
       "array(['Private Equity', 'Seed Funding', 'Debt Funding', nan,\n",
       "       'SeedFunding', 'PrivateEquity', 'Crowd funding', 'Crowd Funding'],\n",
       "      dtype=object)"
      ]
     },
     "execution_count": 109,
     "metadata": {},
     "output_type": "execute_result"
    }
   ],
   "source": [
    "df['InvestmentType'].unique()"
   ]
  },
  {
   "cell_type": "markdown",
   "id": "e0409f36",
   "metadata": {},
   "source": [
    "## 4. top 5 investors who have invested in a different number of startups and their investment type is Crowdfunding or Seed Funding"
   ]
  },
  {
   "cell_type": "code",
   "execution_count": 133,
   "id": "b8924129",
   "metadata": {},
   "outputs": [
    {
     "name": "stdout",
     "output_type": "stream",
     "text": [
      "[33, 23, 16, 16, 14]\n",
      "['Indian Angel Network', 'Rajan Anandan', 'LetsVenture', 'Anupam Mittal', 'Kunal Shah']\n"
     ]
    },
    {
     "data": {
      "image/png": "[encoded data removed]",
      "text/plain": [
       "<Figure size 432x288 with 1 Axes>"
      ]
     },
     "metadata": {
      "needs_background": "light"
     },
     "output_type": "display_data"
    }
   ],
   "source": [
    "import pandas as pd\n",
    "import matplotlib.pyplot as plt\n",
    "\n",
    "df = pd.read_csv(\"startup_funding.csv\")\n",
    "df['StartupName'].replace('Flipkart.com','Flipkart',inplace=True)\n",
    "df['StartupName'].replace('Ola Cabs','Ola',inplace=True)\n",
    "df['StartupName'].replace('Olacabs','Ola',inplace=True)\n",
    "df['StartupName'].replace('Oyo Rooms','Oyo',inplace=True)\n",
    "df['StartupName'].replace('Paytm Marketplace','Paytm',inplace=True)\n",
    "df['InvestmentType'].replace('SeedFunding','Seed Funding',inplace=True)\n",
    "df['InvestmentType'].replace('Crowd funding','Crowd Funding',inplace=True)\n",
    "df['InvestmentType'].replace('PrivateEquity','Private Equity',inplace=True)\n",
    "d = {}\n",
    "df.dropna(subset=[\"InvestorsName\"],inplace=True)\n",
    "df.dropna(subset=[\"InvestmentType\"],inplace=True)\n",
    "\n",
    "df.reset_index(drop=True,inplace = True)\n",
    "\n",
    "for i in df[(df['InvestmentType']=='Crowd Funding') | (df['InvestmentType']=='Seed Funding')].values:\n",
    "    startupName = i[2].strip()\n",
    "    investors = i[6].split(\",\")\n",
    "    for inv in investors:\n",
    "        if inv.strip() in ('','Undisclosed Investors','Undisclosed investors','undisclosed Investors'):\n",
    "            continue\n",
    "        v = d.get(inv.strip(),set())\n",
    "        v.add(startupName)\n",
    "        d[inv.strip()] = v\n",
    "invs = []\n",
    "startups = []\n",
    "d1 = {}\n",
    "for k in d.keys():\n",
    "    d1[k] = len(d[k])\n",
    "d_sorted = {k: v for k, v in sorted(d1.items(), key=lambda item: item[1],reverse=True)}\n",
    "count = 0\n",
    "for k in d_sorted.keys():\n",
    "    if count==5:\n",
    "        break\n",
    "    startups.append(d_sorted[k])\n",
    "    invs.append(k)\n",
    "    count+=1\n",
    "\n",
    "print(startups)\n",
    "print(invs)\n",
    "    \n",
    "plt.bar(invs,startups)\n",
    "plt.xticks(rotation=70)\n",
    "plt.show()"
   ]
  },
  {
   "cell_type": "markdown",
   "id": "590292b3",
   "metadata": {},
   "source": [
    "## 5. Find the top 5 investors who have invested in a different number of startups and their investment type is Private Equity"
   ]
  },
  {
   "cell_type": "code",
   "execution_count": 134,
   "id": "7b7f2b70",
   "metadata": {},
   "outputs": [
    {
     "name": "stdout",
     "output_type": "stream",
     "text": [
      "[47, 43, 35, 27, 24]\n",
      "['Sequoia Capital', 'Accel Partners', 'Kalaari Capital', 'Blume Ventures', 'SAIF Partners']\n"
     ]
    },
    {
     "data": {
      "image/png": "[encoded data removed]",
      "text/plain": [
       "<Figure size 432x288 with 1 Axes>"
      ]
     },
     "metadata": {
      "needs_background": "light"
     },
     "output_type": "display_data"
    }
   ],
   "source": [
    "import pandas as pd\n",
    "import matplotlib.pyplot as plt\n",
    "\n",
    "df = pd.read_csv(\"startup_funding.csv\")\n",
    "df['StartupName'].replace('Flipkart.com','Flipkart',inplace=True)\n",
    "df['StartupName'].replace('Ola Cabs','Ola',inplace=True)\n",
    "df['StartupName'].replace('Olacabs','Ola',inplace=True)\n",
    "df['StartupName'].replace('Oyo Rooms','Oyo',inplace=True)\n",
    "df['StartupName'].replace('Paytm Marketplace','Paytm',inplace=True)\n",
    "df['InvestmentType'].replace('SeedFunding','Seed Funding',inplace=True)\n",
    "df['InvestmentType'].replace('Crowd funding','Crowd Funding',inplace=True)\n",
    "df['InvestmentType'].replace('PrivateEquity','Private Equity',inplace=True)\n",
    "d = {}\n",
    "df.dropna(subset=[\"InvestorsName\"],inplace=True)\n",
    "df.dropna(subset=[\"InvestmentType\"],inplace=True)\n",
    "\n",
    "df.reset_index(drop=True,inplace = True)\n",
    "\n",
    "for i in df[df['InvestmentType']=='Private Equity'].values:\n",
    "    startupName = i[2].strip()\n",
    "    investors = i[6].split(\",\")\n",
    "    for inv in investors:\n",
    "        if inv.strip() in ('','Undisclosed Investors','Undisclosed investors','undisclosed Investors'):\n",
    "            continue\n",
    "        v = d.get(inv.strip(),set())\n",
    "        v.add(startupName)\n",
    "        d[inv.strip()] = v\n",
    "invs = []\n",
    "startups = []\n",
    "d1 = {}\n",
    "for k in d.keys():\n",
    "    d1[k] = len(d[k])\n",
    "d_sorted = {k: v for k, v in sorted(d1.items(), key=lambda item: item[1],reverse=True)}\n",
    "count = 0\n",
    "for k in d_sorted.keys():\n",
    "    if count==5:\n",
    "        break\n",
    "    startups.append(d_sorted[k])\n",
    "    invs.append(k)\n",
    "    count+=1\n",
    "\n",
    "print(startups)\n",
    "print(invs)\n",
    "    \n",
    "plt.bar(invs,startups)\n",
    "plt.xticks(rotation=70)\n",
    "plt.show()"
   ]
  }
 ],
 "metadata": {
  "kernelspec": {
   "display_name": "Python 3",
   "language": "python",
   "name": "python3"
  },
  "language_info": {
   "codemirror_mode": {
    "name": "ipython",
    "version": 3
   },
   "file_extension": ".py",
   "mimetype": "text/x-python",
   "name": "python",
   "nbconvert_exporter": "python",
   "pygments_lexer": "ipython3",
   "version": "3.8.8"
  }
 },
 "nbformat": 4,
 "nbformat_minor": 5
}
