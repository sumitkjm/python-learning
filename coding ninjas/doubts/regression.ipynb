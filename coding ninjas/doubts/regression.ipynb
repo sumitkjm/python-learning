{
 "cells": [
  {
   "cell_type": "markdown",
   "id": "65d45bc0",
   "metadata": {},
   "source": [
    "# Logistic Regression"
   ]
  },
  {
   "cell_type": "markdown",
   "id": "ea20e796",
   "metadata": {},
   "source": [
    "## Value of Sigmoid Function"
   ]
  },
  {
   "cell_type": "code",
   "execution_count": 2,
   "id": "95c39bec",
   "metadata": {},
   "outputs": [],
   "source": [
    "# you need to calculate z =  m1*x1 + m2*x2 + m3\n",
    "\n",
    "# x1 and x2 = 10 and 80\n",
    "\n",
    "#  m1 = 0.001, m2 = 0.02 and m3 = 0.1\n",
    "\n",
    "# so your answer will be z = (0.001)*(10) + (0.02)*80 + 0.1\n",
    "\n",
    "\n",
    "# h(z) = 0.01 + 1.6 + 0.1 = 1.71\n",
    "\n",
    "# now sigmoid will be 1/1+e(h(z))\n",
    "\n",
    "# which you can calculate and andwer will be 0.8468362842349138246954\n",
    "\n",
    "# and round off in 2 decimal to 0.85"
   ]
  }
 ],
 "metadata": {
  "kernelspec": {
   "display_name": "Python 3 (ipykernel)",
   "language": "python",
   "name": "python3"
  },
  "language_info": {
   "codemirror_mode": {
    "name": "ipython",
    "version": 3
   },
   "file_extension": ".py",
   "mimetype": "text/x-python",
   "name": "python",
   "nbconvert_exporter": "python",
   "pygments_lexer": "ipython3",
   "version": "3.10.4"
  }
 },
 "nbformat": 4,
 "nbformat_minor": 5
}
