{
 "cells": [
  {
   "cell_type": "markdown",
   "id": "870c1c1d",
   "metadata": {},
   "source": [
    "# Lecture 2 : Introduction To Python"
   ]
  },
  {
   "cell_type": "markdown",
   "id": "8675d50a",
   "metadata": {},
   "source": [
    "## Find X raised to power N"
   ]
  },
  {
   "cell_type": "code",
   "execution_count": 1,
   "id": "0fdfad83",
   "metadata": {},
   "outputs": [
    {
     "name": "stdout",
     "output_type": "stream",
     "text": [
      "10\n",
      "2\n",
      "100\n"
     ]
    }
   ],
   "source": [
    "# Write your code here\n",
    "x = int(input())\n",
    "n = int(input())\n",
    "print(x**n)"
   ]
  },
  {
   "cell_type": "markdown",
   "id": "a4ba3a4e",
   "metadata": {},
   "source": [
    "## Find average Marks"
   ]
  },
  {
   "cell_type": "code",
   "execution_count": null,
   "id": "14521552",
   "metadata": {},
   "outputs": [],
   "source": [
    "a = int(input())\n",
    "b = int(input())\n",
    "c = int(input())\n",
    "avg = (a+b+c)/3\n",
    "print(avg)"
   ]
  },
  {
   "cell_type": "markdown",
   "id": "93807ceb",
   "metadata": {},
   "source": [
    "## Arithmetic Progression"
   ]
  },
  {
   "cell_type": "code",
   "execution_count": null,
   "id": "29d5158f",
   "metadata": {},
   "outputs": [],
   "source": [
    "a = int(input())\n",
    "b = int(input())\n",
    "c = int(input())\n",
    "print(b-a)"
   ]
  },
  {
   "cell_type": "markdown",
   "id": "fd1850b3",
   "metadata": {},
   "source": [
    "## Rectangular Area"
   ]
  },
  {
   "cell_type": "code",
   "execution_count": null,
   "id": "8a411ba1",
   "metadata": {},
   "outputs": [],
   "source": [
    "x1 = int(input())\n",
    "y1 = int(input())\n",
    "x2 = int(input())\n",
    "y2 = int(input())\n",
    "\n",
    "area = (x2-x1) * (y2-y1)\n",
    "print(area)"
   ]
  },
  {
   "cell_type": "markdown",
   "id": "62118b37",
   "metadata": {},
   "source": [
    "# Lecture 3 : Conditions and Loops"
   ]
  },
  {
   "cell_type": "markdown",
   "id": "0f9093f9",
   "metadata": {},
   "source": [
    "## Check number"
   ]
  },
  {
   "cell_type": "code",
   "execution_count": null,
   "id": "b7baa52d",
   "metadata": {},
   "outputs": [],
   "source": [
    "n = int(input())\n",
    "if n > 0:\n",
    "    print(\"Positive\")\n",
    "elif n < 0:\n",
    "    print(\"Negative\")\n",
    "else:\n",
    "    print(\"Zero\")"
   ]
  },
  {
   "cell_type": "markdown",
   "id": "0b8efd1a",
   "metadata": {},
   "source": [
    "## Sum of n numbers"
   ]
  },
  {
   "cell_type": "code",
   "execution_count": null,
   "id": "561f0a8d",
   "metadata": {},
   "outputs": [],
   "source": [
    "n = int(input())\n",
    "\n",
    "sumOfNInt = (n * ( n + 1)) // 2\n",
    "print(sumOfNInt)"
   ]
  },
  {
   "cell_type": "markdown",
   "id": "11d2c005",
   "metadata": {},
   "source": [
    "## Sum of Even Numbers"
   ]
  },
  {
   "cell_type": "code",
   "execution_count": null,
   "id": "52f010c8",
   "metadata": {},
   "outputs": [],
   "source": [
    "n = int(input())\n",
    "\n",
    "num = 0\n",
    "sum = 0\n",
    "while num <= n:\n",
    "    sum = sum + num\n",
    "    num = num + 2\n",
    "\n",
    "print(sum)"
   ]
  },
  {
   "cell_type": "markdown",
   "id": "45dff1d4",
   "metadata": {},
   "source": [
    "## Fahrenheit to Celsius"
   ]
  },
  {
   "cell_type": "code",
   "execution_count": null,
   "id": "603ad6e3",
   "metadata": {},
   "outputs": [],
   "source": [
    "s = int(input())\n",
    "e = int(input())\n",
    "w = int(input())\n",
    "\n",
    "f = s\n",
    "while f <= e:\n",
    "    temp = f - 32\n",
    "    celcius = 0\n",
    "    if temp < 0:\n",
    "        celcius = (32 - f) * 5 // 9\n",
    "        celcius = -celcius\n",
    "    else:\n",
    "    \tcelcius = (f - 32) * 5 // 9\n",
    "    print(f, \"\\t\" ,celcius)\n",
    "    f = f + w"
   ]
  },
  {
   "cell_type": "markdown",
   "id": "fe10d4c1",
   "metadata": {},
   "source": [
    "## Calculator"
   ]
  },
  {
   "cell_type": "code",
   "execution_count": null,
   "id": "490c8dd2",
   "metadata": {},
   "outputs": [],
   "source": [
    "while True:\n",
    "    user_input = int(input())\n",
    "    if user_input <= 0 or user_input > 6:\n",
    "        print(\"Invalid Operation\")\n",
    "        continue\n",
    "    if user_input == 1:\n",
    "        a = int(input())\n",
    "        b = int(input())\n",
    "        print(a+b)\n",
    "    elif user_input == 2:\n",
    "        a = int(input())\n",
    "        b = int(input())\n",
    "        print(a-b)\n",
    "    elif user_input == 3:\n",
    "        a = int(input())\n",
    "        b = int(input())\n",
    "        print(a*b)\n",
    "    elif user_input == 4:\n",
    "        a = int(input())\n",
    "        b = int(input())\n",
    "        print(int(a/b))\n",
    "    elif user_input == 5:\n",
    "        a = int(input())\n",
    "        b = int(input())\n",
    "        print(a%b)\n",
    "    else:\n",
    "        break"
   ]
  },
  {
   "cell_type": "markdown",
   "id": "0259e340",
   "metadata": {},
   "source": [
    "## Reverse of a number"
   ]
  },
  {
   "cell_type": "code",
   "execution_count": null,
   "id": "041d79b8",
   "metadata": {},
   "outputs": [],
   "source": [
    "def reverse(n):\n",
    "#Implement Your Code Here\n",
    "    str_n = str(n)\n",
    "    str_n = str_n[::-1]\n",
    "    n = int(str_n)\n",
    "    return n\n",
    "\n",
    "n=int(input())\n",
    "result = reverse(n)\n",
    "print(result)"
   ]
  },
  {
   "cell_type": "markdown",
   "id": "2acebf36",
   "metadata": {},
   "source": [
    "## Palindrome number"
   ]
  },
  {
   "cell_type": "code",
   "execution_count": null,
   "id": "21083395",
   "metadata": {},
   "outputs": [],
   "source": [
    "def checkPalindrome(num):\n",
    "    str_n = str(num)\n",
    "    l = len(str_n)\n",
    "    is_pali = True\n",
    "    for i in range (0 , l//2):\n",
    "        if str_n[i] != str_n[l-i-1]:\n",
    "            is_pali = False\n",
    "            break\n",
    "    return is_pali\n",
    "#Implement Your Code Here\n",
    "num = int(input())\n",
    "isPalindrome = checkPalindrome(num)\n",
    "if(isPalindrome):\n",
    "    print('true')\n",
    "else:\n",
    "    print('false')"
   ]
  },
  {
   "cell_type": "markdown",
   "id": "462165c1",
   "metadata": {},
   "source": [
    "## Sum of even & odd"
   ]
  },
  {
   "cell_type": "code",
   "execution_count": null,
   "id": "10b3e166",
   "metadata": {},
   "outputs": [],
   "source": [
    "n = input()\n",
    "\n",
    "l = len(n)\n",
    "count = 0\n",
    "sum_of_odd = 0\n",
    "sum_of_even = 0\n",
    "while count < l:\n",
    "    digit = int(n[count])\n",
    "    if digit%2==0:\n",
    "        sum_of_even = sum_of_even + digit\n",
    "    else:\n",
    "        sum_of_odd = sum_of_odd + digit\n",
    "    count = count + 1\n",
    "\n",
    "print(sum_of_even,\" \",sum_of_odd)"
   ]
  },
  {
   "cell_type": "markdown",
   "id": "c7e43034",
   "metadata": {},
   "source": [
    "## Nth Fibonacci Number"
   ]
  },
  {
   "cell_type": "code",
   "execution_count": null,
   "id": "4b2517b3",
   "metadata": {},
   "outputs": [],
   "source": [
    "## Read input as specified in the question.\n",
    "## Print output as specified in the question.\n",
    "def fib(n, dp):\n",
    "    if dp[n] > 0:\n",
    "        return dp[n]\n",
    "    if n==1 or n==2:\n",
    "        return 1\n",
    "    if n==0:\n",
    "        return 0\n",
    "    dp[n] = fib(n-1,dp) + fib(n-2,dp)\n",
    "    return dp[n]\n",
    "\n",
    "n = int(input())\n",
    "dp = [0]*(n+1)\n",
    "print(fib(n,dp))"
   ]
  },
  {
   "cell_type": "markdown",
   "id": "2603953f",
   "metadata": {},
   "source": [
    "# Lecture 4 : Patterns"
   ]
  },
  {
   "cell_type": "markdown",
   "id": "58b0f9b8",
   "metadata": {},
   "source": [
    "## Code : Square Pattern"
   ]
  },
  {
   "cell_type": "code",
   "execution_count": null,
   "id": "bf409fd5",
   "metadata": {},
   "outputs": [],
   "source": [
    "n = int(input())\n",
    "\n",
    "i = 0\n",
    "while i < n:\n",
    "    j = 0\n",
    "    while j < n:\n",
    "        print(n,end='')\n",
    "        j = j + 1\n",
    "    print()\n",
    "    i = i + 1"
   ]
  },
  {
   "cell_type": "markdown",
   "id": "9a6fbe24",
   "metadata": {},
   "source": [
    "## Code : Triangular Star Pattern"
   ]
  },
  {
   "cell_type": "code",
   "execution_count": null,
   "id": "55e70339",
   "metadata": {},
   "outputs": [],
   "source": [
    "n = int(input())\n",
    "\n",
    "i = 1\n",
    "while i <= n:\n",
    "    j = 1\n",
    "    while j <=i:\n",
    "        print('*',end='')\n",
    "        j = j + 1\n",
    "    print()\n",
    "    i = i+1"
   ]
  },
  {
   "cell_type": "markdown",
   "id": "84a27bb6",
   "metadata": {},
   "source": [
    "## Code : Triangle Number Pattern"
   ]
  },
  {
   "cell_type": "code",
   "execution_count": null,
   "id": "2a491b0c",
   "metadata": {},
   "outputs": [],
   "source": [
    "## Read input as specified in the question\n",
    "## Print the required output in given format\n",
    "n = int(input())\n",
    "\n",
    "i = 1\n",
    "\n",
    "while i <=n:\n",
    "    j = 1\n",
    "    while j <=i:\n",
    "        print(i,end='')\n",
    "        j = j + 1\n",
    "    print()\n",
    "    i = i + 1"
   ]
  },
  {
   "cell_type": "markdown",
   "id": "aba6601c",
   "metadata": {},
   "source": [
    "## Code : Reverse Number Pattern"
   ]
  },
  {
   "cell_type": "code",
   "execution_count": null,
   "id": "f25e0068",
   "metadata": {},
   "outputs": [],
   "source": [
    "## Read input as specified in the question\n",
    "## Print the required output in given format\n",
    "\n",
    "n = int(input())\n",
    "\n",
    "i = 1\n",
    "\n",
    "while i <=n:\n",
    "    j = 1\n",
    "    while j <=i:\n",
    "        print(i-j+1,end='')\n",
    "        j = j + 1\n",
    "    print()\n",
    "    i = i + 1"
   ]
  },
  {
   "cell_type": "markdown",
   "id": "a6b3a815",
   "metadata": {},
   "source": [
    "## Code : Alpha Pattern"
   ]
  },
  {
   "cell_type": "code",
   "execution_count": null,
   "id": "e0e5fec7",
   "metadata": {},
   "outputs": [],
   "source": [
    "## Read input as specified in the question.\n",
    "## Print output as specified in the question.\n",
    "n = int(input())\n",
    "\n",
    "i = 1\n",
    "while i <=n:\n",
    "    j = 1\n",
    "    while j<=i:\n",
    "        print(chr(ord('A') + i - 1), end='')\n",
    "        j = j + 1\n",
    "    print()\n",
    "    i = i + 1"
   ]
  },
  {
   "cell_type": "markdown",
   "id": "b0b47782",
   "metadata": {},
   "source": [
    "## Code : Character Pattern"
   ]
  },
  {
   "cell_type": "code",
   "execution_count": 4,
   "id": "5e09af84",
   "metadata": {},
   "outputs": [
    {
     "name": "stdout",
     "output_type": "stream",
     "text": [
      "10\n",
      "A\n",
      "BC\n",
      "CDE\n",
      "DEFG\n",
      "EFGHI\n",
      "FGHIJK\n",
      "GHIJKLM\n",
      "HIJKLMNO\n",
      "IJKLMNOPQ\n",
      "JKLMNOPQRS\n"
     ]
    }
   ],
   "source": [
    "n = int(input())\n",
    "\n",
    "i = 1\n",
    "while i <=n:\n",
    "    j = 1\n",
    "    start_char = chr(ord('A') + i - 1)\n",
    "    while j<=i:\n",
    "        print(chr(ord(start_char) + j - 1), end='')\n",
    "        j = j + 1\n",
    "    print()\n",
    "    i = i + 1"
   ]
  },
  {
   "cell_type": "markdown",
   "id": "a4c0f961",
   "metadata": {},
   "source": [
    "## Code : Interesting Alphabets"
   ]
  },
  {
   "cell_type": "code",
   "execution_count": 5,
   "id": "56cbde1e",
   "metadata": {},
   "outputs": [
    {
     "name": "stdout",
     "output_type": "stream",
     "text": [
      "10\n",
      "J\n",
      "IJ\n",
      "HIJ\n",
      "GHIJ\n",
      "FGHIJ\n",
      "EFGHIJ\n",
      "DEFGHIJ\n",
      "CDEFGHIJ\n",
      "BCDEFGHIJ\n",
      "ABCDEFGHIJ\n"
     ]
    }
   ],
   "source": [
    "## Read input as specified in the question.\n",
    "## Print output as specified in the question.\n",
    "n = int(input())\n",
    "\n",
    "i = 1\n",
    "while i <=n:\n",
    "    j = 1\n",
    "    start_char = chr(ord('A') + n -i)\n",
    "    while j<=i:\n",
    "        print(chr(ord(start_char) + j - 1), end='')\n",
    "        j = j + 1\n",
    "    print()\n",
    "    i = i + 1"
   ]
  },
  {
   "cell_type": "markdown",
   "id": "51115a1a",
   "metadata": {},
   "source": [
    "## Code : Inverted Number Pattern"
   ]
  },
  {
   "cell_type": "code",
   "execution_count": 10,
   "id": "77ff4057",
   "metadata": {},
   "outputs": [
    {
     "name": "stdout",
     "output_type": "stream",
     "text": [
      "10\n",
      "10101010101010101010\n",
      "999999999\n",
      "88888888\n",
      "7777777\n",
      "666666\n",
      "55555\n",
      "4444\n",
      "333\n",
      "22\n",
      "1\n"
     ]
    }
   ],
   "source": [
    "## Read input as specified in the question\n",
    "## Print the required output in given format\n",
    "\n",
    "n = int(input())\n",
    "\n",
    "i = 1\n",
    "while i <=n:\n",
    "    j = 1\n",
    "    while j<= (n - i + 1):\n",
    "        print(n-i+1, end='')\n",
    "        j = j + 1\n",
    "    print()\n",
    "    i = i + 1"
   ]
  },
  {
   "cell_type": "markdown",
   "id": "8e2d8d76",
   "metadata": {},
   "source": [
    "## Code : Mirror Number Pattern"
   ]
  },
  {
   "cell_type": "code",
   "execution_count": 9,
   "id": "a2f32321",
   "metadata": {},
   "outputs": [
    {
     "name": "stdout",
     "output_type": "stream",
     "text": [
      "10\n",
      "         1\n",
      "        12\n",
      "       123\n",
      "      1234\n",
      "     12345\n",
      "    123456\n",
      "   1234567\n",
      "  12345678\n",
      " 123456789\n",
      "12345678910\n"
     ]
    }
   ],
   "source": [
    "## Read input as specified in the question\n",
    "## Print the required output in given format\n",
    "n = int(input())\n",
    "\n",
    "i = 1\n",
    "while i <=n:\n",
    "    spaces = 1\n",
    "    while spaces<=(n-i):\n",
    "        print(' ', end='')\n",
    "        spaces = spaces + 1\n",
    "    num = 1\n",
    "    while num <=i:\n",
    "        print(num,end='')\n",
    "        num = num + 1\n",
    "    print()\n",
    "    i = i + 1"
   ]
  },
  {
   "cell_type": "markdown",
   "id": "2fb212ef",
   "metadata": {},
   "source": [
    "## Code : Star Pattern"
   ]
  },
  {
   "cell_type": "code",
   "execution_count": 8,
   "id": "d15cccb1",
   "metadata": {},
   "outputs": [
    {
     "name": "stdout",
     "output_type": "stream",
     "text": [
      "10\n",
      "         *\n",
      "        ***\n",
      "       *****\n",
      "      *******\n",
      "     *********\n",
      "    ***********\n",
      "   *************\n",
      "  ***************\n",
      " *****************\n",
      "*******************\n"
     ]
    }
   ],
   "source": [
    "## Read input as specified in the question.\n",
    "## Print output as specified in the question.\n",
    "n = int(input())\n",
    "\n",
    "i = 1\n",
    "while i <=n:\n",
    "    spaces = 1\n",
    "    while spaces<=(n-i):\n",
    "        print(' ', end='')\n",
    "        spaces = spaces + 1\n",
    "    stars = 1\n",
    "    while stars <=i:\n",
    "        print('*',end='')\n",
    "        stars = stars + 1\n",
    "    stars = stars - 1\n",
    "    while stars >1:\n",
    "        print('*',end='')\n",
    "        stars = stars - 1\n",
    "    print()\n",
    "    i = i + 1"
   ]
  },
  {
   "cell_type": "markdown",
   "id": "89fe026c",
   "metadata": {},
   "source": [
    "## Code : Triangle of Numbers"
   ]
  },
  {
   "cell_type": "code",
   "execution_count": 7,
   "id": "91242d63",
   "metadata": {},
   "outputs": [
    {
     "name": "stdout",
     "output_type": "stream",
     "text": [
      "10\n",
      "         1\n",
      "        232\n",
      "       34543\n",
      "      4567654\n",
      "     567898765\n",
      "    67891011109876\n",
      "   78910111213121110987\n",
      "  89101112131415141312111098\n",
      " 91011121314151617161514131211109\n",
      "10111213141516171819181716151413121110\n"
     ]
    }
   ],
   "source": [
    "## Read input as specified in the question.\n",
    "## Print output as specified in the question.\n",
    "n = int(input())\n",
    "\n",
    "i = 1\n",
    "while i <=n:\n",
    "    spaces = 1\n",
    "    while spaces<=(n-i):\n",
    "        print(' ', end='')\n",
    "        spaces = spaces + 1\n",
    "    num = 1\n",
    "    while num <=i:\n",
    "        print(num+i-1,end='')\n",
    "        num = num + 1\n",
    "    last_num_print = (num+i-1) -1\n",
    "    # decrease one to start print\n",
    "    last_num_print = last_num_print - 1\n",
    "    # keep decrease until i\n",
    "    while last_num_print >= i:\n",
    "        print(last_num_print,end='')\n",
    "        last_num_print = last_num_print - 1\n",
    "    print()\n",
    "    i = i + 1"
   ]
  },
  {
   "cell_type": "code",
   "execution_count": 20,
   "id": "e880fdcb",
   "metadata": {},
   "outputs": [
    {
     "name": "stdout",
     "output_type": "stream",
     "text": [
      "         1\n",
      "        232\n",
      "       34543\n",
      "      4567654\n",
      "     567898765\n",
      "    67891011109876\n",
      "   78910111213121110987\n",
      "  89101112131415141312111098\n",
      " 91011121314151617161514131211109\n",
      "10111213141516171819181716151413121110\n"
     ]
    }
   ],
   "source": [
    "n=int(input())\n",
    "for i in range(1,n+1):\n",
    "    for m in range(1,n-i+1):\n",
    "        print(\" \",end=\"\")\n",
    "    last_num_print = 1\n",
    "    for j in range(1,i+1):\n",
    "        print(j+i-1,end=\"\")\n",
    "        last_num_print = j+i-1\n",
    "#     for k in range(2*i,i,-1):\n",
    "#         print(k,end=\"\")\n",
    "#     last_num_print = (j + i -1 ) -1\n",
    "    last_num_print = last_num_print-1\n",
    "#     print(\"last_num_print\",last_num_print,i-2)\n",
    "    for m in range(last_num_print,i-1,-1):\n",
    "        print(m,end=\"\")\n",
    "    print()\n"
   ]
  },
  {
   "cell_type": "markdown",
   "id": "005ca15c",
   "metadata": {},
   "source": [
    "## Code : Diamond of stars"
   ]
  },
  {
   "cell_type": "code",
   "execution_count": 6,
   "id": "9e8bfe1c",
   "metadata": {},
   "outputs": [
    {
     "name": "stdout",
     "output_type": "stream",
     "text": [
      "10\n",
      "     *\n",
      "    ***\n",
      "   *****\n",
      "  *******\n",
      " *********\n",
      "***********\n",
      " *********\n",
      "  *******\n",
      "   *****\n",
      "    ***\n",
      "     *\n"
     ]
    }
   ],
   "source": [
    "## Read input as specified in the question.\n",
    "## Print output as specified in the question.\n",
    "n = int(input())\n",
    "\n",
    "i = 1\n",
    "half_n = n//2+1\n",
    "while i <=half_n:\n",
    "    spaces = 1\n",
    "    while spaces<=(half_n-i):\n",
    "        print(' ', end='')\n",
    "        spaces = spaces + 1\n",
    "    stars = 1\n",
    "    while stars <=i:\n",
    "        print('*',end='')\n",
    "        stars = stars + 1\n",
    "    stars = stars - 1\n",
    "    while stars >1:\n",
    "        print('*',end='')\n",
    "        stars = stars - 1\n",
    "    print()\n",
    "    i = i + 1\n",
    "i = 1\n",
    "while i < half_n:\n",
    "    spaces = 1\n",
    "    while spaces <=i:\n",
    "        print(' ',end='')\n",
    "        spaces = spaces + 1\n",
    "    stars = 1\n",
    "    while stars <=(half_n -i):\n",
    "        print('*',end='')\n",
    "        stars = stars + 1\n",
    "    stars = stars - 1\n",
    "    while stars > 1:\n",
    "        print('*',end='')\n",
    "        stars = stars - 1\n",
    "    print()\n",
    "    i = i +1\n"
   ]
  },
  {
   "cell_type": "markdown",
   "id": "a76a5686",
   "metadata": {},
   "source": [
    "# Lecture 5 : More on Loops"
   ]
  },
  {
   "cell_type": "markdown",
   "id": "ea02c4c3",
   "metadata": {},
   "source": [
    "## Terms of AP"
   ]
  },
  {
   "cell_type": "code",
   "execution_count": 1,
   "id": "21e3734f",
   "metadata": {},
   "outputs": [
    {
     "name": "stdout",
     "output_type": "stream",
     "text": [
      "10\n",
      "5 11 14 17 23 26 29 35 38 41 "
     ]
    }
   ],
   "source": [
    "## Read input as specified in the question.\n",
    "## Print output as specified in the question.\n",
    "x = int(input())\n",
    "c = 1\n",
    "c4 = 1\n",
    "while c4<=x:\n",
    "    s = 3 * c + 2\n",
    "    if s%4!=0:\n",
    "        print(s,end=' ')\n",
    "        c4 = c4 + 1\n",
    "    c = c + 1"
   ]
  },
  {
   "cell_type": "code",
   "execution_count": 1,
   "id": "47e4ede1",
   "metadata": {},
   "outputs": [
    {
     "name": "stdout",
     "output_type": "stream",
     "text": [
      "10\n",
      "5  \n",
      "11  \n",
      "14  \n",
      "17  \n",
      "23  \n",
      "26  \n",
      "29  \n",
      "35  \n",
      "38  \n",
      "41  \n"
     ]
    }
   ],
   "source": [
    "x = int(input())\n",
    "count = 1\n",
    "a = 1\n",
    "while count <= x :\n",
    "    b = 3*a + 2\n",
    "    if b % 4 != 0 :\n",
    "        print(b  , \" \")\n",
    "        count+=1\n",
    "    a+=1\n"
   ]
  },
  {
   "cell_type": "markdown",
   "id": "a7f36be2",
   "metadata": {},
   "source": [
    "## Sum or product"
   ]
  },
  {
   "cell_type": "code",
   "execution_count": null,
   "id": "3979009c",
   "metadata": {},
   "outputs": [],
   "source": [
    "## Read input as specified in the question.\n",
    "## Print output as specified in the question.\n",
    "n = int(input())\n",
    "\n",
    "c = int(input())\n",
    "\n",
    "if c==1:\n",
    "    print((n*(n+1))//2)\n",
    "elif c==2:\n",
    "    s = 1\n",
    "    for i in range(1,n+1):\n",
    "        s = s*i\n",
    "    print(s)\n",
    "else:\n",
    "    print(\"-1\")"
   ]
  },
  {
   "cell_type": "markdown",
   "id": "065f9cbc",
   "metadata": {},
   "source": [
    "## Square root (Integral)"
   ]
  },
  {
   "cell_type": "code",
   "execution_count": null,
   "id": "a61d341e",
   "metadata": {},
   "outputs": [],
   "source": [
    "## Read input as specified in the question.\n",
    "## Print output as specified in the question.\n",
    "\n",
    "n = int(input())\n",
    "\n",
    "i = 1\n",
    "while i*i<=n:\n",
    "    i = i + 1\n",
    "else:\n",
    "    print(i-1)"
   ]
  },
  {
   "cell_type": "markdown",
   "id": "8d559566",
   "metadata": {},
   "source": [
    "## Decimal to Binary"
   ]
  },
  {
   "cell_type": "code",
   "execution_count": 2,
   "id": "e73a5e9b",
   "metadata": {},
   "outputs": [
    {
     "name": "stdout",
     "output_type": "stream",
     "text": [
      "10\n",
      "1010\n"
     ]
    }
   ],
   "source": [
    "n = int(input())\n",
    "\n",
    "d = n\n",
    "if n==0:\n",
    "    r = \"0\"\n",
    "else:\n",
    "    r = \"\"\n",
    "while d > 0:\n",
    "    r = str(d%2) + r\n",
    "    d = d//2\n",
    "print(r)"
   ]
  },
  {
   "cell_type": "markdown",
   "id": "73c5e7e5",
   "metadata": {},
   "source": [
    "## Binary to decimal"
   ]
  },
  {
   "cell_type": "code",
   "execution_count": null,
   "id": "a4de856b",
   "metadata": {},
   "outputs": [],
   "source": [
    "## Read input as specified in the question.\n",
    "## Print output as specified in the question.\n",
    "\n",
    "def pow(x,n):\n",
    "    if x==0:\n",
    "        return 0\n",
    "    if n==0:\n",
    "        return 1\n",
    "    if n%2==0:\n",
    "        subResult = pow(x,n/2)\n",
    "        return subResult * subResult\n",
    "    else:\n",
    "        return x * pow(x,n-1)\n",
    "\n",
    "n = input()\n",
    "dec = 0\n",
    "count = len(n) -1\n",
    "for c in n:\n",
    "    if c=='1':\n",
    "       dec = dec + pow(2,count)\n",
    "    count = count - 1\n",
    "print(dec)"
   ]
  },
  {
   "cell_type": "markdown",
   "id": "ea38c169",
   "metadata": {},
   "source": [
    "## Even Fibonacci Numbers"
   ]
  },
  {
   "cell_type": "code",
   "execution_count": null,
   "id": "1a8c0022",
   "metadata": {},
   "outputs": [],
   "source": [
    "n = int(input())\n",
    "\n",
    "t1 = 0\n",
    "t2 = 1\n",
    "even_sum = 0\n",
    "while t2<=n:\n",
    "    if t2%2==0:\n",
    "        even_sum = even_sum + t2\n",
    "    t2 = t2 + t1\n",
    "    t1 = t2 - t1\n",
    "print(even_sum)"
   ]
  },
  {
   "cell_type": "markdown",
   "id": "f1d060c7",
   "metadata": {},
   "source": [
    "## Trailing zeroes in n!"
   ]
  },
  {
   "cell_type": "code",
   "execution_count": null,
   "id": "22fc7aa5",
   "metadata": {},
   "outputs": [],
   "source": [
    "n = int(input())\n",
    "\n",
    "num_of_5s = 0\n",
    "pow_of_5s = 5\n",
    "while pow_of_5s <= n:\n",
    "    num_of_5s = num_of_5s + n//pow_of_5s\n",
    "    pow_of_5s = pow_of_5s * 5\n",
    "print(num_of_5s)"
   ]
  },
  {
   "cell_type": "markdown",
   "id": "91d195a5",
   "metadata": {},
   "source": [
    "# Lecture 6 : Strings, List & 2D List"
   ]
  },
  {
   "cell_type": "markdown",
   "id": "95920b97",
   "metadata": {},
   "source": [
    "## Check Palindrome"
   ]
  },
  {
   "cell_type": "code",
   "execution_count": 12,
   "id": "e40c1ca9",
   "metadata": {},
   "outputs": [
    {
     "name": "stdout",
     "output_type": "stream",
     "text": [
      "true\n"
     ]
    }
   ],
   "source": [
    "from sys import stdin\n",
    "\n",
    "def isPalindrome(string) :\n",
    "\t# Your code goes here\n",
    "    is_pal = False\n",
    "    i=0\n",
    "    while i < len(string)//2:\n",
    "        if(string[i]!=string[len(string)-i-1]):\n",
    "            break\n",
    "        i = i + 1\n",
    "    else:\n",
    "        is_pal = True\n",
    "    return is_pal\n",
    "#main\n",
    "string = stdin.readline().strip();\n",
    "ans = isPalindrome(string)\n",
    "\n",
    "if ans :\n",
    "    print('true')\n",
    "else :\n",
    "    print('false')"
   ]
  },
  {
   "cell_type": "markdown",
   "id": "696ff2be",
   "metadata": {},
   "source": [
    "## Print all substrings"
   ]
  },
  {
   "cell_type": "code",
   "execution_count": 13,
   "id": "f64993b2",
   "metadata": {},
   "outputs": [],
   "source": [
    "from sys import stdin\n",
    "\n",
    "\n",
    "def printSubstrings(string) :\n",
    "\t# Your ciode goes here\n",
    "    for i in range(0,len(string)):\n",
    "        substring = string[i]\n",
    "        print(substring)\n",
    "        for j in range(i+1,len(string)):\n",
    "            substring = substring + string[j]\n",
    "            print(substring)\n",
    "#main\n",
    "string = stdin.readline().strip();\n",
    "printSubstrings(string)"
   ]
  },
  {
   "cell_type": "markdown",
   "id": "e9ef9cdc",
   "metadata": {},
   "source": [
    "## Swap Alternate"
   ]
  },
  {
   "cell_type": "code",
   "execution_count": 15,
   "id": "16f150e4",
   "metadata": {},
   "outputs": [
    {
     "ename": "ValueError",
     "evalue": "invalid literal for int() with base 10: ''",
     "output_type": "error",
     "traceback": [
      "\u001b[0;31m---------------------------------------------------------------------------\u001b[0m",
      "\u001b[0;31mValueError\u001b[0m                                Traceback (most recent call last)",
      "\u001b[0;32m<ipython-input-15-927565f19cc9>\u001b[0m in \u001b[0;36m<module>\u001b[0;34m\u001b[0m\n\u001b[1;32m     28\u001b[0m \u001b[0;34m\u001b[0m\u001b[0m\n\u001b[1;32m     29\u001b[0m \u001b[0;31m#main\u001b[0m\u001b[0;34m\u001b[0m\u001b[0;34m\u001b[0m\u001b[0;34m\u001b[0m\u001b[0m\n\u001b[0;32m---> 30\u001b[0;31m \u001b[0mt\u001b[0m \u001b[0;34m=\u001b[0m \u001b[0mint\u001b[0m\u001b[0;34m(\u001b[0m\u001b[0mstdin\u001b[0m\u001b[0;34m.\u001b[0m\u001b[0mreadline\u001b[0m\u001b[0;34m(\u001b[0m\u001b[0;34m)\u001b[0m\u001b[0;34m.\u001b[0m\u001b[0mrstrip\u001b[0m\u001b[0;34m(\u001b[0m\u001b[0;34m)\u001b[0m\u001b[0;34m)\u001b[0m\u001b[0;34m\u001b[0m\u001b[0;34m\u001b[0m\u001b[0m\n\u001b[0m\u001b[1;32m     31\u001b[0m \u001b[0;34m\u001b[0m\u001b[0m\n\u001b[1;32m     32\u001b[0m \u001b[0;32mwhile\u001b[0m \u001b[0mt\u001b[0m \u001b[0;34m>\u001b[0m \u001b[0;36m0\u001b[0m \u001b[0;34m:\u001b[0m\u001b[0;34m\u001b[0m\u001b[0;34m\u001b[0m\u001b[0m\n",
      "\u001b[0;31mValueError\u001b[0m: invalid literal for int() with base 10: ''"
     ]
    }
   ],
   "source": [
    "from sys import stdin\n",
    "\n",
    "def swapAlternate(arr, n) :\n",
    "    for i in range(0,len(arr),2):\n",
    "        if(i==len(arr)-1):\n",
    "            break\n",
    "        temp = arr[i]\n",
    "        arr[i] = arr[i+1]\n",
    "        arr[i+1] = temp\n",
    "\n",
    "#Taking Input Using Fast I/O\n",
    "def takeInput() :\n",
    "    n = int(stdin.readline().rstrip())\n",
    "\n",
    "    if n == 0 :\n",
    "        return list(), 0\n",
    "\n",
    "    arr = list(map(int, stdin.readline().rstrip().split(\" \")))\n",
    "    return arr, n\n",
    "\n",
    "\n",
    "#Printing the array/list\n",
    "def printList(arr, n) :\n",
    "    for i in range(n) :\n",
    "        print(arr[i], end = \" \")\n",
    "    print()\n",
    "\n",
    "\n",
    "#main\n",
    "t = int(stdin.readline().rstrip())\n",
    "\n",
    "while t > 0 :\n",
    "    arr, n = takeInput()\n",
    "    if n != 0 :\n",
    "        swapAlternate(arr, n)\n",
    "        printList(arr, n)\n",
    "    t -= 1"
   ]
  },
  {
   "cell_type": "markdown",
   "id": "7685d0d3",
   "metadata": {},
   "source": [
    "## Array equilibrium index"
   ]
  },
  {
   "cell_type": "code",
   "execution_count": null,
   "id": "6aa7ae8d",
   "metadata": {},
   "outputs": [],
   "source": [
    "from sys import stdin\n",
    "\n",
    "def arrayEquilibriumIndex(arr, n) :\n",
    "    #Your code goes here\n",
    "    if len(arr) < 3:\n",
    "        return -1\n",
    "    index_of_equibrium = -1\n",
    "    sum_after_i = 0\n",
    "    for i in range(2,len(arr)):\n",
    "        sum_after_i = sum_after_i + arr[i]\n",
    "    sum_before_i = arr[0]    \n",
    "    for i in range(1,len(arr)-1):\n",
    "        if(sum_before_i==sum_after_i):\n",
    "            index_of_equibrium = i\n",
    "            break\n",
    "        sum_before_i = sum_before_i + arr[i]\n",
    "        sum_after_i = sum_after_i - arr[i+1]\n",
    "    return index_of_equibrium\n",
    "\n",
    "#Taking input using fast I/O method\n",
    "def takeInput() :\n",
    "    n = int(stdin.readline().strip())\n",
    "    if n == 0 :\n",
    "        return list(), 0\n",
    "\n",
    "    arr = list(map(int, stdin.readline().strip().split(\" \")))\n",
    "    return arr, n\n",
    "\n",
    "\n",
    "def printList(arr, n) : \n",
    "    for i in range(n) :\n",
    "        print(arr[i], end = \" \")\n",
    "    print()\n",
    "\n",
    "\n",
    "#main\n",
    "t = int(stdin.readline().strip())\n",
    "\n",
    "while t > 0 :\n",
    "    \n",
    "    arr, n = takeInput()\n",
    "    print(arrayEquilibriumIndex(arr, n))\n",
    "\n",
    "    t-= 1"
   ]
  },
  {
   "cell_type": "markdown",
   "id": "515dafe6",
   "metadata": {},
   "source": [
    "## Row wise sum"
   ]
  },
  {
   "cell_type": "code",
   "execution_count": null,
   "id": "1b2303c3",
   "metadata": {},
   "outputs": [],
   "source": [
    "from sys import stdin\n",
    "\n",
    "def rowWiseSum(mat, nRows, mCols):\n",
    "    #Your code goes here\n",
    "    if(nRows==0):\n",
    "        return\n",
    "    for i in range(nRows):\n",
    "        sum_row_wise = 0\n",
    "        for j in range(mCols):\n",
    "            sum_row_wise = sum_row_wise + mat[i][j]\n",
    "        print(sum_row_wise,end=' ')\n",
    "\n",
    "\n",
    "#Taking Input Using Fast I/O\n",
    "def take2DInput() :\n",
    "    li = stdin.readline().rstrip().split(\" \")\n",
    "    nRows = int(li[0])\n",
    "    mCols = int(li[1])\n",
    "    \n",
    "    if nRows == 0 :\n",
    "        return list(), 0, 0\n",
    "    \n",
    "    mat = [list(map(int, input().strip().split(\" \"))) for row in range(nRows)]\n",
    "    return mat, nRows, mCols\n",
    "\n",
    "\n",
    "#main\n",
    "t = int(stdin.readline().rstrip())\n",
    "\n",
    "while t > 0 :\n",
    "\n",
    "    mat, nRows, mCols = take2DInput()\n",
    "    rowWiseSum(mat, nRows, mCols)\n",
    "    print()\n",
    "\n",
    "    t -= 1"
   ]
  },
  {
   "cell_type": "markdown",
   "id": "7f482a64",
   "metadata": {},
   "source": [
    "## Wave Print"
   ]
  },
  {
   "cell_type": "code",
   "execution_count": null,
   "id": "d461a60f",
   "metadata": {},
   "outputs": [],
   "source": [
    "from sys import stdin\n",
    "\n",
    "def wavePrint(mat, nRows, mCols):\n",
    "    #Your code goes here\n",
    "    if(nRows==0):\n",
    "        return\n",
    "    toggle = False\n",
    "    for j in range(mCols):\n",
    "        if toggle==True:\n",
    "            toggle = False\n",
    "        else:\n",
    "            toggle = True\n",
    "        for i in range(nRows):\n",
    "            if toggle==True:\n",
    "                print(mat[i][j],end=' ')\n",
    "            else:\n",
    "                print(mat[nRows-i-1][j],end=' ')\n",
    "\n",
    "\n",
    "#Taking Iput Using Fast I/O\n",
    "def take2DInput() :\n",
    "    li = stdin.readline().rstrip().split(\" \")\n",
    "    nRows = int(li[0])\n",
    "    mCols = int(li[1])\n",
    "    \n",
    "    if nRows == 0 :\n",
    "        return list(), 0, 0\n",
    "    \n",
    "    mat = [list(map(int, input().strip().split(\" \"))) for row in range(nRows)]\n",
    "    return mat, nRows, mCols\n",
    "\n",
    "\n",
    "#main\n",
    "t = int(stdin.readline().rstrip())\n",
    "\n",
    "while t > 0 :\n",
    "\n",
    "    mat, nRows, mCols = take2DInput()\n",
    "    wavePrint(mat, nRows, mCols)\n",
    "    print()\n",
    "\n",
    "    t -= 1"
   ]
  },
  {
   "cell_type": "markdown",
   "id": "bd46455c",
   "metadata": {},
   "source": [
    "## Remove Consecutive Duplicates"
   ]
  },
  {
   "cell_type": "code",
   "execution_count": null,
   "id": "d0273c0f",
   "metadata": {},
   "outputs": [],
   "source": [
    "from sys import stdin\n",
    "\n",
    "def removeConsecutiveDuplicates(string) :\n",
    "\t# Your code goes here\n",
    "    if len(string)==0:\n",
    "        return \"\"\n",
    "    result = string[0]\n",
    "    last_char = string[0]\n",
    "    for i in range(1,len(string)):\n",
    "        if last_char!=string[i]:\n",
    "            result = result + string[i]\n",
    "            last_char = string[i]\n",
    "    return result\n",
    "            \n",
    "\n",
    "#main\n",
    "string = stdin.readline().strip()\n",
    "\n",
    "ans = removeConsecutiveDuplicates(string)\n",
    "\n",
    "print(ans)"
   ]
  },
  {
   "cell_type": "markdown",
   "id": "529b3d5c",
   "metadata": {},
   "source": [
    "## Reverse Each Word"
   ]
  },
  {
   "cell_type": "code",
   "execution_count": null,
   "id": "f1d33f2b",
   "metadata": {},
   "outputs": [],
   "source": [
    "from sys import stdin\n",
    "\n",
    "\n",
    "def reverseEachWord(string) :\n",
    "\t# Your code goes here\n",
    "    l = string.split()\n",
    "    result = \"\"\n",
    "    for w in l:\n",
    "        result = result + w[::-1] + \" \"\n",
    "    return result\n",
    "\n",
    "\n",
    "\n",
    "#main\n",
    "string = stdin.readline().strip()\n",
    "\n",
    "ans = reverseEachWord(string)\n",
    "\n",
    "print(ans)"
   ]
  },
  {
   "cell_type": "markdown",
   "id": "d8dd8764",
   "metadata": {},
   "source": [
    "## Highest Occuring Character"
   ]
  },
  {
   "cell_type": "code",
   "execution_count": null,
   "id": "c336387c",
   "metadata": {},
   "outputs": [],
   "source": [
    "from sys import stdin\n",
    "\n",
    "\n",
    "def highestOccuringChar(string) :\n",
    "\t#Your code goes here\n",
    "    l = [0]*256\n",
    "    for c in string:\n",
    "        l[ord(c)] = l[ord(c)] + 1\n",
    "    h_o_c = 1\n",
    "    h_o_c_c = \"\"\n",
    "    for i in range(256):\n",
    "        if h_o_c < l[i]:\n",
    "            h_o_c = l[i]\n",
    "            h_o_c_c = chr(i)\n",
    "    return h_o_c_c\n",
    "\n",
    "#main\n",
    "string = stdin.readline().strip();\n",
    "ans = highestOccuringChar(string)\n",
    "\n",
    "print(ans)"
   ]
  },
  {
   "cell_type": "markdown",
   "id": "d6ffaf9b",
   "metadata": {},
   "source": [
    "## Arrange Numbers in the Array"
   ]
  },
  {
   "cell_type": "code",
   "execution_count": 9,
   "id": "7dd43a50",
   "metadata": {},
   "outputs": [
    {
     "name": "stdout",
     "output_type": "stream",
     "text": [
      "[1, 3, 5] [6, 4, 2]\n",
      "[1, 3, 5, 6, 4, 2]\n"
     ]
    }
   ],
   "source": [
    "from sys import stdin\n",
    "\n",
    "def arrange(arr, n) :\n",
    "    #Your code goes here\n",
    "    if n==0:\n",
    "        return\n",
    "    l_inc = [i for i in range(1,n+1,2)]\n",
    "#     print(l_inc[-1:][0])\n",
    "    if n%2==0:\n",
    "        n2 = l_inc[-1:][0] + 1\n",
    "    else:\n",
    "        n2 = l_inc[-1:][0] - 1\n",
    "    l_dec = [i for i in range(n2,1,-2)]\n",
    "#     print(l_inc,l_dec)\n",
    "    l = l_inc + l_dec\n",
    "    for i in range(len(l)):\n",
    "        arr[i] = l[i]\n",
    "\n",
    "#to print the array/list\n",
    "def printList(arr, n) :\n",
    "    for i in range(n) :\n",
    "        print(arr[i], end = ' ')\n",
    "    print()\n",
    "\n",
    "arr = 6 * [0]\n",
    "arrange(arr,6)\n",
    "print(arr)\n",
    "\n",
    "# #main\n",
    "# t = int(stdin.readline().strip())\n",
    "\n",
    "# while t > 0 :\n",
    "#     n = int(stdin.readline().strip())\n",
    "#     arr = n * [0]\n",
    "#     arrange(arr, n)\n",
    "#     printList(arr, n)\n",
    "#     t -= 1"
   ]
  },
  {
   "cell_type": "markdown",
   "id": "c7dd4789",
   "metadata": {},
   "source": [
    "## Leaders in array"
   ]
  },
  {
   "cell_type": "code",
   "execution_count": null,
   "id": "4d446aa7",
   "metadata": {},
   "outputs": [],
   "source": [
    "size = int(input())\n",
    "a = [int(i) for i in input().split()]\n",
    "leaders = []\n",
    "leaders.append(a[-1:][0])\n",
    "for i in range(size-2,-1,-1):\n",
    "    is_leader  = True\n",
    "    for j in range(i,size):\n",
    "        if a[i] < a[j]:\n",
    "            is_leader = False\n",
    "            break\n",
    "    if is_leader == True:\n",
    "        leaders.append(a[i])\n",
    "\n",
    "for i in range(len(leaders)):\n",
    "    print(leaders[len(leaders)-i-1],end=' ')"
   ]
  },
  {
   "cell_type": "markdown",
   "id": "0bce21fb",
   "metadata": {},
   "source": [
    "## Maximise the sum"
   ]
  },
  {
   "cell_type": "code",
   "execution_count": null,
   "id": "997d9567",
   "metadata": {},
   "outputs": [],
   "source": [
    "def maxPathSum(ar1, ar2, m, n):\n",
    " \n",
    "    # initialize indexes for ar1[] and ar2[]\n",
    "    i, j = 0, 0\n",
    " \n",
    "    # Initialize result and current sum through ar1[] and ar2[]\n",
    "    result, sum1, sum2 = 0, 0, 0\n",
    " \n",
    "    # Below 3 loops are similar to merge in merge sort\n",
    "    while (i < m and j < n):\n",
    " \n",
    "        # Add elements of ar1[] to sum1\n",
    "        if ar1[i] < ar2[j]:\n",
    "            sum1 += ar1[i]\n",
    "            i += 1\n",
    " \n",
    "        # Add elements of ar2[] to sum2\n",
    "        elif ar1[i] > ar2[j]:\n",
    "            sum2 += ar2[j]\n",
    "            j += 1\n",
    " \n",
    "        else:   # we reached a common point\n",
    " \n",
    "            # Take the maximum of two sums and add to result\n",
    "            result += max(sum1, sum2) +ar1[i]\n",
    "            #update sum1 and sum2 to be considered fresh for next elements\n",
    "            sum1 = 0\n",
    "            sum2 = 0\n",
    "            #update i and j to move to next element in each array\n",
    "            i +=1\n",
    "            j +=1\n",
    " \n",
    "           \n",
    " \n",
    "    # Add remaining elements of ar1[]\n",
    "    while i < m:\n",
    "        sum1 += ar1[i]\n",
    "        i += 1\n",
    "    # Add remaining elements of b[]\n",
    "    while j < n:\n",
    "        sum2 += ar2[j]\n",
    "        j += 1\n",
    " \n",
    "    # Add maximum of two sums of remaining elements\n",
    "    result += max(sum1, sum2)\n",
    " \n",
    "    return result\n",
    "\n",
    "\n",
    "m = int(input())\n",
    "a1 = [int(i) for i in input().split()]\n",
    "n = int(input())\n",
    "a2 = [int(i) for i in input().split()]\n",
    "\n",
    "print(maxPathSum(a1,a2,m,n))\n",
    "\n",
    "\n",
    "# d1 = {}\n",
    "# d2 = {}\n",
    "\n",
    "# sum1 = 0\n",
    "# for i in a1:\n",
    "#     sum1+=i\n",
    "#     d1[i] = d1.get(i,0) + i\n",
    "# sum2 = 0\n",
    "# for i in a2:\n",
    "#     sum2+=i\n",
    "#     d2[i] = d2.get(i,0) + i\n",
    "# max_sum = 0\n",
    "# first_occurence = True\n",
    "# l_i = 0\n",
    "# l_c_i = 0\n",
    "# for i in a1:\n",
    "#     if l_i == i:\n",
    "#         continue\n",
    "#     if i in a1 and i in a2:\n",
    "#         if first_occurence == True:\n",
    "#             max_sum +=max(d1[i],d2[i])\n",
    "#             l_c_i = i\n",
    "#         else:\n",
    "#             max_sum+=max(d1[i]-d1[l_c_i],d2[i]-d2[l_c_i])\n",
    "#     l_i = i\n",
    "# if max_sum==0:\n",
    "#     print(max(sum1,sum2))\n",
    "# else:\n",
    "#     print(max_sum)\n",
    "#     print(max_sum+max(sum1-d1[l_c_i],sum2-d2[l_c_i]))"
   ]
  },
  {
   "cell_type": "markdown",
   "id": "d6e44e5a",
   "metadata": {},
   "source": [
    "## Largest Row or Column"
   ]
  },
  {
   "cell_type": "code",
   "execution_count": null,
   "id": "8a569176",
   "metadata": {},
   "outputs": [],
   "source": [
    "from sys import stdin\n",
    "\n",
    "def findLargest(arr, nRows, mCols):\n",
    "    #Your code goes here\n",
    "    maxSum = -2147483648\n",
    "    maxRow = -1\n",
    "    maxRowSum = -2147483648\n",
    "    for i in range(nRows):\n",
    "        row_sum = 0\n",
    "        for j in range(mCols):\n",
    "            row_sum = row_sum + arr[i][j]\n",
    "        if(row_sum>maxRowSum):\n",
    "            maxRowSum = row_sum\n",
    "            maxRow = i\n",
    "    maxCol = -1\n",
    "    maxColSum = -2147483648\n",
    "    for j in range(mCols):\n",
    "        col_sum = 0\n",
    "        for i in range(nRows):\n",
    "            col_sum = col_sum + arr[i][j]\n",
    "        if col_sum> maxColSum:\n",
    "            maxColSum = col_sum\n",
    "            maxCol = j\n",
    "    maxRowCol = \"\"\n",
    "    maxRowSumI = 0\n",
    "    if maxRow==-1 and maxCol==-1:\n",
    "        maxRowCol = \"row\"\n",
    "        maxRowSumI = 0\n",
    "        maxSum = maxRowSum\n",
    "    elif maxCol ==-1:\n",
    "        maxRowCol = \"row\"\n",
    "        maxRowSumI = maxRow\n",
    "        maxSum = maxRowSum\n",
    "    elif maxRow == -1:\n",
    "        maxRowCol = \"column\"\n",
    "        maxRowSumI = maxCol\n",
    "        maxSum = maxColSum\n",
    "    elif maxRowSum>maxColSum:\n",
    "        maxRowCol = \"row\"\n",
    "        maxRowSumI = maxRow\n",
    "        maxSum = maxRowSum\n",
    "    elif maxColSum>maxRowSum:\n",
    "        maxRowCol = \"column\"\n",
    "        maxRowSumI = maxCol\n",
    "        maxSum = maxColSum\n",
    "    else:\n",
    "        maxRowCol = \"row\"\n",
    "        maxRowSumI = maxRow\n",
    "        maxSum = maxRowSum\n",
    "    print(maxRowCol,end=' ')\n",
    "    print(maxRowSumI,end=' ')\n",
    "    print(maxSum)\n",
    "\n",
    "\n",
    "#Taking Input Using Fast I/O\n",
    "def take2DInput() :\n",
    "    li = stdin.readline().rstrip().split(\" \")\n",
    "    nRows = int(li[0])\n",
    "    mCols = int(li[1])\n",
    "    \n",
    "    if nRows == 0 :\n",
    "        return list(), 0, 0\n",
    "    \n",
    "    mat = [list(map(int, input().strip().split(\" \"))) for row in range(nRows)]\n",
    "    return mat, nRows, mCols\n",
    "\n",
    "\n",
    "#main\n",
    "t = int(stdin.readline().rstrip())\n",
    "\n",
    "while t > 0 :\n",
    "\n",
    "    mat, nRows, mCols = take2DInput()\n",
    "    findLargest(mat, nRows, mCols)\n",
    "\n",
    "    t -= 1"
   ]
  },
  {
   "cell_type": "markdown",
   "id": "26f38987",
   "metadata": {},
   "source": [
    "## Print Spiral"
   ]
  },
  {
   "cell_type": "code",
   "execution_count": null,
   "id": "c2d90d70",
   "metadata": {},
   "outputs": [],
   "source": [
    "from sys import stdin\n",
    "\n",
    "def spiralPrint(mat, nRows, mCols):\n",
    "    #Your code goes here\n",
    "    num_of_elements = 0\n",
    "    rs = 0\n",
    "    re = nRows\n",
    "    cs = 0\n",
    "    ce = mCols\n",
    "    spiral_count = 0\n",
    "    while num_of_elements < nRows * mCols:\n",
    "        if spiral_count%4==0:\n",
    "            num_of_elements = num_of_elements + printRowFwd(mat,rs,cs,ce)\n",
    "            spiral_count =  spiral_count + 1\n",
    "            rs = rs + 1\n",
    "            continue\n",
    "\n",
    "        if spiral_count%4==1:\n",
    "            num_of_elements = num_of_elements + printColDwn(mat,ce,rs,re)\n",
    "            spiral_count =  spiral_count + 1\n",
    "            ce = ce - 1\n",
    "            continue\n",
    "            \n",
    "        if spiral_count%4==2:\n",
    "            num_of_elements = num_of_elements + printRowBwd(mat,re,ce,cs)\n",
    "            spiral_count =  spiral_count + 1\n",
    "            re = re - 1\n",
    "            continue\n",
    "            \n",
    "        if spiral_count%4==3:\n",
    "            num_of_elements = num_of_elements + printColTop(mat,cs,re,rs)\n",
    "            spiral_count =  spiral_count + 1\n",
    "            cs = cs + 1\n",
    "            continue\n",
    "\n",
    "def printRowFwd(mat, r, sc,ec):\n",
    "    pc = 0\n",
    "    for i in range(sc,ec):\n",
    "        print(mat[r][i],end=' ')\n",
    "        pc = pc + 1\n",
    "    return pc\n",
    "\n",
    "def printRowBwd(mat, r, sc, ec):\n",
    "    pc = 0\n",
    "    for i in range(sc,ec,-1):\n",
    "        print(mat[r-1][i-1],end=' ')\n",
    "        pc = pc + 1\n",
    "    return pc\n",
    "\n",
    "def printColDwn(mat,c,sr,er):\n",
    "    pc = 0\n",
    "    for i in range(sr,er):\n",
    "        pc = pc + 1\n",
    "        print(mat[i][c-1],end=' ')\n",
    "    return pc\n",
    "\n",
    "def printColTop(mat,c,sr,er):\n",
    "    pc = 0\n",
    "    for i in range(sr,er,-1):\n",
    "        pc = pc + 1\n",
    "        print(mat[i-1][c],end=' ')\n",
    "    return pc\n",
    "\n",
    "\n",
    "#Taking Input Using Fast I/O\n",
    "def take2DInput() :\n",
    "    li = stdin.readline().rstrip().split(\" \")\n",
    "    nRows = int(li[0])\n",
    "    mCols = int(li[1])\n",
    "    \n",
    "    if nRows == 0 :\n",
    "        return list(), 0, 0\n",
    "    \n",
    "    mat = [list(map(int, input().strip().split(\" \"))) for row in range(nRows)]\n",
    "    return mat, nRows, mCols\n",
    "\n",
    "\n",
    "#main\n",
    "t = int(stdin.readline().rstrip())\n",
    "\n",
    "while t > 0 :\n",
    "\n",
    "    mat, nRows, mCols = take2DInput()\n",
    "    spiralPrint(mat, nRows, mCols)\n",
    "    print()\n",
    "\n",
    "    t -= 1"
   ]
  },
  {
   "cell_type": "markdown",
   "id": "6aef0fc8",
   "metadata": {},
   "source": [
    "# Lecture 7 : Functions"
   ]
  },
  {
   "cell_type": "markdown",
   "id": "3713e14d",
   "metadata": {},
   "source": [
    "## Fahrenheit To Celsius"
   ]
  },
  {
   "cell_type": "code",
   "execution_count": 16,
   "id": "a380011c",
   "metadata": {},
   "outputs": [
    {
     "name": "stdout",
     "output_type": "stream",
     "text": [
      "10\n",
      "20\n",
      "2\n",
      "10\t-12\n",
      "12\t-11\n",
      "14\t-10\n",
      "16\t-8\n",
      "18\t-7\n"
     ]
    }
   ],
   "source": [
    "def printTable(start,end,step):\n",
    "    for i in range(start,end,step):\n",
    "        print(i,end='\\t')\n",
    "        print(fahToCel(i))\n",
    "\n",
    "        \n",
    "def fahToCel(f):\n",
    "    c = ((f-32) * 5)/9\n",
    "    return int(c)\n",
    "   \n",
    "s = int(input())\n",
    "e = int(input())\n",
    "step = int(input())\n",
    "printTable(s,e,step)"
   ]
  },
  {
   "cell_type": "markdown",
   "id": "07e7e756",
   "metadata": {},
   "source": [
    "## Fibonacci Member"
   ]
  },
  {
   "cell_type": "code",
   "execution_count": null,
   "id": "1910ecde",
   "metadata": {},
   "outputs": [],
   "source": [
    "def checkMember(n):\n",
    "    dp = [0] * (10000+1)\n",
    "    dp[0] = 0\n",
    "    dp[1] = 1\n",
    "    is_member = False\n",
    "    for i in range(10001):\n",
    "        if(i>1):\n",
    "        \tdp[i] = dp[i-1] + dp[i-2]\n",
    "        if n==dp[i]:\n",
    "            is_member = True\n",
    "            break\n",
    "        if n<dp[i]:\n",
    "            break\n",
    "    return is_member\n",
    "\n",
    "n=int(input())\n",
    "if(checkMember(n)):\n",
    "    print(\"true\")\n",
    "else:\n",
    "    print(\"false\")"
   ]
  },
  {
   "cell_type": "markdown",
   "id": "d286aa93",
   "metadata": {},
   "source": [
    "# Lecture 8 : Tuples, Dictionary And Sets"
   ]
  },
  {
   "cell_type": "markdown",
   "id": "603b655c",
   "metadata": {},
   "source": [
    "## Highest frequency number"
   ]
  },
  {
   "cell_type": "code",
   "execution_count": null,
   "id": "86e1df8b",
   "metadata": {},
   "outputs": [],
   "source": [
    "from sys import stdin\n",
    "def maxfreq(arr):\n",
    "    #Write your code here \n",
    "    d = {}\n",
    "    for n in arr:\n",
    "        d[n] = d.get(n,0) + 1\n",
    "    maxFreq = 0\n",
    "    maxFreqNum = -1\n",
    "    for n in arr:\n",
    "        if d[n] > maxFreq:\n",
    "            maxFreq = d[n]\n",
    "            maxFreqNum = n\n",
    "    return maxFreqNum\n",
    "\n",
    "    \n",
    "    \n",
    "    \n",
    "    \n",
    "def takeInput():\n",
    "    #To take fast I/O\n",
    "    n=int(stdin.readline().strip())\n",
    "    if n==0:\n",
    "        return list(),0\n",
    "    arr=list(map(int,stdin.readline().strip().split( )))\n",
    "    return arr,n\n",
    "\n",
    "arr,n=takeInput()\n",
    "print(maxfreq(arr))"
   ]
  },
  {
   "cell_type": "markdown",
   "id": "c7679be7",
   "metadata": {},
   "source": [
    "## Maximum Distance"
   ]
  },
  {
   "cell_type": "code",
   "execution_count": null,
   "id": "bf32dfec",
   "metadata": {},
   "outputs": [],
   "source": [
    "n = int(input())\n",
    "arr = [int(i) for i in input().split()]\n",
    "d = {}\n",
    "index = 0\n",
    "for i in arr:\n",
    "    d[i] = d.get(i,[index,-1])\n",
    "    d[i][1] = index\n",
    "    index = index + 1\n",
    "maxDist = 0\n",
    "for i in arr:\n",
    "    if d[i][1] - d[i][0] > maxDist:\n",
    "        maxDist = d[i][1] - d[i][0]\n",
    "    \n",
    "print(maxDist)"
   ]
  },
  {
   "cell_type": "markdown",
   "id": "a47ba36c",
   "metadata": {},
   "source": [
    "## Make Unique Array"
   ]
  },
  {
   "cell_type": "code",
   "execution_count": 2,
   "id": "e44f109e",
   "metadata": {},
   "outputs": [
    {
     "name": "stdout",
     "output_type": "stream",
     "text": [
      "5\n",
      "2 1 4 2 1\n",
      "0\n"
     ]
    }
   ],
   "source": [
    "def duplicateCount(arr):\n",
    "    # Please add your code here\n",
    "    s = set()\n",
    "    for i in arr:\n",
    "        s.add(i)\n",
    "    return len(s.difference(arr))\n",
    "#     return len(arr) - len(s)\n",
    "\n",
    "# Main\n",
    "n=int(input())\n",
    "arr=list(int(i) for i in input().strip().split(' '))\n",
    "print(duplicateCount(arr))"
   ]
  },
  {
   "cell_type": "markdown",
   "id": "60385a01",
   "metadata": {},
   "source": [
    "## First non repeating character"
   ]
  },
  {
   "cell_type": "code",
   "execution_count": 17,
   "id": "765eb6a9",
   "metadata": {},
   "outputs": [
    {
     "name": "stdout",
     "output_type": "stream",
     "text": [
      "kajksdjfdls\n",
      "a\n"
     ]
    }
   ],
   "source": [
    "def nonRepeatingChar(string):\n",
    "    # Please add your code here\n",
    "    d = {}\n",
    "    for c in string:\n",
    "        d[c] = d.get(c,0) + 1\n",
    "    first_non_repititive_char = string[0]\n",
    "    for c in string:\n",
    "        if d[c] == 1:\n",
    "            first_non_repititive_char = c\n",
    "            break\n",
    "    return first_non_repititive_char\n",
    "\n",
    "# Main\n",
    "string = input()\n",
    "print(nonRepeatingChar(string))"
   ]
  },
  {
   "cell_type": "markdown",
   "id": "b6c30782",
   "metadata": {},
   "source": [
    "## Different Names"
   ]
  },
  {
   "cell_type": "code",
   "execution_count": null,
   "id": "6808b6e8",
   "metadata": {},
   "outputs": [],
   "source": [
    "def differentNames(l):\n",
    "    # Please add your code here\n",
    "    d = {}\n",
    "    for name in l:\n",
    "        d[name] = d.get(name,0) + 1\n",
    "    for name in l:\n",
    "        if d[name] == 1:\n",
    "            del d[name]\n",
    "    return d\n",
    "\n",
    "# Main\n",
    "names=input().strip().split()\n",
    "m=differentNames(names)\n",
    "if m:\n",
    "    for name in m:\n",
    "        print(name, m[name])\n",
    "else:\n",
    "    print(-1)"
   ]
  },
  {
   "cell_type": "markdown",
   "id": "986f9953",
   "metadata": {},
   "source": [
    "## Even Count"
   ]
  },
  {
   "cell_type": "code",
   "execution_count": null,
   "id": "3bf3b2c4",
   "metadata": {},
   "outputs": [],
   "source": [
    "def evenCount(arr):\n",
    "    d = {}\n",
    "    for n in arr:\n",
    "        d[n] = d.get(n,0) + 1\n",
    "    for n in arr:\n",
    "        if d[n]%2==0:\n",
    "            return n\n",
    "    else:\n",
    "        return -1\n",
    "\n",
    "\n",
    "# Main\n",
    "n=int(input())\n",
    "arr=list(int(i) for i in input().strip().split(' '))\n",
    "print(evenCount(arr))"
   ]
  },
  {
   "cell_type": "markdown",
   "id": "1a9cc41c",
   "metadata": {},
   "source": [
    "## Unique triangles"
   ]
  },
  {
   "cell_type": "code",
   "execution_count": null,
   "id": "b7d597d2",
   "metadata": {},
   "outputs": [],
   "source": [
    "n = int(input())\n",
    "list = [\"\"] * n\n",
    "for i in range(n):\n",
    "    arr = [int(i) for i in input().split()]\n",
    "    arr.sort()\n",
    "    list[i] = ''.join([str(e) for e in arr])\n",
    "d = {}\n",
    "for e in list:\n",
    "    d[e] = d.get(e,0) + 1\n",
    "unique = 0\n",
    "for e in list:\n",
    "    if d[e] == 1:\n",
    "        unique+=1\n",
    "print(unique)"
   ]
  },
  {
   "cell_type": "markdown",
   "id": "7d6564ba",
   "metadata": {},
   "source": [
    "## Pairs with difference K"
   ]
  },
  {
   "cell_type": "code",
   "execution_count": null,
   "id": "8ced4ae9",
   "metadata": {},
   "outputs": [],
   "source": [
    "def fact(n):\n",
    "    if n==0:\n",
    "        return 0\n",
    "    fact = 1\n",
    "    for i in range(2,n+1):\n",
    "        fact *=i\n",
    "    return fact\n",
    "\n",
    "def printPairDiffK(l, k):\n",
    "    #############################\n",
    "    # PLEASE ADD YOUR CODE HERE #\n",
    "    #############################\n",
    "    count = 0\n",
    "    d = {}\n",
    "    for n in l:\n",
    "        d[n] = d.get(n,0) + 1\n",
    "    if k == 0:\n",
    "        for n in d.keys():\n",
    "            if d.get(n,0) > 1:\n",
    "                count+=fact(d[n]-1)\n",
    "    else:\n",
    "        for n in d.keys():\n",
    "            if d.get(n+k,0) > 0:\n",
    "                count += d[n+k] * d[n]\n",
    "                d[n] = 0\n",
    "            if d.get(n-k,0) > 0:\n",
    "                count += d[n-k] * d[n]\n",
    "                d[n] = 0\n",
    "    return count\n",
    "\n",
    "# Main\n",
    "n=int(input())\n",
    "l=list(int(i) for i in input().strip().split(' '))\n",
    "k=int(input())\n",
    "print(printPairDiffK(l, k))"
   ]
  }
 ],
 "metadata": {
  "kernelspec": {
   "display_name": "Python 3 (ipykernel)",
   "language": "python",
   "name": "python3"
  },
  "language_info": {
   "codemirror_mode": {
    "name": "ipython",
    "version": 3
   },
   "file_extension": ".py",
   "mimetype": "text/x-python",
   "name": "python",
   "nbconvert_exporter": "python",
   "pygments_lexer": "ipython3",
   "version": "3.10.4"
  }
 },
 "nbformat": 4,
 "nbformat_minor": 5
}
