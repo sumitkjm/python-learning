{
 "cells": [
  {
   "cell_type": "markdown",
   "id": "ec7b06a6",
   "metadata": {},
   "source": [
    "## Count of Flower"
   ]
  },
  {
   "cell_type": "code",
   "execution_count": 4,
   "id": "560e29e3",
   "metadata": {},
   "outputs": [],
   "source": [
    "# disable Certificate issue on Mac\n",
    "import ssl\n",
    "ssl._create_default_https_context = ssl._create_unverified_context"
   ]
  },
  {
   "cell_type": "code",
   "execution_count": 5,
   "id": "a23cc031",
   "metadata": {},
   "outputs": [
    {
     "name": "stdout",
     "output_type": "stream",
     "text": [
      "50 50 50 "
     ]
    }
   ],
   "source": [
    "## Open and read data file as specified in the question\n",
    "## Print the required output in given format\n",
    "import pandas as pd\n",
    "\n",
    "iris = pd.read_csv(\"https://gist.githubusercontent.com/netj/8836201/raw/6f9306ad21398ea43cba4f7d537619d0e07d5ae3/iris.csv\")\n",
    "iris.columns = ['sl','sw','pl','pw','flower_type']\n",
    "\n",
    "d = {}\n",
    "for i in iris['flower_type']:\n",
    "    d[i] = d.get(i,0) + 1\n",
    "for i in d:\n",
    "    print(d[i],end=' ')"
   ]
  },
  {
   "cell_type": "markdown",
   "id": "79419b38",
   "metadata": {},
   "source": [
    "## Iris Virginica"
   ]
  },
  {
   "cell_type": "code",
   "execution_count": 6,
   "id": "252206c8",
   "metadata": {},
   "outputs": [
    {
     "name": "stdout",
     "output_type": "stream",
     "text": [
      "6.3 3.3 6.0 2.5 Iris-virginica \n",
      "5.8 2.7 5.1 1.9 Iris-virginica \n",
      "7.1 3.0 5.9 2.1 Iris-virginica \n",
      "6.3 2.9 5.6 1.8 Iris-virginica \n",
      "6.5 3.0 5.8 2.2 Iris-virginica \n",
      "7.6 3.0 6.6 2.1 Iris-virginica \n",
      "4.9 2.5 4.5 1.7 Iris-virginica \n",
      "7.3 2.9 6.3 1.8 Iris-virginica \n",
      "6.7 2.5 5.8 1.8 Iris-virginica \n",
      "7.2 3.6 6.1 2.5 Iris-virginica \n",
      "6.5 3.2 5.1 2.0 Iris-virginica \n",
      "6.4 2.7 5.3 1.9 Iris-virginica \n",
      "6.8 3.0 5.5 2.1 Iris-virginica \n",
      "5.7 2.5 5.0 2.0 Iris-virginica \n",
      "5.8 2.8 5.1 2.4 Iris-virginica \n",
      "6.4 3.2 5.3 2.3 Iris-virginica \n",
      "6.5 3.0 5.5 1.8 Iris-virginica \n",
      "7.7 3.8 6.7 2.2 Iris-virginica \n",
      "7.7 2.6 6.9 2.3 Iris-virginica \n",
      "6.0 2.2 5.0 1.5 Iris-virginica \n",
      "6.9 3.2 5.7 2.3 Iris-virginica \n",
      "5.6 2.8 4.9 2.0 Iris-virginica \n",
      "7.7 2.8 6.7 2.0 Iris-virginica \n",
      "6.3 2.7 4.9 1.8 Iris-virginica \n",
      "6.7 3.3 5.7 2.1 Iris-virginica \n",
      "7.2 3.2 6.0 1.8 Iris-virginica \n",
      "6.2 2.8 4.8 1.8 Iris-virginica \n",
      "6.1 3.0 4.9 1.8 Iris-virginica \n",
      "6.4 2.8 5.6 2.1 Iris-virginica \n",
      "7.2 3.0 5.8 1.6 Iris-virginica \n",
      "7.4 2.8 6.1 1.9 Iris-virginica \n",
      "7.9 3.8 6.4 2.0 Iris-virginica \n",
      "6.4 2.8 5.6 2.2 Iris-virginica \n",
      "6.3 2.8 5.1 1.5 Iris-virginica \n",
      "6.1 2.6 5.6 1.4 Iris-virginica \n",
      "7.7 3.0 6.1 2.3 Iris-virginica \n",
      "6.3 3.4 5.6 2.4 Iris-virginica \n",
      "6.4 3.1 5.5 1.8 Iris-virginica \n",
      "6.0 3.0 4.8 1.8 Iris-virginica \n",
      "6.9 3.1 5.4 2.1 Iris-virginica \n",
      "6.7 3.1 5.6 2.4 Iris-virginica \n",
      "6.9 3.1 5.1 2.3 Iris-virginica \n",
      "5.8 2.7 5.1 1.9 Iris-virginica \n",
      "6.8 3.2 5.9 2.3 Iris-virginica \n",
      "6.7 3.3 5.7 2.5 Iris-virginica \n",
      "6.7 3.0 5.2 2.3 Iris-virginica \n",
      "6.3 2.5 5.0 1.9 Iris-virginica \n",
      "6.5 3.0 5.2 2.0 Iris-virginica \n",
      "6.2 3.4 5.4 2.3 Iris-virginica \n",
      "5.9 3.0 5.1 1.8 Iris-virginica \n"
     ]
    }
   ],
   "source": [
    "## Open and read data file as specified in the question\n",
    "## Print the required output in given format\n",
    "\n",
    "import pandas as pd\n",
    "\n",
    "iris = pd.read_csv(\"https://files.codingninjas.in/iris-8116.csv?_ga=2.183374382.985332194.1632805869-1824175263.1616515732\")\n",
    "iris.columns = ['sl','sw','pl','pw','flower_type']\n",
    "\n",
    "iris = iris[(iris.flower_type=='Iris-virginica') & (iris.pl>1.5)]\n",
    "\n",
    "for i in iris.values:\n",
    "    for j in i:\n",
    "        print(j,end=' ')\n",
    "    print(\"\")  "
   ]
  },
  {
   "cell_type": "markdown",
   "id": "721ac1dc",
   "metadata": {},
   "source": [
    "## Iris Values"
   ]
  },
  {
   "cell_type": "code",
   "execution_count": 7,
   "id": "31beb95f",
   "metadata": {},
   "outputs": [
    {
     "name": "stdout",
     "output_type": "stream",
     "text": [
      "4.30 2.30 1.00 0.10 Iris-setosa\n",
      "5.80 4.40 1.90 0.60 Iris-setosa\n",
      "5.01 3.42 1.46 0.24 Iris-setosa\n",
      "4.90 2.00 3.00 1.00 Iris-versicolor\n",
      "7.00 3.40 5.10 1.80 Iris-versicolor\n",
      "5.94 2.77 4.26 1.33 Iris-versicolor\n",
      "4.90 2.20 4.50 1.40 Iris-virginica\n",
      "7.90 3.80 6.90 2.50 Iris-virginica\n",
      "6.59 2.97 5.55 2.03 Iris-virginica\n"
     ]
    }
   ],
   "source": [
    "## Open and read data file as specified in the question\n",
    "## Print the required output in given format\n",
    "\n",
    "import pandas as pd \n",
    "column_name=['SeapalLength','SepalWidth','PetalLength','PetalWidth','Species']\n",
    "iris=pd.read_csv('https://archive.ics.uci.edu/ml/machine-learning-databases/iris/iris.data',names=column_name)\n",
    "Species1='Iris-setosa'\n",
    "Species2='Iris-versicolor'\n",
    "Species3='Iris-virginica'\n",
    "speciesdetail1=iris[iris['Species']==Species1].describe()\n",
    "speciesdetail2=iris[iris['Species']==Species2].describe()\n",
    "speciesdetail3=iris[iris['Species']==Species3].describe() \n",
    "## Print the details of first species \n",
    "for i in speciesdetail1.iloc[[3]].values[0]: \n",
    "    print(format(i, '.2f'),end=\" \") \n",
    "print(Species1)\n",
    "for i in speciesdetail1.iloc[[7]].values[0]:\n",
    "    print(format(i, '.2f'),end=\" \") \n",
    "print(Species1)\n",
    "for i in speciesdetail1.iloc[[1]].values[0]:\n",
    "    print(format(i, '.2f'),end=\" \") \n",
    "print(Species1)\n",
    "# Print the details of second species \n",
    "for i in speciesdetail2.iloc[[3]].values[0]:\n",
    "    print(format(i, '.2f'),end=\" \")\n",
    "print(Species2) \n",
    "for i in speciesdetail2.iloc[[7]].values[0]: \n",
    "    print(format(i, '.2f'),end=\" \")\n",
    "print(Species2)\n",
    "for i in speciesdetail2.iloc[[1]].values[0]: \n",
    "    print(format(i, '.2f'),end=\" \") \n",
    "print(Species2)\n",
    "## Print the details of second species\n",
    "for i in speciesdetail3.iloc[[3]].values[0]: \n",
    "    print(format(i, '.2f'),end=\" \") \n",
    "print(Species3)\n",
    "for i in speciesdetail3.iloc[[7]].values[0]:\n",
    "    print(format(i, '.2f'),end=\" \") \n",
    "print(Species3) \n",
    "for i in speciesdetail3.iloc[[1]].values[0]:\n",
    "    print(format(i, '.2f'),end=\" \") \n",
    "print(Species3)"
   ]
  },
  {
   "cell_type": "markdown",
   "id": "c0e5e65b",
   "metadata": {},
   "source": [
    "## Terror Attack City"
   ]
  },
  {
   "cell_type": "code",
   "execution_count": 8,
   "id": "8f63d64c",
   "metadata": {},
   "outputs": [
    {
     "name": "stdout",
     "output_type": "stream",
     "text": [
      "Srinagar 657 Muslim Separatists\n"
     ]
    }
   ],
   "source": [
    "## Open and read data file as specified in the question\n",
    "## Print the required output in given format\n",
    "\n",
    "import pandas as pd\n",
    "df = pd.read_csv(\"terrorismData.csv\")\n",
    "d = {}\n",
    "d2 = {}\n",
    "for i in df[df.State=='Jammu and Kashmir'].values:\n",
    "    key = i[6] \n",
    "    d[key] = d.get(key,0) + 1\n",
    "\n",
    "for i in df[(df.City=='Srinagar') & (df.Group!='Unknown')].values:\n",
    "    key = i[14] \n",
    "    d2[key] = d2.get(key,0) + 1\n",
    "\n",
    "maxCity = max(d, key= lambda x: d[x])\n",
    "maxGroup = max(d2, key= lambda x: d2[x])\n",
    "print(maxCity,end=' ')\n",
    "print(d[maxCity],end=' ')\n",
    "print(maxGroup.strip())"
   ]
  },
  {
   "cell_type": "markdown",
   "id": "df79a59c",
   "metadata": {},
   "source": [
    "## Terror Government"
   ]
  },
  {
   "cell_type": "code",
   "execution_count": 9,
   "id": "b387d29b",
   "metadata": {},
   "outputs": [
    {
     "name": "stdout",
     "output_type": "stream",
     "text": [
      "3336 Maoists\n"
     ]
    }
   ],
   "source": [
    "## Open and read data file as specified in the question\n",
    "## Print the required output in given format\n",
    "import pandas as pd\n",
    "from datetime import datetime\n",
    "df = pd.read_csv(\"terrorismData.csv\")\n",
    "d = {}\n",
    "compareDate = datetime.strptime('2014-05-26','%Y-%m-%d')\n",
    "count = 0\n",
    "for i in df[(df.Country=='India') &(df.Day!=0)].values:\n",
    "    date = datetime.strptime(str(i[0]) + \"-\" + str(i[1]) + \"-\" + str(i[2]), '%Y-%m-%d')\n",
    "    if date>=compareDate:\n",
    "        count+=1\n",
    "for i in df[(df.Country=='India') &(df.Group!='Unknown') &(df.Day!=0)].values:\n",
    "    date = datetime.strptime(str(i[0]) + \"-\" + str(i[1]) + \"-\" + str(i[2]), '%Y-%m-%d')\n",
    "    if date>=compareDate:\n",
    "        d[i[14]] = d.get(i[14],0) + 1\n",
    "\n",
    "maxGroup = max(d, key= lambda x: d[x])\n",
    "print(count,end=' ')\n",
    "print(maxGroup)"
   ]
  },
  {
   "cell_type": "code",
   "execution_count": 1,
   "id": "f59acb25",
   "metadata": {},
   "outputs": [
    {
     "name": "stdout",
     "output_type": "stream",
     "text": [
      "A'chik Matgrik Elite Force (AMEF) 6\n"
     ]
    }
   ],
   "source": [
    "import pandas as pd\n",
    "import numpy as np\n",
    "\n",
    "td = pd.read_csv('terrorismData.csv')\n",
    "df = td.copy()\n",
    "# print(df.shape)\n",
    "df = df[df['Country'] == 'India']\n",
    "# print(df.shape)\n",
    "df = df[(df.Year == 2014) | (df.Year == 2015) | (df.Year == 2016) | (df.Year == 2017)]\n",
    "# print(df.shape)\n",
    "df = df[df.Group != 'Unknown']\n",
    "group = np.array(df['Group'])\n",
    "uniqueGroups, Count = np.unique(group, return_counts = True)\n",
    "print(uniqueGroups[0], Count[0])\n"
   ]
  },
  {
   "cell_type": "markdown",
   "id": "26d2ef75",
   "metadata": {},
   "source": [
    "## Terror Frequency"
   ]
  },
  {
   "cell_type": "code",
   "execution_count": 10,
   "id": "a9fa62cf",
   "metadata": {},
   "outputs": [
    {
     "name": "stdout",
     "output_type": "stream",
     "text": [
      "115 261\n"
     ]
    }
   ],
   "source": [
    "import pandas as pd \n",
    "import numpy as np \n",
    "df_terrorism=pd.read_csv('terrorismData.csv')\n",
    "year=len(set(df_terrorism['Year']))\n",
    "df_terrorism=df_terrorism[df_terrorism['Country']=='India'] \n",
    "df_terrorism['Casualty']=df_terrorism['Killed']+df_terrorism['Wounded']\n",
    "Jammu_state=df_terrorism[df_terrorism['State']=='Jammu and Kashmir'] \n",
    "red_state=df_terrorism[(df_terrorism['State']=='Jharkhand')|(df_terrorism['State']=='Odisha') |(df_terrorism['State']=='Andhra Pradesh')|(df_terrorism['State']=='Chhattisgarh')] \n",
    "red_casualty=int(np.sum(red_state['Casualty'])) \n",
    "Jammu_casualty=int(np.sum(Jammu_state['Casualty'])) \n",
    "print(red_casualty//year,Jammu_casualty//year)"
   ]
  },
  {
   "cell_type": "code",
   "execution_count": 1,
   "id": "005a0cf2",
   "metadata": {},
   "outputs": [
    {
     "name": "stdout",
     "output_type": "stream",
     "text": [
      "115 261\n"
     ]
    }
   ],
   "source": [
    "import csv\n",
    "import numpy as np\n",
    "import pandas as pd\n",
    "td=pd.read_csv('terrorismData.csv')\n",
    "df_terrorism=td.copy()\n",
    "\n",
    "year=len(set(df_terrorism['Year']))\n",
    "\n",
    "\n",
    "df_terrorism=df_terrorism[df_terrorism['Country']=='India']\n",
    "\n",
    "df_terrorism['Casualty']=df_terrorism['Killed']+df_terrorism['Wounded']\n",
    "\n",
    "Jammu_state=df_terrorism[df_terrorism['State']=='Jammu and Kashmir']\n",
    "\n",
    "red_state=df_terrorism[(df_terrorism['State']=='Jharkhand')|(df_terrorism['State']=='Odisha')\n",
    "                       |(df_terrorism['State']=='Andhra Pradesh')|(df_terrorism['State']=='Chhattisgarh')]\n",
    "\n",
    "red_casualty=int(np.sum(red_state['Casualty']))\n",
    "\n",
    "Jammu_casualty=int(np.sum(Jammu_state['Casualty']))\n",
    "\n",
    "print(red_casualty//year,Jammu_casualty//year)"
   ]
  },
  {
   "cell_type": "markdown",
   "id": "f2bcbe07",
   "metadata": {},
   "source": [
    "## Terror DeadliestAttack"
   ]
  },
  {
   "cell_type": "code",
   "execution_count": 11,
   "id": "ccb71030",
   "metadata": {},
   "outputs": [
    {
     "name": "stdout",
     "output_type": "stream",
     "text": [
      "1570 Iraq Islamic State of Iraq and the Levant (ISIL)\n"
     ]
    }
   ],
   "source": [
    "## Open and read data file as specified in the question\n",
    "## Print the required output in given format\n",
    "import pandas as pd \n",
    "import numpy as np \n",
    "df=pd.read_csv('terrorismData.csv')\n",
    "max_p = int(max(df['Killed']))\n",
    "# df = df[df.Killed==max_p]\n",
    "for i in df[df['Killed']==max_p].values:\n",
    "    print(max_p,end=' ')\n",
    "    print(i[3],end=' ')\n",
    "    print(i[14])"
   ]
  },
  {
   "cell_type": "markdown",
   "id": "5558b621",
   "metadata": {},
   "source": [
    "## Terror Attack"
   ]
  },
  {
   "cell_type": "code",
   "execution_count": 12,
   "id": "24c83b03",
   "metadata": {},
   "outputs": [
    {
     "name": "stdout",
     "output_type": "stream",
     "text": [
      "Iraq 24636 2014\n"
     ]
    }
   ],
   "source": [
    "## Open and read data file as specified in the question\n",
    "## Print the required output in given format\n",
    "import pandas as pd \n",
    "df=pd.read_csv('terrorismData.csv')\n",
    "max_p = max(df['Killed'])\n",
    "# df = df[df.Killed==max_p]\n",
    "d = {}\n",
    "for i in df.values:\n",
    "    d[i[3]] = d.get(i[3],0) + 1\n",
    "\n",
    "max_attack_country = max(d, key= lambda x: d[x])\n",
    "d2 = {}\n",
    "print(max_attack_country,end=' ')\n",
    "print(d[max_attack_country],end=' ')\n",
    "for i in df[df.Country==max_attack_country].values:\n",
    "    d2[i[0]] = d2.get(i[0],0) + 1\n",
    "# max_attack_year_maxCountry_attack = max(d2, key= lambda x: d[x])\n",
    "max_attack_year_maxCountry_attack = 0\n",
    "max_attack_maxCountry_attack = 0\n",
    "for i in d2:\n",
    "    if d2[i] > max_attack_maxCountry_attack:\n",
    "        max_attack_maxCountry_attack = d2[i]\n",
    "        max_attack_year_maxCountry_attack = i\n",
    "print(max_attack_year_maxCountry_attack)"
   ]
  }
 ],
 "metadata": {
  "kernelspec": {
   "display_name": "Python 3",
   "language": "python",
   "name": "python3"
  },
  "language_info": {
   "codemirror_mode": {
    "name": "ipython",
    "version": 3
   },
   "file_extension": ".py",
   "mimetype": "text/x-python",
   "name": "python",
   "nbconvert_exporter": "python",
   "pygments_lexer": "ipython3",
   "version": "3.8.8"
  }
 },
 "nbformat": 4,
 "nbformat_minor": 5
}
