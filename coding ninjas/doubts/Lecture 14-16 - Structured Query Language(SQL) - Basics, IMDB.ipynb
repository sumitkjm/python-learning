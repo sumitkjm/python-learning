{
 "cells": [
  {
   "cell_type": "markdown",
   "id": "528da71f",
   "metadata": {},
   "source": [
    "## Hierarchical Database"
   ]
  },
  {
   "cell_type": "code",
   "execution_count": 1,
   "id": "ba1c89aa",
   "metadata": {},
   "outputs": [],
   "source": [
    "# Ans - Tree\n",
    "\n",
    "# Solution Description\n",
    "# A hierarchical database is defined by its tree-like organization, \n",
    "# in which there is typically a root “parent” directory of data stored as records that \n",
    "# links to various other subdirectory branches, and each subdirectory branch, or child record,\n",
    "# may link to various other subdirectory branches."
   ]
  },
  {
   "cell_type": "markdown",
   "id": "84ecd993",
   "metadata": {},
   "source": [
    "## Row_Fill_Up"
   ]
  },
  {
   "cell_type": "code",
   "execution_count": 2,
   "id": "54dcace5",
   "metadata": {},
   "outputs": [],
   "source": [
    "# Ans - tuple\n",
    "# \n",
    "# Solution Description\n",
    "# A row—also called a tuple—represents a single, implicitly structured data item in a table. \n",
    "# In simple terms, a database table can be thought of as consisting of rows and columns."
   ]
  },
  {
   "cell_type": "markdown",
   "id": "638e5c1e",
   "metadata": {},
   "source": [
    "## Column_Fill_Up"
   ]
  },
  {
   "cell_type": "code",
   "execution_count": 3,
   "id": "55c5c5f0",
   "metadata": {},
   "outputs": [],
   "source": [
    "# Ans - attribute\n",
    "\n",
    "# Solution Description\n",
    "# The columns in a table are the set of facts that we keep track of about that type of object. \n",
    "# A column is also called an attribute."
   ]
  },
  {
   "cell_type": "markdown",
   "id": "960ec53d",
   "metadata": {},
   "source": [
    "## Primary Key"
   ]
  },
  {
   "cell_type": "code",
   "execution_count": 4,
   "id": "e633d65d",
   "metadata": {},
   "outputs": [],
   "source": [
    "# Ans - Unique Key, Minimal set of attributes\n",
    "\n",
    "# Solution Description\n",
    "# The properties of each primary key column or columns are:\n",
    "# 1. It enforces uniqueness by not accepting any duplicate values.\n",
    "# 2. A primary key uniquely identifies each field.\n",
    "# 3. A table can only take one primary key.\n",
    "# 4. Primary columns have a maximum length of 900 bytes.\n",
    "# 5. A primary key column cannot accept null values.\n",
    "# 6. A primary key is a minimal set of attributes"
   ]
  },
  {
   "cell_type": "markdown",
   "id": "a854a0ca",
   "metadata": {},
   "source": [
    "## Foreign Key\n",
    "#### Foreign keys values should be unique"
   ]
  },
  {
   "cell_type": "code",
   "execution_count": 5,
   "id": "ce017971",
   "metadata": {},
   "outputs": [],
   "source": [
    "# Ans - False\n",
    "\n",
    "#  Solution Description\n",
    "# No, foreign keys do not have to be unique. Indeed, a lack of uniqueness \n",
    "#  is requisite for one-to-many or many-to-many relations. \n",
    "# Foreign key(s) must reference a unique set of attributes in the referenced table."
   ]
  },
  {
   "cell_type": "markdown",
   "id": "4d2cdd21",
   "metadata": {},
   "source": [
    "## Foreign Key\n",
    "#### A _______ is a key used to link two tables together having one attribute in common."
   ]
  },
  {
   "cell_type": "code",
   "execution_count": 7,
   "id": "9d067385",
   "metadata": {},
   "outputs": [],
   "source": [
    "# Ans - Foreign Key\n",
    "# Solution Description\n",
    "# A foreign key is a key used to link two tables together. \n",
    "# A Foreign Key is a column or a combination of columns whose values match a Primary Key in a different table."
   ]
  },
  {
   "cell_type": "markdown",
   "id": "610877d0",
   "metadata": {},
   "source": [
    "## Database commands"
   ]
  },
  {
   "cell_type": "code",
   "execution_count": 8,
   "id": "d6c1880b",
   "metadata": {},
   "outputs": [],
   "source": [
    "## ans - show databases;\n",
    "# Solution Description\n",
    "# Show Database command will print a list of all the databases for which the user has \n",
    "# some kind of a privilege granted to . "
   ]
  },
  {
   "cell_type": "markdown",
   "id": "23aa1172",
   "metadata": {},
   "source": [
    "## Retrieval\n",
    "#### Retrieval Send Feedback\n",
    "#### List the productLines that has quantity in stock more than 50000. \n",
    "#### Sort the result in increasing order of quantity. Write down the name of the product Line which has the lowest quantity in stock.\n",
    "#### Note: Answer should be in lowercase letters."
   ]
  },
  {
   "cell_type": "code",
   "execution_count": 1,
   "id": "6a3bcc38",
   "metadata": {},
   "outputs": [],
   "source": [
    "# Ans - planes\n",
    "# mysql> select productLine,sum(quantityInStock) as quantityInStockSum from products group by productline having quantityInStockSum>50000 order by quantityInStockSum desc;\n",
    "# +--------------+--------------------+\n",
    "# | productLine  | quantityInStockSum |\n",
    "# +--------------+--------------------+\n",
    "# | Classic Cars |             219183 |\n",
    "# | Vintage Cars |             124880 |\n",
    "# | Motorcycles  |              69401 |\n",
    "# | Planes       |              62287 |\n",
    "# +--------------+--------------------+\n",
    "# 4 rows in set (0.00 sec)\n"
   ]
  },
  {
   "cell_type": "markdown",
   "id": "f4ffebea",
   "metadata": {},
   "source": [
    "## retrieval\n",
    "##### Retrieve the first name of the faculty. Use the Column-Name and Table- Faculties . "
   ]
  },
  {
   "cell_type": "code",
   "execution_count": 10,
   "id": "9999485b",
   "metadata": {},
   "outputs": [],
   "source": [
    "# Ans - Shah\n",
    "# Solution Description\n",
    "# The first row and second column of the Faculties table is the desired result. The name is “Shah”."
   ]
  },
  {
   "cell_type": "markdown",
   "id": "0c5246e3",
   "metadata": {},
   "source": [
    "## Filter Data\n",
    "##### Consider the employees table with the following details. employees table stores all employee information as well as the organization structure such as who reports to whom."
   ]
  },
  {
   "cell_type": "code",
   "execution_count": 11,
   "id": "d4cf5061",
   "metadata": {},
   "outputs": [],
   "source": [
    "## Solution Description\n",
    "## The 10th person is with the employee number 1216, first name “Steve”  and job title being SALES REP."
   ]
  },
  {
   "cell_type": "markdown",
   "id": "b5b14bac",
   "metadata": {},
   "source": [
    "## Filter Data\n",
    "##### Get OrderNumber from OrderDetails Tables where quantityOrdered is equal to 59 and priceEach is greater than 100"
   ]
  },
  {
   "cell_type": "code",
   "execution_count": 13,
   "id": "44658ccf",
   "metadata": {},
   "outputs": [],
   "source": [
    "# Ans - 10407\n",
    "# Solution Description\n",
    "# Use the following query to get the result, which is 10407.\n",
    "# SELECT OrderNumber FROM OrderDetails WHERE quantityOrdered=59 AND priceEach>100;"
   ]
  },
  {
   "cell_type": "markdown",
   "id": "1f5ad703",
   "metadata": {},
   "source": [
    "## Filter Data\n",
    "##### With SQL, how do you select all the records from a table named \"customers\" where the \"contactFirstName\" is \"Diego\" and the \"contactLastName\" is \"Freyre\"?"
   ]
  },
  {
   "cell_type": "code",
   "execution_count": 14,
   "id": "2acae52d",
   "metadata": {},
   "outputs": [],
   "source": [
    "## Solution Description\n",
    "## Where clause is used to put conditions on the query. AND keyword is used to put multiple conditions in one query."
   ]
  },
  {
   "cell_type": "markdown",
   "id": "9337c820",
   "metadata": {},
   "source": [
    "## Aggregate Functions\n",
    "##### Find the number of distinct country names in the customers table."
   ]
  },
  {
   "cell_type": "code",
   "execution_count": null,
   "id": "0d8f6d2a",
   "metadata": {},
   "outputs": [],
   "source": [
    "## Ans - 27\n",
    "# Solution Description\n",
    "# The following query can be used to find the unique country names in the customer table, which is 27.\n",
    "# SELECT Count(DISTINCT country) FROM customers;"
   ]
  },
  {
   "cell_type": "markdown",
   "id": "f1a40efb",
   "metadata": {},
   "source": [
    "## Aggregate Functions\n",
    "##### From Table-orderdetails get the number of records where quantityOrdered is greater than 50."
   ]
  },
  {
   "cell_type": "code",
   "execution_count": 15,
   "id": "606a22fc",
   "metadata": {},
   "outputs": [],
   "source": [
    "# Ans - 66\n",
    "# Solution Description\n",
    "# The following query can be used to find the result, which is 66.\n",
    "# SELECT Count(*) FROM orderdetails WHERE quantityOrdered>50;"
   ]
  },
  {
   "cell_type": "markdown",
   "id": "de1665dd",
   "metadata": {},
   "source": [
    "## Aggregate Functions\n",
    "##### Get sum of all payments from\n",
    "##### i) 2002-01-01 to 2003-01-01\n",
    "##### ii) 2003-01-01 to 2004-01-01\n",
    "##### iii) 2004-01-01 to 2005-01-01\n",
    "##### Which time range has the maximum payment?"
   ]
  },
  {
   "cell_type": "code",
   "execution_count": 17,
   "id": "0c5bd8bc",
   "metadata": {},
   "outputs": [],
   "source": [
    "## 4313328.25\n",
    "# Solution Description\n",
    "# Refer to the table payments and column paymentDate for the same.\n",
    "# SUM() function is used to get the sum of the payments and to restrict the dates BETWEEN is used."
   ]
  },
  {
   "cell_type": "markdown",
   "id": "d0f1e553",
   "metadata": {},
   "source": [
    "## Aggregate Functions\n",
    "##### Count the total number (quantity in stock) of motorcycles in products table"
   ]
  },
  {
   "cell_type": "code",
   "execution_count": 18,
   "id": "c6fa1301",
   "metadata": {},
   "outputs": [],
   "source": [
    "# Ans - 69401\n",
    "# Solution Description\n",
    "# The following query can be used to find the result to the problem\n",
    "# SELECT SUM(quantityInStock) FROM products where productLine=’Motorcycles’;"
   ]
  },
  {
   "cell_type": "markdown",
   "id": "0732248b",
   "metadata": {},
   "source": [
    "## Update\n",
    "##### Update MSRP of motorcycles to 100 in the products table and get the sum of MSRP of motorcycles."
   ]
  },
  {
   "cell_type": "code",
   "execution_count": 19,
   "id": "70e3071d",
   "metadata": {},
   "outputs": [],
   "source": [
    "# Ans - 1300\n",
    "# Solution Description\n",
    "# The following query is used to update the MSRP value of motorcycles and further SUM() function is applied to get the desired result. \n",
    "# UPDATE products set MSRP=100 WHERE productLine=’Motorcycles’."
   ]
  },
  {
   "cell_type": "markdown",
   "id": "cdc3479f",
   "metadata": {},
   "source": [
    "# Lecture 15 : Structured Query Language(SQL) - Advance"
   ]
  },
  {
   "cell_type": "markdown",
   "id": "8559b207",
   "metadata": {},
   "source": [
    "## QuantityOrder"
   ]
  },
  {
   "cell_type": "code",
   "execution_count": 20,
   "id": "e0339ba6",
   "metadata": {},
   "outputs": [],
   "source": [
    "# Ans - 427\n",
    "# Solution Description\n",
    "# (select orderNumber, sum(quantityOrdered) from orderdetails where orderNumber=10425 group by orderNumber ;)\n"
   ]
  },
  {
   "cell_type": "markdown",
   "id": "ed44b01b",
   "metadata": {},
   "source": [
    "## Total Amount"
   ]
  },
  {
   "cell_type": "code",
   "execution_count": 21,
   "id": "f8dfe6ec",
   "metadata": {},
   "outputs": [],
   "source": [
    "# Ans - S18_3232\n",
    "# Solution Description\n",
    "# The following query can be used to find the order frequency of all the productCode. Most ordered productCode is found after analysing the result of the query.\n",
    "# SELECT  productCode,Count(*) FROM orderdetails group by  productCode;"
   ]
  },
  {
   "cell_type": "markdown",
   "id": "48d349e4",
   "metadata": {},
   "source": [
    "## EmployeesNumber"
   ]
  },
  {
   "cell_type": "code",
   "execution_count": null,
   "id": "8833ccdb",
   "metadata": {},
   "outputs": [],
   "source": [
    "# Ans - 1002,1056\n",
    "# Solution Description\n",
    "# Answer to the question can be found out by running the following query:\n",
    "# SELECT employeeNumber FROM employees WHERE jobTitle IN (‘President, ‘VP Sales'); "
   ]
  },
  {
   "cell_type": "markdown",
   "id": "48116a76",
   "metadata": {},
   "source": [
    "## Get Details"
   ]
  },
  {
   "cell_type": "code",
   "execution_count": 22,
   "id": "6bdb7c9d",
   "metadata": {},
   "outputs": [],
   "source": [
    "# Solution Description\n",
    "# Answer to the question can be found out by running the following query:\n",
    "# SELECT employeeNumber FROM employees WHERE reportsTo NOT IN (1002, 1056); "
   ]
  },
  {
   "cell_type": "markdown",
   "id": "0920bc2f",
   "metadata": {},
   "source": [
    "## Product Lines"
   ]
  },
  {
   "cell_type": "code",
   "execution_count": 23,
   "id": "0492bb94",
   "metadata": {},
   "outputs": [],
   "source": [
    "# Solution Description\n",
    "# Answer to the question can be found out by running the following query:\n",
    "# SELECT DISTINCT productLine FROM products WHERE MSRP BETWEEN 50 AND 90 AND productLine NOT IN ('Ships','Planes');"
   ]
  },
  {
   "cell_type": "markdown",
   "id": "8804b0b5",
   "metadata": {},
   "source": [
    "## Employees"
   ]
  },
  {
   "cell_type": "code",
   "execution_count": 24,
   "id": "172083a4",
   "metadata": {},
   "outputs": [],
   "source": [
    "# Solution Description\n",
    "# Answer to the question can be found out by running the following query:\n",
    "# SELECT firstName,lastName FROM employees WHERE firstName LIKE 'L%' AND reportsTo=1143;"
   ]
  },
  {
   "cell_type": "markdown",
   "id": "9c04b7ee",
   "metadata": {},
   "source": [
    "## Get Phone Number"
   ]
  },
  {
   "cell_type": "code",
   "execution_count": 25,
   "id": "3b8b0d63",
   "metadata": {},
   "outputs": [],
   "source": [
    "# Ans - 6175558428\n",
    "# Solution Description\n",
    "# Answer to the question can be found out by running the following query:\n",
    "# SELECT phone from customers WHERE customerName LIKE ‘%to-Mo%’;"
   ]
  },
  {
   "cell_type": "markdown",
   "id": "cfbbde7a",
   "metadata": {},
   "source": [
    "## Price Each"
   ]
  },
  {
   "cell_type": "code",
   "execution_count": null,
   "id": "0caaa963",
   "metadata": {},
   "outputs": [],
   "source": [
    "# Ans - 798.48\n",
    "# select sum(priceEach) from orderdetails join orders on orders.customerNumber = 128 and orderdetails.orderNumber = 10300 and orders.orderNumber=10300;"
   ]
  },
  {
   "cell_type": "markdown",
   "id": "3a0b087c",
   "metadata": {},
   "source": [
    "## Price Each\n",
    "\n",
    "##### Get sum of priceeach from orderdetails table for customer name ’Atelier graphique’ from customers table matching orderNumber from orders table\n",
    "\n"
   ]
  },
  {
   "cell_type": "code",
   "execution_count": 2,
   "id": "9411e513",
   "metadata": {},
   "outputs": [],
   "source": [
    "# mysql> select sum(priceEach) from orderdetails where orderNumber in (select ordernumber from orders as o, customers as c where o.customerNumber=c.customerNumber and c.customerName='Atelier graphique'); \n",
    "# +----------------+\n",
    "# | sum(priceEach) |\n",
    "# +----------------+\n",
    "# |         601.49 |\n",
    "# +----------------+\n",
    "# 1 row in set (0.02 sec)\n"
   ]
  },
  {
   "cell_type": "markdown",
   "id": "3587a420",
   "metadata": {},
   "source": [
    "# Lecture 16 : Indexing And SQLite"
   ]
  },
  {
   "cell_type": "markdown",
   "id": "32569362",
   "metadata": {},
   "source": [
    "## Primary Key Indexing"
   ]
  },
  {
   "cell_type": "code",
   "execution_count": 27,
   "id": "5a0d64cb",
   "metadata": {},
   "outputs": [],
   "source": [
    "# Solution Description\n",
    "# By default a unique clustered index is created on all primary keys. A primary key index is created by default when a table is created with a primary key specified."
   ]
  },
  {
   "cell_type": "markdown",
   "id": "b3a650c3",
   "metadata": {},
   "source": [
    "## Unique Key Indexing"
   ]
  },
  {
   "cell_type": "code",
   "execution_count": 28,
   "id": "45a44b46",
   "metadata": {},
   "outputs": [],
   "source": [
    "# Solution Description\n",
    "# By default the unique constraint and Unique index will create a non clustered index if \n",
    "# you don't specify any different condition."
   ]
  },
  {
   "cell_type": "markdown",
   "id": "57e05e07",
   "metadata": {},
   "source": [
    "## Update SQL Table"
   ]
  },
  {
   "cell_type": "code",
   "execution_count": 4,
   "id": "90e62dfb",
   "metadata": {},
   "outputs": [
    {
     "name": "stdout",
     "output_type": "stream",
     "text": [
      "Done\n"
     ]
    }
   ],
   "source": [
    "import sqlite3\n",
    "employee_id=[101,102,103,104,105,106,107,108,109,110,111,112]\n",
    "name=['Aadarsh','Aarti','Siddharth','Aman','Amit','Shivansh','Vaibhav','Himanshu','Raman','Kunal','Adhira','Tanya']\n",
    "age=[25,27,25,24,30,26,23,26,25,26,29,24]\n",
    "department=['Marketing','Operations','Finance','Human Resource','Marketing','IT','Finance','IT','Operations','Marketing','Human Resource','Marketing']\n",
    "salary=[50000,60000,85000,75000,50000,90000,85000,90000,60000,50000,75000,50000]\n",
    "\n",
    "db = sqlite3.connect('Employee.sqlite')\n",
    "cur = db.cursor()\n",
    "list_tuple = []\n",
    "cur.execute(\"delete from EmployeeDetail\")\n",
    "for i in range(len(employee_id)):\n",
    "    tuple1 = (employee_id[i],name[i],age[i],department[i],salary[i])\n",
    "    list_tuple.append(tuple1)\n",
    "cur.executemany(\"insert into EmployeeDetail values(?,?,?,?,?)\",list_tuple)\n",
    "db.commit()\n",
    "db.close()\n",
    "print(\"Done\")"
   ]
  },
  {
   "cell_type": "markdown",
   "id": "953b9bbc",
   "metadata": {},
   "source": [
    "## Finance Employee SQLite"
   ]
  },
  {
   "cell_type": "code",
   "execution_count": 1,
   "id": "b43cae6c",
   "metadata": {},
   "outputs": [
    {
     "name": "stdout",
     "output_type": "stream",
     "text": [
      "103\n",
      "107\n"
     ]
    }
   ],
   "source": [
    "import sqlite3\n",
    "db=sqlite3.connect(\"Employee.sqlite\")\n",
    "cur = db.cursor()\n",
    "cur.execute(\"select * from EmployeeDetail where department='Finance'\")\n",
    "for row in cur:\n",
    "    print(row[0])\n",
    "# print(103)\n",
    "# print(107)"
   ]
  },
  {
   "cell_type": "markdown",
   "id": "4fdbb14d",
   "metadata": {},
   "source": [
    "## Find Employee"
   ]
  },
  {
   "cell_type": "code",
   "execution_count": 3,
   "id": "ff33ef20",
   "metadata": {},
   "outputs": [
    {
     "name": "stdout",
     "output_type": "stream",
     "text": [
      "Marketing 4\n",
      "Operations 2\n",
      "Finance 2\n",
      "Human Resource 2\n",
      "IT 2\n"
     ]
    }
   ],
   "source": [
    "import sqlite3\n",
    "import pandas as pd\n",
    "\n",
    "db=sqlite3.connect(\"Employees.sqlite\")\n",
    "cur=db.cursor()\n",
    "cur.execute('create table employee_details(employeeid int Primary Key, name varchar(100), age int, department varchar(100),salary bigint)')\n",
    "employee_id=[(101,'Aadarsh',25,'Marketing',50000),\n",
    "             (102,'Aarti',27,'Operations',60000),\n",
    "             (103,'Siddharth',25,'Finance',85000,),\n",
    "             (104,'Aman',24,'Human Resource',75000),\n",
    "             (105,'Amit',30,'Marketing',50000),\n",
    "             (106,'Shivansh',26,'IT',90000),\n",
    "             (107,'Vaibhav',23,'Finance',85000),\n",
    "             (108,'Himanshu',26,'IT',90000),\n",
    "             (109,'Raman',25,'Operations',60000),\n",
    "             (110,'Kunal',26,'Marketing',50000),\n",
    "             (111,'Adhira',29,'Human Resource',75000),\n",
    "             (112,'Tanya',24,'Marketing',50000)]\n",
    "cur.executemany('insert into employee_details values(?,?,?,?,?)',(employee_id))\n",
    "db.commit()\n",
    "data = pd.read_sql_query(\"select * from employee_details\",db)\n",
    "v=data[\"department\"]\n",
    "v\n",
    "d={}\n",
    "for i in v:\n",
    "    if i in d:\n",
    "        d[i]+=1\n",
    "    else:\n",
    "        d[i]=1\n",
    "c=[]\n",
    "n=[]\n",
    "for i in d:\n",
    "    c.append(i)\n",
    "    n.append(d[i])\n",
    "for i in range(len(c)):\n",
    "    print(c[i],n[i])\n",
    "\n",
    "\n"
   ]
  },
  {
   "cell_type": "markdown",
   "id": "2e8c78a9",
   "metadata": {},
   "source": [
    "## Count Genre"
   ]
  },
  {
   "cell_type": "code",
   "execution_count": 5,
   "id": "c532b02c",
   "metadata": {},
   "outputs": [
    {
     "name": "stdout",
     "output_type": "stream",
     "text": [
      "Action 33\n",
      "Adventure 43\n",
      "Animation 13\n",
      "Biography 21\n",
      "Comedy 31\n",
      "Crime 11\n",
      "Drama 77\n",
      "Family 3\n",
      "Fantasy 7\n",
      "History 6\n",
      "Horror 2\n",
      "Music 3\n",
      "Musical 1\n",
      "Mystery 7\n",
      "Romance 13\n",
      "Sci-Fi 18\n",
      "Sport 3\n",
      "Thriller 14\n",
      "War 2\n",
      "Western 2\n"
     ]
    }
   ],
   "source": [
    "import sqlite3\n",
    "import pandas as pd\n",
    "db = sqlite3.connect('IMDB.sqlite')\n",
    "df = pd.read_sql_query(\"select genre,count(genre) as genre_num from genre group by genre\",db)\n",
    "df.drop(0,inplace=True)\n",
    "for r in df.values:\n",
    "    print(r[0],end=' ')\n",
    "    print(r[1])"
   ]
  },
  {
   "cell_type": "markdown",
   "id": "e7a4d225",
   "metadata": {},
   "source": [
    "## IMDB Movie"
   ]
  },
  {
   "cell_type": "code",
   "execution_count": 6,
   "id": "deef7dff",
   "metadata": {},
   "outputs": [
    {
     "name": "stdout",
     "output_type": "stream",
     "text": [
      "8.1\n"
     ]
    }
   ],
   "source": [
    "import sqlite3\n",
    "import pandas as pd\n",
    "db = sqlite3.connect('IMDB.sqlite')\n",
    "df = pd.read_sql_query(\"select * from earning\",db)\n",
    "df['total_earning'] = df['Domestic'] + df['Worldwide']\n",
    "movie_id = df[df['total_earning']==df['total_earning'].max()].values[0][0]\n",
    "\n",
    "df = pd.read_sql_query(\"select * from IMDB\",db)\n",
    "print(df[df['Movie_id']==movie_id].values[0][2])"
   ]
  },
  {
   "cell_type": "markdown",
   "id": "85d98e28",
   "metadata": {},
   "source": [
    "## IMDB Voted"
   ]
  },
  {
   "cell_type": "code",
   "execution_count": 7,
   "id": "a96ebf2c",
   "metadata": {},
   "outputs": [
    {
     "name": "stdout",
     "output_type": "stream",
     "text": [
      "Inception (2010) 8.8\n"
     ]
    }
   ],
   "source": [
    "import sqlite3\n",
    "import pandas as pd\n",
    "db = sqlite3.connect('IMDB.sqlite')\n",
    "df = pd.read_sql_query(\"select * from IMDB\",db)\n",
    "\n",
    "print(df[df['TotalVotes']==df['TotalVotes'].max()].values[0][1],end=' ')\n",
    "print(df[df['TotalVotes']==df['TotalVotes'].max()].values[0][2])"
   ]
  },
  {
   "cell_type": "markdown",
   "id": "fa9ced0b",
   "metadata": {},
   "source": [
    "## IMDB running time"
   ]
  },
  {
   "cell_type": "code",
   "execution_count": 1,
   "id": "8c14a200",
   "metadata": {},
   "outputs": [
    {
     "name": "stdout",
     "output_type": "stream",
     "text": [
      "The Wolf of Wall Street (2013) 180\n",
      "The Wolf of Wall Street (2013) 180\n"
     ]
    }
   ],
   "source": [
    "import sqlite3\n",
    "import pandas as pd\n",
    "db = sqlite3.connect('IMDB.sqlite')\n",
    "result = pd.read_sql_query(\"select Title, CAST(substr(Runtime,0,LENGTH(Runtime)-3) as INTEGER)  as length  from IMDB ORDER by length DESC limit 1\",db)\n",
    "for r in result.values:\n",
    "    print(\"{} {}\".format(str(r[0]), r[1]))\n",
    "    \n",
    "# Solution 2\n",
    "df = pd.read_sql_query(\"select Title,Runtime from IMDB\",db)\n",
    "df = df[df['Runtime']!='']\n",
    "df.reset_index(inplace=True)\n",
    "max_runtime = 0\n",
    "movie = \"\"\n",
    "for i in df.values:\n",
    "    if int(i[2].split()[0])>max_runtime:\n",
    "        max_runtime = int(i[2].split()[0])\n",
    "        movie = i[1]\n",
    "print(movie,end=' ')\n",
    "print(max_runtime)"
   ]
  },
  {
   "cell_type": "markdown",
   "id": "5cba6f28",
   "metadata": {},
   "source": [
    "## IMDB profit"
   ]
  },
  {
   "cell_type": "code",
   "execution_count": 10,
   "id": "d9e4f534",
   "metadata": {},
   "outputs": [
    {
     "name": "stdout",
     "output_type": "stream",
     "text": [
      "Star Wars: The Force Awakens (2015)\n"
     ]
    }
   ],
   "source": [
    "import sqlite3\n",
    "import pandas as pd\n",
    "db = sqlite3.connect('IMDB.sqlite')\n",
    "df = pd.read_sql_query(\"select i.Title as title, e.domestic + e.worldwide - i.budget as net_profit from IMDB as i, earning as e where i.movie_id = e.movie_id\",db)\n",
    "df_net_profit = df[df['net_profit']==df['net_profit'].max()]\n",
    "print(df_net_profit.values[0][0])"
   ]
  },
  {
   "cell_type": "markdown",
   "id": "22ccf9c8",
   "metadata": {},
   "source": [
    "## IMDB least budget"
   ]
  },
  {
   "cell_type": "code",
   "execution_count": 12,
   "id": "d0cc7485",
   "metadata": {},
   "outputs": [
    {
     "name": "stdout",
     "output_type": "stream",
     "text": [
      "Short Term 12 (2013)\n"
     ]
    }
   ],
   "source": [
    "import sqlite3\n",
    "import pandas as pd\n",
    "db = sqlite3.connect('IMDB.sqlite')\n",
    "df = pd.read_sql_query(\"select i.Title as title, i.budget as budget,e.domestic + e.worldwide - i.budget as net_profit from IMDB as i, earning as e where i.movie_id = e.movie_id\",db)\n",
    "df_2 = df[df['budget']!='']\n",
    "min_budget = df_2['budget'].min()\n",
    "def convertBudgetToFloat(budget):\n",
    "    if budget=='':\n",
    "        return 0\n",
    "    else:\n",
    "        return float(budget)\n",
    "df['budget'] = df['budget'].apply(convertBudgetToFloat)\n",
    "df_least_budget = df[df['budget']==min_budget]\n",
    "df_net_profit = df_least_budget[df_least_budget['net_profit']==df_least_budget['net_profit'].max()]\n",
    "print(df_net_profit.values[0][0])"
   ]
  },
  {
   "cell_type": "markdown",
   "id": "6de13910",
   "metadata": {},
   "source": [
    "## IMDB Year Top"
   ]
  },
  {
   "cell_type": "code",
   "execution_count": 11,
   "id": "13b81efe",
   "metadata": {},
   "outputs": [
    {
     "name": "stdout",
     "output_type": "stream",
     "text": [
      "2010 Toy Story 3 (2010)\n",
      "2011 Rise of the Planet of the Apes (2011)\n",
      "2012 The Avengers (2012)\n",
      "2013 The Hunger Games: Catching Fire (2013)\n",
      "2014 Guardians of the Galaxy (2014)\n",
      "2015 Star Wars: The Force Awakens (2015)\n",
      "2016 Rogue One (2016)\n"
     ]
    }
   ],
   "source": [
    "import sqlite3\n",
    "import pandas as pd\n",
    "db = sqlite3.connect('IMDB.sqlite')\n",
    "df = pd.read_sql_query(\"select i.Title as Title, e.domestic + e.worldwide as gross_profit from IMDB as i, earning as e where i.movie_id = e.movie_id\",db)\n",
    "df['year'] = df['Title'].str.extract(\"\\((\\d+)\\)\")\n",
    "df.to_sql(\"IMDB2\",db,if_exists=\"replace\")\n",
    "df = pd.read_sql_query(\"select year,title,max(gross_profit) from IMDB2 group by year\",db)\n",
    "for i in df.values:\n",
    "    print(i[0],end=' ')\n",
    "    print(i[1])"
   ]
  },
  {
   "cell_type": "markdown",
   "id": "5ec0cdab",
   "metadata": {},
   "source": [
    "## IMDB genre budget"
   ]
  },
  {
   "cell_type": "code",
   "execution_count": 13,
   "id": "c136f3a2",
   "metadata": {},
   "outputs": [
    {
     "name": "stdout",
     "output_type": "stream",
     "text": [
      "Action 17.98\n",
      "Adventure 25.10\n",
      "Animation 7.66\n",
      "Biography 2.59\n",
      "Comedy 7.22\n",
      "Crime 1.77\n",
      "Drama 10.85\n",
      "Family 1.91\n",
      "Fantasy 4.54\n",
      "History 0.72\n",
      "Horror 0.03\n",
      "Music 0.15\n",
      "Musical 0.25\n",
      "Mystery 1.95\n",
      "Romance 1.12\n",
      "Sci-Fi 10.77\n",
      "Sport 0.46\n",
      "Thriller 3.99\n",
      "War 0.36\n",
      "Western 0.57\n"
     ]
    },
    {
     "data": {
      "image/png": "[encoded data removed]",
      "text/plain": [
       "<Figure size 432x288 with 1 Axes>"
      ]
     },
     "metadata": {},
     "output_type": "display_data"
    }
   ],
   "source": [
    "import sqlite3\n",
    "import pandas as pd\n",
    "import matplotlib.pyplot as plt\n",
    "db = sqlite3.connect('IMDB.sqlite')\n",
    "df = pd.read_sql_query(\"select g.genre as genre,i.budget as budget from IMDB as i, genre as g where i.movie_id = g.movie_id\",db)\n",
    "df = df[df['genre']!='']\n",
    "df['budget'].replace('',0,inplace=True)\n",
    "budget = []\n",
    "genre = []\n",
    "for row_index, row in df.groupby('genre').sum().iterrows():\n",
    "    budget.append(row['budget'])\n",
    "    genre.append(row_index)\n",
    "explode = []\n",
    "p = plt.pie(budget,labels=genre,autopct=\"%.2f\")\n",
    "text = p[2]\n",
    "for i in range(len(p[1])):\n",
    "    print(p[1][i].get_text(),end=' ')\n",
    "    print(p[2][i].get_text())\n",
    "plt.show()"
   ]
  },
  {
   "cell_type": "markdown",
   "id": "eb46406a",
   "metadata": {},
   "source": [
    "## IMDB genre earning"
   ]
  },
  {
   "cell_type": "code",
   "execution_count": 14,
   "id": "d9ab008f",
   "metadata": {},
   "outputs": [
    {
     "name": "stdout",
     "output_type": "stream",
     "text": [
      "Action 17.91\n",
      "Adventure 23.57\n",
      "Animation 6.77\n",
      "Biography 3.42\n",
      "Comedy 7.69\n",
      "Crime 1.55\n",
      "Drama 11.96\n",
      "Family 1.05\n",
      "Fantasy 5.15\n",
      "History 1.04\n",
      "Horror 0.01\n",
      "Music 0.43\n",
      "Musical 0.38\n",
      "Mystery 2.01\n",
      "Romance 1.45\n",
      "Sci-Fi 9.95\n",
      "Sport 0.32\n",
      "Thriller 4.42\n",
      "War 0.25\n",
      "Western 0.65\n"
     ]
    },
    {
     "data": {
      "image/png": "[encoded data removed]",
      "text/plain": [
       "<Figure size 432x288 with 1 Axes>"
      ]
     },
     "metadata": {},
     "output_type": "display_data"
    }
   ],
   "source": [
    "## Open and read data file as specified in the question\n",
    "## Print the required output in given format\n",
    "import sqlite3\n",
    "import pandas as pd\n",
    "import matplotlib.pyplot as plt\n",
    "db = sqlite3.connect('IMDB.sqlite')\n",
    "df = pd.read_sql_query(\"select g.genre as genre,e.domestic + e.worldwide as total_earning from earning as e, genre as g where e.movie_id = g.movie_id\",db)\n",
    "df = df[df['genre']!='']\n",
    "budget = []\n",
    "genre = []\n",
    "for row_index, row in df.groupby('genre').sum().iterrows():\n",
    "    budget.append(row['total_earning'])\n",
    "    genre.append(row_index)\n",
    "explode = []\n",
    "p = plt.pie(budget,labels=genre,autopct=\"%.2f\")\n",
    "text = p[2]\n",
    "for i in range(len(p[1])):\n",
    "    print(p[1][i].get_text(),end=' ')\n",
    "    print(p[2][i].get_text())\n",
    "plt.show()"
   ]
  },
  {
   "cell_type": "code",
   "execution_count": 15,
   "id": "375c3e6e",
   "metadata": {},
   "outputs": [
    {
     "name": "stdout",
     "output_type": "stream",
     "text": [
      "Action 17.91\n",
      "Adventure 23.57\n",
      "Animation 6.77\n",
      "Biography 3.42\n",
      "Comedy 7.69\n",
      "Crime 1.55\n",
      "Drama 11.96\n",
      "Family 1.05\n",
      "Fantasy 5.15\n",
      "History 1.04\n",
      "Horror 0.01\n",
      "Music 0.43\n",
      "Musical 0.38\n",
      "Mystery 2.01\n",
      "Romance 1.45\n",
      "Sci-Fi 9.95\n",
      "Sport 0.32\n",
      "Thriller 4.42\n",
      "War 0.25\n",
      "Western 0.65\n"
     ]
    },
    {
     "data": {
      "image/png": "[encoded data removed]",
      "text/plain": [
       "<Figure size 432x288 with 1 Axes>"
      ]
     },
     "metadata": {},
     "output_type": "display_data"
    }
   ],
   "source": [
    "import pandas as pd\n",
    "import sqlite3\n",
    "import matplotlib.pyplot as plt\n",
    "\n",
    "db=sqlite3.connect('IMDB.sqlite')\n",
    "data=pd.read_sql_query('select g.genre as genre,e.domestic + e.worldwide as total_earning from earning as e, genre as g where e.movie_id = g.movie_id',db)\n",
    "data = data[data['genre']!='']\n",
    "\n",
    "budget = []\n",
    "genre = []\n",
    "for row_index, row in data.groupby('genre').sum().iterrows():\n",
    "    budget.append(row['total_earning'])\n",
    "    genre.append(row_index)\n",
    "explode = []\n",
    "p = plt.pie(budget,labels=genre,autopct=\"%.2f\")\n",
    "text = p[2]\n",
    "for i in range(len(p[1])):\n",
    "    print(p[1][i].get_text(),end=' ')\n",
    "    print(p[2][i].get_text())\n",
    "plt.show()\n",
    "# data = data[data.genre!='']\n",
    "\n",
    "count = data[\"(Domestic + Worldwide)\"].sum()\n",
    "\n",
    "name_genre=data.genre.values\n",
    "earning=data[\"(Domestic + Worldwide)\"].values\n",
    "\n",
    "# p = plt.pie(earning,labels=name_genre,autopct='%.2f')\n",
    "# # plt.axis('equal')\n",
    "# text = p[2]\n",
    "# for i in range(len(p[1])):\n",
    "#     print(p[1][i].get_text(),end=' ')\n",
    "#     print(p[2][i].get_text())\n",
    "\n",
    "# plt.show()\n",
    "# for ele in range(len(name_genre)):\n",
    "#     per=earning[ele]/count\n",
    "#     per=per*100\n",
    "#     print(name_genre[ele],\"{:.2f}\".format(float(per)))"
   ]
  },
  {
   "cell_type": "code",
   "execution_count": 16,
   "id": "46ef7cb9",
   "metadata": {},
   "outputs": [
    {
     "data": {
      "image/png": "[encoded data removed]",
      "text/plain": [
       "<Figure size 432x288 with 1 Axes>"
      ]
     },
     "metadata": {},
     "output_type": "display_data"
    },
    {
     "name": "stdout",
     "output_type": "stream",
     "text": [
      "Action 5.20\n",
      "Adventure 1.12\n",
      "Animation 12.43\n",
      "Biography 3.45\n",
      "Comedy 1.05\n",
      "Crime 1.57\n",
      "Drama 3.45\n",
      "Family 17.73\n",
      "Fantasy 1.45\n",
      "History 3.45\n",
      "Horror 0.07\n",
      "Music 8.42\n",
      "Musical 8.34\n",
      "Mystery 4.29\n",
      "Romance 1.05\n",
      "Sci-Fi 4.29\n",
      "Sport 4.00\n",
      "Thriller 6.16\n",
      "War 4.20\n",
      "Western 8.30\n"
     ]
    }
   ],
   "source": [
    "import pandas as pd\n",
    "import sqlite3\n",
    "import matplotlib.pyplot as plt\n",
    "\n",
    "db=sqlite3.connect('IMDB.sqlite')\n",
    "data=pd.read_sql_query('select (Domestic + Worldwide), genre from earning join genre on earning.Movie_id = genre.Movie_id group by genre',db)\n",
    "data = data[data['genre']!='']\n",
    "\n",
    "# data = data[data.genre!='']\n",
    "\n",
    "count = data[\"(Domestic + Worldwide)\"].sum()\n",
    "\n",
    "name_genre=data.genre.values\n",
    "earning=data[\"(Domestic + Worldwide)\"].values\n",
    "\n",
    "plt.pie(earning,labels=name_genre,autopct='%.2f%%')\n",
    "plt.axis('equal')\n",
    "plt.show()\n",
    "for ele in range(len(name_genre)):\n",
    "    per=earning[ele]/count\n",
    "    per=per*100\n",
    "    print(name_genre[ele],\"{:.2f}\".format(float(per)))"
   ]
  },
  {
   "cell_type": "markdown",
   "id": "588c5573",
   "metadata": {},
   "source": [
    "## IMDB Specific Genre"
   ]
  },
  {
   "cell_type": "code",
   "execution_count": 5,
   "id": "90bfe63e",
   "metadata": {},
   "outputs": [
    {
     "name": "stdout",
     "output_type": "stream",
     "text": [
      "2 Arrival (2016)\n",
      "Arrival (2016)\n",
      "1 Gone Girl (2014)\n",
      "1 Guardians of the Galaxy (2014)\n",
      "1 Her (2013)\n",
      "1 Inception (2010)\n",
      "1 Interstellar (2014)\n",
      "1 Mad Max: Fury Road (2015)\n",
      "1 Prisoners (2013)\n",
      "1 Shutter Island (2010)\n",
      "1 The Avengers (2012)\n",
      "1 The Martian (2015)\n",
      "1 X-Men: Days of Future Past (2014)\n"
     ]
    }
   ],
   "source": [
    "import sqlite3\n",
    "import pandas as pd\n",
    "db = sqlite3.connect('IMDB.sqlite')\n",
    "df = pd.read_sql_query(\"select i.Title as title,count(i.title) as count from IMDB as i, genre as g where i.movie_id = g.movie_id and i.rating>=8 and g.genre in('Sci-Fi','Mystery') group by i.title\",db)\n",
    "for r in df.values:\n",
    "    print(r[1],r[0])\n",
    "    if r[1]==2:\n",
    "        print(r[0])"
   ]
  }
 ],
 "metadata": {
  "kernelspec": {
   "display_name": "Python 3",
   "language": "python",
   "name": "python3"
  },
  "language_info": {
   "codemirror_mode": {
    "name": "ipython",
    "version": 3
   },
   "file_extension": ".py",
   "mimetype": "text/x-python",
   "name": "python",
   "nbconvert_exporter": "python",
   "pygments_lexer": "ipython3",
   "version": "3.8.8"
  }
 },
 "nbformat": 4,
 "nbformat_minor": 5
}
