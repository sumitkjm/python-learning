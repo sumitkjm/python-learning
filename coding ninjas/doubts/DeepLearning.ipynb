{
 "cells": [
  {
   "cell_type": "markdown",
   "id": "d205027d",
   "metadata": {},
   "source": [
    "# Neural Network"
   ]
  },
  {
   "cell_type": "markdown",
   "id": "a76a1443",
   "metadata": {},
   "source": [
    "## Parameters in Neural Network 1\n",
    "\n",
    "#### Find total number of parameters for the neural network which has -\n",
    "#### 3 input features\n",
    "#### Hidden Layer 1 has 10 units \n",
    "#### Output layer has 1 unit"
   ]
  },
  {
   "cell_type": "code",
   "execution_count": 1,
   "id": "0baf637e",
   "metadata": {},
   "outputs": [],
   "source": [
    "# Solution Description\n",
    "# Parameters for Hidden Layer 1 -  (3+1)*10\n",
    "\n",
    "# Parameters for Output Layer - 11\n",
    "\n",
    "# Total Parameters - 40 + 11 = 51"
   ]
  },
  {
   "cell_type": "markdown",
   "id": "9d3a094d",
   "metadata": {},
   "source": [
    "## Parameters in Neural Network\n",
    "##### 5 input features\n",
    "##### Hidden Layer 1 has 10 units\n",
    "##### Hidden Layer 2 has 6 units\n",
    "##### Output layer has 1 unit\n"
   ]
  },
  {
   "cell_type": "code",
   "execution_count": 2,
   "id": "7b35d224",
   "metadata": {},
   "outputs": [],
   "source": [
    "# Solution Description\n",
    "# Parameters for Hidden Layer 1 -  (5+1)*10  = 60\n",
    "\n",
    "# Parameters for Hidden Layer 2 - (10+1) * 6 = 66\n",
    "\n",
    "# Parameters for Output Layer - (6 + 1)  = 7\n",
    "\n",
    "\n",
    "# Total Parameters - 60 + 66 + 7 = 133"
   ]
  },
  {
   "cell_type": "markdown",
   "id": "be177b17",
   "metadata": {},
   "source": [
    "## Neural Network Output"
   ]
  },
  {
   "cell_type": "code",
   "execution_count": 3,
   "id": "e710d739",
   "metadata": {},
   "outputs": [],
   "source": [
    "# Solution Description\n",
    "# Explanation:\n",
    "\n",
    "# Hidden Layer Unit 1 output will be calculated as -\n",
    "# 1 / (1 + e ^ - (0.35 * 20 - 0.2 *10 +0.2)) = 0.9945137\n",
    "\n",
    "\n",
    "# Hidden Layer Unit 2 output will be calculated as -\n",
    "\n",
    "# 1 / (1 + e ^ - (0.4 * 20 - 0.75 *10 - 0.25)) = 0.562176\n",
    "\n",
    "# Output Layer output - \n",
    "\n",
    "# 1 / (1 + e ^ - (0.3 * 0.9945137 - 0.4 *0.562176 - 0.7)) = 0.3483\n"
   ]
  },
  {
   "cell_type": "markdown",
   "id": "41c5ba9d",
   "metadata": {},
   "source": [
    "## Number of parameters\n",
    "##### 4 input features\n",
    "##### Hidden Layer 1 has 10 units\n",
    "##### Hidden Layer 2 has 5 units\n",
    "##### Output layer has 3 units"
   ]
  },
  {
   "cell_type": "code",
   "execution_count": 4,
   "id": "03a725e8",
   "metadata": {},
   "outputs": [],
   "source": [
    "# Solution Description\n",
    "# Parameters for Hidden Layer 1 -  (4+1)*10  = 50\n",
    "\n",
    "# Parameters for Hidden Layer 2 - (10+1) * 5 = 55\n",
    "\n",
    "# Parameters for Output Layer - (5 + 1) * 3 = 18\n",
    "\n",
    "# Total Parameters - 50 + 55 + 18 = 123\n"
   ]
  },
  {
   "cell_type": "markdown",
   "id": "18127479",
   "metadata": {},
   "source": [
    "# CNN"
   ]
  },
  {
   "cell_type": "markdown",
   "id": "fb50f7d4",
   "metadata": {},
   "source": [
    "## Stride and padding\n",
    "\n",
    "###### For an image with 28*28 pixels and 32 convolutional units , output is of shape(consider same padding):"
   ]
  },
  {
   "cell_type": "code",
   "execution_count": 5,
   "id": "5f2d3df3",
   "metadata": {},
   "outputs": [],
   "source": [
    "# Solution Description\n",
    "# For same padding output image is of same shape as input so, it would be 28 \\* 28 . Since there are 32 convolution units , output would have 32 images of 28 * 28 thus output has dimension 28\\*28\\*32\n"
   ]
  },
  {
   "cell_type": "markdown",
   "id": "4a062ac2",
   "metadata": {},
   "source": [
    "## Pooling\n",
    "\n",
    "###### Find the output of max pooling with stride = 2 and filter dimension k=2 for following output matrix :"
   ]
  },
  {
   "cell_type": "code",
   "execution_count": 6,
   "id": "333ff906",
   "metadata": {},
   "outputs": [],
   "source": [
    "# Ans \n",
    "# 6 8 3 4"
   ]
  },
  {
   "cell_type": "markdown",
   "id": "f2baeb21",
   "metadata": {},
   "source": [
    "## Data flow\n",
    "\n",
    "###### What would be the output of a network with 32 units in 1st convolutional layer followed by a pooling layer then followed by another convolutional layer with 64 units followed by another pooling layer. Take stride = 2 and k=2 for both convolution layers and take the pool size = 2 in both pooling layers , input image dimensions are 28*28*1\n",
    "###### (fill answer in m*n*k form)\n"
   ]
  },
  {
   "cell_type": "code",
   "execution_count": 12,
   "id": "d0830431",
   "metadata": {},
   "outputs": [],
   "source": [
    "# Ans 1*1*64\n",
    "\n",
    "# Explaination \n",
    "# input image size 28 * 28 * 1\n",
    "# size after 1st convolulation layer = 14 * 14 * 32 // 28//2*28//2* 32( because stride is 2)\n",
    "# size after 1st pooling layer = 7 * 7 * 32 // 14//2 * 14//2 * 1 (because pool size to be 2)\n",
    "# size after 2nd convolulation layer = 3 * 3 * 64 // 7//2 * 7/2 * 1 (because stride is 2)\n",
    "# size after 2nd pooling layer = 1 * 1 * 64  (3//2*7//2*1) because pooling layer size is 2\n",
    "# output layer size will be = 1 * 1 * 64\n",
    "\n",
    "## --- size will change to m*n*1 or m*n*1 as convolulational layer filter will have same depth as\n",
    "# input image size so it will create output of but we are putting it as m*n*32 or m*n*64 as the number\n",
    "# of units are that many and it combinly becomes *32 and *64\n"
   ]
  },
  {
   "cell_type": "markdown",
   "id": "82a89a7c",
   "metadata": {},
   "source": [
    "## Architecture of network"
   ]
  },
  {
   "cell_type": "code",
   "execution_count": null,
   "id": "3710df72",
   "metadata": {},
   "outputs": [],
   "source": []
  },
  {
   "cell_type": "code",
   "execution_count": 13,
   "id": "392cfb80",
   "metadata": {},
   "outputs": [],
   "source": [
    "# Solution Description\n",
    "# Weights for one unit are  5\\*5\\*1. Thus weights for 32 units will be  5\\*5\\*1*32 = 800"
   ]
  },
  {
   "cell_type": "markdown",
   "id": "af967993",
   "metadata": {},
   "source": [
    "## No. of Parameters\n"
   ]
  },
  {
   "cell_type": "code",
   "execution_count": null,
   "id": "2ef90c40",
   "metadata": {},
   "outputs": [],
   "source": [
    "# Solution Description\n",
    "#  5\\* 5\\*32\\*64 = 51200 ; Weights required for one unit are 5\\*5\\*32. Thus weights for 64 units will be - 5\\*5\\*32\\*64\n"
   ]
  },
  {
   "cell_type": "markdown",
   "id": "c2d67061",
   "metadata": {},
   "source": [
    "## Parameters at Dense layer"
   ]
  },
  {
   "cell_type": "code",
   "execution_count": 14,
   "id": "36e59407",
   "metadata": {},
   "outputs": [],
   "source": [
    "# Solution Description\n",
    "#  7\\*7\\* 64\\*1024 + 1024 = 3212288\n"
   ]
  },
  {
   "cell_type": "markdown",
   "id": "59457bc8",
   "metadata": {},
   "source": [
    "## Parameters at output layer"
   ]
  },
  {
   "cell_type": "code",
   "execution_count": 15,
   "id": "76f72f04",
   "metadata": {},
   "outputs": [],
   "source": [
    "# Solution Description\n",
    "#  1024 * 10 + 10 = 10250\n"
   ]
  },
  {
   "cell_type": "markdown",
   "id": "fd27f439",
   "metadata": {},
   "source": [
    "## Total Parameters"
   ]
  },
  {
   "cell_type": "code",
   "execution_count": 16,
   "id": "c5a6f659",
   "metadata": {},
   "outputs": [],
   "source": [
    "# Solution Description\n",
    "\n",
    "# \tParameters need at every layer \n",
    "# \tCNN Layer 1 :  5 * 5 * 1 * 32  = 800\n",
    "# \tCNN Layer 2 : 5 * 5 * 32 * 64 = 51200\n",
    "#     Dense Layer : 4 * 4 * 64 * 1024 + 1024 = 1049600 \n",
    "#     Output Layer : 1024 * 10 + 10 = 10250\n",
    "\n",
    "#     Ans : 800 + 51200 + 1049600 + 10250 = 1111850\n"
   ]
  }
 ],
 "metadata": {
  "kernelspec": {
   "display_name": "Python 3 (ipykernel)",
   "language": "python",
   "name": "python3"
  },
  "language_info": {
   "codemirror_mode": {
    "name": "ipython",
    "version": 3
   },
   "file_extension": ".py",
   "mimetype": "text/x-python",
   "name": "python",
   "nbconvert_exporter": "python",
   "pygments_lexer": "ipython3",
   "version": "3.10.4"
  }
 },
 "nbformat": 4,
 "nbformat_minor": 5
}
