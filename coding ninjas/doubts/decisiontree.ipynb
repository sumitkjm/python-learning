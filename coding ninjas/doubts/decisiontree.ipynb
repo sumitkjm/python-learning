{
 "cells": [
  {
   "cell_type": "markdown",
   "id": "25dd15c2",
   "metadata": {},
   "source": [
    "## Split Feature\n",
    "###### For the dataset shown below, fill the feature that should be chosen to split based on accuracy and the accuracy value.\n",
    "###### A   B   Output\n",
    "###### 0   yes yes\n",
    "###### 0   yes yes\n",
    "###### 0   no  no\n",
    "###### 1   yes yes\n",
    "###### 1   no  no\n",
    "###### 0   yes no\n",
    "###### 0   yes yes\n",
    "###### 1   no  yes\n",
    "###### 0   no  no\n",
    "###### 1   yes no\n",
    "###### 1   yes yes\n",
    "###### 1   no  no\n",
    "###### 0   yes yes\n",
    "###### 0   no  no\n",
    "###### 1   yes no\n",
    "###### Note: Type feature name in capital followed by a space and the accuracy value upto 2 decimal places.\n"
   ]
  },
  {
   "cell_type": "code",
   "execution_count": 1,
   "id": "98d25486",
   "metadata": {},
   "outputs": [],
   "source": [
    "# ans - B 0.73\n",
    "# explaination\n",
    "# (6yes + 5 No)/15 \n",
    "# 11/15\n",
    "# 0.733 ~ 0.73 (with round off upto 2 decimal)\n"
   ]
  },
  {
   "cell_type": "markdown",
   "id": "5174d10f",
   "metadata": {},
   "source": [
    "## split info\n",
    "###### For the image below, calculate value of split info:\n",
    "###### Note: Fill value rounded off to 3 decimal places."
   ]
  },
  {
   "cell_type": "code",
   "execution_count": 2,
   "id": "8e8db6e2",
   "metadata": {},
   "outputs": [],
   "source": [
    "# Ans 0.301\n",
    "#formula \n",
    "# split info = -(|D1|/|D|)*log|D1|/|D| -(|D2|/|D|)*log|D2|/|D|\n",
    "# split info = -(25/50)*log(25/50) - (25/50) * log(25/50)\n",
    "# split info =0.301"
   ]
  },
  {
   "cell_type": "markdown",
   "id": "f916593a",
   "metadata": {},
   "source": [
    "## split info\n",
    "###### For the image below, calculate value of split info:\n",
    "###### Note: Fill value rounded off to 3 decimal places. Eg: 1.324."
   ]
  },
  {
   "cell_type": "code",
   "execution_count": 1,
   "id": "18a99847",
   "metadata": {},
   "outputs": [],
   "source": [
    "# ans 0.043\n",
    "#formula \n",
    "# split info = -(|D1|/|D|)*log|D1|/|D| -(|D2|/|D|)*log|D2|/|D|\n",
    "# split info = -(1/50)*log(1/50) - (49/50) * log(49/50)\n",
    "# split info =0.0425 and you round off upto 3 decimals then it becomes 0.043"
   ]
  }
 ],
 "metadata": {
  "kernelspec": {
   "display_name": "Python 3",
   "language": "python",
   "name": "python3"
  },
  "language_info": {
   "codemirror_mode": {
    "name": "ipython",
    "version": 3
   },
   "file_extension": ".py",
   "mimetype": "text/x-python",
   "name": "python",
   "nbconvert_exporter": "python",
   "pygments_lexer": "ipython3",
   "version": "3.8.8"
  }
 },
 "nbformat": 4,
 "nbformat_minor": 5
}
