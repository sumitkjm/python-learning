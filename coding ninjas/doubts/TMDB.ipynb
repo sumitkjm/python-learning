{
 "cells": [
  {
   "cell_type": "markdown",
   "id": "ae6693f0",
   "metadata": {},
   "source": [
    "## TMDb 1.1"
   ]
  },
  {
   "cell_type": "code",
   "execution_count": 2,
   "id": "4d39099e",
   "metadata": {},
   "outputs": [
    {
     "name": "stderr",
     "output_type": "stream",
     "text": [
      "/Users/skumar6/opt/anaconda3/lib/python3.8/site-packages/urllib3/connectionpool.py:1013: InsecureRequestWarning: Unverified HTTPS request is being made to host 'api.themoviedb.org'. Adding certificate verification is strongly advised. See: https://urllib3.readthedocs.io/en/latest/advanced-usage.html#ssl-warnings\n",
      "  warnings.warn(\n"
     ]
    },
    {
     "name": "stdout",
     "output_type": "stream",
     "text": [
      "534780\n"
     ]
    }
   ],
   "source": [
    "import requests\n",
    "\n",
    "param ={'api_key':'465eecab44c8ee8bb183fa7e2232c87b','query':'Andhadhun'}\n",
    "r = requests.get('https://api.themoviedb.org/3/search/movie',verify=False,params=param)\n",
    "print(r.json()['results'][0]['id'])"
   ]
  },
  {
   "cell_type": "markdown",
   "id": "6861b48e",
   "metadata": {},
   "source": [
    "## TMDb 1.2"
   ]
  },
  {
   "cell_type": "code",
   "execution_count": 4,
   "id": "b302fab2",
   "metadata": {},
   "outputs": [
    {
     "name": "stderr",
     "output_type": "stream",
     "text": [
      "/Users/skumar6/opt/anaconda3/lib/python3.8/site-packages/urllib3/connectionpool.py:1013: InsecureRequestWarning: Unverified HTTPS request is being made to host 'api.themoviedb.org'. Adding certificate verification is strongly advised. See: https://urllib3.readthedocs.io/en/latest/advanced-usage.html#ssl-warnings\n",
      "  warnings.warn(\n"
     ]
    },
    {
     "name": "stdout",
     "output_type": "stream",
     "text": [
      "420\n"
     ]
    }
   ],
   "source": [
    "import requests\n",
    "## Write your code here\n",
    "param ={'api_key':'465eecab44c8ee8bb183fa7e2232c87b','query':'Marvel Studios'}\n",
    "r = requests.get('https://api.themoviedb.org/3/search/company',verify=False,params=param)\n",
    "print(r.json()['results'][0]['id'])"
   ]
  },
  {
   "cell_type": "markdown",
   "id": "39deb9b4",
   "metadata": {},
   "source": [
    "## TMDb 1.3"
   ]
  },
  {
   "cell_type": "code",
   "execution_count": 5,
   "id": "a2631ef6",
   "metadata": {},
   "outputs": [
    {
     "name": "stderr",
     "output_type": "stream",
     "text": [
      "/Users/skumar6/opt/anaconda3/lib/python3.8/site-packages/urllib3/connectionpool.py:1013: InsecureRequestWarning: Unverified HTTPS request is being made to host 'api.themoviedb.org'. Adding certificate verification is strongly advised. See: https://urllib3.readthedocs.io/en/latest/advanced-usage.html#ssl-warnings\n",
      "  warnings.warn(\n",
      "/Users/skumar6/opt/anaconda3/lib/python3.8/site-packages/urllib3/connectionpool.py:1013: InsecureRequestWarning: Unverified HTTPS request is being made to host 'api.themoviedb.org'. Adding certificate verification is strongly advised. See: https://urllib3.readthedocs.io/en/latest/advanced-usage.html#ssl-warnings\n",
      "  warnings.warn(\n"
     ]
    },
    {
     "name": "stdout",
     "output_type": "stream",
     "text": [
      "1800 8\n"
     ]
    }
   ],
   "source": [
    "import requests\n",
    "api_key = \"e226f4a5f5bace766952aa0d17182959\"\n",
    "api_link = \"https://api.themoviedb.org/3/search/company\"\n",
    "\n",
    "param ={'api_key':'e226f4a5f5bace766952aa0d17182959','query':'3 idiots'}\n",
    "r = requests.get('https://api.themoviedb.org/3/search/movie',verify=False,params=param)\n",
    "id = r.json()['results'][0]['id']\n",
    "# print(id)\n",
    "param ={'api_key':'e226f4a5f5bace766952aa0d17182959'}\n",
    "r = requests.get('https://api.themoviedb.org/3/movie/20453',verify=False,params=param)\n",
    "data = r.json()\n",
    "print(data['vote_count'],end=' ')\n",
    "print(int(data['vote_average']))"
   ]
  },
  {
   "cell_type": "markdown",
   "id": "221e0525",
   "metadata": {},
   "source": [
    "## TMDb 1.4"
   ]
  },
  {
   "cell_type": "code",
   "execution_count": 47,
   "id": "f4770eb1",
   "metadata": {},
   "outputs": [
    {
     "name": "stderr",
     "output_type": "stream",
     "text": [
      "/Users/skumar6/opt/anaconda3/lib/python3.8/site-packages/urllib3/connectionpool.py:1013: InsecureRequestWarning: Unverified HTTPS request is being made to host 'api.themoviedb.org'. Adding certificate verification is strongly advised. See: https://urllib3.readthedocs.io/en/latest/advanced-usage.html#ssl-warnings\n",
      "  warnings.warn(\n",
      "/Users/skumar6/opt/anaconda3/lib/python3.8/site-packages/urllib3/connectionpool.py:1013: InsecureRequestWarning: Unverified HTTPS request is being made to host 'api.themoviedb.org'. Adding certificate verification is strongly advised. See: https://urllib3.readthedocs.io/en/latest/advanced-usage.html#ssl-warnings\n",
      "  warnings.warn(\n"
     ]
    },
    {
     "name": "stdout",
     "output_type": "stream",
     "text": [
      "Inception\n",
      "Once Upon a Time in America\n",
      "Catwoman\n",
      "Insomnia\n",
      "Mystic River\n"
     ]
    }
   ],
   "source": [
    "import requests\n",
    "api_key = \"e226f4a5f5bace766952aa0d17182959\"\n",
    "api_link = \"https://api.themoviedb.org/3\"\n",
    "params = {'query':\"Inception\", 'api_key':api_key}\n",
    "header = {'Accept': 'application/json'}\n",
    "response = requests.get(api_link + \"/search/movie\", verify=False, headers = header, params=params)\n",
    "data = response.json()\n",
    "results = data.get('results')\n",
    "for result in results:\n",
    "    if result.get('title') == 'Inception':\n",
    "        id = result.get('id')\n",
    "params2 = {'api_key':api_key}\n",
    "response2 = requests.get(api_link + \"/movie/\" + str(id) + \"/similar\", verify=False, headers = header, params=params)\n",
    "data2 = response2.json()\n",
    "results2 = data2.get('results')\n",
    "for result in results2[:5]:\n",
    "    print(result.get(\"title\"))"
   ]
  },
  {
   "cell_type": "markdown",
   "id": "73a3679d",
   "metadata": {},
   "source": [
    "## TMDb 1.5"
   ]
  },
  {
   "cell_type": "code",
   "execution_count": 10,
   "id": "ba06df17",
   "metadata": {},
   "outputs": [
    {
     "name": "stderr",
     "output_type": "stream",
     "text": [
      "/Users/skumar6/opt/anaconda3/lib/python3.8/site-packages/urllib3/connectionpool.py:1013: InsecureRequestWarning: Unverified HTTPS request is being made to host 'api.themoviedb.org'. Adding certificate verification is strongly advised. See: https://urllib3.readthedocs.io/en/latest/advanced-usage.html#ssl-warnings\n",
      "  warnings.warn(\n",
      "/Users/skumar6/opt/anaconda3/lib/python3.8/site-packages/urllib3/connectionpool.py:1013: InsecureRequestWarning: Unverified HTTPS request is being made to host 'api.themoviedb.org'. Adding certificate verification is strongly advised. See: https://urllib3.readthedocs.io/en/latest/advanced-usage.html#ssl-warnings\n",
      "  warnings.warn(\n"
     ]
    },
    {
     "name": "stdout",
     "output_type": "stream",
     "text": [
      "The Shawshank Redemption - Drama, Crime, \n",
      "The Godfather - Drama, Crime, \n",
      "Schindler's List - Drama, History, War, \n",
      "Gabriel's Inferno Part II - Romance, \n",
      "The Godfather: Part II - Drama, Crime, \n",
      "Gabriel's Inferno - Romance, \n",
      "Gabriel's Inferno Part III - Romance, Comedy, \n",
      "12 Angry Men - Drama, \n",
      "The Green Mile - Fantasy, Drama, Crime, \n",
      "The Dark Knight - Drama, Action, Crime, Thriller, \n"
     ]
    }
   ],
   "source": [
    "import requests\n",
    "## Write your code here\n",
    "api_key = \"e226f4a5f5bace766952aa0d17182959\"\n",
    "api_link = \"https://api.themoviedb.org/3\"\n",
    "params = {'api_key':api_key,'language':'en-US'}\n",
    "header = {'Accept': 'application/json'}\n",
    "response = requests.get(api_link + \"/genre/movie/list\", headers = header, params=params,verify=False)\n",
    "data = response.json()\n",
    "d = {}\n",
    "for i in data['genres']:\n",
    "    d[i['id']] = i['name']\n",
    "\n",
    "params = {'api_key':api_key,'region':'US','language':'en-US'}\n",
    "header = {'Accept': 'application/json'}\n",
    "response = requests.get(api_link + \"/movie/top_rated\", headers = header, params=params,verify=False)\n",
    "data = response.json()\n",
    "\n",
    "count = 0\n",
    "for i in data['results']:\n",
    "    if count==10:\n",
    "        break\n",
    "    if i['original_language'] == 'en':\n",
    "        print(i['title'],end=' - ')\n",
    "        for j in i['genre_ids']:\n",
    "            print(d[j],end=', ')\n",
    "        print(\"\")\n",
    "        count+=1"
   ]
  },
  {
   "cell_type": "markdown",
   "id": "57ae3586",
   "metadata": {},
   "source": [
    "## TMDb 2.1"
   ]
  },
  {
   "cell_type": "code",
   "execution_count": 11,
   "id": "67d32085",
   "metadata": {},
   "outputs": [
    {
     "name": "stderr",
     "output_type": "stream",
     "text": [
      "/Users/skumar6/opt/anaconda3/lib/python3.8/site-packages/urllib3/connectionpool.py:1013: InsecureRequestWarning: Unverified HTTPS request is being made to host 'api.themoviedb.org'. Adding certificate verification is strongly advised. See: https://urllib3.readthedocs.io/en/latest/advanced-usage.html#ssl-warnings\n",
      "  warnings.warn(\n",
      "/Users/skumar6/opt/anaconda3/lib/python3.8/site-packages/urllib3/connectionpool.py:1013: InsecureRequestWarning: Unverified HTTPS request is being made to host 'api.themoviedb.org'. Adding certificate verification is strongly advised. See: https://urllib3.readthedocs.io/en/latest/advanced-usage.html#ssl-warnings\n",
      "  warnings.warn(\n"
     ]
    },
    {
     "name": "stdout",
     "output_type": "stream",
     "text": [
      "224513\n",
      "Ana de Armas - Santa Cruz del Norte, Cuba\n"
     ]
    }
   ],
   "source": [
    "import requests\n",
    "## Write your code here\n",
    "api_key = \"e226f4a5f5bace766952aa0d17182959\"\n",
    "api_link = \"https://api.themoviedb.org/3\"\n",
    "params = {'api_key':api_key,'language':'en-US'}\n",
    "header = {'Accept': 'application/json'}\n",
    "response = requests.get(api_link + \"/person/popular\", headers = header, params=params,verify=False)\n",
    "data = response.json()\n",
    "id = data['results'][0]['id']\n",
    "response = requests.get(api_link + \"/person/\"+str(id), headers = header, params=params,verify=False)\n",
    " \n",
    "print(data['results'][0]['id'])\n",
    "print(data['results'][0]['name'],end=' - ')\n",
    "print(response.json()['place_of_birth'])"
   ]
  },
  {
   "cell_type": "markdown",
   "id": "87fc6039",
   "metadata": {},
   "source": [
    "## IMDb 2.2"
   ]
  },
  {
   "cell_type": "code",
   "execution_count": 12,
   "id": "88948df3",
   "metadata": {},
   "outputs": [
    {
     "name": "stderr",
     "output_type": "stream",
     "text": [
      "/Users/skumar6/opt/anaconda3/lib/python3.8/site-packages/urllib3/connectionpool.py:1013: InsecureRequestWarning: Unverified HTTPS request is being made to host 'api.themoviedb.org'. Adding certificate verification is strongly advised. See: https://urllib3.readthedocs.io/en/latest/advanced-usage.html#ssl-warnings\n",
      "  warnings.warn(\n",
      "/Users/skumar6/opt/anaconda3/lib/python3.8/site-packages/urllib3/connectionpool.py:1013: InsecureRequestWarning: Unverified HTTPS request is being made to host 'api.themoviedb.org'. Adding certificate verification is strongly advised. See: https://urllib3.readthedocs.io/en/latest/advanced-usage.html#ssl-warnings\n",
      "  warnings.warn(\n"
     ]
    },
    {
     "name": "stdout",
     "output_type": "stream",
     "text": [
      "aliaabhatt Aliaa08\n"
     ]
    }
   ],
   "source": [
    "import requests\n",
    "## Write your code here\n",
    "api_key = \"e226f4a5f5bace766952aa0d17182959\"\n",
    "api_link = \"https://api.themoviedb.org/3\"\n",
    "params = {'api_key':api_key,'query':'Alia bhatt'}\n",
    "header = {'Accept': 'application/json'}\n",
    "response = requests.get(api_link + \"/search/person\", headers = header, params=params,verify=False)\n",
    "id = response.json()['results'][0]['id']\n",
    "response = requests.get(api_link + \"/person/\"+str(id)+\"/external_ids\", headers = header, params=params,verify=False)\n",
    "data = response.json()\n",
    "print(data['instagram_id'],end=' ')\n",
    "print(data['twitter_id'])"
   ]
  },
  {
   "cell_type": "markdown",
   "id": "1bb15569",
   "metadata": {},
   "source": [
    "## IMDb 2.3"
   ]
  },
  {
   "cell_type": "code",
   "execution_count": 14,
   "id": "da151709",
   "metadata": {},
   "outputs": [
    {
     "name": "stderr",
     "output_type": "stream",
     "text": [
      "/Users/skumar6/opt/anaconda3/lib/python3.8/site-packages/urllib3/connectionpool.py:1013: InsecureRequestWarning: Unverified HTTPS request is being made to host 'api.themoviedb.org'. Adding certificate verification is strongly advised. See: https://urllib3.readthedocs.io/en/latest/advanced-usage.html#ssl-warnings\n",
      "  warnings.warn(\n",
      "/Users/skumar6/opt/anaconda3/lib/python3.8/site-packages/urllib3/connectionpool.py:1013: InsecureRequestWarning: Unverified HTTPS request is being made to host 'api.themoviedb.org'. Adding certificate verification is strongly advised. See: https://urllib3.readthedocs.io/en/latest/advanced-usage.html#ssl-warnings\n",
      "  warnings.warn(\n"
     ]
    },
    {
     "name": "stdout",
     "output_type": "stream",
     "text": [
      "\n"
     ]
    }
   ],
   "source": [
    "import requests\n",
    "## Write your code here\n",
    "api_key = \"016a99e06e5f2bae86de7daf408c7692\"\n",
    "api_link = \"https://api.themoviedb.org/3\"\n",
    "params = {'query':\"Tom Cruise\" , 'api_key':api_key}\n",
    "header = {'Accept': 'application/json'}\n",
    "response = requests.get(api_link + \"/search/person/\", verify=False, headers = header, params = params)\n",
    "data = response.json()\n",
    "results = data.get('results')\n",
    "for result in results:\n",
    "    if result.get('name') == 'Tom Cruise':\n",
    "        id = result.get('id')\n",
    "\n",
    "params2 = {'api_key':api_key}\n",
    "response2 = requests.get(api_link + \"/person/\" + str(id) + \"/movie_credits\" , verify=False, headers = header, params = params2)\n",
    "data2 = response2.json()\n",
    "cast_result = data2.get('cast')\n",
    "for cast in cast_result:\n",
    "    if cast.get('original_title') == \"Top Gun\":\n",
    "        print(cast.get('character'))\n",
    "for cast in cast_result:\n",
    "    if cast.get('original_title') == \"Mission: Impossible - Fallout\":\n",
    "        print(cast.get('character'))\n",
    "for cast in cast_result:\n",
    "    if cast.get('original_title') == \"Minority Report\":\n",
    "        print(cast.get('character'))\n",
    "for cast in cast_result:\n",
    "    if cast.get('original_title') == \"Edge of Tomorrow\":\n",
    "        print(cast.get('character'))\n",
    "print(\"\")"
   ]
  },
  {
   "cell_type": "markdown",
   "id": "fb3efa8c",
   "metadata": {},
   "source": [
    "## IMDb 2.4"
   ]
  },
  {
   "cell_type": "code",
   "execution_count": 15,
   "id": "e4bd4e28",
   "metadata": {},
   "outputs": [
    {
     "name": "stderr",
     "output_type": "stream",
     "text": [
      "/Users/skumar6/opt/anaconda3/lib/python3.8/site-packages/urllib3/connectionpool.py:1013: InsecureRequestWarning: Unverified HTTPS request is being made to host 'api.themoviedb.org'. Adding certificate verification is strongly advised. See: https://urllib3.readthedocs.io/en/latest/advanced-usage.html#ssl-warnings\n",
      "  warnings.warn(\n",
      "/Users/skumar6/opt/anaconda3/lib/python3.8/site-packages/urllib3/connectionpool.py:1013: InsecureRequestWarning: Unverified HTTPS request is being made to host 'api.themoviedb.org'. Adding certificate verification is strongly advised. See: https://urllib3.readthedocs.io/en/latest/advanced-usage.html#ssl-warnings\n",
      "  warnings.warn(\n"
     ]
    },
    {
     "name": "stdout",
     "output_type": "stream",
     "text": [
      "Yes\n"
     ]
    }
   ],
   "source": [
    "import requests\n",
    "## Write your code here\n",
    "api_key = \"e226f4a5f5bace766952aa0d17182959\"\n",
    "api_link = \"https://api.themoviedb.org/3\"\n",
    "params = {'api_key':api_key,'query':'James McAvoy'}\n",
    "header = {'Accept': 'application/json'}\n",
    "response = requests.get(api_link + \"/search/person\", headers = header, params=params,verify=False)\n",
    "id = response.json()['results'][0]['id']\n",
    "response = requests.get(api_link + \"/person/\"+str(id)+\"/movie_credits\", headers = header, params=params,verify=False)\n",
    "data = response.json()\n",
    "films = ['Deadpool 2']\n",
    "d = {}\n",
    "found = False\n",
    "for i in data['cast']:\n",
    "    if i['title'] in films:\n",
    "        found = True\n",
    "if found == True:\n",
    "    print(\"Yes\")\n",
    "else:\n",
    "    print(\"No\")"
   ]
  },
  {
   "cell_type": "markdown",
   "id": "fcf71f0d",
   "metadata": {},
   "source": [
    "## IMDb 2.5"
   ]
  },
  {
   "cell_type": "code",
   "execution_count": 31,
   "id": "af125e56",
   "metadata": {},
   "outputs": [
    {
     "name": "stderr",
     "output_type": "stream",
     "text": [
      "/Users/skumar6/opt/anaconda3/lib/python3.8/site-packages/urllib3/connectionpool.py:1013: InsecureRequestWarning: Unverified HTTPS request is being made to host 'api.themoviedb.org'. Adding certificate verification is strongly advised. See: https://urllib3.readthedocs.io/en/latest/advanced-usage.html#ssl-warnings\n",
      "  warnings.warn(\n",
      "/Users/skumar6/opt/anaconda3/lib/python3.8/site-packages/urllib3/connectionpool.py:1013: InsecureRequestWarning: Unverified HTTPS request is being made to host 'api.themoviedb.org'. Adding certificate verification is strongly advised. See: https://urllib3.readthedocs.io/en/latest/advanced-usage.html#ssl-warnings\n",
      "  warnings.warn(\n"
     ]
    },
    {
     "name": "stdout",
     "output_type": "stream",
     "text": [
      "No\n"
     ]
    }
   ],
   "source": [
    "import requests\n",
    "## Write your code here\n",
    "api_key = \"e226f4a5f5bace766952aa0d17182959\"\n",
    "api_link = \"https://api.themoviedb.org/3\"\n",
    "params = {'api_key':api_key,'query':'James McAvoy'}\n",
    "header = {'Accept': 'application/json'}\n",
    "response = requests.get(api_link + \"/search/person\", headers = header, params=params,verify=False)\n",
    "id = response.json()['results'][0]['id']\n",
    "response = requests.get(api_link + \"/person/\"+str(id)+\"/movie_credits\", headers = header, params=params,verify=False)\n",
    "data = response.json()\n",
    "films = ['Deadpool 2']\n",
    "d = {}\n",
    "credited = False\n",
    "castarray = data['cast']\n",
    "james_info = []\n",
    "for i in castarray:\n",
    "    if i.get('title') in films:\n",
    "        james_info = i\n",
    "        break\n",
    "if 'uncredited' in james_info.get('character'):\n",
    "    print(\"No\")\n",
    "else:\n",
    "    print(\"Yes\")"
   ]
  },
  {
   "cell_type": "code",
   "execution_count": 50,
   "id": "9ed94590",
   "metadata": {},
   "outputs": [
    {
     "name": "stderr",
     "output_type": "stream",
     "text": [
      "/Users/skumar6/opt/anaconda3/lib/python3.8/site-packages/urllib3/connectionpool.py:1013: InsecureRequestWarning: Unverified HTTPS request is being made to host 'api.themoviedb.org'. Adding certificate verification is strongly advised. See: https://urllib3.readthedocs.io/en/latest/advanced-usage.html#ssl-warnings\n",
      "  warnings.warn(\n",
      "/Users/skumar6/opt/anaconda3/lib/python3.8/site-packages/urllib3/connectionpool.py:1013: InsecureRequestWarning: Unverified HTTPS request is being made to host 'api.themoviedb.org'. Adding certificate verification is strongly advised. See: https://urllib3.readthedocs.io/en/latest/advanced-usage.html#ssl-warnings\n",
      "  warnings.warn(\n"
     ]
    },
    {
     "name": "stdout",
     "output_type": "stream",
     "text": [
      "No\n"
     ]
    }
   ],
   "source": [
    "import requests\n",
    "import json\n",
    "r= requests.get('https://api.themoviedb.org/3/search/person?api_key=673d335b0fa7a15f687ff6ab3ca638f1&query=James McAvoy',verify=False)\n",
    "data=r.json()\n",
    "# print(r.url)\n",
    "ids=data['results'][0]['id']\n",
    "r2= requests.get('https://api.themoviedb.org/3/person/'+str(ids)+'/movie_credits?api_key=673d335b0fa7a15f687ff6ab3ca638f1',verify=False)\n",
    "data = r2.json()\n",
    "\n",
    "films = ['Deadpool 2']\n",
    "d = {}\n",
    "credited = False\n",
    "castarray = data['cast']\n",
    "james_info = []\n",
    "for i in castarray:\n",
    "    if i.get('title') in films:\n",
    "        james_info = i\n",
    "        break\n",
    "if 'uncredited' in james_info.get('character'):\n",
    "    print(\"No\")\n",
    "else:\n",
    "    print(\"Yes\")\n",
    "# falg = 0\n",
    "# for credit in data2['cast']:\n",
    "#     if credit['title'] == 'Deadpool 2':\n",
    "#         print('Yes')\n",
    "#         falg = 1\n",
    "# if falg != 1:\n",
    "#     print('No')\n"
   ]
  },
  {
   "cell_type": "markdown",
   "id": "23dbb274",
   "metadata": {},
   "source": [
    "## TMDb 3.1"
   ]
  },
  {
   "cell_type": "code",
   "execution_count": 32,
   "id": "15eabd95",
   "metadata": {},
   "outputs": [
    {
     "name": "stderr",
     "output_type": "stream",
     "text": [
      "/Users/skumar6/opt/anaconda3/lib/python3.8/site-packages/urllib3/connectionpool.py:1013: InsecureRequestWarning: Unverified HTTPS request is being made to host 'api.themoviedb.org'. Adding certificate verification is strongly advised. See: https://urllib3.readthedocs.io/en/latest/advanced-usage.html#ssl-warnings\n",
      "  warnings.warn(\n"
     ]
    },
    {
     "name": "stdout",
     "output_type": "stream",
     "text": [
      "Friends is an American television sitcom created by David Crane and Marta Kauffman, which aired on NBC from September 22, 1994, to May 6, 2004, lasting ten seasons. With an ensemble cast starring Jennifer Aniston, Courteney Cox, Lisa Kudrow, Matt LeBlanc, Matthew Perry and David Schwimmer, the show revolves around six friends in their 20s and 30s who live in Manhattan, New York City. The series was produced by Bright/Kauffman/Crane Productions, in association with Warner Bros. Television. The original executive producers were Kevin S. Bright, Kauffman, and Crane.\n"
     ]
    }
   ],
   "source": [
    "import requests\n",
    "## Write your code here\n",
    "api_key = \"e226f4a5f5bace766952aa0d17182959\"\n",
    "api_link = \"https://api.themoviedb.org/3\"\n",
    "params = {'api_key':api_key,'query':'FRIENDS'}\n",
    "header = {'Accept': 'application/json'}\n",
    "response = requests.get(api_link + \"/search/tv\", headers = header, params=params,verify=False)\n",
    "print(response.json()['results'][0]['overview'])"
   ]
  },
  {
   "cell_type": "markdown",
   "id": "fef7291c",
   "metadata": {},
   "source": [
    "## TMDb 3.2"
   ]
  },
  {
   "cell_type": "code",
   "execution_count": 41,
   "id": "d00ac4ae",
   "metadata": {},
   "outputs": [
    {
     "name": "stderr",
     "output_type": "stream",
     "text": [
      "/Users/skumar6/opt/anaconda3/lib/python3.8/site-packages/urllib3/connectionpool.py:1013: InsecureRequestWarning: Unverified HTTPS request is being made to host 'api.themoviedb.org'. Adding certificate verification is strongly advised. See: https://urllib3.readthedocs.io/en/latest/advanced-usage.html#ssl-warnings\n",
      "  warnings.warn(\n",
      "/Users/skumar6/opt/anaconda3/lib/python3.8/site-packages/urllib3/connectionpool.py:1013: InsecureRequestWarning: Unverified HTTPS request is being made to host 'api.themoviedb.org'. Adding certificate verification is strongly advised. See: https://urllib3.readthedocs.io/en/latest/advanced-usage.html#ssl-warnings\n",
      "  warnings.warn(\n"
     ]
    },
    {
     "name": "stdout",
     "output_type": "stream",
     "text": [
      "The Holographic Excitation - 2012-10-25\n"
     ]
    }
   ],
   "source": [
    "import requests\n",
    "## Write your code here\n",
    "api_key = \"e226f4a5f5bace766952aa0d17182959\"\n",
    "api_link = \"https://api.themoviedb.org/3\"\n",
    "params = {'api_key':api_key,'query':'The Big Bang Theory'}\n",
    "header = {'Accept': 'application/json'}\n",
    "response = requests.get(api_link + \"/search/tv\", headers = header, params=params,verify=False)\n",
    "id = response.json()['results'][0]['id']\n",
    "response = requests.get(api_link +\"/tv/\" +str(id)+ \"/season/6/episode/5\", headers = header, params=params,verify=False)\n",
    "print(response.json().get('name'),\"-\",response.json().get('air_date'))"
   ]
  },
  {
   "cell_type": "markdown",
   "id": "eabd74d9",
   "metadata": {},
   "source": [
    "## TMDb 3.3"
   ]
  },
  {
   "cell_type": "code",
   "execution_count": 43,
   "id": "ce910c24",
   "metadata": {},
   "outputs": [
    {
     "name": "stderr",
     "output_type": "stream",
     "text": [
      "/Users/skumar6/opt/anaconda3/lib/python3.8/site-packages/urllib3/connectionpool.py:1013: InsecureRequestWarning: Unverified HTTPS request is being made to host 'api.themoviedb.org'. Adding certificate verification is strongly advised. See: https://urllib3.readthedocs.io/en/latest/advanced-usage.html#ssl-warnings\n",
      "  warnings.warn(\n",
      "/Users/skumar6/opt/anaconda3/lib/python3.8/site-packages/urllib3/connectionpool.py:1013: InsecureRequestWarning: Unverified HTTPS request is being made to host 'api.themoviedb.org'. Adding certificate verification is strongly advised. See: https://urllib3.readthedocs.io/en/latest/advanced-usage.html#ssl-warnings\n",
      "  warnings.warn(\n"
     ]
    },
    {
     "name": "stdout",
     "output_type": "stream",
     "text": [
      "Remember this feeling.\n"
     ]
    },
    {
     "name": "stderr",
     "output_type": "stream",
     "text": [
      "/Users/skumar6/opt/anaconda3/lib/python3.8/site-packages/urllib3/connectionpool.py:1013: InsecureRequestWarning: Unverified HTTPS request is being made to host 'api.themoviedb.org'. Adding certificate verification is strongly advised. See: https://urllib3.readthedocs.io/en/latest/advanced-usage.html#ssl-warnings\n",
      "  warnings.warn(\n"
     ]
    },
    {
     "name": "stdout",
     "output_type": "stream",
     "text": [
      "\n"
     ]
    },
    {
     "name": "stderr",
     "output_type": "stream",
     "text": [
      "/Users/skumar6/opt/anaconda3/lib/python3.8/site-packages/urllib3/connectionpool.py:1013: InsecureRequestWarning: Unverified HTTPS request is being made to host 'api.themoviedb.org'. Adding certificate verification is strongly advised. See: https://urllib3.readthedocs.io/en/latest/advanced-usage.html#ssl-warnings\n",
      "  warnings.warn(\n"
     ]
    },
    {
     "name": "stdout",
     "output_type": "stream",
     "text": [
      "Fight the dead. Fear the living.\n"
     ]
    },
    {
     "name": "stderr",
     "output_type": "stream",
     "text": [
      "/Users/skumar6/opt/anaconda3/lib/python3.8/site-packages/urllib3/connectionpool.py:1013: InsecureRequestWarning: Unverified HTTPS request is being made to host 'api.themoviedb.org'. Adding certificate verification is strongly advised. See: https://urllib3.readthedocs.io/en/latest/advanced-usage.html#ssl-warnings\n",
      "  warnings.warn(\n"
     ]
    },
    {
     "name": "stdout",
     "output_type": "stream",
     "text": [
      "London's for the taking\n"
     ]
    },
    {
     "name": "stderr",
     "output_type": "stream",
     "text": [
      "/Users/skumar6/opt/anaconda3/lib/python3.8/site-packages/urllib3/connectionpool.py:1013: InsecureRequestWarning: Unverified HTTPS request is being made to host 'api.themoviedb.org'. Adding certificate verification is strongly advised. See: https://urllib3.readthedocs.io/en/latest/advanced-usage.html#ssl-warnings\n",
      "  warnings.warn(\n"
     ]
    },
    {
     "name": "stdout",
     "output_type": "stream",
     "text": [
      "Kneel to no one.\n"
     ]
    }
   ],
   "source": [
    "import requests\n",
    "## Write your code here\n",
    "api_key = \"e226f4a5f5bace766952aa0d17182959\"\n",
    "api_link = \"https://api.themoviedb.org/3\"\n",
    "params = {'api_key':api_key}\n",
    "header = {'Accept': 'application/json'}\n",
    "response = requests.get(api_link + \"/trending/tv/week\", verify=False,headers = header, params=params)\n",
    "ids= []\n",
    "for i in response.json()['results'][:5]:\n",
    "    ids.append(i.get(\"id\"))\n",
    "for id in ids:\n",
    "    r2 = requests.get(api_link+\"/tv/\"+str(id),verify=False,headers=header,params=params)\n",
    "    data = r2.json()\n",
    "    if data.get(\"tagline\") !=\"\":\n",
    "        print(data.get(\"tagline\"))\n",
    "    else:\n",
    "        print(\"Empty\")"
   ]
  },
  {
   "cell_type": "markdown",
   "id": "3e774864",
   "metadata": {},
   "source": [
    "## TMDb 3.4"
   ]
  },
  {
   "cell_type": "code",
   "execution_count": 44,
   "id": "017f5045",
   "metadata": {},
   "outputs": [
    {
     "name": "stderr",
     "output_type": "stream",
     "text": [
      "/Users/skumar6/opt/anaconda3/lib/python3.8/site-packages/urllib3/connectionpool.py:1013: InsecureRequestWarning: Unverified HTTPS request is being made to host 'api.themoviedb.org'. Adding certificate verification is strongly advised. See: https://urllib3.readthedocs.io/en/latest/advanced-usage.html#ssl-warnings\n",
      "  warnings.warn(\n"
     ]
    },
    {
     "name": "stdout",
     "output_type": "stream",
     "text": [
      "Bigg Boss Ultimate\n",
      "Wheel of Fortune\n",
      "Superman & Lois\n",
      "Hollyoaks\n",
      "LIVE with Kelly and Ryan\n"
     ]
    },
    {
     "name": "stderr",
     "output_type": "stream",
     "text": [
      "/Users/skumar6/opt/anaconda3/lib/python3.8/site-packages/urllib3/connectionpool.py:1013: InsecureRequestWarning: Unverified HTTPS request is being made to host 'api.themoviedb.org'. Adding certificate verification is strongly advised. See: https://urllib3.readthedocs.io/en/latest/advanced-usage.html#ssl-warnings\n",
      "  warnings.warn(\n"
     ]
    },
    {
     "name": "stdout",
     "output_type": "stream",
     "text": [
      "PBS NewsHour\n",
      "FBI\n",
      "Naomi\n",
      "This Is Us\n",
      "FBI: International\n",
      "General Hospital\n"
     ]
    },
    {
     "name": "stderr",
     "output_type": "stream",
     "text": [
      "/Users/skumar6/opt/anaconda3/lib/python3.8/site-packages/urllib3/connectionpool.py:1013: InsecureRequestWarning: Unverified HTTPS request is being made to host 'api.themoviedb.org'. Adding certificate verification is strongly advised. See: https://urllib3.readthedocs.io/en/latest/advanced-usage.html#ssl-warnings\n",
      "  warnings.warn(\n"
     ]
    },
    {
     "name": "stdout",
     "output_type": "stream",
     "text": [
      "People Puzzler\n",
      "The View\n",
      "FBI: Most Wanted\n",
      "Emmerdale\n"
     ]
    },
    {
     "name": "stderr",
     "output_type": "stream",
     "text": [
      "/Users/skumar6/opt/anaconda3/lib/python3.8/site-packages/urllib3/connectionpool.py:1013: InsecureRequestWarning: Unverified HTTPS request is being made to host 'api.themoviedb.org'. Adding certificate verification is strongly advised. See: https://urllib3.readthedocs.io/en/latest/advanced-usage.html#ssl-warnings\n",
      "  warnings.warn(\n"
     ]
    },
    {
     "name": "stdout",
     "output_type": "stream",
     "text": [
      "Good Mythical Morning\n",
      "Young Rock\n",
      "Tamron Hall\n",
      "WWE NXT\n",
      "Escape to the Country\n",
      "black-ish\n",
      "The Tonight Show Starring Jimmy Fallon\n",
      "Love\n",
      "Married at First Sight\n",
      "Richard Osman's House of Games\n",
      "EastEnders\n"
     ]
    },
    {
     "name": "stderr",
     "output_type": "stream",
     "text": [
      "/Users/skumar6/opt/anaconda3/lib/python3.8/site-packages/urllib3/connectionpool.py:1013: InsecureRequestWarning: Unverified HTTPS request is being made to host 'api.themoviedb.org'. Adding certificate verification is strongly advised. See: https://urllib3.readthedocs.io/en/latest/advanced-usage.html#ssl-warnings\n",
      "  warnings.warn(\n"
     ]
    },
    {
     "name": "stdout",
     "output_type": "stream",
     "text": [
      "Doctors\n",
      "Transplant\n",
      "Hot Bench\n",
      "Holby City\n",
      "Storage Wars\n",
      "Hudson & Rex\n",
      "Mr. Mayor\n",
      "Frontline\n",
      "Chopped\n"
     ]
    },
    {
     "name": "stderr",
     "output_type": "stream",
     "text": [
      "/Users/skumar6/opt/anaconda3/lib/python3.8/site-packages/urllib3/connectionpool.py:1013: InsecureRequestWarning: Unverified HTTPS request is being made to host 'api.themoviedb.org'. Adding certificate verification is strongly advised. See: https://urllib3.readthedocs.io/en/latest/advanced-usage.html#ssl-warnings\n",
      "  warnings.warn(\n"
     ]
    },
    {
     "name": "stdout",
     "output_type": "stream",
     "text": [
      "Ex on the Beach\n",
      "Jeopardy!\n",
      "Workin' Moms\n",
      "Pointless\n",
      "Traces\n",
      "The Curse of Oak Island\n",
      "Family Feud Canada\n"
     ]
    },
    {
     "name": "stderr",
     "output_type": "stream",
     "text": [
      "/Users/skumar6/opt/anaconda3/lib/python3.8/site-packages/urllib3/connectionpool.py:1013: InsecureRequestWarning: Unverified HTTPS request is being made to host 'api.themoviedb.org'. Adding certificate verification is strongly advised. See: https://urllib3.readthedocs.io/en/latest/advanced-usage.html#ssl-warnings\n",
      "  warnings.warn(\n"
     ]
    },
    {
     "name": "stdout",
     "output_type": "stream",
     "text": [
      "AEW Dark\n",
      "Teen Mom 2\n",
      "The Real Housewives of New Jersey\n",
      "Days of Our Lives\n",
      "The Thing About Pam\n",
      "Abbott Elementary\n",
      "This Is Going to Hurt\n",
      "The Great Celebrity Bake Off for SU2C\n",
      "House Hunters International\n",
      "Promised Land\n",
      "The Steve Wilkos Show\n",
      "The Young and the Restless\n"
     ]
    },
    {
     "name": "stderr",
     "output_type": "stream",
     "text": [
      "/Users/skumar6/opt/anaconda3/lib/python3.8/site-packages/urllib3/connectionpool.py:1013: InsecureRequestWarning: Unverified HTTPS request is being made to host 'api.themoviedb.org'. Adding certificate verification is strongly advised. See: https://urllib3.readthedocs.io/en/latest/advanced-usage.html#ssl-warnings\n",
      "  warnings.warn(\n"
     ]
    },
    {
     "name": "stdout",
     "output_type": "stream",
     "text": [
      "House Hunters\n",
      "Let's Make a Deal\n",
      "Great British Menu\n",
      "The Principles of Pleasure\n"
     ]
    },
    {
     "name": "stderr",
     "output_type": "stream",
     "text": [
      "/Users/skumar6/opt/anaconda3/lib/python3.8/site-packages/urllib3/connectionpool.py:1013: InsecureRequestWarning: Unverified HTTPS request is being made to host 'api.themoviedb.org'. Adding certificate verification is strongly advised. See: https://urllib3.readthedocs.io/en/latest/advanced-usage.html#ssl-warnings\n",
      "  warnings.warn(\n"
     ]
    },
    {
     "name": "stdout",
     "output_type": "stream",
     "text": [
      "My Beloved (?) In-law\n",
      "Home and Away\n",
      "Real Sports with Bryant Gumbel\n",
      "Beyond Oak Island\n",
      "Mel Giedroyc: Unforgivable\n",
      "The Witchfinder\n"
     ]
    },
    {
     "name": "stderr",
     "output_type": "stream",
     "text": [
      "/Users/skumar6/opt/anaconda3/lib/python3.8/site-packages/urllib3/connectionpool.py:1013: InsecureRequestWarning: Unverified HTTPS request is being made to host 'api.themoviedb.org'. Adding certificate verification is strongly advised. See: https://urllib3.readthedocs.io/en/latest/advanced-usage.html#ssl-warnings\n",
      "  warnings.warn(\n"
     ]
    },
    {
     "name": "stdout",
     "output_type": "stream",
     "text": [
      "Honest Trailers\n"
     ]
    },
    {
     "name": "stderr",
     "output_type": "stream",
     "text": [
      "/Users/skumar6/opt/anaconda3/lib/python3.8/site-packages/urllib3/connectionpool.py:1013: InsecureRequestWarning: Unverified HTTPS request is being made to host 'api.themoviedb.org'. Adding certificate verification is strongly advised. See: https://urllib3.readthedocs.io/en/latest/advanced-usage.html#ssl-warnings\n",
      "  warnings.warn(\n"
     ]
    },
    {
     "name": "stdout",
     "output_type": "stream",
     "text": [
      "The Iron Squad\n",
      "Before the Impact\n",
      "Dogs Behaving (Very) Badly\n",
      "Grand Sumo\n",
      "Phromphitsawat\n"
     ]
    },
    {
     "name": "stderr",
     "output_type": "stream",
     "text": [
      "/Users/skumar6/opt/anaconda3/lib/python3.8/site-packages/urllib3/connectionpool.py:1013: InsecureRequestWarning: Unverified HTTPS request is being made to host 'api.themoviedb.org'. Adding certificate verification is strongly advised. See: https://urllib3.readthedocs.io/en/latest/advanced-usage.html#ssl-warnings\n",
      "  warnings.warn(\n",
      "/Users/skumar6/opt/anaconda3/lib/python3.8/site-packages/urllib3/connectionpool.py:1013: InsecureRequestWarning: Unverified HTTPS request is being made to host 'api.themoviedb.org'. Adding certificate verification is strongly advised. See: https://urllib3.readthedocs.io/en/latest/advanced-usage.html#ssl-warnings\n",
      "  warnings.warn(\n"
     ]
    },
    {
     "name": "stdout",
     "output_type": "stream",
     "text": [
      "Bridge of Lies\n",
      "999: Rescue Squad\n",
      "Countdown\n"
     ]
    },
    {
     "name": "stderr",
     "output_type": "stream",
     "text": [
      "/Users/skumar6/opt/anaconda3/lib/python3.8/site-packages/urllib3/connectionpool.py:1013: InsecureRequestWarning: Unverified HTTPS request is being made to host 'api.themoviedb.org'. Adding certificate verification is strongly advised. See: https://urllib3.readthedocs.io/en/latest/advanced-usage.html#ssl-warnings\n",
      "  warnings.warn(\n"
     ]
    },
    {
     "name": "stdout",
     "output_type": "stream",
     "text": [
      "The Bold and the Beautiful\n",
      "Naked News\n",
      "The Poles Revealed\n",
      "A Dog's World with Tony Armstrong\n",
      "Survivor Croatia\n",
      "Street Outlaws: America's List\n",
      "What Just Happened\n",
      "Divorce Court\n",
      "Makkali The Love Tree (2022)\n",
      "ゲームプロジェクト番組\n"
     ]
    },
    {
     "name": "stderr",
     "output_type": "stream",
     "text": [
      "/Users/skumar6/opt/anaconda3/lib/python3.8/site-packages/urllib3/connectionpool.py:1013: InsecureRequestWarning: Unverified HTTPS request is being made to host 'api.themoviedb.org'. Adding certificate verification is strongly advised. See: https://urllib3.readthedocs.io/en/latest/advanced-usage.html#ssl-warnings\n",
      "  warnings.warn(\n"
     ]
    },
    {
     "name": "stdout",
     "output_type": "stream",
     "text": [
      "MAN WITH A MISSION 最難ミッションへの道\n",
      "モンスターロック\n"
     ]
    },
    {
     "name": "stderr",
     "output_type": "stream",
     "text": [
      "/Users/skumar6/opt/anaconda3/lib/python3.8/site-packages/urllib3/connectionpool.py:1013: InsecureRequestWarning: Unverified HTTPS request is being made to host 'api.themoviedb.org'. Adding certificate verification is strongly advised. See: https://urllib3.readthedocs.io/en/latest/advanced-usage.html#ssl-warnings\n",
      "  warnings.warn(\n",
      "/Users/skumar6/opt/anaconda3/lib/python3.8/site-packages/urllib3/connectionpool.py:1013: InsecureRequestWarning: Unverified HTTPS request is being made to host 'api.themoviedb.org'. Adding certificate verification is strongly advised. See: https://urllib3.readthedocs.io/en/latest/advanced-usage.html#ssl-warnings\n",
      "  warnings.warn(\n",
      "/Users/skumar6/opt/anaconda3/lib/python3.8/site-packages/urllib3/connectionpool.py:1013: InsecureRequestWarning: Unverified HTTPS request is being made to host 'api.themoviedb.org'. Adding certificate verification is strongly advised. See: https://urllib3.readthedocs.io/en/latest/advanced-usage.html#ssl-warnings\n",
      "  warnings.warn(\n",
      "/Users/skumar6/opt/anaconda3/lib/python3.8/site-packages/urllib3/connectionpool.py:1013: InsecureRequestWarning: Unverified HTTPS request is being made to host 'api.themoviedb.org'. Adding certificate verification is strongly advised. See: https://urllib3.readthedocs.io/en/latest/advanced-usage.html#ssl-warnings\n",
      "  warnings.warn(\n",
      "/Users/skumar6/opt/anaconda3/lib/python3.8/site-packages/urllib3/connectionpool.py:1013: InsecureRequestWarning: Unverified HTTPS request is being made to host 'api.themoviedb.org'. Adding certificate verification is strongly advised. See: https://urllib3.readthedocs.io/en/latest/advanced-usage.html#ssl-warnings\n",
      "  warnings.warn(\n",
      "/Users/skumar6/opt/anaconda3/lib/python3.8/site-packages/urllib3/connectionpool.py:1013: InsecureRequestWarning: Unverified HTTPS request is being made to host 'api.themoviedb.org'. Adding certificate verification is strongly advised. See: https://urllib3.readthedocs.io/en/latest/advanced-usage.html#ssl-warnings\n",
      "  warnings.warn(\n",
      "/Users/skumar6/opt/anaconda3/lib/python3.8/site-packages/urllib3/connectionpool.py:1013: InsecureRequestWarning: Unverified HTTPS request is being made to host 'api.themoviedb.org'. Adding certificate verification is strongly advised. See: https://urllib3.readthedocs.io/en/latest/advanced-usage.html#ssl-warnings\n",
      "  warnings.warn(\n",
      "/Users/skumar6/opt/anaconda3/lib/python3.8/site-packages/urllib3/connectionpool.py:1013: InsecureRequestWarning: Unverified HTTPS request is being made to host 'api.themoviedb.org'. Adding certificate verification is strongly advised. See: https://urllib3.readthedocs.io/en/latest/advanced-usage.html#ssl-warnings\n",
      "  warnings.warn(\n"
     ]
    }
   ],
   "source": [
    "import requests\n",
    "## Write your code here\n",
    "api_key = \"e226f4a5f5bace766952aa0d17182959\"\n",
    "api_link = \"https://api.themoviedb.org/3\"\n",
    "page_num = 1\n",
    "for page_num in range(1,24):\n",
    "    params = {'api_key':api_key,'page':page_num}\n",
    "    header = {'Accept': 'application/json'}\n",
    "    response = requests.get(api_link + \"/tv/airing_today\", headers = header, params=params,verify=False)\n",
    "    for i in response.json()['results']:\n",
    "        if i['original_language'] =='en':\n",
    "            print(i['name'])"
   ]
  },
  {
   "cell_type": "code",
   "execution_count": 3,
   "id": "9d8dfbb0",
   "metadata": {},
   "outputs": [
    {
     "name": "stderr",
     "output_type": "stream",
     "text": [
      "/Users/skumar6/opt/anaconda3/lib/python3.8/site-packages/urllib3/connectionpool.py:1013: InsecureRequestWarning: Unverified HTTPS request is being made to host 'api.themoviedb.org'. Adding certificate verification is strongly advised. See: https://urllib3.readthedocs.io/en/latest/advanced-usage.html#ssl-warnings\n",
      "  warnings.warn(\n",
      "/Users/skumar6/opt/anaconda3/lib/python3.8/site-packages/urllib3/connectionpool.py:1013: InsecureRequestWarning: Unverified HTTPS request is being made to host 'api.themoviedb.org'. Adding certificate verification is strongly advised. See: https://urllib3.readthedocs.io/en/latest/advanced-usage.html#ssl-warnings\n",
      "  warnings.warn(\n"
     ]
    },
    {
     "name": "stdout",
     "output_type": "stream",
     "text": [
      "{'page': 1, 'results': [{'backdrop_path': '/wvdWb5kTQipdMDqCclC6Y3zr4j3.jpg', 'first_air_date': '2010-10-31', 'genre_ids': [10759, 18, 10765], 'id': 1402, 'name': 'The Walking Dead', 'origin_country': ['US'], 'original_language': 'en', 'original_name': 'The Walking Dead', 'overview': \"Sheriff's deputy Rick Grimes awakens from a coma to find a post-apocalyptic world dominated by flesh-eating zombies. He sets out to find his family and encounters many other survivors along the way.\", 'popularity': 1832.419, 'poster_path': '/xf9wuDcqlUPWABZNeDKPbZUjWx0.jpg', 'vote_average': 8.1, 'vote_count': 12859}, {'backdrop_path': '/hpU2cHC9tk90hswCFEpf5AtbqoL.jpg', 'first_air_date': '1989-12-17', 'genre_ids': [10751, 16, 35], 'id': 456, 'name': 'The Simpsons', 'origin_country': ['US'], 'original_language': 'en', 'original_name': 'The Simpsons', 'overview': 'Set in Springfield, the average American town, the show focuses on the antics and everyday adventures of the Simpson family; Homer, Marge, Bart, Lisa and Maggie, as well as a virtual cast of thousands. Since the beginning, the series has been a pop culture icon, attracting hundreds of celebrities to guest star. The show has also made name for itself in its fearless satirical take on politics, media and American life in general.', 'popularity': 1088.802, 'poster_path': '/tubgEpjTUA7t0kejVMBsNBZDarZ.jpg', 'vote_average': 7.9, 'vote_count': 7754}, {'backdrop_path': '/7j4ug9B6JXVeh5HhQjjPScrdj4Z.jpg', 'first_air_date': '2017-11-02', 'genre_ids': [10759, 80, 18], 'id': 71790, 'name': 'S.W.A.T.', 'origin_country': ['US'], 'original_language': 'en', 'original_name': 'S.W.A.T.', 'overview': \"A locally born and bred S.W.A.T. lieutenant is torn between loyalty to the streets and duty to his fellow officers when he's tasked to run a highly-trained unit that's the last stop for solving crimes in Los Angeles.\", 'popularity': 871.146, 'poster_path': '/7Bttz4hEspKlpU0Me57dkHNR3nf.jpg', 'vote_average': 8.1, 'vote_count': 879}, {'backdrop_path': '/2AyySFf6MSoR7bavBvoBLck2gpo.jpg', 'first_air_date': '2017-01-26', 'genre_ids': [80, 18, 9648], 'id': 69050, 'name': 'Riverdale', 'origin_country': ['US'], 'original_language': 'en', 'original_name': 'Riverdale', 'overview': 'Set in the present, the series offers a bold, subversive take on Archie, Betty, Veronica and their friends, exploring the surreality of small-town life, the darkness and weirdness bubbling beneath Riverdale’s wholesome facade.', 'popularity': 792.134, 'poster_path': '/kzZUa05wZOEiC2UVuJA2T8VrETU.jpg', 'vote_average': 8.5, 'vote_count': 12544}, {'backdrop_path': '/ykbaElzavtSbsYG5KbG3pEpREtK.jpg', 'first_air_date': '2021-01-11', 'genre_ids': [10764], 'id': 116416, 'name': 'Big Brother 7/7', 'origin_country': ['CA'], 'original_language': 'fr', 'original_name': 'Big Brother 7/7', 'overview': '', 'popularity': 542.642, 'poster_path': '/iUYrQyv0p4UncFolsROm81VNbcB.jpg', 'vote_average': 4.3, 'vote_count': 8}, {'backdrop_path': '/xJwRWUsATroJvuJXiaMJ038Zf8l.jpg', 'first_air_date': '2020-04-24', 'genre_ids': [18, 10768, 10759], 'id': 102045, 'name': 'The Choice', 'origin_country': ['EG'], 'original_language': 'ar', 'original_name': 'الاختيار', 'overview': 'The story of Ahmed Saber Al-Mansi, commander of the 103rd Brigade, Thunderbolt, who was martyred in the ambush of the Burth Square in the Egyptian city of Rafah in 2017 while responding to a terrorist attack in the Sinai.', 'popularity': 778.214, 'poster_path': '/aDNgPtKqn5iQsCKwBK8RQBVTfQ6.jpg', 'vote_average': 8.7, 'vote_count': 7}, {'backdrop_path': '/4I2H2c6pR7Ws4I8SBAMh6PkdkKz.jpg', 'first_air_date': '2021-04-13', 'genre_ids': [18], 'id': 121745, 'name': 'Till Death', 'origin_country': ['LB'], 'original_language': 'ar', 'original_name': 'للموت', 'overview': 'Fed up with his wife’s distancing from him, Hadi goes on a business trip to Turkey where he meets a special woman, an encounter that changes his life forever.', 'popularity': 639.807, 'poster_path': '/g18jnJuhIujMYErHqeG5t8U5F9X.jpg', 'vote_average': 10, 'vote_count': 1}, {'backdrop_path': '/kSaZZO9LIHNhpGvHmmbI6D6RZw5.jpg', 'first_air_date': '2015-08-23', 'genre_ids': [10759, 18], 'id': 62286, 'name': 'Fear the Walking Dead', 'origin_country': ['US'], 'original_language': 'en', 'original_name': 'Fear the Walking Dead', 'overview': 'What did the world look like as it was transforming into the horrifying apocalypse depicted in \"The Walking Dead\"? This spin-off set in Los Angeles, following new characters as they face the beginning of the end of the world, will answer that question.', 'popularity': 308.737, 'poster_path': '/zyshFjmlDXSzfns2Qk81cfIFfPP.jpg', 'vote_average': 7.7, 'vote_count': 4070}, {'backdrop_path': '/lnEU5KKrpQNsDaxxjDHuzRRh8Zl.jpg', 'first_air_date': '2014-08-09', 'genre_ids': [18, 10765], 'id': 56570, 'name': 'Outlander', 'origin_country': ['US'], 'original_language': 'en', 'original_name': 'Outlander', 'overview': \"The story of Claire Randall, a married combat nurse from 1945 who is mysteriously swept back in time to 1743, where she is immediately thrown into an unknown world where her life is threatened. When she is forced to marry Jamie, a chivalrous and romantic young Scottish warrior, a passionate affair is ignited that tears Claire's heart between two vastly different men in two irreconcilable lives.\", 'popularity': 423.584, 'poster_path': '/oR0PM7hFDqY3kO12cLLQMKiJt8I.jpg', 'vote_average': 8.2, 'vote_count': 2036}, {'backdrop_path': '/kEzAgybqUh9TcNhSiFGgNeyelQ8.jpg', 'first_air_date': '2022-04-02', 'genre_ids': [18], 'id': 155590, 'name': 'The Trip', 'origin_country': ['EG'], 'original_language': 'ar', 'original_name': 'المشوار', 'overview': '', 'popularity': 419.262, 'poster_path': '/i7HlYaJaOOKSDWjIwq2ZkAaC8kb.jpg', 'vote_average': 0, 'vote_count': 0}, {'backdrop_path': '/dU1MqGcJJQHx3NeoDsNgfoPwoti.jpg', 'first_air_date': '2022-04-02', 'genre_ids': [18], 'id': 158595, 'name': 'الماس مكسور', 'origin_country': ['IQ'], 'original_language': 'ar', 'original_name': 'الماس مكسور', 'overview': '', 'popularity': 391.632, 'poster_path': '/jFbSHGOdHaplISrcSdAVlsdLzK2.jpg', 'vote_average': 0, 'vote_count': 0}, {'backdrop_path': '/iORnoqhHk0lRNDzRn742CesETyJ.jpg', 'first_air_date': '2022-04-02', 'genre_ids': [18], 'id': 194677, 'name': 'Suits', 'origin_country': ['EG'], 'original_language': 'ar', 'original_name': 'سوتس بالعربي', 'overview': 'The series revolves around Adam Mansour and Zain Thabet, who get to know each other early on and face difficult challenges to solve cases.', 'popularity': 384.969, 'poster_path': '/tlQSqbwWjKNgnDX3vXCXxpdbUhL.jpg', 'vote_average': 10, 'vote_count': 1}, {'backdrop_path': '/zjtcZVj62ZEYVSXUOeF3McuWqxy.jpg', 'first_air_date': '2018-10-16', 'genre_ids': [80, 18], 'id': 79744, 'name': 'The Rookie', 'origin_country': ['US'], 'original_language': 'en', 'original_name': 'The Rookie', 'overview': 'Starting over isn’t easy, especially for small-town guy John Nolan who, after a life-altering incident, is pursuing his dream of being an LAPD officer. As the force’s oldest rookie, he’s met with skepticism from some higher-ups who see him as just a walking midlife crisis.', 'popularity': 371.714, 'poster_path': '/gSGj4zhuFllpZEkHGdsBMV2BGsq.jpg', 'vote_average': 8.2, 'vote_count': 917}, {'backdrop_path': '/p0vORGLcKpDxPRw5sidiIW0tXI5.jpg', 'first_air_date': '2017-09-11', 'genre_ids': [10764], 'id': 77550, 'name': 'Love Island: Hot Flirts & True Love', 'origin_country': ['DE'], 'original_language': 'de', 'original_name': 'Love Island - Heiße Flirts & wahre Liebe', 'overview': 'On Love Island, a group of candidates called \"Islander\" live isolated from the outside world in a villa on Mallorca (Tenerife in spring 2021), under constant observation by video cameras. In order to stay in the villa, one must be linked to another \"Islander\", whether it is for love, friendship is the basis or for calculation (the couple remaining at the end receives 50,000 euros in prize money).', 'popularity': 371.456, 'poster_path': '/pikK9vQBS5Lt9ttxmYPaQ1KMVxA.jpg', 'vote_average': 9.2, 'vote_count': 6}, {'backdrop_path': '/BSNwCC2XvjNDS0UG0pkDA5Vjvp.jpg', 'first_air_date': '2022-04-02', 'genre_ids': [], 'id': 195497, 'name': \"Aziza's Choir\", 'origin_country': ['SY'], 'original_language': 'ar', 'original_name': 'جوقة عزيزة', 'overview': 'In times when French had control over Syria, the series focuses on Aziza’s that runs a successful choir and who makes a French officer falls in love with her.', 'popularity': 348.349, 'poster_path': '/c1B5AtWnOPsw7iRMB4chWxngEhA.jpg', 'vote_average': 0, 'vote_count': 0}, {'backdrop_path': '/jJRH9S3r0mp4iL0wPs4F2fvVdAg.jpg', 'first_air_date': '2022-04-02', 'genre_ids': [], 'id': 195260, 'name': 'U-Turn', 'origin_country': ['EG'], 'original_language': 'ar', 'original_name': 'يوتيرن', 'overview': 'A story about how to correct a wrong path that he went through it for a long time. It is a story about second chances.', 'popularity': 344.196, 'poster_path': '/dShMkBMsGQqWBQm52PND4OjO9NP.jpg', 'vote_average': 0, 'vote_count': 0}, {'backdrop_path': '/vaIRyBLjQOB2XnShAr0fxgFtAo3.jpg', 'first_air_date': '2022-04-02', 'genre_ids': [], 'id': 195276, 'name': 'Sweet Dreams', 'origin_country': ['EG'], 'original_language': 'ar', 'original_name': 'أحلام سعيدة', 'overview': 'A drama an comedy show discuss some common realistic issues including late marriage of girls', 'popularity': 335.822, 'poster_path': '/yaHF8PijbkJZFhA1GwCR9QXPzMP.jpg', 'vote_average': 0, 'vote_count': 0}, {'backdrop_path': None, 'first_air_date': '2019-02-17', 'genre_ids': [10763, 10768], 'id': 154490, 'name': 'From the Second Side with Guy Zohar', 'origin_country': ['IL'], 'original_language': 'he', 'original_name': 'מהצד השני עם גיא זוהר', 'overview': 'Unpacking current events with retrospective.', 'popularity': 314.479, 'poster_path': '/5qx3EXkkSYHuOAyLDyeITv9xnyy.jpg', 'vote_average': 0, 'vote_count': 0}, {'backdrop_path': None, 'first_air_date': '2020-05-24', 'genre_ids': [10763], 'id': 153466, 'name': 'משחקי הכיס', 'origin_country': ['IL'], 'original_language': 'he', 'original_name': 'משחקי הכיס', 'overview': \"Kan's daily program on economics\", 'popularity': 312.214, 'poster_path': '/jfm0SM8BEQUF57EWFOi9rF4cYB3.jpg', 'vote_average': 0, 'vote_count': 0}, {'backdrop_path': '/xW63c0g6gvz9TCB6JfgLkbCwGzF.jpg', 'first_air_date': '2022-04-02', 'genre_ids': [], 'id': 195498, 'name': 'God Bless Your Home', 'origin_country': ['EG'], 'original_language': 'ar', 'original_name': 'دايمًا عامر', 'overview': 'In a private school, a new unqualified social counselor is hired by mistake because of names similarity only.', 'popularity': 307.069, 'poster_path': '/z2ZvlT9bUzzKC7BDgTsrLFJIOhi.jpg', 'vote_average': 0, 'vote_count': 0}], 'total_pages': 11, 'total_results': 215}\n",
      "11\n",
      "The Walking Dead\n",
      "The Simpsons\n",
      "S.W.A.T.\n",
      "Riverdale\n",
      "Fear the Walking Dead\n",
      "Outlander\n",
      "The Rookie\n"
     ]
    },
    {
     "name": "stderr",
     "output_type": "stream",
     "text": [
      "/Users/skumar6/opt/anaconda3/lib/python3.8/site-packages/urllib3/connectionpool.py:1013: InsecureRequestWarning: Unverified HTTPS request is being made to host 'api.themoviedb.org'. Adding certificate verification is strongly advised. See: https://urllib3.readthedocs.io/en/latest/advanced-usage.html#ssl-warnings\n",
      "  warnings.warn(\n",
      "/Users/skumar6/opt/anaconda3/lib/python3.8/site-packages/urllib3/connectionpool.py:1013: InsecureRequestWarning: Unverified HTTPS request is being made to host 'api.themoviedb.org'. Adding certificate verification is strongly advised. See: https://urllib3.readthedocs.io/en/latest/advanced-usage.html#ssl-warnings\n",
      "  warnings.warn(\n"
     ]
    },
    {
     "name": "stdout",
     "output_type": "stream",
     "text": [
      "The Walking Dead\n",
      "The Simpsons\n",
      "S.W.A.T.\n",
      "Riverdale\n",
      "Fear the Walking Dead\n",
      "Outlander\n",
      "The Rookie\n",
      "The Walking Dead\n",
      "The Simpsons\n",
      "S.W.A.T.\n",
      "Riverdale\n",
      "Fear the Walking Dead\n",
      "Outlander\n",
      "The Rookie\n"
     ]
    },
    {
     "name": "stderr",
     "output_type": "stream",
     "text": [
      "/Users/skumar6/opt/anaconda3/lib/python3.8/site-packages/urllib3/connectionpool.py:1013: InsecureRequestWarning: Unverified HTTPS request is being made to host 'api.themoviedb.org'. Adding certificate verification is strongly advised. See: https://urllib3.readthedocs.io/en/latest/advanced-usage.html#ssl-warnings\n",
      "  warnings.warn(\n",
      "/Users/skumar6/opt/anaconda3/lib/python3.8/site-packages/urllib3/connectionpool.py:1013: InsecureRequestWarning: Unverified HTTPS request is being made to host 'api.themoviedb.org'. Adding certificate verification is strongly advised. See: https://urllib3.readthedocs.io/en/latest/advanced-usage.html#ssl-warnings\n",
      "  warnings.warn(\n"
     ]
    },
    {
     "name": "stdout",
     "output_type": "stream",
     "text": [
      "The Walking Dead\n",
      "The Simpsons\n",
      "S.W.A.T.\n",
      "Riverdale\n",
      "Fear the Walking Dead\n",
      "Outlander\n",
      "The Rookie\n",
      "The Walking Dead\n",
      "The Simpsons\n",
      "S.W.A.T.\n",
      "Riverdale\n",
      "Fear the Walking Dead\n",
      "Outlander\n",
      "The Rookie\n"
     ]
    },
    {
     "name": "stderr",
     "output_type": "stream",
     "text": [
      "/Users/skumar6/opt/anaconda3/lib/python3.8/site-packages/urllib3/connectionpool.py:1013: InsecureRequestWarning: Unverified HTTPS request is being made to host 'api.themoviedb.org'. Adding certificate verification is strongly advised. See: https://urllib3.readthedocs.io/en/latest/advanced-usage.html#ssl-warnings\n",
      "  warnings.warn(\n",
      "/Users/skumar6/opt/anaconda3/lib/python3.8/site-packages/urllib3/connectionpool.py:1013: InsecureRequestWarning: Unverified HTTPS request is being made to host 'api.themoviedb.org'. Adding certificate verification is strongly advised. See: https://urllib3.readthedocs.io/en/latest/advanced-usage.html#ssl-warnings\n",
      "  warnings.warn(\n"
     ]
    },
    {
     "name": "stdout",
     "output_type": "stream",
     "text": [
      "The Walking Dead\n",
      "The Simpsons\n",
      "S.W.A.T.\n",
      "Riverdale\n",
      "Fear the Walking Dead\n",
      "Outlander\n",
      "The Rookie\n",
      "The Walking Dead\n",
      "The Simpsons\n",
      "S.W.A.T.\n",
      "Riverdale\n",
      "Fear the Walking Dead\n",
      "Outlander\n",
      "The Rookie\n"
     ]
    },
    {
     "name": "stderr",
     "output_type": "stream",
     "text": [
      "/Users/skumar6/opt/anaconda3/lib/python3.8/site-packages/urllib3/connectionpool.py:1013: InsecureRequestWarning: Unverified HTTPS request is being made to host 'api.themoviedb.org'. Adding certificate verification is strongly advised. See: https://urllib3.readthedocs.io/en/latest/advanced-usage.html#ssl-warnings\n",
      "  warnings.warn(\n",
      "/Users/skumar6/opt/anaconda3/lib/python3.8/site-packages/urllib3/connectionpool.py:1013: InsecureRequestWarning: Unverified HTTPS request is being made to host 'api.themoviedb.org'. Adding certificate verification is strongly advised. See: https://urllib3.readthedocs.io/en/latest/advanced-usage.html#ssl-warnings\n",
      "  warnings.warn(\n"
     ]
    },
    {
     "name": "stdout",
     "output_type": "stream",
     "text": [
      "The Walking Dead\n",
      "The Simpsons\n",
      "S.W.A.T.\n",
      "Riverdale\n",
      "Fear the Walking Dead\n",
      "Outlander\n",
      "The Rookie\n",
      "The Walking Dead\n",
      "The Simpsons\n",
      "S.W.A.T.\n",
      "Riverdale\n",
      "Fear the Walking Dead\n",
      "Outlander\n",
      "The Rookie\n"
     ]
    },
    {
     "name": "stderr",
     "output_type": "stream",
     "text": [
      "/Users/skumar6/opt/anaconda3/lib/python3.8/site-packages/urllib3/connectionpool.py:1013: InsecureRequestWarning: Unverified HTTPS request is being made to host 'api.themoviedb.org'. Adding certificate verification is strongly advised. See: https://urllib3.readthedocs.io/en/latest/advanced-usage.html#ssl-warnings\n",
      "  warnings.warn(\n",
      "/Users/skumar6/opt/anaconda3/lib/python3.8/site-packages/urllib3/connectionpool.py:1013: InsecureRequestWarning: Unverified HTTPS request is being made to host 'api.themoviedb.org'. Adding certificate verification is strongly advised. See: https://urllib3.readthedocs.io/en/latest/advanced-usage.html#ssl-warnings\n",
      "  warnings.warn(\n"
     ]
    },
    {
     "name": "stdout",
     "output_type": "stream",
     "text": [
      "The Walking Dead\n",
      "The Simpsons\n",
      "S.W.A.T.\n",
      "Riverdale\n",
      "Fear the Walking Dead\n",
      "Outlander\n",
      "The Rookie\n",
      "The Walking Dead\n",
      "The Simpsons\n",
      "S.W.A.T.\n",
      "Riverdale\n",
      "Fear the Walking Dead\n",
      "Outlander\n",
      "The Rookie\n"
     ]
    }
   ],
   "source": [
    "import requests as rq\n",
    "page_num = 1\n",
    "api_key = 'e226f4a5f5bace766952aa0d17182959'\n",
    "api_link = 'https://api.themoviedb.org/3'\n",
    "header = {'Accept':'application/json'}\n",
    "params = {'api_key':api_key,'page':page_num}\n",
    "r = rq.get(api_link+'/tv/airing_today',headers = header,params = params,verify=False)\n",
    "data = r.json()\n",
    "print(data)\n",
    "res = data['results']\n",
    "page_num = data.get('total_pages')\n",
    "print(page_num)\n",
    "for i in range(1,page_num + 1):\n",
    "    params = {'language':\"en\",'api_key':api_key,'page':i}\n",
    "    r = rq.get(api_link+'/tv/airing_today',headers = header,params = params,verify=False)\n",
    "    data = r.json()\n",
    "    results = data.get('results')\n",
    "    for r in res:\n",
    "        if r['original_language'] == 'en':\n",
    "            print(r['name'])\n"
   ]
  },
  {
   "cell_type": "markdown",
   "id": "d233e68d",
   "metadata": {},
   "source": [
    "## TMDB 3.5"
   ]
  },
  {
   "cell_type": "code",
   "execution_count": 2,
   "id": "82e3e7fa",
   "metadata": {},
   "outputs": [
    {
     "name": "stderr",
     "output_type": "stream",
     "text": [
      "/Users/skumar6/opt/anaconda3/lib/python3.8/site-packages/urllib3/connectionpool.py:1013: InsecureRequestWarning: Unverified HTTPS request is being made to host 'api.themoviedb.org'. Adding certificate verification is strongly advised. See: https://urllib3.readthedocs.io/en/latest/advanced-usage.html#ssl-warnings\n",
      "  warnings.warn(\n",
      "/Users/skumar6/opt/anaconda3/lib/python3.8/site-packages/urllib3/connectionpool.py:1013: InsecureRequestWarning: Unverified HTTPS request is being made to host 'api.themoviedb.org'. Adding certificate verification is strongly advised. See: https://urllib3.readthedocs.io/en/latest/advanced-usage.html#ssl-warnings\n",
      "  warnings.warn(\n"
     ]
    },
    {
     "name": "stdout",
     "output_type": "stream",
     "text": [
      "10 5\n"
     ]
    }
   ],
   "source": [
    "import requests\n",
    "## Write your code here\n",
    "# param ={'api_key':'465eecab44c8ee8bb183fa7e2232c87b','query':'Money Heist'}\n",
    "# r = requests.get('https://api.themoviedb.org/3/search/tv',verify=False,params=param)\n",
    "# id = r.json()['results'][0]['id']\n",
    "# r = requests.get('https://api.themoviedb.org/3/tv/'+str(id)+'/credits',params=param)\n",
    "# m = 0\n",
    "# f = 0\n",
    "# for i in r.json()['cast']:\n",
    "#     if i['gender'] ==2:\n",
    "#         m+=1\n",
    "#     if i['gender'] == 1:\n",
    "#         f+=1\n",
    "# print(m,end=' ')\n",
    "# print(f)\n",
    "\n",
    "api_key = \"e226f4a5f5bace766952aa0d17182959\" \n",
    "api_link = \"https://api.themoviedb.org/3\" \n",
    "params = {'query':'Money Heist','api_key':api_key} \n",
    "header = {'Accept': 'application/json'} \n",
    "response = requests.get(api_link + '/search/tv/', verify=False,headers = header, params = params) \n",
    "data = response.json() \n",
    "result=data.get('results')\n",
    "for i in result:\n",
    "    if i.get('name')=='Money Heist':\n",
    "        id=i.get('id')    \n",
    "params1={'id':id,'api_key':api_key}\n",
    "response1 = requests.get(api_link + '/tv/' + str(id) + '/credits', verify=False,headers = header, params = params1) \n",
    "data1 = response1.json() \n",
    "cast=data1.get('cast')\n",
    "count_male=0\n",
    "count_female=0\n",
    "for c in cast:\n",
    "    if c.get('gender')==1:\n",
    "        count_female+=1\n",
    "    if c.get('gender')==2:\n",
    "        count_male+=1\n",
    "print(count_male,count_female)"
   ]
  },
  {
   "cell_type": "code",
   "execution_count": 9,
   "id": "b8a82211",
   "metadata": {},
   "outputs": [
    {
     "name": "stderr",
     "output_type": "stream",
     "text": [
      "/Users/skumar6/opt/anaconda3/lib/python3.8/site-packages/urllib3/connectionpool.py:1013: InsecureRequestWarning: Unverified HTTPS request is being made to host 'api.themoviedb.org'. Adding certificate verification is strongly advised. See: https://urllib3.readthedocs.io/en/latest/advanced-usage.html#ssl-warnings\n",
      "  warnings.warn(\n"
     ]
    },
    {
     "name": "stdout",
     "output_type": "stream",
     "text": [
      "hello 71446\n"
     ]
    },
    {
     "name": "stderr",
     "output_type": "stream",
     "text": [
      "/Users/skumar6/opt/anaconda3/lib/python3.8/site-packages/urllib3/connectionpool.py:1013: InsecureRequestWarning: Unverified HTTPS request is being made to host 'api.themoviedb.org'. Adding certificate verification is strongly advised. See: https://urllib3.readthedocs.io/en/latest/advanced-usage.html#ssl-warnings\n",
      "  warnings.warn(\n"
     ]
    },
    {
     "name": "stdout",
     "output_type": "stream",
     "text": [
      "10 5\n"
     ]
    }
   ],
   "source": [
    "import requests\n",
    "api_key = \"e226f4a5f5bace766952aa0d17182959\"\n",
    "api_link = \"https://api.themoviedb.org/3\"\n",
    "params = {'query':\"Money Heist\", 'api_key':api_key}\n",
    "header = {'Accept': 'application/json'}\n",
    "# response = requests.get(api_link + \"/search/company\", headers = header, params=params)\n",
    "response = requests.get(api_link + \"/search/tv/\", headers = header, params=params,verify=False)\n",
    "data = response.json()\n",
    "results = data.get('results')\n",
    "id=\"\"\n",
    "for result in results:\n",
    "    if result.get('name') == 'Money Heist':\n",
    "        id = result.get('id')\n",
    "        # print(result.get('id'))\n",
    "print(\"hello\",id)\n",
    "params1={'id':id,'api_key':api_key}\n",
    "response1 = requests.get(api_link + '/tv/' + str(id) + '/credits', verify=False,headers = header, params = params1) \n",
    "data1 = response1.json() \n",
    "cast=data1.get('cast')\n",
    "count_male=0\n",
    "count_female=0\n",
    "for c in cast:\n",
    "    if c.get('gender')==1:\n",
    "        count_female+=1\n",
    "    if c.get('gender')==2:\n",
    "        count_male+=1\n",
    "print(count_male,count_female)"
   ]
  }
 ],
 "metadata": {
  "kernelspec": {
   "display_name": "Python 3",
   "language": "python",
   "name": "python3"
  },
  "language_info": {
   "codemirror_mode": {
    "name": "ipython",
    "version": 3
   },
   "file_extension": ".py",
   "mimetype": "text/x-python",
   "name": "python",
   "nbconvert_exporter": "python",
   "pygments_lexer": "ipython3",
   "version": "3.8.8"
  }
 },
 "nbformat": 4,
 "nbformat_minor": 5
}
