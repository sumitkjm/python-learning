{
 "cells": [
  {
   "cell_type": "markdown",
   "id": "ae6693f0",
   "metadata": {},
   "source": [
    "## TMDb 1.1"
   ]
  },
  {
   "cell_type": "code",
   "execution_count": 5,
   "id": "4d39099e",
   "metadata": {},
   "outputs": [
    {
     "name": "stdout",
     "output_type": "stream",
     "text": [
      "534780\n"
     ]
    }
   ],
   "source": [
    "import requests\n",
    "\n",
    "param ={'api_key':'465eecab44c8ee8bb183fa7e2232c87b','query':'Andhadhun'}\n",
    "r = requests.get('https://api.themoviedb.org/3/search/movie',params=param)\n",
    "print(r.json()['results'][0]['id'])"
   ]
  },
  {
   "cell_type": "markdown",
   "id": "6861b48e",
   "metadata": {},
   "source": [
    "## TMDb 1.2"
   ]
  },
  {
   "cell_type": "code",
   "execution_count": 4,
   "id": "b302fab2",
   "metadata": {},
   "outputs": [
    {
     "name": "stderr",
     "output_type": "stream",
     "text": [
      "/Users/skumar6/opt/anaconda3/lib/python3.8/site-packages/urllib3/connectionpool.py:1013: InsecureRequestWarning: Unverified HTTPS request is being made to host 'api.themoviedb.org'. Adding certificate verification is strongly advised. See: https://urllib3.readthedocs.io/en/latest/advanced-usage.html#ssl-warnings\n",
      "  warnings.warn(\n"
     ]
    },
    {
     "name": "stdout",
     "output_type": "stream",
     "text": [
      "420\n"
     ]
    }
   ],
   "source": [
    "import requests\n",
    "## Write your code here\n",
    "param ={'api_key':'465eecab44c8ee8bb183fa7e2232c87b','query':'Marvel Studios'}\n",
    "r = requests.get('https://api.themoviedb.org/3/search/company',verify=False,params=param)\n",
    "print(r.json()['results'][0]['id'])"
   ]
  },
  {
   "cell_type": "markdown",
   "id": "39deb9b4",
   "metadata": {},
   "source": [
    "## TMDb 1.3"
   ]
  },
  {
   "cell_type": "code",
   "execution_count": 8,
   "id": "a2631ef6",
   "metadata": {},
   "outputs": [
    {
     "name": "stdout",
     "output_type": "stream",
     "text": [
      "20453\n",
      "1837 8\n"
     ]
    }
   ],
   "source": [
    "import requests\n",
    "api_key = \"e226f4a5f5bace766952aa0d17182959\"\n",
    "api_link = \"https://api.themoviedb.org/3/search/company\"\n",
    "\n",
    "param ={'api_key':'e226f4a5f5bace766952aa0d17182959','query':'3 idiots'}\n",
    "r = requests.get('https://api.themoviedb.org/3/search/movie',params=param)\n",
    "id = r.json()['results'][0]['id']\n",
    "# print(id)\n",
    "param ={'api_key':'e226f4a5f5bace766952aa0d17182959'}\n",
    "r = requests.get('https://api.themoviedb.org/3/movie/'+str(id),params=param)\n",
    "data = r.json()\n",
    "print(data['vote_count'],end=' ')\n",
    "print(int(data['vote_average']))"
   ]
  },
  {
   "cell_type": "markdown",
   "id": "221e0525",
   "metadata": {},
   "source": [
    "## TMDb 1.4"
   ]
  },
  {
   "cell_type": "code",
   "execution_count": 30,
   "id": "f4770eb1",
   "metadata": {},
   "outputs": [
    {
     "name": "stdout",
     "output_type": "stream",
     "text": [
      "846190\n",
      "Inception\n",
      "Rear Window\n",
      "The Last Samurai\n",
      "The Ninth Gate\n",
      "Silent Hill\n"
     ]
    }
   ],
   "source": [
    "import requests\n",
    "api_key = \"e226f4a5f5bace766952aa0d17182959\"\n",
    "api_link = \"https://api.themoviedb.org/3\"\n",
    "params = {'query':\"Inception\", 'api_key':api_key}\n",
    "header = {'Accept': 'application/json'}\n",
    "response = requests.get(api_link + \"/search/movie\", headers = header, params=params)\n",
    "data = response.json()\n",
    "results = data.get('results')\n",
    "for result in results:\n",
    "    if result.get('title') == 'Inception':\n",
    "        id = result.get('id')\n",
    "print(id)\n",
    "params2 = {'api_key':api_key}\n",
    "response2 = requests.get(api_link + \"/movie/\" + str(id) + \"/similar\", headers = header, params=params2)\n",
    "data2 = response2.json()\n",
    "results2 = data2.get('results')\n",
    "for result in results2[:5]:\n",
    "    print(result.get(\"title\"))"
   ]
  },
  {
   "cell_type": "code",
   "execution_count": 36,
   "id": "796e3b0b",
   "metadata": {},
   "outputs": [
    {
     "name": "stdout",
     "output_type": "stream",
     "text": [
      "Inception\n",
      "Four Weddings and a Funeral\n",
      "Top Gun\n",
      "The Sixth Sense\n",
      "From Hell\n"
     ]
    }
   ],
   "source": [
    "import requests\n",
    "api_key = \"e226f4a5f5bace766952aa0d17182959\" \n",
    "api_link = \"https://api.themoviedb.org/3\" \n",
    "params = {'query':\"Inception\", 'api_key':api_key}\n",
    "header = {'Accept': 'application/json'}\n",
    "response = requests.get(api_link + \"/search/movie\", headers = header, params=params)\n",
    "data = response.json()\n",
    "results = data.get('results')\n",
    "for result in results:\n",
    "    if result.get('title') == 'Inception':\n",
    "        id = result.get('id')\n",
    "# print(id)\n",
    "params2 = {'api_key':api_key}\n",
    "response2 = requests.get(api_link + \"/movie/\" + str(id) + \"/similar\", headers = header, params=params2)\n",
    "data2 = response2.json()\n",
    "results2 = data2.get('results')\n",
    "for result in results2[:5]:\n",
    "    print(result.get(\"title\"))\n"
   ]
  },
  {
   "cell_type": "markdown",
   "id": "73a3679d",
   "metadata": {},
   "source": [
    "## TMDb 1.5"
   ]
  },
  {
   "cell_type": "code",
   "execution_count": 10,
   "id": "ba06df17",
   "metadata": {},
   "outputs": [
    {
     "name": "stderr",
     "output_type": "stream",
     "text": [
      "/Users/skumar6/opt/anaconda3/lib/python3.8/site-packages/urllib3/connectionpool.py:1013: InsecureRequestWarning: Unverified HTTPS request is being made to host 'api.themoviedb.org'. Adding certificate verification is strongly advised. See: https://urllib3.readthedocs.io/en/latest/advanced-usage.html#ssl-warnings\n",
      "  warnings.warn(\n",
      "/Users/skumar6/opt/anaconda3/lib/python3.8/site-packages/urllib3/connectionpool.py:1013: InsecureRequestWarning: Unverified HTTPS request is being made to host 'api.themoviedb.org'. Adding certificate verification is strongly advised. See: https://urllib3.readthedocs.io/en/latest/advanced-usage.html#ssl-warnings\n",
      "  warnings.warn(\n"
     ]
    },
    {
     "name": "stdout",
     "output_type": "stream",
     "text": [
      "The Shawshank Redemption - Drama, Crime, \n",
      "The Godfather - Drama, Crime, \n",
      "Schindler's List - Drama, History, War, \n",
      "Gabriel's Inferno Part II - Romance, \n",
      "The Godfather: Part II - Drama, Crime, \n",
      "Gabriel's Inferno - Romance, \n",
      "Gabriel's Inferno Part III - Romance, Comedy, \n",
      "12 Angry Men - Drama, \n",
      "The Green Mile - Fantasy, Drama, Crime, \n",
      "The Dark Knight - Drama, Action, Crime, Thriller, \n"
     ]
    }
   ],
   "source": [
    "import requests\n",
    "## Write your code here\n",
    "api_key = \"e226f4a5f5bace766952aa0d17182959\"\n",
    "api_link = \"https://api.themoviedb.org/3\"\n",
    "params = {'api_key':api_key,'language':'en-US'}\n",
    "header = {'Accept': 'application/json'}\n",
    "response = requests.get(api_link + \"/genre/movie/list\", headers = header, params=params,verify=False)\n",
    "data = response.json()\n",
    "d = {}\n",
    "for i in data['genres']:\n",
    "    d[i['id']] = i['name']\n",
    "\n",
    "params = {'api_key':api_key,'region':'US','language':'en-US'}\n",
    "header = {'Accept': 'application/json'}\n",
    "response = requests.get(api_link + \"/movie/top_rated\", headers = header, params=params,verify=False)\n",
    "data = response.json()\n",
    "\n",
    "count = 0\n",
    "for i in data['results']:\n",
    "    if count==10:\n",
    "        break\n",
    "    if i['original_language'] == 'en':\n",
    "        print(i['title'],end=' - ')\n",
    "        for j in i['genre_ids']:\n",
    "            print(d[j],end=', ')\n",
    "        print(\"\")\n",
    "        count+=1"
   ]
  },
  {
   "cell_type": "markdown",
   "id": "57ae3586",
   "metadata": {},
   "source": [
    "## TMDb 2.1"
   ]
  },
  {
   "cell_type": "code",
   "execution_count": 1,
   "id": "67d32085",
   "metadata": {},
   "outputs": [
    {
     "name": "stderr",
     "output_type": "stream",
     "text": [
      "/Library/Frameworks/Python.framework/Versions/3.10/lib/python3.10/site-packages/urllib3/connectionpool.py:1043: InsecureRequestWarning: Unverified HTTPS request is being made to host 'api.themoviedb.org'. Adding certificate verification is strongly advised. See: https://urllib3.readthedocs.io/en/1.26.x/advanced-usage.html#ssl-warnings\n",
      "  warnings.warn(\n",
      "/Library/Frameworks/Python.framework/Versions/3.10/lib/python3.10/site-packages/urllib3/connectionpool.py:1043: InsecureRequestWarning: Unverified HTTPS request is being made to host 'api.themoviedb.org'. Adding certificate verification is strongly advised. See: https://urllib3.readthedocs.io/en/1.26.x/advanced-usage.html#ssl-warnings\n",
      "  warnings.warn(\n"
     ]
    },
    {
     "name": "stdout",
     "output_type": "stream",
     "text": [
      "1136406\n",
      "Tom Holland - Surrey, England, UK\n"
     ]
    }
   ],
   "source": [
    "import requests\n",
    "## Write your code here\n",
    "api_key = \"e226f4a5f5bace766952aa0d17182959\"\n",
    "api_link = \"https://api.themoviedb.org/3\"\n",
    "params = {'api_key':api_key,'language':'en-US'}\n",
    "header = {'Accept': 'application/json'}\n",
    "response = requests.get(api_link + \"/person/popular\", headers = header, params=params,verify=False)\n",
    "data = response.json()\n",
    "id = data['results'][0]['id']\n",
    "response = requests.get(api_link + \"/person/\"+str(id), headers = header, params=params,verify=False)\n",
    " \n",
    "print(data['results'][0]['id'])\n",
    "print(data['results'][0]['name'],end=' - ')\n",
    "print(response.json()['place_of_birth'])"
   ]
  },
  {
   "cell_type": "code",
   "execution_count": 4,
   "id": "b0774262",
   "metadata": {},
   "outputs": [
    {
     "name": "stdout",
     "output_type": "stream",
     "text": [
      "1136406\n",
      "Tom Holland - Surrey, England, UK\n"
     ]
    }
   ],
   "source": [
    "import requests\n",
    "api_key = \"e226f4a5f5bace766952aa0d17182959\"\n",
    "api_link = \"https://api.themoviedb.org/3\"\n",
    "header = {'Accept': 'application/json'}\n",
    "params = {'api_key':api_key, 'region':'US'}\n",
    "response = requests.get(api_link + \"/person/popular\", headers = header, params = params)\n",
    "data = response.json()\n",
    "results = data.get('results')[0]\n",
    "id = results['id']\n",
    "print(id)\n",
    "#params2 = {'person_id' : id,'api_key':api_key}\n",
    "response2 = requests.get(api_link + \"/person/\" + str(id), headers = header, params = params)\n",
    "data2 = response2.json()\n",
    "#print(data2)\n",
    "print(data['results'][0]['name'], \"-\", data2['place_of_birth'])"
   ]
  },
  {
   "cell_type": "markdown",
   "id": "87fc6039",
   "metadata": {},
   "source": [
    "## TMDb 2.2"
   ]
  },
  {
   "cell_type": "code",
   "execution_count": 12,
   "id": "88948df3",
   "metadata": {},
   "outputs": [
    {
     "name": "stderr",
     "output_type": "stream",
     "text": [
      "/Users/skumar6/opt/anaconda3/lib/python3.8/site-packages/urllib3/connectionpool.py:1013: InsecureRequestWarning: Unverified HTTPS request is being made to host 'api.themoviedb.org'. Adding certificate verification is strongly advised. See: https://urllib3.readthedocs.io/en/latest/advanced-usage.html#ssl-warnings\n",
      "  warnings.warn(\n",
      "/Users/skumar6/opt/anaconda3/lib/python3.8/site-packages/urllib3/connectionpool.py:1013: InsecureRequestWarning: Unverified HTTPS request is being made to host 'api.themoviedb.org'. Adding certificate verification is strongly advised. See: https://urllib3.readthedocs.io/en/latest/advanced-usage.html#ssl-warnings\n",
      "  warnings.warn(\n"
     ]
    },
    {
     "name": "stdout",
     "output_type": "stream",
     "text": [
      "aliaabhatt Aliaa08\n"
     ]
    }
   ],
   "source": [
    "import requests\n",
    "## Write your code here\n",
    "api_key = \"e226f4a5f5bace766952aa0d17182959\"\n",
    "api_link = \"https://api.themoviedb.org/3\"\n",
    "params = {'api_key':api_key,'query':'Alia bhatt'}\n",
    "header = {'Accept': 'application/json'}\n",
    "response = requests.get(api_link + \"/search/person\", headers = header, params=params,verify=False)\n",
    "id = response.json()['results'][0]['id']\n",
    "response = requests.get(api_link + \"/person/\"+str(id)+\"/external_ids\", headers = header, params=params,verify=False)\n",
    "data = response.json()\n",
    "print(data['instagram_id'],end=' ')\n",
    "print(data['twitter_id'])"
   ]
  },
  {
   "cell_type": "markdown",
   "id": "1bb15569",
   "metadata": {},
   "source": [
    "## TMDb 2.3"
   ]
  },
  {
   "cell_type": "code",
   "execution_count": 3,
   "id": "da151709",
   "metadata": {},
   "outputs": [
    {
     "name": "stdout",
     "output_type": "stream",
     "text": [
      "500\n",
      "Lt. Pete 'Maverick' Mitchell\n",
      "Ethan Hunt\n",
      "Chief John Anderton\n",
      "Maj. William \"Bill\" Cage\n",
      "\n"
     ]
    }
   ],
   "source": [
    "import requests\n",
    "## Write your code here\n",
    "api_key = \"e226f4a5f5bace766952aa0d17182959\"\n",
    "api_link = \"https://api.themoviedb.org/3\"\n",
    "params = {'query':\"Tom Cruise\" , 'api_key':api_key}\n",
    "\n",
    "header = {'Accept': 'application/json'}\n",
    "response = requests.get(api_link + \"/search/person\", headers = header, params=params)\n",
    "# print(response.json())\n",
    "id = response.json()['results'][0]['id']\n",
    "print(id)\n",
    "data = response.json()\n",
    "params2 = {'api_key':api_key}\n",
    "\n",
    "response2 = requests.get(api_link + \"/person/\"+str(id)+\"/movie_credits\", headers = header, params=params2)\n",
    "# data = response.json()\n",
    "\n",
    "data2 = response2.json()\n",
    "cast_result = data2.get('cast')\n",
    "for cast in cast_result:\n",
    "    if cast.get('original_title') == \"Top Gun\":\n",
    "        print(cast.get('character'))\n",
    "for cast in cast_result:\n",
    "    if cast.get('original_title') == \"Mission: Impossible - Fallout\":\n",
    "        print(cast.get('character'))\n",
    "for cast in cast_result:\n",
    "    if cast.get('original_title') == \"Minority Report\":\n",
    "        print(cast.get('character'))\n",
    "for cast in cast_result:\n",
    "    if cast.get('original_title') == \"Edge of Tomorrow\":\n",
    "        print(cast.get('character'))\n",
    "print(\"\")\n"
   ]
  },
  {
   "cell_type": "markdown",
   "id": "fb3efa8c",
   "metadata": {},
   "source": [
    "## IMDb 2.4"
   ]
  },
  {
   "cell_type": "code",
   "execution_count": 15,
   "id": "e4bd4e28",
   "metadata": {},
   "outputs": [
    {
     "name": "stderr",
     "output_type": "stream",
     "text": [
      "/Users/skumar6/opt/anaconda3/lib/python3.8/site-packages/urllib3/connectionpool.py:1013: InsecureRequestWarning: Unverified HTTPS request is being made to host 'api.themoviedb.org'. Adding certificate verification is strongly advised. See: https://urllib3.readthedocs.io/en/latest/advanced-usage.html#ssl-warnings\n",
      "  warnings.warn(\n",
      "/Users/skumar6/opt/anaconda3/lib/python3.8/site-packages/urllib3/connectionpool.py:1013: InsecureRequestWarning: Unverified HTTPS request is being made to host 'api.themoviedb.org'. Adding certificate verification is strongly advised. See: https://urllib3.readthedocs.io/en/latest/advanced-usage.html#ssl-warnings\n",
      "  warnings.warn(\n"
     ]
    },
    {
     "name": "stdout",
     "output_type": "stream",
     "text": [
      "Yes\n"
     ]
    }
   ],
   "source": [
    "import requests\n",
    "## Write your code here\n",
    "api_key = \"e226f4a5f5bace766952aa0d17182959\"\n",
    "api_link = \"https://api.themoviedb.org/3\"\n",
    "params = {'api_key':api_key,'query':'James McAvoy'}\n",
    "header = {'Accept': 'application/json'}\n",
    "response = requests.get(api_link + \"/search/person\", headers = header, params=params,verify=False)\n",
    "id = response.json()['results'][0]['id']\n",
    "response = requests.get(api_link + \"/person/\"+str(id)+\"/movie_credits\", headers = header, params=params,verify=False)\n",
    "data = response.json()\n",
    "films = ['Deadpool 2']\n",
    "d = {}\n",
    "found = False\n",
    "for i in data['cast']:\n",
    "    if i['title'] in films:\n",
    "        found = True\n",
    "if found == True:\n",
    "    print(\"Yes\")\n",
    "else:\n",
    "    print(\"No\")"
   ]
  },
  {
   "cell_type": "markdown",
   "id": "fcf71f0d",
   "metadata": {},
   "source": [
    "## IMDb 2.5"
   ]
  },
  {
   "cell_type": "code",
   "execution_count": 31,
   "id": "af125e56",
   "metadata": {},
   "outputs": [
    {
     "name": "stderr",
     "output_type": "stream",
     "text": [
      "/Users/skumar6/opt/anaconda3/lib/python3.8/site-packages/urllib3/connectionpool.py:1013: InsecureRequestWarning: Unverified HTTPS request is being made to host 'api.themoviedb.org'. Adding certificate verification is strongly advised. See: https://urllib3.readthedocs.io/en/latest/advanced-usage.html#ssl-warnings\n",
      "  warnings.warn(\n",
      "/Users/skumar6/opt/anaconda3/lib/python3.8/site-packages/urllib3/connectionpool.py:1013: InsecureRequestWarning: Unverified HTTPS request is being made to host 'api.themoviedb.org'. Adding certificate verification is strongly advised. See: https://urllib3.readthedocs.io/en/latest/advanced-usage.html#ssl-warnings\n",
      "  warnings.warn(\n"
     ]
    },
    {
     "name": "stdout",
     "output_type": "stream",
     "text": [
      "No\n"
     ]
    }
   ],
   "source": [
    "import requests\n",
    "## Write your code here\n",
    "api_key = \"e226f4a5f5bace766952aa0d17182959\"\n",
    "api_link = \"https://api.themoviedb.org/3\"\n",
    "params = {'api_key':api_key,'query':'James McAvoy'}\n",
    "header = {'Accept': 'application/json'}\n",
    "response = requests.get(api_link + \"/search/person\", headers = header, params=params,verify=False)\n",
    "id = response.json()['results'][0]['id']\n",
    "response = requests.get(api_link + \"/person/\"+str(id)+\"/movie_credits\", headers = header, params=params,verify=False)\n",
    "data = response.json()\n",
    "films = ['Deadpool 2']\n",
    "d = {}\n",
    "credited = False\n",
    "castarray = data['cast']\n",
    "james_info = []\n",
    "for i in castarray:\n",
    "    if i.get('title') in films:\n",
    "        james_info = i\n",
    "        break\n",
    "if 'uncredited' in james_info.get('character'):\n",
    "    print(\"No\")\n",
    "else:\n",
    "    print(\"Yes\")"
   ]
  },
  {
   "cell_type": "code",
   "execution_count": 50,
   "id": "9ed94590",
   "metadata": {},
   "outputs": [
    {
     "name": "stderr",
     "output_type": "stream",
     "text": [
      "/Users/skumar6/opt/anaconda3/lib/python3.8/site-packages/urllib3/connectionpool.py:1013: InsecureRequestWarning: Unverified HTTPS request is being made to host 'api.themoviedb.org'. Adding certificate verification is strongly advised. See: https://urllib3.readthedocs.io/en/latest/advanced-usage.html#ssl-warnings\n",
      "  warnings.warn(\n",
      "/Users/skumar6/opt/anaconda3/lib/python3.8/site-packages/urllib3/connectionpool.py:1013: InsecureRequestWarning: Unverified HTTPS request is being made to host 'api.themoviedb.org'. Adding certificate verification is strongly advised. See: https://urllib3.readthedocs.io/en/latest/advanced-usage.html#ssl-warnings\n",
      "  warnings.warn(\n"
     ]
    },
    {
     "name": "stdout",
     "output_type": "stream",
     "text": [
      "No\n"
     ]
    }
   ],
   "source": [
    "import requests\n",
    "import json\n",
    "r= requests.get('https://api.themoviedb.org/3/search/person?api_key=673d335b0fa7a15f687ff6ab3ca638f1&query=James McAvoy',verify=False)\n",
    "data=r.json()\n",
    "# print(r.url)\n",
    "ids=data['results'][0]['id']\n",
    "r2= requests.get('https://api.themoviedb.org/3/person/'+str(ids)+'/movie_credits?api_key=673d335b0fa7a15f687ff6ab3ca638f1',verify=False)\n",
    "data = r2.json()\n",
    "\n",
    "films = ['Deadpool 2']\n",
    "d = {}\n",
    "credited = False\n",
    "castarray = data['cast']\n",
    "james_info = []\n",
    "for i in castarray:\n",
    "    if i.get('title') in films:\n",
    "        james_info = i\n",
    "        break\n",
    "if 'uncredited' in james_info.get('character'):\n",
    "    print(\"No\")\n",
    "else:\n",
    "    print(\"Yes\")\n",
    "# falg = 0\n",
    "# for credit in data2['cast']:\n",
    "#     if credit['title'] == 'Deadpool 2':\n",
    "#         print('Yes')\n",
    "#         falg = 1\n",
    "# if falg != 1:\n",
    "#     print('No')\n"
   ]
  },
  {
   "cell_type": "markdown",
   "id": "23dbb274",
   "metadata": {},
   "source": [
    "## TMDb 3.1"
   ]
  },
  {
   "cell_type": "code",
   "execution_count": 32,
   "id": "15eabd95",
   "metadata": {},
   "outputs": [
    {
     "name": "stderr",
     "output_type": "stream",
     "text": [
      "/Users/skumar6/opt/anaconda3/lib/python3.8/site-packages/urllib3/connectionpool.py:1013: InsecureRequestWarning: Unverified HTTPS request is being made to host 'api.themoviedb.org'. Adding certificate verification is strongly advised. See: https://urllib3.readthedocs.io/en/latest/advanced-usage.html#ssl-warnings\n",
      "  warnings.warn(\n"
     ]
    },
    {
     "name": "stdout",
     "output_type": "stream",
     "text": [
      "Friends is an American television sitcom created by David Crane and Marta Kauffman, which aired on NBC from September 22, 1994, to May 6, 2004, lasting ten seasons. With an ensemble cast starring Jennifer Aniston, Courteney Cox, Lisa Kudrow, Matt LeBlanc, Matthew Perry and David Schwimmer, the show revolves around six friends in their 20s and 30s who live in Manhattan, New York City. The series was produced by Bright/Kauffman/Crane Productions, in association with Warner Bros. Television. The original executive producers were Kevin S. Bright, Kauffman, and Crane.\n"
     ]
    }
   ],
   "source": [
    "import requests\n",
    "## Write your code here\n",
    "api_key = \"e226f4a5f5bace766952aa0d17182959\"\n",
    "api_link = \"https://api.themoviedb.org/3\"\n",
    "params = {'api_key':api_key,'query':'FRIENDS'}\n",
    "header = {'Accept': 'application/json'}\n",
    "response = requests.get(api_link + \"/search/tv\", headers = header, params=params,verify=False)\n",
    "print(response.json()['results'][0]['overview'])"
   ]
  },
  {
   "cell_type": "markdown",
   "id": "fef7291c",
   "metadata": {},
   "source": [
    "## TMDb 3.2"
   ]
  },
  {
   "cell_type": "code",
   "execution_count": 41,
   "id": "d00ac4ae",
   "metadata": {},
   "outputs": [
    {
     "name": "stderr",
     "output_type": "stream",
     "text": [
      "/Users/skumar6/opt/anaconda3/lib/python3.8/site-packages/urllib3/connectionpool.py:1013: InsecureRequestWarning: Unverified HTTPS request is being made to host 'api.themoviedb.org'. Adding certificate verification is strongly advised. See: https://urllib3.readthedocs.io/en/latest/advanced-usage.html#ssl-warnings\n",
      "  warnings.warn(\n",
      "/Users/skumar6/opt/anaconda3/lib/python3.8/site-packages/urllib3/connectionpool.py:1013: InsecureRequestWarning: Unverified HTTPS request is being made to host 'api.themoviedb.org'. Adding certificate verification is strongly advised. See: https://urllib3.readthedocs.io/en/latest/advanced-usage.html#ssl-warnings\n",
      "  warnings.warn(\n"
     ]
    },
    {
     "name": "stdout",
     "output_type": "stream",
     "text": [
      "The Holographic Excitation - 2012-10-25\n"
     ]
    }
   ],
   "source": [
    "import requests\n",
    "## Write your code here\n",
    "api_key = \"e226f4a5f5bace766952aa0d17182959\"\n",
    "api_link = \"https://api.themoviedb.org/3\"\n",
    "params = {'api_key':api_key,'query':'The Big Bang Theory'}\n",
    "header = {'Accept': 'application/json'}\n",
    "response = requests.get(api_link + \"/search/tv\", headers = header, params=params,verify=False)\n",
    "id = response.json()['results'][0]['id']\n",
    "response = requests.get(api_link +\"/tv/\" +str(id)+ \"/season/6/episode/5\", headers = header, params=params,verify=False)\n",
    "print(response.json().get('name'),\"-\",response.json().get('air_date'))"
   ]
  },
  {
   "cell_type": "markdown",
   "id": "eabd74d9",
   "metadata": {},
   "source": [
    "## TMDb 3.3"
   ]
  },
  {
   "cell_type": "code",
   "execution_count": 43,
   "id": "ce910c24",
   "metadata": {},
   "outputs": [
    {
     "name": "stderr",
     "output_type": "stream",
     "text": [
      "/Users/skumar6/opt/anaconda3/lib/python3.8/site-packages/urllib3/connectionpool.py:1013: InsecureRequestWarning: Unverified HTTPS request is being made to host 'api.themoviedb.org'. Adding certificate verification is strongly advised. See: https://urllib3.readthedocs.io/en/latest/advanced-usage.html#ssl-warnings\n",
      "  warnings.warn(\n",
      "/Users/skumar6/opt/anaconda3/lib/python3.8/site-packages/urllib3/connectionpool.py:1013: InsecureRequestWarning: Unverified HTTPS request is being made to host 'api.themoviedb.org'. Adding certificate verification is strongly advised. See: https://urllib3.readthedocs.io/en/latest/advanced-usage.html#ssl-warnings\n",
      "  warnings.warn(\n"
     ]
    },
    {
     "name": "stdout",
     "output_type": "stream",
     "text": [
      "Remember this feeling.\n"
     ]
    },
    {
     "name": "stderr",
     "output_type": "stream",
     "text": [
      "/Users/skumar6/opt/anaconda3/lib/python3.8/site-packages/urllib3/connectionpool.py:1013: InsecureRequestWarning: Unverified HTTPS request is being made to host 'api.themoviedb.org'. Adding certificate verification is strongly advised. See: https://urllib3.readthedocs.io/en/latest/advanced-usage.html#ssl-warnings\n",
      "  warnings.warn(\n"
     ]
    },
    {
     "name": "stdout",
     "output_type": "stream",
     "text": [
      "\n"
     ]
    },
    {
     "name": "stderr",
     "output_type": "stream",
     "text": [
      "/Users/skumar6/opt/anaconda3/lib/python3.8/site-packages/urllib3/connectionpool.py:1013: InsecureRequestWarning: Unverified HTTPS request is being made to host 'api.themoviedb.org'. Adding certificate verification is strongly advised. See: https://urllib3.readthedocs.io/en/latest/advanced-usage.html#ssl-warnings\n",
      "  warnings.warn(\n"
     ]
    },
    {
     "name": "stdout",
     "output_type": "stream",
     "text": [
      "Fight the dead. Fear the living.\n"
     ]
    },
    {
     "name": "stderr",
     "output_type": "stream",
     "text": [
      "/Users/skumar6/opt/anaconda3/lib/python3.8/site-packages/urllib3/connectionpool.py:1013: InsecureRequestWarning: Unverified HTTPS request is being made to host 'api.themoviedb.org'. Adding certificate verification is strongly advised. See: https://urllib3.readthedocs.io/en/latest/advanced-usage.html#ssl-warnings\n",
      "  warnings.warn(\n"
     ]
    },
    {
     "name": "stdout",
     "output_type": "stream",
     "text": [
      "London's for the taking\n"
     ]
    },
    {
     "name": "stderr",
     "output_type": "stream",
     "text": [
      "/Users/skumar6/opt/anaconda3/lib/python3.8/site-packages/urllib3/connectionpool.py:1013: InsecureRequestWarning: Unverified HTTPS request is being made to host 'api.themoviedb.org'. Adding certificate verification is strongly advised. See: https://urllib3.readthedocs.io/en/latest/advanced-usage.html#ssl-warnings\n",
      "  warnings.warn(\n"
     ]
    },
    {
     "name": "stdout",
     "output_type": "stream",
     "text": [
      "Kneel to no one.\n"
     ]
    }
   ],
   "source": [
    "import requests\n",
    "## Write your code here\n",
    "api_key = \"e226f4a5f5bace766952aa0d17182959\"\n",
    "api_link = \"https://api.themoviedb.org/3\"\n",
    "params = {'api_key':api_key}\n",
    "header = {'Accept': 'application/json'}\n",
    "response = requests.get(api_link + \"/trending/tv/week\", verify=False,headers = header, params=params)\n",
    "ids= []\n",
    "for i in response.json()['results'][:5]:\n",
    "    ids.append(i.get(\"id\"))\n",
    "for id in ids:\n",
    "    r2 = requests.get(api_link+\"/tv/\"+str(id),verify=False,headers=header,params=params)\n",
    "    data = r2.json()\n",
    "    if data.get(\"tagline\") !=\"\":\n",
    "        print(data.get(\"tagline\"))\n",
    "    else:\n",
    "        print(\"Empty\")"
   ]
  },
  {
   "cell_type": "markdown",
   "id": "3e774864",
   "metadata": {},
   "source": [
    "## TMDb 3.4"
   ]
  },
  {
   "cell_type": "code",
   "execution_count": 31,
   "id": "017f5045",
   "metadata": {},
   "outputs": [
    {
     "name": "stdout",
     "output_type": "stream",
     "text": [
      "Halo\n",
      "Wheel of Fortune\n",
      "The Price Is Right\n",
      "Hollyoaks\n",
      "Grey's Anatomy\n",
      "The Kardashians\n",
      "LIVE with Kelly and Ryan\n",
      "Star Trek: Strange New Worlds\n",
      "Emmerdale\n",
      "PBS NewsHour\n",
      "Law & Order: Special Victims Unit\n",
      "The Steve Wilkos Show\n",
      "MasterChef Australia\n",
      "General Hospital\n",
      "Legacies\n",
      "The Rachel Maddow Show\n",
      "The Bold and the Beautiful\n",
      "Tamron Hall\n",
      "Days of Our Lives\n",
      "Rachael Ray\n",
      "The View\n",
      "Young Sheldon\n",
      "Maury\n",
      "Naked News\n",
      "Station 19\n",
      "EastEnders\n",
      "The Flight Attendant\n",
      "Law & Order\n",
      "Late Night with Seth Meyers\n",
      "Young Justice\n",
      "The Staircase\n",
      "Bull\n",
      "Jimmy Kimmel Live!\n",
      "Candy\n",
      "Question Time\n",
      "Home and Away\n",
      "Law & Order: Organized Crime\n",
      "Atlanta\n",
      "Good Mythical Morning\n",
      "The Hunt At Green Acres\n",
      "Taskmaster\n",
      "The Offer\n",
      "Big Sky\n",
      "Made For Love\n",
      "Bosch: Legacy\n",
      "Judge Jerry\n",
      "Doctors\n",
      "Eurovision Song Contest\n",
      "Hacks\n",
      "Critical Role\n",
      "VICE News Tonight\n",
      "Judge Mathis\n",
      "Top Chef\n",
      "The Late Late Show with James Corden\n",
      "Under the Banner of Heaven\n",
      "House Hunters International\n",
      "Beat Bobby Flay\n",
      "WWE Main Event\n",
      "Car S.O.S.\n",
      "WWE NXT UK\n",
      "Welcome to Flatch\n",
      "The Kids in the Hall\n",
      "Ask This Old House\n",
      "The Young and the Restless\n",
      "Siesta Key\n",
      "Ex on the Beach\n",
      "This Old House\n",
      "MasterChef Junior\n",
      "Desus & Mero\n",
      "Girls5eva\n",
      "Below Deck Down Under\n",
      "United States of Al\n",
      "Celebrity Juice\n",
      "Savage Beauty\n",
      "Jeopardy!\n",
      "Hot Bench\n",
      "The Kids in the Hall\n",
      "It's Pony\n",
      "The Ready Room\n",
      "Divorce Court\n",
      "Grand Designs Australia\n",
      "Paranormal Caught on Camera\n",
      "The Garcias\n",
      "How We Roll\n",
      "Rob & Romesh Vs\n",
      "Chivalry\n",
      "Japanology Plus\n",
      "A League of Their Own Road Trip: Dingle To Dover\n",
      "Dimension 20's Adventuring Party\n",
      "Marriage Boot Camp: Reality Stars\n",
      "Art That Made Us\n",
      "Secrets of the London Underground\n",
      "Gordon Ramsay's Future Food Stars\n",
      "The Art of Emotion\n",
      "Moonshiners: American Spirit\n",
      "Big Brother Australia\n",
      "Primal Survivor: Escape the Amazon\n",
      "On the Road with Chatham Rabbits\n",
      "We Hunt Together\n",
      "Impact Wrestling\n",
      "When You Be Me\n",
      "Dr. Phil\n",
      "First Lady\n",
      "Pinoy Big Brother\n",
      "Raroeng Chon\n",
      "Clik Clak Clok\n",
      "スペトミ！～ピエール瀧とお散步編～\n",
      "Britain's Top Takeaways\n"
     ]
    }
   ],
   "source": [
    "import requests\n",
    "## Write your code here\n",
    "api_key = \"e226f4a5f5bace766952aa0d17182959\"\n",
    "api_link = \"https://api.themoviedb.org/3\"\n",
    "page_num = 1\n",
    "for page_num in range(1,24):\n",
    "    params = {'api_key':api_key,'page':page_num}\n",
    "    header = {'Accept': 'application/json'}\n",
    "    response = requests.get(api_link + \"/tv/airing_today\", headers = header, params=params)\n",
    "    for i in response.json()['results']:\n",
    "        if i['original_language'] =='en':\n",
    "            print(i['name'])"
   ]
  },
  {
   "cell_type": "code",
   "execution_count": 33,
   "id": "9a894876",
   "metadata": {},
   "outputs": [
    {
     "name": "stdout",
     "output_type": "stream",
     "text": [
      "Halo\n",
      "Wheel of Fortune\n",
      "The Price Is Right\n",
      "Hollyoaks\n",
      "Grey's Anatomy\n",
      "The Kardashians\n",
      "LIVE with Kelly and Ryan\n",
      "Star Trek: Strange New Worlds\n",
      "Emmerdale\n",
      "PBS NewsHour\n",
      "Law & Order: Special Victims Unit\n",
      "The Steve Wilkos Show\n",
      "MasterChef Australia\n",
      "General Hospital\n",
      "Legacies\n",
      "The Rachel Maddow Show\n",
      "The Bold and the Beautiful\n",
      "Tamron Hall\n",
      "Days of Our Lives\n",
      "Rachael Ray\n",
      "The View\n",
      "Young Sheldon\n",
      "Maury\n",
      "Naked News\n",
      "Station 19\n",
      "EastEnders\n",
      "The Flight Attendant\n",
      "Law & Order\n",
      "Late Night with Seth Meyers\n",
      "Young Justice\n",
      "The Staircase\n",
      "Bull\n",
      "Big Sky\n",
      "Jimmy Kimmel Live!\n",
      "Candy\n",
      "Question Time\n",
      "Home and Away\n",
      "Law & Order: Organized Crime\n",
      "Atlanta\n",
      "Good Mythical Morning\n",
      "The Hunt At Green Acres\n",
      "Taskmaster\n",
      "The Offer\n",
      "Made For Love\n",
      "Bosch: Legacy\n",
      "Judge Jerry\n",
      "Doctors\n",
      "Eurovision Song Contest\n",
      "Hacks\n",
      "Critical Role\n",
      "VICE News Tonight\n",
      "Judge Mathis\n",
      "Top Chef\n",
      "The Late Late Show with James Corden\n",
      "Under the Banner of Heaven\n",
      "House Hunters International\n",
      "Beat Bobby Flay\n",
      "WWE Main Event\n",
      "Car S.O.S.\n",
      "WWE NXT UK\n",
      "Welcome to Flatch\n",
      "The Kids in the Hall\n",
      "Ask This Old House\n",
      "The Young and the Restless\n",
      "Siesta Key\n",
      "Ex on the Beach\n",
      "This Old House\n",
      "MasterChef Junior\n",
      "Desus & Mero\n",
      "Girls5eva\n",
      "Below Deck Down Under\n",
      "United States of Al\n",
      "Celebrity Juice\n",
      "Savage Beauty\n",
      "Jeopardy!\n",
      "Hot Bench\n",
      "The Kids in the Hall\n",
      "It's Pony\n",
      "The Ready Room\n",
      "Divorce Court\n",
      "Grand Designs Australia\n",
      "Paranormal Caught on Camera\n",
      "The Garcias\n",
      "How We Roll\n",
      "Rob & Romesh Vs\n",
      "Chivalry\n",
      "Japanology Plus\n",
      "A League of Their Own Road Trip: Dingle To Dover\n",
      "Dimension 20's Adventuring Party\n",
      "Marriage Boot Camp: Reality Stars\n",
      "Art That Made Us\n",
      "Secrets of the London Underground\n",
      "Gordon Ramsay's Future Food Stars\n",
      "The Art of Emotion\n",
      "Moonshiners: American Spirit\n",
      "Big Brother Australia\n",
      "Primal Survivor: Escape the Amazon\n",
      "On the Road with Chatham Rabbits\n",
      "We Hunt Together\n",
      "Impact Wrestling\n",
      "When You Be Me\n",
      "Dr. Phil\n",
      "First Lady\n",
      "Pinoy Big Brother\n",
      "Raroeng Chon\n",
      "Clik Clak Clok\n",
      "スペトミ！～ピエール瀧とお散步編～\n",
      "Britain's Top Takeaways\n"
     ]
    }
   ],
   "source": [
    "import requests\n",
    "api_key=\"20562f65d19979f15925c764a2871ccc\"\n",
    "api_link=\"https://api.themoviedb.org/3\"\n",
    "# params={\"api_key\":api_key}\n",
    "# c=requests.get(api_link+\"tv/on_the_air\",params=params)\n",
    "# data=c.json()\n",
    "# k=data[\"results\"]\n",
    "page_num = 1\n",
    "for page_num in range(1,24):\n",
    "    params = {'api_key':api_key,'page':page_num}\n",
    "    header = {'Accept': 'application/json'}\n",
    "    response = requests.get(api_link + \"/tv/airing_today\", headers = header, params=params)\n",
    "    for i in response.json()['results']:\n",
    "        if i['original_language'] =='en':\n",
    "            print(i['name'])"
   ]
  },
  {
   "cell_type": "code",
   "execution_count": 35,
   "id": "9d8dfbb0",
   "metadata": {},
   "outputs": [
    {
     "name": "stdout",
     "output_type": "stream",
     "text": [
      "15\n",
      "Halo\n",
      "Wheel of Fortune\n",
      "The Price Is Right\n",
      "Hollyoaks\n",
      "Grey's Anatomy\n",
      "The Kardashians\n",
      "LIVE with Kelly and Ryan\n",
      "Star Trek: Strange New Worlds\n",
      "Halo\n",
      "Wheel of Fortune\n",
      "The Price Is Right\n",
      "Hollyoaks\n",
      "Grey's Anatomy\n",
      "The Kardashians\n",
      "LIVE with Kelly and Ryan\n",
      "Star Trek: Strange New Worlds\n",
      "Halo\n",
      "Wheel of Fortune\n",
      "The Price Is Right\n",
      "Hollyoaks\n",
      "Grey's Anatomy\n",
      "The Kardashians\n",
      "LIVE with Kelly and Ryan\n",
      "Star Trek: Strange New Worlds\n",
      "Halo\n",
      "Wheel of Fortune\n",
      "The Price Is Right\n",
      "Hollyoaks\n",
      "Grey's Anatomy\n",
      "The Kardashians\n",
      "LIVE with Kelly and Ryan\n",
      "Star Trek: Strange New Worlds\n",
      "Halo\n",
      "Wheel of Fortune\n",
      "The Price Is Right\n",
      "Hollyoaks\n",
      "Grey's Anatomy\n",
      "The Kardashians\n",
      "LIVE with Kelly and Ryan\n",
      "Star Trek: Strange New Worlds\n",
      "Halo\n",
      "Wheel of Fortune\n",
      "The Price Is Right\n",
      "Hollyoaks\n",
      "Grey's Anatomy\n",
      "The Kardashians\n",
      "LIVE with Kelly and Ryan\n",
      "Star Trek: Strange New Worlds\n",
      "Halo\n",
      "Wheel of Fortune\n",
      "The Price Is Right\n",
      "Hollyoaks\n",
      "Grey's Anatomy\n",
      "The Kardashians\n",
      "LIVE with Kelly and Ryan\n",
      "Star Trek: Strange New Worlds\n",
      "Halo\n",
      "Wheel of Fortune\n",
      "The Price Is Right\n",
      "Hollyoaks\n",
      "Grey's Anatomy\n",
      "The Kardashians\n",
      "LIVE with Kelly and Ryan\n",
      "Star Trek: Strange New Worlds\n",
      "Halo\n",
      "Wheel of Fortune\n",
      "The Price Is Right\n",
      "Hollyoaks\n",
      "Grey's Anatomy\n",
      "The Kardashians\n",
      "LIVE with Kelly and Ryan\n",
      "Star Trek: Strange New Worlds\n",
      "Halo\n",
      "Wheel of Fortune\n",
      "The Price Is Right\n",
      "Hollyoaks\n",
      "Grey's Anatomy\n",
      "The Kardashians\n",
      "LIVE with Kelly and Ryan\n",
      "Star Trek: Strange New Worlds\n",
      "Halo\n",
      "Wheel of Fortune\n",
      "The Price Is Right\n",
      "Hollyoaks\n",
      "Grey's Anatomy\n",
      "The Kardashians\n",
      "LIVE with Kelly and Ryan\n",
      "Star Trek: Strange New Worlds\n",
      "Halo\n",
      "Wheel of Fortune\n",
      "The Price Is Right\n",
      "Hollyoaks\n",
      "Grey's Anatomy\n",
      "The Kardashians\n",
      "LIVE with Kelly and Ryan\n",
      "Star Trek: Strange New Worlds\n",
      "Halo\n",
      "Wheel of Fortune\n",
      "The Price Is Right\n",
      "Hollyoaks\n",
      "Grey's Anatomy\n",
      "The Kardashians\n",
      "LIVE with Kelly and Ryan\n",
      "Star Trek: Strange New Worlds\n",
      "Halo\n",
      "Wheel of Fortune\n",
      "The Price Is Right\n",
      "Hollyoaks\n",
      "Grey's Anatomy\n",
      "The Kardashians\n",
      "LIVE with Kelly and Ryan\n",
      "Star Trek: Strange New Worlds\n",
      "Halo\n",
      "Wheel of Fortune\n",
      "The Price Is Right\n",
      "Hollyoaks\n",
      "Grey's Anatomy\n",
      "The Kardashians\n",
      "LIVE with Kelly and Ryan\n",
      "Star Trek: Strange New Worlds\n"
     ]
    }
   ],
   "source": [
    "import requests as rq\n",
    "page_num = 1\n",
    "api_key = 'e226f4a5f5bace766952aa0d17182959'\n",
    "api_link = 'https://api.themoviedb.org/3'\n",
    "header = {'Accept':'application/json'}\n",
    "params = {'language':'en','api_key':api_key}\n",
    "r = rq.get(api_link+'/tv/airing_today',headers = header,params = params)\n",
    "data = r.json()\n",
    "# print(data)\n",
    "res = data['results']\n",
    "page_num = data.get('total_pages')\n",
    "# print(page_num)\n",
    "for i in range(1,page_num + 1):\n",
    "    params = {'language':\"en\",'api_key':api_key,'page':i}\n",
    "    r = rq.get(api_link+'/tv/airing_today',headers = header,params = params)\n",
    "    data = r.json()\n",
    "    results = data.get('results')\n",
    "    for r in res:\n",
    "        if r['original_language'] == 'en':\n",
    "            print(r['name'])\n"
   ]
  },
  {
   "cell_type": "markdown",
   "id": "d233e68d",
   "metadata": {},
   "source": [
    "## TMDB 3.5"
   ]
  },
  {
   "cell_type": "code",
   "execution_count": 2,
   "id": "82e3e7fa",
   "metadata": {},
   "outputs": [
    {
     "name": "stderr",
     "output_type": "stream",
     "text": [
      "/Users/skumar6/opt/anaconda3/lib/python3.8/site-packages/urllib3/connectionpool.py:1013: InsecureRequestWarning: Unverified HTTPS request is being made to host 'api.themoviedb.org'. Adding certificate verification is strongly advised. See: https://urllib3.readthedocs.io/en/latest/advanced-usage.html#ssl-warnings\n",
      "  warnings.warn(\n",
      "/Users/skumar6/opt/anaconda3/lib/python3.8/site-packages/urllib3/connectionpool.py:1013: InsecureRequestWarning: Unverified HTTPS request is being made to host 'api.themoviedb.org'. Adding certificate verification is strongly advised. See: https://urllib3.readthedocs.io/en/latest/advanced-usage.html#ssl-warnings\n",
      "  warnings.warn(\n"
     ]
    },
    {
     "name": "stdout",
     "output_type": "stream",
     "text": [
      "10 5\n"
     ]
    }
   ],
   "source": [
    "import requests\n",
    "## Write your code here\n",
    "# param ={'api_key':'465eecab44c8ee8bb183fa7e2232c87b','query':'Money Heist'}\n",
    "# r = requests.get('https://api.themoviedb.org/3/search/tv',verify=False,params=param)\n",
    "# id = r.json()['results'][0]['id']\n",
    "# r = requests.get('https://api.themoviedb.org/3/tv/'+str(id)+'/credits',params=param)\n",
    "# m = 0\n",
    "# f = 0\n",
    "# for i in r.json()['cast']:\n",
    "#     if i['gender'] ==2:\n",
    "#         m+=1\n",
    "#     if i['gender'] == 1:\n",
    "#         f+=1\n",
    "# print(m,end=' ')\n",
    "# print(f)\n",
    "\n",
    "api_key = \"e226f4a5f5bace766952aa0d17182959\" \n",
    "api_link = \"https://api.themoviedb.org/3\" \n",
    "params = {'query':'Money Heist','api_key':api_key} \n",
    "header = {'Accept': 'application/json'} \n",
    "response = requests.get(api_link + '/search/tv/', verify=False,headers = header, params = params) \n",
    "data = response.json() \n",
    "result=data.get('results')\n",
    "for i in result:\n",
    "    if i.get('name')=='Money Heist':\n",
    "        id=i.get('id')    \n",
    "params1={'id':id,'api_key':api_key}\n",
    "response1 = requests.get(api_link + '/tv/' + str(id) + '/credits', verify=False,headers = header, params = params1) \n",
    "data1 = response1.json() \n",
    "cast=data1.get('cast')\n",
    "count_male=0\n",
    "count_female=0\n",
    "for c in cast:\n",
    "    if c.get('gender')==1:\n",
    "        count_female+=1\n",
    "    if c.get('gender')==2:\n",
    "        count_male+=1\n",
    "print(count_male,count_female)"
   ]
  },
  {
   "cell_type": "code",
   "execution_count": 9,
   "id": "b8a82211",
   "metadata": {},
   "outputs": [
    {
     "name": "stderr",
     "output_type": "stream",
     "text": [
      "/Users/skumar6/opt/anaconda3/lib/python3.8/site-packages/urllib3/connectionpool.py:1013: InsecureRequestWarning: Unverified HTTPS request is being made to host 'api.themoviedb.org'. Adding certificate verification is strongly advised. See: https://urllib3.readthedocs.io/en/latest/advanced-usage.html#ssl-warnings\n",
      "  warnings.warn(\n"
     ]
    },
    {
     "name": "stdout",
     "output_type": "stream",
     "text": [
      "hello 71446\n"
     ]
    },
    {
     "name": "stderr",
     "output_type": "stream",
     "text": [
      "/Users/skumar6/opt/anaconda3/lib/python3.8/site-packages/urllib3/connectionpool.py:1013: InsecureRequestWarning: Unverified HTTPS request is being made to host 'api.themoviedb.org'. Adding certificate verification is strongly advised. See: https://urllib3.readthedocs.io/en/latest/advanced-usage.html#ssl-warnings\n",
      "  warnings.warn(\n"
     ]
    },
    {
     "name": "stdout",
     "output_type": "stream",
     "text": [
      "10 5\n"
     ]
    }
   ],
   "source": [
    "import requests\n",
    "api_key = \"e226f4a5f5bace766952aa0d17182959\"\n",
    "api_link = \"https://api.themoviedb.org/3\"\n",
    "params = {'query':\"Money Heist\", 'api_key':api_key}\n",
    "header = {'Accept': 'application/json'}\n",
    "# response = requests.get(api_link + \"/search/company\", headers = header, params=params)\n",
    "response = requests.get(api_link + \"/search/tv/\", headers = header, params=params,verify=False)\n",
    "data = response.json()\n",
    "results = data.get('results')\n",
    "id=\"\"\n",
    "for result in results:\n",
    "    if result.get('name') == 'Money Heist':\n",
    "        id = result.get('id')\n",
    "        # print(result.get('id'))\n",
    "print(\"hello\",id)\n",
    "params1={'id':id,'api_key':api_key}\n",
    "response1 = requests.get(api_link + '/tv/' + str(id) + '/credits', verify=False,headers = header, params = params1) \n",
    "data1 = response1.json() \n",
    "cast=data1.get('cast')\n",
    "count_male=0\n",
    "count_female=0\n",
    "for c in cast:\n",
    "    if c.get('gender')==1:\n",
    "        count_female+=1\n",
    "    if c.get('gender')==2:\n",
    "        count_male+=1\n",
    "print(count_male,count_female)"
   ]
  }
 ],
 "metadata": {
  "kernelspec": {
   "display_name": "Python 3 (ipykernel)",
   "language": "python",
   "name": "python3"
  },
  "language_info": {
   "codemirror_mode": {
    "name": "ipython",
    "version": 3
   },
   "file_extension": ".py",
   "mimetype": "text/x-python",
   "name": "python",
   "nbconvert_exporter": "python",
   "pygments_lexer": "ipython3",
   "version": "3.10.4"
  }
 },
 "nbformat": 4,
 "nbformat_minor": 5
}
