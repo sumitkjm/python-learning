{
 "cells": [
  {
   "cell_type": "markdown",
   "id": "1e4a3b49",
   "metadata": {},
   "source": [
    "# Lecture 22 : Statistics"
   ]
  },
  {
   "cell_type": "markdown",
   "id": "8883b0b2",
   "metadata": {},
   "source": [
    "## No. of Drivers"
   ]
  },
  {
   "cell_type": "code",
   "execution_count": 1,
   "id": "0199a389",
   "metadata": {},
   "outputs": [],
   "source": [
    "# Ans - 3"
   ]
  },
  {
   "cell_type": "markdown",
   "id": "9dba63d2",
   "metadata": {},
   "source": [
    "# Lecture 23 : Descriptive Statistics"
   ]
  },
  {
   "cell_type": "markdown",
   "id": "8c6ed588",
   "metadata": {},
   "source": [
    "## Median of numbers\n",
    "\n",
    "##### What is the median of the following numbers ?\n",
    "##### 1, 2, 10, 6, 4, 4, 6, 3, 1, 41, 2, 10, 6, 4, 4, 6, 3, 1, 4\n"
   ]
  },
  {
   "cell_type": "code",
   "execution_count": 2,
   "id": "5eec1793",
   "metadata": {},
   "outputs": [],
   "source": [
    "# Ans - 4"
   ]
  },
  {
   "cell_type": "markdown",
   "id": "0adf0d33",
   "metadata": {},
   "source": [
    "## Mode of data\n",
    "##### In statistics out of 100, marks of 21 students in final exams are as 90, 95, 95, 94, 90, 85, 84, 83, 85, 81, 92, 93, 82, 78, 79, 81, 80, 82, 85, 76, 85 then mode of data is\n"
   ]
  },
  {
   "cell_type": "code",
   "execution_count": 3,
   "id": "eff09fb8",
   "metadata": {},
   "outputs": [],
   "source": [
    "# Ans - 85"
   ]
  },
  {
   "cell_type": "markdown",
   "id": "c13fadeb",
   "metadata": {},
   "source": [
    "## Mean and Mode\n",
    "##### What is the mode and the mean for the following set of numbers?{4,9,8,2,16,4,4,8,9,6}"
   ]
  },
  {
   "cell_type": "code",
   "execution_count": 4,
   "id": "f75ab909",
   "metadata": {},
   "outputs": [],
   "source": [
    "# Mean 7 and mode 4"
   ]
  },
  {
   "cell_type": "markdown",
   "id": "327b6c27",
   "metadata": {},
   "source": [
    "## Mean, Median or Mode\n",
    "##### Which of the following measures of central tendency will always change if a single value in the data changes?\n"
   ]
  },
  {
   "cell_type": "code",
   "execution_count": 5,
   "id": "1175ca40",
   "metadata": {},
   "outputs": [],
   "source": [
    "# Ans - Mean\n",
    "\n",
    "# Solution Description\n",
    "# The mean of the dataset would always change if we change any value of the data set. \n",
    "# Since we are summing up all the values together to get it, \n",
    "# every value of the data set contributes to its value. \n",
    "# Median and mode may or may not change with altering a single value in the dataset."
   ]
  },
  {
   "cell_type": "markdown",
   "id": "b4c13cfa",
   "metadata": {},
   "source": [
    "## What is Range ?\n",
    "##### Consider the following data set -\n",
    "##### 14, 23, 9, 12, 21, 18, \n",
    "##### What is the range?\n"
   ]
  },
  {
   "cell_type": "code",
   "execution_count": 6,
   "id": "53583659",
   "metadata": {},
   "outputs": [],
   "source": [
    "# Ans = 23 - 9 = 14"
   ]
  },
  {
   "cell_type": "markdown",
   "id": "bde47bb4",
   "metadata": {},
   "source": [
    "## Find Variance\n",
    "##### Consider the following data set :\n",
    "##### 14, 23, 9, 12, 21, 18, \n",
    "##### What is the variance for population."
   ]
  },
  {
   "cell_type": "code",
   "execution_count": 9,
   "id": "0567cb6b",
   "metadata": {},
   "outputs": [],
   "source": [
    "# Ans 24.7\n",
    "# check this link for formula\n",
    "## https://www.calculatorsoup.com/calculators/statistics/variance-calculator.php"
   ]
  },
  {
   "cell_type": "markdown",
   "id": "77554abf",
   "metadata": {},
   "source": [
    "## Standard Deviation\n",
    "##### Consider the following data set:\n",
    "##### 14, 23, 9, 12, 21, 18, \n",
    "##### What is the standard deviation (for sample) ?"
   ]
  },
  {
   "cell_type": "code",
   "execution_count": 8,
   "id": "81cce2b3",
   "metadata": {},
   "outputs": [],
   "source": [
    "# Ans 5.40\n",
    "# check this link for formula\n",
    "## https://www.calculatorsoup.com/calculators/statistics/variance-calculator.php"
   ]
  },
  {
   "cell_type": "markdown",
   "id": "5c74b9e5",
   "metadata": {},
   "source": [
    "## 75th Percentile"
   ]
  },
  {
   "cell_type": "code",
   "execution_count": 11,
   "id": "79a87dca",
   "metadata": {},
   "outputs": [],
   "source": [
    "# For the data set below, which value is in the 75th percentile ?\n",
    "# {1, 3, 3, 4, 6, 7, 7, 7, 8, 9, 9, 10, 12, 15, 16, 17}\n",
    "# Ans - 10\n",
    "# Solution Description\n",
    "# We want to find the data value for which 75% of the data set is less than or equal to number. \n",
    "# Note that there are a total of 16 values in the set; thus, 75% of the data set is 12 values. Because the data set is ordered, we need simply find the 12th data value; then, 75% (12 out of 16 values) of the data set will be less than or equal to this value. The number 10 is the 75th percentile: 75% of the values in the set are less than or equal to 10.\n"
   ]
  },
  {
   "cell_type": "markdown",
   "id": "46df052f",
   "metadata": {},
   "source": [
    "## 50th Percentile"
   ]
  },
  {
   "cell_type": "code",
   "execution_count": 10,
   "id": "9175d6fe",
   "metadata": {},
   "outputs": [],
   "source": [
    "# Which of the following data values is the 50th percentile ?\n",
    "# {1.52, 5.36, 6.79, 5.21, 0.28, 6.36, 8.47, 5.52, 6.26, 5.97}\n",
    "# Ans - 5.52"
   ]
  },
  {
   "cell_type": "markdown",
   "id": "08b47189",
   "metadata": {},
   "source": [
    "## 3rd Quartile"
   ]
  },
  {
   "cell_type": "code",
   "execution_count": null,
   "id": "b94d6078",
   "metadata": {},
   "outputs": [],
   "source": [
    "# {20, 40, 50, 65, 70, 75, 80, 100}\n",
    "\n",
    "# Ans - 77.5\n",
    "\n",
    "# Explaination\n",
    "# \n"
   ]
  }
 ],
 "metadata": {
  "kernelspec": {
   "display_name": "Python 3",
   "language": "python",
   "name": "python3"
  },
  "language_info": {
   "codemirror_mode": {
    "name": "ipython",
    "version": 3
   },
   "file_extension": ".py",
   "mimetype": "text/x-python",
   "name": "python",
   "nbconvert_exporter": "python",
   "pygments_lexer": "ipython3",
   "version": "3.8.8"
  }
 },
 "nbformat": 4,
 "nbformat_minor": 5
}
