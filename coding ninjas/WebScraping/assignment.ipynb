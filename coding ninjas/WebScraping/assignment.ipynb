{
 "cells": [
  {
   "cell_type": "code",
   "execution_count": 1,
   "id": "f189bd90",
   "metadata": {},
   "outputs": [],
   "source": [
    "from bs4 import BeautifulSoup\n",
    "import requests\n"
   ]
  },
  {
   "cell_type": "code",
   "execution_count": 88,
   "id": "70f9200d",
   "metadata": {},
   "outputs": [
    {
     "name": "stderr",
     "output_type": "stream",
     "text": [
      "/Users/skumar6/opt/anaconda3/lib/python3.8/site-packages/urllib3/connectionpool.py:1013: InsecureRequestWarning: Unverified HTTPS request is being made to host 'medium.com'. Adding certificate verification is strongly advised. See: https://urllib3.readthedocs.io/en/latest/advanced-usage.html#ssl-warnings\n",
      "  warnings.warn(\n"
     ]
    },
    {
     "data": {
      "text/plain": [
       "<Response [200]>"
      ]
     },
     "execution_count": 88,
     "metadata": {},
     "output_type": "execute_result"
    }
   ],
   "source": [
    "response = requests.get(\"https://medium.com/codingninjas-blog\",verify=False)\n",
    "response"
   ]
  },
  {
   "cell_type": "code",
   "execution_count": 93,
   "id": "572a03c6",
   "metadata": {},
   "outputs": [
    {
     "name": "stdout",
     "output_type": "stream",
     "text": [
      "Web Development Trends to watch out for in 2020\n",
      "Web Development: Interviews and You!\n",
      "Get equipped for the Technical Interviews\n",
      "Explore more about the projects in Web Development\n",
      "5G to be a major gamechanger for Edu-tech platforms\n"
     ]
    }
   ],
   "source": [
    "data = BeautifulSoup(response.text,'html.parser')\n",
    "for i in data.find_all(class_=\"section-inner sectionLayout--insetColumn\")[:5]:\n",
    "    print(i.h3.string)"
   ]
  },
  {
   "cell_type": "code",
   "execution_count": 36,
   "id": "a2f44e9e",
   "metadata": {},
   "outputs": [
    {
     "name": "stderr",
     "output_type": "stream",
     "text": [
      "/Users/skumar6/opt/anaconda3/lib/python3.8/site-packages/urllib3/connectionpool.py:1013: InsecureRequestWarning: Unverified HTTPS request is being made to host 'www.imdb.com'. Adding certificate verification is strongly advised. See: https://urllib3.readthedocs.io/en/latest/advanced-usage.html#ssl-warnings\n",
      "  warnings.warn(\n"
     ]
    },
    {
     "name": "stdout",
     "output_type": "stream",
     "text": [
      "Inception\n"
     ]
    },
    {
     "name": "stderr",
     "output_type": "stream",
     "text": [
      "/Users/skumar6/opt/anaconda3/lib/python3.8/site-packages/urllib3/connectionpool.py:1013: InsecureRequestWarning: Unverified HTTPS request is being made to host 'www.imdb.com'. Adding certificate verification is strongly advised. See: https://urllib3.readthedocs.io/en/latest/advanced-usage.html#ssl-warnings\n",
      "  warnings.warn(\n"
     ]
    },
    {
     "name": "stdout",
     "output_type": "stream",
     "text": [
      "Game of Thrones\n"
     ]
    },
    {
     "name": "stderr",
     "output_type": "stream",
     "text": [
      "/Users/skumar6/opt/anaconda3/lib/python3.8/site-packages/urllib3/connectionpool.py:1013: InsecureRequestWarning: Unverified HTTPS request is being made to host 'www.imdb.com'. Adding certificate verification is strongly advised. See: https://urllib3.readthedocs.io/en/latest/advanced-usage.html#ssl-warnings\n",
      "  warnings.warn(\n"
     ]
    },
    {
     "name": "stdout",
     "output_type": "stream",
     "text": [
      "The Dark Knight Rises\n"
     ]
    },
    {
     "name": "stderr",
     "output_type": "stream",
     "text": [
      "/Users/skumar6/opt/anaconda3/lib/python3.8/site-packages/urllib3/connectionpool.py:1013: InsecureRequestWarning: Unverified HTTPS request is being made to host 'www.imdb.com'. Adding certificate verification is strongly advised. See: https://urllib3.readthedocs.io/en/latest/advanced-usage.html#ssl-warnings\n",
      "  warnings.warn(\n"
     ]
    },
    {
     "name": "stdout",
     "output_type": "stream",
     "text": [
      "The Wolf of Wall Street\n"
     ]
    },
    {
     "name": "stderr",
     "output_type": "stream",
     "text": [
      "/Users/skumar6/opt/anaconda3/lib/python3.8/site-packages/urllib3/connectionpool.py:1013: InsecureRequestWarning: Unverified HTTPS request is being made to host 'www.imdb.com'. Adding certificate verification is strongly advised. See: https://urllib3.readthedocs.io/en/latest/advanced-usage.html#ssl-warnings\n",
      "  warnings.warn(\n"
     ]
    },
    {
     "name": "stdout",
     "output_type": "stream",
     "text": [
      "Interstellar\n"
     ]
    }
   ],
   "source": [
    "year = 2010\n",
    "for i in range(5):\n",
    "    url = \"https://www.imdb.com/search/title/?release_date=\"+str(year)+\"-01-01,\"+str(year)+\"-12-31&sort=num_votes,desc&view=simple\"\n",
    "    year+=1\n",
    "    response = requests.get(url,verify=False)\n",
    "    data = BeautifulSoup(response.text,'html.parser')\n",
    "    for i in data.find_all(class_=\"lister-item-header\")[:1]:\n",
    "        print(i.find(\"a\").string)\n",
    "#     print(data.find_all(class_=\"lister-item-content\")[0].h3.a.string)\n"
   ]
  },
  {
   "cell_type": "code",
   "execution_count": 87,
   "id": "a9e5e4e3",
   "metadata": {},
   "outputs": [
    {
     "name": "stderr",
     "output_type": "stream",
     "text": [
      "/Users/skumar6/opt/anaconda3/lib/python3.8/site-packages/urllib3/connectionpool.py:1013: InsecureRequestWarning: Unverified HTTPS request is being made to host 'quotes.toscrape.com'. Adding certificate verification is strongly advised. See: https://urllib3.readthedocs.io/en/latest/advanced-usage.html#ssl-warnings\n",
      "  warnings.warn(\n"
     ]
    },
    {
     "name": "stdout",
     "output_type": "stream",
     "text": [
      "“The world as we have created it is a process of our thinking. It cannot be changed without changing our thinking.”\n",
      "“There are only two ways to live your life. One is as though nothing is a miracle. The other is as though everything is a miracle.”\n",
      "“Try not to become a man of success. Rather become a man of value.”\n"
     ]
    },
    {
     "name": "stderr",
     "output_type": "stream",
     "text": [
      "/Users/skumar6/opt/anaconda3/lib/python3.8/site-packages/urllib3/connectionpool.py:1013: InsecureRequestWarning: Unverified HTTPS request is being made to host 'quotes.toscrape.com'. Adding certificate verification is strongly advised. See: https://urllib3.readthedocs.io/en/latest/advanced-usage.html#ssl-warnings\n",
      "  warnings.warn(\n"
     ]
    },
    {
     "name": "stdout",
     "output_type": "stream",
     "text": [
      "“If you can't explain it to a six year old, you don't understand it yourself.”\n"
     ]
    },
    {
     "name": "stderr",
     "output_type": "stream",
     "text": [
      "/Users/skumar6/opt/anaconda3/lib/python3.8/site-packages/urllib3/connectionpool.py:1013: InsecureRequestWarning: Unverified HTTPS request is being made to host 'quotes.toscrape.com'. Adding certificate verification is strongly advised. See: https://urllib3.readthedocs.io/en/latest/advanced-usage.html#ssl-warnings\n",
      "  warnings.warn(\n"
     ]
    },
    {
     "name": "stdout",
     "output_type": "stream",
     "text": [
      "“If you want your children to be intelligent, read them fairy tales. If you want them to be more intelligent, read them more fairy tales.”\n",
      "“Logic will get you from A to Z; imagination will get you everywhere.”\n"
     ]
    },
    {
     "name": "stderr",
     "output_type": "stream",
     "text": [
      "/Users/skumar6/opt/anaconda3/lib/python3.8/site-packages/urllib3/connectionpool.py:1013: InsecureRequestWarning: Unverified HTTPS request is being made to host 'quotes.toscrape.com'. Adding certificate verification is strongly advised. See: https://urllib3.readthedocs.io/en/latest/advanced-usage.html#ssl-warnings\n",
      "  warnings.warn(\n"
     ]
    },
    {
     "name": "stdout",
     "output_type": "stream",
     "text": [
      "“Any fool can know. The point is to understand.”\n"
     ]
    },
    {
     "name": "stderr",
     "output_type": "stream",
     "text": [
      "/Users/skumar6/opt/anaconda3/lib/python3.8/site-packages/urllib3/connectionpool.py:1013: InsecureRequestWarning: Unverified HTTPS request is being made to host 'quotes.toscrape.com'. Adding certificate verification is strongly advised. See: https://urllib3.readthedocs.io/en/latest/advanced-usage.html#ssl-warnings\n",
      "  warnings.warn(\n"
     ]
    },
    {
     "name": "stdout",
     "output_type": "stream",
     "text": [
      "“Life is like riding a bicycle. To keep your balance, you must keep moving.”\n"
     ]
    },
    {
     "name": "stderr",
     "output_type": "stream",
     "text": [
      "/Users/skumar6/opt/anaconda3/lib/python3.8/site-packages/urllib3/connectionpool.py:1013: InsecureRequestWarning: Unverified HTTPS request is being made to host 'quotes.toscrape.com'. Adding certificate verification is strongly advised. See: https://urllib3.readthedocs.io/en/latest/advanced-usage.html#ssl-warnings\n",
      "  warnings.warn(\n"
     ]
    },
    {
     "name": "stdout",
     "output_type": "stream",
     "text": [
      "“If I were not a physicist, I would probably be a musician. I often think in music. I live my daydreams in music. I see my life in terms of music.”\n"
     ]
    },
    {
     "name": "stderr",
     "output_type": "stream",
     "text": [
      "/Users/skumar6/opt/anaconda3/lib/python3.8/site-packages/urllib3/connectionpool.py:1013: InsecureRequestWarning: Unverified HTTPS request is being made to host 'quotes.toscrape.com'. Adding certificate verification is strongly advised. See: https://urllib3.readthedocs.io/en/latest/advanced-usage.html#ssl-warnings\n",
      "  warnings.warn(\n",
      "/Users/skumar6/opt/anaconda3/lib/python3.8/site-packages/urllib3/connectionpool.py:1013: InsecureRequestWarning: Unverified HTTPS request is being made to host 'quotes.toscrape.com'. Adding certificate verification is strongly advised. See: https://urllib3.readthedocs.io/en/latest/advanced-usage.html#ssl-warnings\n",
      "  warnings.warn(\n",
      "/Users/skumar6/opt/anaconda3/lib/python3.8/site-packages/urllib3/connectionpool.py:1013: InsecureRequestWarning: Unverified HTTPS request is being made to host 'quotes.toscrape.com'. Adding certificate verification is strongly advised. See: https://urllib3.readthedocs.io/en/latest/advanced-usage.html#ssl-warnings\n",
      "  warnings.warn(\n"
     ]
    },
    {
     "name": "stdout",
     "output_type": "stream",
     "text": [
      "“Anyone who has never made a mistake has never tried anything new.”\n"
     ]
    },
    {
     "name": "stderr",
     "output_type": "stream",
     "text": [
      "/Users/skumar6/opt/anaconda3/lib/python3.8/site-packages/urllib3/connectionpool.py:1013: InsecureRequestWarning: Unverified HTTPS request is being made to host 'quotes.toscrape.com'. Adding certificate verification is strongly advised. See: https://urllib3.readthedocs.io/en/latest/advanced-usage.html#ssl-warnings\n",
      "  warnings.warn(\n"
     ]
    }
   ],
   "source": [
    "for page in range(1,11):\n",
    "    url = \"https://quotes.toscrape.com/page/\"+str(page)+\"/\"\n",
    "    response = requests.get(url,verify=False)\n",
    "    data = BeautifulSoup(response.text,'html.parser')\n",
    "    for i in data.find_all(\"small\",class_=\"author\"):\n",
    "        if i.string == \"Albert Einstein\":\n",
    "            print(i.parent.parent.find(\"span\",class_=\"text\").string)\n"
   ]
  },
  {
   "cell_type": "code",
   "execution_count": 83,
   "id": "1d14520b",
   "metadata": {},
   "outputs": [
    {
     "name": "stdout",
     "output_type": "stream",
     "text": [
      "{'J.D. Salinger': 'January 01, 1919', 'J.K. Rowling': 'July 31, 1965', 'J.M. Barrie': 'May 09, 1860', 'J.R.R. Tolkien': 'January 03, 1892', 'James Baldwin': 'August 02, 1924', 'Jane Austen': 'December 16, 1775', 'Jim Henson': 'September 24, 1936', 'Jimi Hendrix': 'November 27, 1942', 'John Lennon': 'October 09, 1940', 'Jorge Luis Borges': 'August 24, 1899', }\n"
     ]
    }
   ],
   "source": [
    "print(\"{\",end=\"\")\n",
    "for i in sorted(d.keys()):\n",
    "    print(\"'\",end=\"\")\n",
    "    print(i,end=\"': \")\n",
    "    print(\"'\",end=\"\")\n",
    "    print(d[i],end=\"', \")\n",
    "print(\"}\")"
   ]
  },
  {
   "cell_type": "code",
   "execution_count": 80,
   "id": "b06d4e93",
   "metadata": {},
   "outputs": [
    {
     "name": "stdout",
     "output_type": "stream",
     "text": [
      "{'J.K. Rowling': 'July 31, 1965', 'Jane Austen': 'December 16, 1775', 'Jim Henson': 'September 24, 1936', 'Jorge Luis Borges': 'August 24, 1899', 'James Baldwin': 'August 02, 1924', 'J.R.R. Tolkien': 'January 03, 1892', 'J.D. Salinger': 'January 01, 1919', 'John Lennon': 'October 09, 1940', 'Jimi Hendrix': 'November 27, 1942', 'J.M. Barrie': 'May 09, 1860'}\n"
     ]
    }
   ],
   "source": [
    "print(\"{'J.K. Rowling': 'July 31, 1965', 'Jane Austen': 'December 16, 1775', 'Jim Henson': 'September 24, 1936', 'Jorge Luis Borges': 'August 24, 1899', 'James Baldwin': 'August 02, 1924', 'J.R.R. Tolkien': 'January 03, 1892', 'J.D. Salinger': 'January 01, 1919', 'John Lennon': 'October 09, 1940', 'Jimi Hendrix': 'November 27, 1942', 'J.M. Barrie': 'May 09, 1860'}\")"
   ]
  },
  {
   "cell_type": "code",
   "execution_count": 37,
   "id": "25fa3e4f",
   "metadata": {},
   "outputs": [
    {
     "name": "stderr",
     "output_type": "stream",
     "text": [
      "/Users/skumar6/opt/anaconda3/lib/python3.8/site-packages/urllib3/connectionpool.py:1013: InsecureRequestWarning: Unverified HTTPS request is being made to host 'en.wikipedia.org'. Adding certificate verification is strongly advised. See: https://urllib3.readthedocs.io/en/latest/advanced-usage.html#ssl-warnings\n",
      "  warnings.warn(\n"
     ]
    }
   ],
   "source": [
    "response = requests.get(\"https://en.wikipedia.org/wiki/Artificial_intelligence\",verify=False)\n"
   ]
  },
  {
   "cell_type": "code",
   "execution_count": 41,
   "id": "dd990548",
   "metadata": {},
   "outputs": [
    {
     "name": "stdout",
     "output_type": "stream",
     "text": [
      "/static/images/footer/poweredby_mediawiki_88x31.png\n"
     ]
    }
   ],
   "source": [
    "data = BeautifulSoup(response.text,'html.parser')\n",
    "max_a = 0\n",
    "src = \"\"\n",
    "for i in data.find_all(\"img\"):\n",
    "    a = int(i.attrs['height']) * int(i.attrs['width'])\n",
    "    if a > max_a:\n",
    "        max_a = a\n",
    "    src = i.attrs[\"src\"]\n",
    "print(src)"
   ]
  },
  {
   "cell_type": "code",
   "execution_count": 2,
   "id": "91263e4d",
   "metadata": {},
   "outputs": [
    {
     "name": "stderr",
     "output_type": "stream",
     "text": [
      "/Users/skumar6/opt/anaconda3/lib/python3.8/site-packages/urllib3/connectionpool.py:1013: InsecureRequestWarning: Unverified HTTPS request is being made to host 'www.imdb.com'. Adding certificate verification is strongly advised. See: https://urllib3.readthedocs.io/en/latest/advanced-usage.html#ssl-warnings\n",
      "  warnings.warn(\n"
     ]
    },
    {
     "data": {
      "text/plain": [
       "<Response [200]>"
      ]
     },
     "execution_count": 2,
     "metadata": {},
     "output_type": "execute_result"
    }
   ],
   "source": [
    "response = requests.get(\"https://www.imdb.com/search/title/?release_date=2018&sort=num_votes,desc&page=1&ref_=adv_nxt\",verify=False)\n",
    "response"
   ]
  },
  {
   "cell_type": "code",
   "execution_count": 24,
   "id": "6350f3d8",
   "metadata": {},
   "outputs": [
    {
     "name": "stdout",
     "output_type": "stream",
     "text": [
      "Avengers: Infinity War ; Action, Adventure, Sci-Fi\n",
      "Black Panther ; Action, Adventure, Sci-Fi\n",
      "Deadpool 2 ; Action, Adventure, Comedy\n",
      "Bohemian Rhapsody ; Biography, Drama, Music\n",
      "A Quiet Place ; Drama, Horror, Sci-Fi\n",
      "Spider-Man: Into the Spider-Verse ; Animation, Action, Adventure\n",
      "Green Book ; Biography, Comedy, Drama\n",
      "Venom ; Action, Adventure, Sci-Fi\n",
      "Aquaman ; Action, Adventure, Fantasy\n",
      "Ready Player One ; Action, Adventure, Sci-Fi\n",
      "A Star Is Born ; Drama, Music, Romance\n",
      "Ant-Man and the Wasp ; Action, Adventure, Comedy\n",
      "Solo: A Star Wars Story ; Action, Adventure, Sci-Fi\n",
      "Mission: Impossible - Fallout ; Action, Adventure, Thriller\n",
      "Bird Box ; Horror, Sci-Fi\n",
      "Annihilation ; Adventure, Drama, Horror\n",
      "Jurassic World: Fallen Kingdom ; Action, Adventure, Sci-Fi\n",
      "Hereditary ; Drama, Horror, Mystery\n",
      "Incredibles 2 ; Animation, Action, Adventure\n",
      "BlacKkKlansman ; Biography, Comedy, Crime\n",
      "Fantastic Beasts: The Crimes of Grindelwald ; Adventure, Family, Fantasy\n",
      "Game Night ; Action, Comedy, Crime\n",
      "The Haunting of Hill House ; Drama, Horror, Mystery\n",
      "Tomb Raider ; Action, Adventure, Fantasy\n",
      "Ocean's Eight ; Action, Comedy, Crime\n",
      "You ; Crime, Drama, Romance\n",
      "The Favourite ; Biography, Comedy, Drama\n",
      "First Man ; Biography, Drama, History\n",
      "Red Sparrow ; Action, Drama, Thriller\n",
      "Upgrade ; Action, Sci-Fi, Thriller\n",
      "The Meg ; Action, Horror, Sci-Fi\n",
      "Crazy Rich Asians ; Comedy, Drama, Romance\n",
      "Rampage ; Action, Adventure, Sci-Fi\n",
      "Isle of Dogs ; Animation, Adventure, Comedy\n",
      "Searching ; Drama, Mystery, Thriller\n",
      "Altered Carbon ; Action, Drama, Sci-Fi\n",
      "Bumblebee ; Action, Adventure, Sci-Fi\n",
      "Roma ; Drama\n",
      "The Equalizer 2 ; Action, Crime, Thriller\n",
      "Ralph Breaks the Internet ; Animation, Adventure, Comedy\n",
      "A Simple Favor ; Comedy, Crime, Mystery\n",
      "Halloween ; Crime, Horror, Thriller\n",
      "Bad Times at the El Royale ; Crime, Drama, Mystery\n",
      "Sicario: Day of the Soldado ; Action, Adventure, Crime\n",
      "The Ballad of Buster Scruggs ; Comedy, Drama, Musical\n",
      "Vice ; Biography, Comedy, Drama\n",
      "The Nun ; Horror, Mystery, Thriller\n",
      "Cobra Kai ; Action, Comedy, Drama\n",
      "The Mule ; Crime, Drama, Thriller\n",
      "Maze Runner: The Death Cure ; Action, Adventure, Sci-Fi\n"
     ]
    }
   ],
   "source": [
    "data = BeautifulSoup(response.text,'html.parser')\n",
    "r = data.find_all(class_='lister-item-content')\n",
    "\n",
    "for i in r:\n",
    "    print(i.h3.a.string,end=' ; ')\n",
    "    for j in i.find_all(class_='genre'):\n",
    "        print(j.string.strip(),end='')\n",
    "    print(\"\")"
   ]
  },
  {
   "cell_type": "code",
   "execution_count": null,
   "id": "67e14e32",
   "metadata": {},
   "outputs": [],
   "source": []
  }
 ],
 "metadata": {
  "kernelspec": {
   "display_name": "Python 3",
   "language": "python",
   "name": "python3"
  },
  "language_info": {
   "codemirror_mode": {
    "name": "ipython",
    "version": 3
   },
   "file_extension": ".py",
   "mimetype": "text/x-python",
   "name": "python",
   "nbconvert_exporter": "python",
   "pygments_lexer": "ipython3",
   "version": "3.8.8"
  }
 },
 "nbformat": 4,
 "nbformat_minor": 5
}
