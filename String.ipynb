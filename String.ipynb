{
 "cells": [
  {
   "cell_type": "code",
   "execution_count": 8,
   "id": "fallen-hindu",
   "metadata": {},
   "outputs": [
    {
     "name": "stdout",
     "output_type": "stream",
     "text": [
      ",olleH I ma !lidaA "
     ]
    }
   ],
   "source": [
    "l = \"Hello, I am Aadil!\".split()\n",
    "l\n",
    "for i in l:\n",
    "    print(i[::-1],end=' ')"
   ]
  },
  {
   "cell_type": "code",
   "execution_count": 25,
   "id": "defined-chrome",
   "metadata": {},
   "outputs": [
    {
     "data": {
      "text/plain": [
       "'a'"
      ]
     },
     "execution_count": 25,
     "metadata": {},
     "output_type": "execute_result"
    }
   ],
   "source": [
    "s = \"abcdeapapqarr\"\n",
    "p = list(s)\n",
    "p.sort()\n",
    "last_char = p[1]\n",
    "last_char"
   ]
  },
  {
   "cell_type": "code",
   "execution_count": 51,
   "id": "amazing-thumb",
   "metadata": {},
   "outputs": [
    {
     "name": "stdout",
     "output_type": "stream",
     "text": [
      "[8, 6, 4, 2]\n"
     ]
    },
    {
     "data": {
      "text/plain": [
       "[1, 3, 5, 7, 8, 6, 4, 2]"
      ]
     },
     "execution_count": 51,
     "metadata": {},
     "output_type": "execute_result"
    }
   ],
   "source": [
    "n = 7\n",
    "l_inc = [i for i in range(1,n+1,2)]\n",
    "n2 = l_inc[-1:][0] + 1\n",
    "l_dec = [i for i in range(n2,1,-2)]\n",
    "print(l_dec)\n",
    "l = l_inc + l_dec\n",
    "l"
   ]
  },
  {
   "cell_type": "code",
   "execution_count": 54,
   "id": "armed-induction",
   "metadata": {},
   "outputs": [
    {
     "name": "stdout",
     "output_type": "stream",
     "text": [
      "6\n",
      "3 12 34 2 0 -1\n",
      "[0, 2, 34]\n",
      "34 2 0 "
     ]
    }
   ],
   "source": [
    "size = int(input())\n",
    "a = [int(i) for i in input().split()]\n",
    "leaders = []\n",
    "for i in range(size-2,-1,-1):\n",
    "    is_leader  = True\n",
    "    for j in range(i,size):\n",
    "        if a[i] < a[j]:\n",
    "            is_leader = False\n",
    "    if is_leader == True:\n",
    "        leaders.append(a[i])\n",
    "print(leaders)\n",
    "for i in range(len(leaders)):\n",
    "    print(leaders[len(leaders)-i-1],end=' ')"
   ]
  }
 ],
 "metadata": {
  "kernelspec": {
   "display_name": "Python 3",
   "language": "python",
   "name": "python3"
  },
  "language_info": {
   "codemirror_mode": {
    "name": "ipython",
    "version": 3
   },
   "file_extension": ".py",
   "mimetype": "text/x-python",
   "name": "python",
   "nbconvert_exporter": "python",
   "pygments_lexer": "ipython3",
   "version": "3.8.2"
  }
 },
 "nbformat": 4,
 "nbformat_minor": 5
}
