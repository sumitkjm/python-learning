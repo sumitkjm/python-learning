{
 "cells": [
  {
   "cell_type": "code",
   "execution_count": 1,
   "id": "noted-prince",
   "metadata": {},
   "outputs": [
    {
     "data": {
      "text/plain": [
       "[1, 2, 3]"
      ]
     },
     "execution_count": 1,
     "metadata": {},
     "output_type": "execute_result"
    }
   ],
   "source": [
    "a = [1,2,3]\n",
    "a"
   ]
  },
  {
   "cell_type": "code",
   "execution_count": 2,
   "id": "neither-costs",
   "metadata": {},
   "outputs": [
    {
     "data": {
      "text/plain": [
       "[1, 2, 3, 4]"
      ]
     },
     "execution_count": 2,
     "metadata": {},
     "output_type": "execute_result"
    }
   ],
   "source": [
    "a.append(4)\n",
    "a"
   ]
  },
  {
   "cell_type": "code",
   "execution_count": 5,
   "id": "middle-republic",
   "metadata": {},
   "outputs": [
    {
     "data": {
      "text/plain": [
       "[8, 8, 8, 1, 2, 3, 4]"
      ]
     },
     "execution_count": 5,
     "metadata": {},
     "output_type": "execute_result"
    }
   ],
   "source": [
    "a.insert(0,8)\n",
    "a"
   ]
  },
  {
   "cell_type": "code",
   "execution_count": 7,
   "id": "guided-oriental",
   "metadata": {},
   "outputs": [
    {
     "data": {
      "text/plain": [
       "[8, 8, 8, 1, 2, 3, 4, 5, 6, 7]"
      ]
     },
     "execution_count": 7,
     "metadata": {},
     "output_type": "execute_result"
    }
   ],
   "source": [
    "b = [5,6,7]\n",
    "a.extend(b)\n",
    "a"
   ]
  },
  {
   "cell_type": "code",
   "execution_count": 10,
   "id": "unusual-scenario",
   "metadata": {},
   "outputs": [
    {
     "data": {
      "text/plain": [
       "[1, 2, 3, 4, 5, 6, 7]"
      ]
     },
     "execution_count": 10,
     "metadata": {},
     "output_type": "execute_result"
    }
   ],
   "source": [
    "#removes first occurence of element\n",
    "a.remove(8)\n",
    "a"
   ]
  },
  {
   "cell_type": "code",
   "execution_count": 11,
   "id": "coral-spoke",
   "metadata": {},
   "outputs": [
    {
     "data": {
      "text/plain": [
       "[2, 3, 4, 5, 6, 7]"
      ]
     },
     "execution_count": 11,
     "metadata": {},
     "output_type": "execute_result"
    }
   ],
   "source": [
    "#removes element from that index and returns also\n",
    "a.pop(0)\n",
    "a"
   ]
  },
  {
   "cell_type": "code",
   "execution_count": 12,
   "id": "varying-tunisia",
   "metadata": {},
   "outputs": [
    {
     "data": {
      "text/plain": [
       "[2, 3, 5, 6, 7]"
      ]
     },
     "execution_count": 12,
     "metadata": {},
     "output_type": "execute_result"
    }
   ],
   "source": [
    "#delete element at index but does not return\n",
    "del a[2]\n",
    "a"
   ]
  },
  {
   "cell_type": "code",
   "execution_count": 13,
   "id": "ordinary-latest",
   "metadata": {},
   "outputs": [],
   "source": [
    "a.sort()"
   ]
  },
  {
   "cell_type": "code",
   "execution_count": 14,
   "id": "veterinary-course",
   "metadata": {},
   "outputs": [
    {
     "data": {
      "text/plain": [
       "[2, 3, 5, 6, 7]"
      ]
     },
     "execution_count": 14,
     "metadata": {},
     "output_type": "execute_result"
    }
   ],
   "source": [
    "a"
   ]
  },
  {
   "cell_type": "code",
   "execution_count": 16,
   "id": "operating-gamma",
   "metadata": {},
   "outputs": [
    {
     "data": {
      "text/plain": [
       "7"
      ]
     },
     "execution_count": 16,
     "metadata": {},
     "output_type": "execute_result"
    }
   ],
   "source": [
    "max(a)"
   ]
  },
  {
   "cell_type": "code",
   "execution_count": 17,
   "id": "tough-nevada",
   "metadata": {},
   "outputs": [
    {
     "data": {
      "text/plain": [
       "4"
      ]
     },
     "execution_count": 17,
     "metadata": {},
     "output_type": "execute_result"
    }
   ],
   "source": [
    "# find index of an element\n",
    "a.index(7)"
   ]
  },
  {
   "cell_type": "code",
   "execution_count": 19,
   "id": "rubber-console",
   "metadata": {},
   "outputs": [
    {
     "data": {
      "text/plain": [
       "False"
      ]
     },
     "execution_count": 19,
     "metadata": {},
     "output_type": "execute_result"
    }
   ],
   "source": [
    "# to check if element is there in the list\n",
    "3 in a\n",
    "10 in a"
   ]
  },
  {
   "cell_type": "code",
   "execution_count": 21,
   "id": "compound-classroom",
   "metadata": {},
   "outputs": [
    {
     "name": "stdout",
     "output_type": "stream",
     "text": [
      "5\n",
      "1\n",
      "2\n",
      "3\n",
      "4\n",
      "5\n"
     ]
    },
    {
     "data": {
      "text/plain": [
       "[1, 2, 3, 4, 5]"
      ]
     },
     "execution_count": 21,
     "metadata": {},
     "output_type": "execute_result"
    }
   ],
   "source": [
    "# taking input\n",
    "s = int(input())\n",
    "a = []\n",
    "for i in range(s):\n",
    "    ne = int(input())\n",
    "    a.append(ne)\n",
    "a"
   ]
  },
  {
   "cell_type": "code",
   "execution_count": 24,
   "id": "computational-prague",
   "metadata": {},
   "outputs": [
    {
     "name": "stdout",
     "output_type": "stream",
     "text": [
      "1 2 3 4 5\n"
     ]
    },
    {
     "data": {
      "text/plain": [
       "[1, 2, 3, 4, 5]"
      ]
     },
     "execution_count": 24,
     "metadata": {},
     "output_type": "execute_result"
    }
   ],
   "source": [
    "line = input()\n",
    "l = line.split()\n",
    "a = []\n",
    "for s in l:\n",
    "    a.append(int(s))\n",
    "a"
   ]
  },
  {
   "cell_type": "code",
   "execution_count": 27,
   "id": "brief-variation",
   "metadata": {},
   "outputs": [
    {
     "name": "stdout",
     "output_type": "stream",
     "text": [
      "1 2 3 4 5\n"
     ]
    },
    {
     "data": {
      "text/plain": [
       "[1, 2, 3, 4, 5]"
      ]
     },
     "execution_count": 27,
     "metadata": {},
     "output_type": "execute_result"
    }
   ],
   "source": [
    "line = input()\n",
    "l = line.split()\n",
    "a = [int(s) for s in l]\n",
    "a"
   ]
  },
  {
   "cell_type": "code",
   "execution_count": 31,
   "id": "beneficial-prediction",
   "metadata": {},
   "outputs": [
    {
     "name": "stdout",
     "output_type": "stream",
     "text": [
      "1 2 3 3 4 5\n"
     ]
    }
   ],
   "source": [
    "a = [int(s) for s in input().split()]"
   ]
  },
  {
   "cell_type": "code",
   "execution_count": 32,
   "id": "earned-timeline",
   "metadata": {},
   "outputs": [
    {
     "data": {
      "text/plain": [
       "[1, 2, 3, 3, 4, 5]"
      ]
     },
     "execution_count": 32,
     "metadata": {},
     "output_type": "execute_result"
    }
   ],
   "source": [
    "a"
   ]
  },
  {
   "cell_type": "code",
   "execution_count": 33,
   "id": "portuguese-packing",
   "metadata": {},
   "outputs": [],
   "source": [
    "a = [1,32,4,5,6,'abc',True,0]"
   ]
  },
  {
   "cell_type": "code",
   "execution_count": 37,
   "id": "placed-expert",
   "metadata": {},
   "outputs": [
    {
     "data": {
      "text/plain": [
       "[0, True, 'abc', 6]"
      ]
     },
     "execution_count": 37,
     "metadata": {},
     "output_type": "execute_result"
    }
   ],
   "source": [
    "a[:3:-1] #default start index in this case is last index and jumps by -1 every time until 3"
   ]
  },
  {
   "cell_type": "code",
   "execution_count": 38,
   "id": "employed-cigarette",
   "metadata": {},
   "outputs": [
    {
     "data": {
      "text/plain": [
       "[0, True, 'abc', 6, 5, 4, 32, 1]"
      ]
     },
     "execution_count": 38,
     "metadata": {},
     "output_type": "execute_result"
    }
   ],
   "source": [
    "a[::-1] #reverse the list"
   ]
  },
  {
   "cell_type": "code",
   "execution_count": 40,
   "id": "nominated-equipment",
   "metadata": {},
   "outputs": [
    {
     "data": {
      "text/plain": [
       "[1, 32, 4, 5, 6, 'abc', True, 0]"
      ]
     },
     "execution_count": 40,
     "metadata": {},
     "output_type": "execute_result"
    }
   ],
   "source": [
    "a.reverse() # reverse function\n",
    "a"
   ]
  },
  {
   "cell_type": "markdown",
   "id": "legal-outreach",
   "metadata": {},
   "source": [
    "#### multipdimentional list or 2D list"
   ]
  },
  {
   "cell_type": "code",
   "execution_count": 41,
   "id": "accepting-billy",
   "metadata": {},
   "outputs": [],
   "source": [
    "a = [[1,2,4],[1,3]]"
   ]
  },
  {
   "cell_type": "code",
   "execution_count": 42,
   "id": "matched-screen",
   "metadata": {},
   "outputs": [
    {
     "data": {
      "text/plain": [
       "[[1, 2, 4], [1, 3]]"
      ]
     },
     "execution_count": 42,
     "metadata": {},
     "output_type": "execute_result"
    }
   ],
   "source": [
    "a"
   ]
  },
  {
   "cell_type": "code",
   "execution_count": 44,
   "id": "adult-sector",
   "metadata": {},
   "outputs": [],
   "source": [
    "a = [2,5,6,6,7,['a','b','c'],8,3,5]"
   ]
  },
  {
   "cell_type": "code",
   "execution_count": 45,
   "id": "sixth-hurricane",
   "metadata": {},
   "outputs": [
    {
     "data": {
      "text/plain": [
       "[2, 5, 6, 6, 7, ['a', 'b', 'c'], 8, 3, 5]"
      ]
     },
     "execution_count": 45,
     "metadata": {},
     "output_type": "execute_result"
    }
   ],
   "source": [
    "a"
   ]
  },
  {
   "cell_type": "code",
   "execution_count": null,
   "id": "decent-progress",
   "metadata": {},
   "outputs": [],
   "source": [
    "a[5][2]"
   ]
  },
  {
   "cell_type": "markdown",
   "id": "sorted-address",
   "metadata": {},
   "source": [
    "## taken input in 2D array list"
   ]
  },
  {
   "cell_type": "code",
   "execution_count": 51,
   "id": "numerous-expense",
   "metadata": {},
   "outputs": [
    {
     "name": "stdout",
     "output_type": "stream",
     "text": [
      "2 3\n",
      "5 6 7\n",
      "1 2 3\n"
     ]
    },
    {
     "data": {
      "text/plain": [
       "[[5, 6, 7], [1, 2, 3]]"
      ]
     },
     "execution_count": 51,
     "metadata": {},
     "output_type": "execute_result"
    }
   ],
   "source": [
    "sizes = input().split()\n",
    "m = int(sizes[0])\n",
    "n = int(sizes[1])\n",
    "l = []\n",
    "for i in range(m):\n",
    "    next_row = [int(i) for i in input().split()]\n",
    "    l.append(next_row)\n",
    "l"
   ]
  },
  {
   "cell_type": "code",
   "execution_count": 55,
   "id": "dressed-serum",
   "metadata": {},
   "outputs": [
    {
     "name": "stdout",
     "output_type": "stream",
     "text": [
      "2 3\n",
      "5\n",
      "6\n",
      "7\n",
      "1\n",
      "2\n",
      "3\n"
     ]
    },
    {
     "data": {
      "text/plain": [
       "[[5, 6, 7], [1, 2, 3]]"
      ]
     },
     "execution_count": 55,
     "metadata": {},
     "output_type": "execute_result"
    }
   ],
   "source": [
    "sizes = input().split()\n",
    "m = int(sizes[0])\n",
    "n = int(sizes[1])\n",
    "l = []\n",
    "for i in range(m):\n",
    "    next_row = []\n",
    "    for j in range(n):\n",
    "        element = int(input())\n",
    "        next_row.append(element)\n",
    "    l.append(next_row)\n",
    "l"
   ]
  },
  {
   "cell_type": "code",
   "execution_count": 57,
   "id": "otherwise-rental",
   "metadata": {},
   "outputs": [
    {
     "name": "stdout",
     "output_type": "stream",
     "text": [
      "2 3\n",
      "5 6 7 1 2 3\n"
     ]
    },
    {
     "data": {
      "text/plain": [
       "[[5, 6, 7], [1, 2, 3]]"
      ]
     },
     "execution_count": 57,
     "metadata": {},
     "output_type": "execute_result"
    }
   ],
   "source": [
    "sizes = input().split()\n",
    "m = int(sizes[0])\n",
    "n = int(sizes[1])\n",
    "l_1d = [int(i) for i in input().split()]\n",
    "l = []\n",
    "for i in range(m):\n",
    "    start_index = i * n\n",
    "    end_index = start_index + n\n",
    "    next_row = l_1d[start_index:end_index]\n",
    "    l.append(next_row)\n",
    "l"
   ]
  },
  {
   "cell_type": "markdown",
   "id": "welcome-alexander",
   "metadata": {},
   "source": [
    "### 2d array slicing"
   ]
  },
  {
   "cell_type": "code",
   "execution_count": 58,
   "id": "checked-longer",
   "metadata": {},
   "outputs": [
    {
     "data": {
      "text/plain": [
       "[[1, 2, 3], [2, 3, 5]]"
      ]
     },
     "execution_count": 58,
     "metadata": {},
     "output_type": "execute_result"
    }
   ],
   "source": [
    "a = [[5, 6, 7], [1, 2, 3], [2,3,5],[1,5,7]]\n",
    "a[1:3]"
   ]
  },
  {
   "cell_type": "code",
   "execution_count": 61,
   "id": "difficult-vinyl",
   "metadata": {},
   "outputs": [
    {
     "data": {
      "text/plain": [
       "[[1, 2],\n",
       " [1, 2],\n",
       " [1, 2],\n",
       " [1, 2],\n",
       " [1, 2],\n",
       " [1, 2],\n",
       " [1, 2],\n",
       " [1, 2],\n",
       " [1, 2],\n",
       " [1, 2]]"
      ]
     },
     "execution_count": 61,
     "metadata": {},
     "output_type": "execute_result"
    }
   ],
   "source": [
    "a = [[1,2] for i in range(10)]\n",
    "a"
   ]
  },
  {
   "cell_type": "code",
   "execution_count": 62,
   "id": "artificial-freedom",
   "metadata": {},
   "outputs": [
    {
     "data": {
      "text/plain": [
       "[[0, 0, 0, 0, 0],\n",
       " [0, 0, 0, 0, 0],\n",
       " [0, 0, 0, 0, 0],\n",
       " [0, 0, 0, 0, 0],\n",
       " [0, 0, 0, 0, 0],\n",
       " [0, 0, 0, 0, 0],\n",
       " [0, 0, 0, 0, 0],\n",
       " [0, 0, 0, 0, 0],\n",
       " [0, 0, 0, 0, 0],\n",
       " [0, 0, 0, 0, 0]]"
      ]
     },
     "execution_count": 62,
     "metadata": {},
     "output_type": "execute_result"
    }
   ],
   "source": [
    "a = [[0 for j in range(5)] for i in range(10)]\n",
    "a"
   ]
  },
  {
   "cell_type": "code",
   "execution_count": 64,
   "id": "active-bicycle",
   "metadata": {},
   "outputs": [
    {
     "data": {
      "text/plain": [
       "[[0, 1, 2, 3, 4],\n",
       " [0, 1, 2, 3, 4],\n",
       " [0, 1, 2, 3, 4],\n",
       " [0, 1, 2, 3, 4],\n",
       " [0, 1, 2, 3, 4],\n",
       " [0, 1, 2, 3, 4],\n",
       " [0, 1, 2, 3, 4],\n",
       " [0, 1, 2, 3, 4],\n",
       " [0, 1, 2, 3, 4],\n",
       " [0, 1, 2, 3, 4]]"
      ]
     },
     "execution_count": 64,
     "metadata": {},
     "output_type": "execute_result"
    }
   ],
   "source": [
    "a = [[j for j in range(5)] for i in range(10)]\n",
    "a"
   ]
  },
  {
   "cell_type": "code",
   "execution_count": 65,
   "id": "administrative-poison",
   "metadata": {},
   "outputs": [
    {
     "data": {
      "text/plain": [
       "[[0, 0, 0, 0, 0],\n",
       " [1, 1, 1, 1, 1],\n",
       " [2, 2, 2, 2, 2],\n",
       " [3, 3, 3, 3, 3],\n",
       " [4, 4, 4, 4, 4],\n",
       " [5, 5, 5, 5, 5],\n",
       " [6, 6, 6, 6, 6],\n",
       " [7, 7, 7, 7, 7],\n",
       " [8, 8, 8, 8, 8],\n",
       " [9, 9, 9, 9, 9]]"
      ]
     },
     "execution_count": 65,
     "metadata": {},
     "output_type": "execute_result"
    }
   ],
   "source": [
    "a = [[i for j in range(5)] for i in range(10)]\n",
    "a"
   ]
  },
  {
   "cell_type": "code",
   "execution_count": 71,
   "id": "collect-framework",
   "metadata": {},
   "outputs": [],
   "source": [
    "def print_colum_wise_sum(arr):\n",
    "    if(len(arr)==0):\n",
    "        return\n",
    "    m = len(arr)\n",
    "    n = len(arr[0])\n",
    "    for i in range(m):\n",
    "        sum_j = 0\n",
    "        for j in range(n):\n",
    "            sum_j = sum_j + arr[i][j]\n",
    "        print(sum_j)"
   ]
  },
  {
   "cell_type": "code",
   "execution_count": 72,
   "id": "further-husband",
   "metadata": {},
   "outputs": [
    {
     "name": "stdout",
     "output_type": "stream",
     "text": [
      "0\n",
      "5\n",
      "10\n",
      "15\n",
      "20\n",
      "25\n",
      "30\n",
      "35\n",
      "40\n",
      "45\n"
     ]
    }
   ],
   "source": [
    "a = [[i for j in range(5)] for i in range(10)]\n",
    "print_colum_wise_sum(a)"
   ]
  },
  {
   "cell_type": "code",
   "execution_count": 73,
   "id": "guided-dealer",
   "metadata": {},
   "outputs": [
    {
     "name": "stdout",
     "output_type": "stream",
     "text": [
      "[10, 23, 56, [95]]\n"
     ]
    }
   ],
   "source": [
    "# They only create a copy on the 0th level. That's called shallow copy. \n",
    "# The elements of a nested element are copied by reference.\n",
    "a = [10,23,56,[78]]\n",
    "b = list(a)\n",
    "a[3][0] = 95\n",
    "a[1] = 34\n",
    "print(b)"
   ]
  },
  {
   "cell_type": "code",
   "execution_count": 74,
   "id": "fluid-hunger",
   "metadata": {},
   "outputs": [
    {
     "name": "stdout",
     "output_type": "stream",
     "text": [
      "[[0.5, 7], [1, 2], [3, 1.5]]\n"
     ]
    }
   ],
   "source": [
    "# Sort function by default sort the list by first column.\n",
    "points = [[1, 2], [3, 1.5], [0.5,7]]\n",
    "points.sort()\n",
    "print(points)"
   ]
  },
  {
   "cell_type": "code",
   "execution_count": null,
   "id": "coordinate-bonus",
   "metadata": {},
   "outputs": [],
   "source": []
  }
 ],
 "metadata": {
  "kernelspec": {
   "display_name": "Python 3",
   "language": "python",
   "name": "python3"
  },
  "language_info": {
   "codemirror_mode": {
    "name": "ipython",
    "version": 3
   },
   "file_extension": ".py",
   "mimetype": "text/x-python",
   "name": "python",
   "nbconvert_exporter": "python",
   "pygments_lexer": "ipython3",
   "version": "3.8.2"
  }
 },
 "nbformat": 4,
 "nbformat_minor": 5
}
