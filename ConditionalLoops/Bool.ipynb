{
 "cells": [
  {
   "cell_type": "code",
   "execution_count": 1,
   "id": "great-frederick",
   "metadata": {},
   "outputs": [
    {
     "data": {
      "text/plain": [
       "bool"
      ]
     },
     "execution_count": 1,
     "metadata": {},
     "output_type": "execute_result"
    }
   ],
   "source": [
    "a = True # its reserved word and case sensitive True/False\n",
    "b = False\n",
    "type(a)"
   ]
  },
  {
   "cell_type": "markdown",
   "id": "nasty-inventory",
   "metadata": {},
   "source": [
    "## Relational operators"
   ]
  },
  {
   "cell_type": "code",
   "execution_count": 3,
   "id": "collect-coaching",
   "metadata": {},
   "outputs": [
    {
     "name": "stdout",
     "output_type": "stream",
     "text": [
      "False\n",
      "True\n",
      "False\n",
      "True\n",
      "False\n",
      "True\n"
     ]
    }
   ],
   "source": [
    "a = 10\n",
    "b = 20\n",
    "print(a>b)\n",
    "print(a<b)\n",
    "print(a>=b)\n",
    "print(a<=b)\n",
    "print(a==b)\n",
    "print(a!=b)"
   ]
  },
  {
   "cell_type": "markdown",
   "id": "infectious-graduate",
   "metadata": {},
   "source": [
    "### Logical Operators"
   ]
  },
  {
   "cell_type": "code",
   "execution_count": 6,
   "id": "given-scroll",
   "metadata": {},
   "outputs": [
    {
     "name": "stdout",
     "output_type": "stream",
     "text": [
      "a & b are not equal\n"
     ]
    }
   ],
   "source": [
    "c1 = a >b\n",
    "c2 = a<b\n",
    "if c1 and c2:\n",
    "  print (\"a & b are equal\")\n",
    "else :\n",
    "  print (\"a & b are not equal\")"
   ]
  },
  {
   "cell_type": "markdown",
   "id": "thrown-speaker",
   "metadata": {},
   "source": [
    "### while loop"
   ]
  },
  {
   "cell_type": "code",
   "execution_count": 10,
   "id": "studied-claim",
   "metadata": {},
   "outputs": [
    {
     "name": "stdout",
     "output_type": "stream",
     "text": [
      "10\n",
      "10\n",
      "9\n",
      "8\n",
      "7\n",
      "6\n",
      "5\n",
      "4\n",
      "3\n",
      "2\n",
      "1\n"
     ]
    }
   ],
   "source": [
    "a = int(input())\n",
    "while a > 0:\n",
    "    print(a)\n",
    "    a = a -1"
   ]
  },
  {
   "cell_type": "code",
   "execution_count": null,
   "id": "photographic-kitchen",
   "metadata": {},
   "outputs": [],
   "source": [
    "s = int(input())\n",
    "e = int(input())\n",
    "w = int(input())\n",
    "print((29-32) * 5//9)\n",
    "f = s\n",
    "while f <= e:\n",
    "    celcius = (f - 32) * 5 // 9\n",
    "    print(f , \"\\t\" ,celcius)\n",
    "    f = f + w"
   ]
  },
  {
   "cell_type": "code",
   "execution_count": null,
   "id": "significant-alexander",
   "metadata": {},
   "outputs": [],
   "source": [
    "s = 29\n",
    "cel = (s - 32) * 5 // 9\n",
    "print(cel)"
   ]
  }
 ],
 "metadata": {
  "kernelspec": {
   "display_name": "Python 3",
   "language": "python",
   "name": "python3"
  },
  "language_info": {
   "codemirror_mode": {
    "name": "ipython",
    "version": 3
   },
   "file_extension": ".py",
   "mimetype": "text/x-python",
   "name": "python",
   "nbconvert_exporter": "python",
   "pygments_lexer": "ipython3",
   "version": "3.8.2"
  }
 },
 "nbformat": 4,
 "nbformat_minor": 5
}
