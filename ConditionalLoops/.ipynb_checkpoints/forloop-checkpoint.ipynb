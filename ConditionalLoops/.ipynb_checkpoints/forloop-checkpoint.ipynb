{
 "cells": [
  {
   "cell_type": "code",
   "execution_count": 1,
   "id": "unique-sterling",
   "metadata": {},
   "outputs": [
    {
     "name": "stdout",
     "output_type": "stream",
     "text": [
      "a\n",
      "b\n",
      "c\n",
      "d\n"
     ]
    }
   ],
   "source": [
    "s = \"abcd\"\n",
    "for c in s:\n",
    "    print(c)"
   ]
  },
  {
   "cell_type": "code",
   "execution_count": 15,
   "id": "defensive-airplane",
   "metadata": {},
   "outputs": [
    {
     "name": "stdout",
     "output_type": "stream",
     "text": [
      "11 10 9 8 7 6 5 4 3 2 1 "
     ]
    }
   ],
   "source": [
    "nums = range(1,10)\n",
    "for i in nums:\n",
    "    print(i,end=' ')"
   ]
  },
  {
   "cell_type": "code",
   "execution_count": null,
   "id": "adjusted-colorado",
   "metadata": {},
   "outputs": [],
   "source": [
    "nums = range(11,0,-1)\n",
    "for i in nums:\n",
    "    print(i,end=' ')"
   ]
  },
  {
   "cell_type": "code",
   "execution_count": null,
   "id": "amino-thing",
   "metadata": {},
   "outputs": [],
   "source": [
    "# a < b\n",
    "a = int(input())\n",
    "b = int(input())\n",
    "st = a + (3 - a%3)\n",
    "for i in range(st,b+1,3):\n",
    "    print(i,end=' ')"
   ]
  },
  {
   "cell_type": "code",
   "execution_count": null,
   "id": "adolescent-functionality",
   "metadata": {},
   "outputs": [],
   "source": [
    "i=1\n",
    "while i<5:\n",
    "    if i == 6:\n",
    "        break\n",
    "    print(i,end=\" \")\n",
    "    i = i + 1\n",
    "else:\n",
    "    print(“Else is also printed”)"
   ]
  }
 ],
 "metadata": {
  "kernelspec": {
   "display_name": "Python 3",
   "language": "python",
   "name": "python3"
  },
  "language_info": {
   "codemirror_mode": {
    "name": "ipython",
    "version": 3
   },
   "file_extension": ".py",
   "mimetype": "text/x-python",
   "name": "python",
   "nbconvert_exporter": "python",
   "pygments_lexer": "ipython3",
   "version": "3.8.2"
  }
 },
 "nbformat": 4,
 "nbformat_minor": 5
}
