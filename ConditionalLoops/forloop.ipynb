{
 "cells": [
  {
   "cell_type": "code",
   "execution_count": 1,
   "id": "unique-sterling",
   "metadata": {},
   "outputs": [
    {
     "name": "stdout",
     "output_type": "stream",
     "text": [
      "a\n",
      "b\n",
      "c\n",
      "d\n"
     ]
    }
   ],
   "source": [
    "s = \"abcd\"\n",
    "for c in s:\n",
    "    print(c)"
   ]
  },
  {
   "cell_type": "code",
   "execution_count": 15,
   "id": "defensive-airplane",
   "metadata": {},
   "outputs": [
    {
     "name": "stdout",
     "output_type": "stream",
     "text": [
      "11 10 9 8 7 6 5 4 3 2 1 "
     ]
    }
   ],
   "source": [
    "nums = range(1,10)\n",
    "for i in nums:\n",
    "    print(i,end=' ')"
   ]
  },
  {
   "cell_type": "code",
   "execution_count": null,
   "id": "adjusted-colorado",
   "metadata": {},
   "outputs": [],
   "source": [
    "nums = range(11,0,-1)\n",
    "for i in nums:\n",
    "    print(i,end=' ')"
   ]
  },
  {
   "cell_type": "code",
   "execution_count": null,
   "id": "amino-thing",
   "metadata": {},
   "outputs": [],
   "source": [
    "# a < b\n",
    "a = int(input())\n",
    "b = int(input())\n",
    "st = a + (3 - a%3)\n",
    "for i in range(st,b+1,3):\n",
    "    print(i,end=' ')"
   ]
  },
  {
   "cell_type": "code",
   "execution_count": 7,
   "id": "adolescent-functionality",
   "metadata": {},
   "outputs": [
    {
     "name": "stdout",
     "output_type": "stream",
     "text": [
      "1 2 3 4 Else is also printed\n"
     ]
    }
   ],
   "source": [
    "i=1\n",
    "while i<5:\n",
    "    if i == 6:\n",
    "        break\n",
    "    print(i,end=\" \")\n",
    "    i = i + 1\n",
    "else:\n",
    "    print(\"Else is also printed\")"
   ]
  },
  {
   "cell_type": "code",
   "execution_count": 9,
   "id": "acting-least",
   "metadata": {},
   "outputs": [
    {
     "name": "stdout",
     "output_type": "stream",
     "text": [
      "this is an example of pass\n"
     ]
    }
   ],
   "source": [
    "i =3\n",
    "if i ==3:\n",
    "    pass\n",
    "print(\"this is an example of pass\")"
   ]
  },
  {
   "cell_type": "code",
   "execution_count": 13,
   "id": "missing-drive",
   "metadata": {},
   "outputs": [
    {
     "name": "stdout",
     "output_type": "stream",
     "text": [
      "12\n",
      "1100\n"
     ]
    }
   ],
   "source": [
    "n = int(input())\n",
    "d = n\n",
    "r = \"\"\n",
    "while d > 0:\n",
    "    r = str(d%2) + r\n",
    "    d = d//2\n",
    "print(r)"
   ]
  },
  {
   "cell_type": "code",
   "execution_count": 27,
   "id": "improved-anaheim",
   "metadata": {},
   "outputs": [
    {
     "name": "stdout",
     "output_type": "stream",
     "text": [
      "8\n"
     ]
    }
   ],
   "source": [
    "def pow(x,n):\n",
    "    if x==0:\n",
    "        return 0\n",
    "    if n==0:\n",
    "        return 1\n",
    "    if n%2==0:\n",
    "        subResult = pow(x,n/2)\n",
    "        return subResult * subResult\n",
    "    else:\n",
    "        return x * pow(x,n-1)\n",
    "print(pow(2,3))"
   ]
  }
 ],
 "metadata": {
  "kernelspec": {
   "display_name": "Python 3",
   "language": "python",
   "name": "python3"
  },
  "language_info": {
   "codemirror_mode": {
    "name": "ipython",
    "version": 3
   },
   "file_extension": ".py",
   "mimetype": "text/x-python",
   "name": "python",
   "nbconvert_exporter": "python",
   "pygments_lexer": "ipython3",
   "version": "3.8.2"
  }
 },
 "nbformat": 4,
 "nbformat_minor": 5
}
