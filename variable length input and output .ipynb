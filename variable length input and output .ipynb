{
 "cells": [
  {
   "cell_type": "code",
   "execution_count": 5,
   "id": "2aa2aaa1",
   "metadata": {},
   "outputs": [],
   "source": [
    "def sum(a, b,c=0,d=0,e=0):\n",
    "    return a + b + c + d + e\n"
   ]
  },
  {
   "cell_type": "code",
   "execution_count": 2,
   "id": "471a2e78",
   "metadata": {},
   "outputs": [
    {
     "data": {
      "text/plain": [
       "3"
      ]
     },
     "execution_count": 2,
     "metadata": {},
     "output_type": "execute_result"
    }
   ],
   "source": [
    "sum(1,2)"
   ]
  },
  {
   "cell_type": "code",
   "execution_count": 6,
   "id": "9c325792",
   "metadata": {},
   "outputs": [
    {
     "data": {
      "text/plain": [
       "7"
      ]
     },
     "execution_count": 6,
     "metadata": {},
     "output_type": "execute_result"
    }
   ],
   "source": [
    "sum(1,2,4)"
   ]
  },
  {
   "cell_type": "code",
   "execution_count": 10,
   "id": "f5dda195",
   "metadata": {},
   "outputs": [],
   "source": [
    "def print2(a, b, *more):\n",
    "    print(a)\n",
    "    print(b)\n",
    "    print(more)"
   ]
  },
  {
   "cell_type": "code",
   "execution_count": 11,
   "id": "b903db5f",
   "metadata": {},
   "outputs": [
    {
     "name": "stdout",
     "output_type": "stream",
     "text": [
      "2\n",
      "3\n",
      "()\n"
     ]
    }
   ],
   "source": [
    "print2(2,3)"
   ]
  },
  {
   "cell_type": "code",
   "execution_count": 12,
   "id": "e9e07759",
   "metadata": {},
   "outputs": [
    {
     "name": "stdout",
     "output_type": "stream",
     "text": [
      "2\n",
      "4\n",
      "(5, 6)\n"
     ]
    }
   ],
   "source": [
    "print2(2,4,5,6)"
   ]
  },
  {
   "cell_type": "code",
   "execution_count": 13,
   "id": "d534d66b",
   "metadata": {},
   "outputs": [],
   "source": [
    "def sum2(a, b, *more):\n",
    "    ans = a + b\n",
    "    for i in more:\n",
    "        ans+=i\n",
    "    return ans"
   ]
  },
  {
   "cell_type": "code",
   "execution_count": 14,
   "id": "8aa73a14",
   "metadata": {},
   "outputs": [
    {
     "data": {
      "text/plain": [
       "20"
      ]
     },
     "execution_count": 14,
     "metadata": {},
     "output_type": "execute_result"
    }
   ],
   "source": [
    "sum2(2,3,4,5,6)"
   ]
  },
  {
   "cell_type": "code",
   "execution_count": 15,
   "id": "73df6684",
   "metadata": {},
   "outputs": [],
   "source": [
    "def sum_diff(a,b):\n",
    "    return a + b, a -b"
   ]
  },
  {
   "cell_type": "code",
   "execution_count": 16,
   "id": "ba905da8",
   "metadata": {},
   "outputs": [
    {
     "data": {
      "text/plain": [
       "(4, -2)"
      ]
     },
     "execution_count": 16,
     "metadata": {},
     "output_type": "execute_result"
    }
   ],
   "source": [
    "sum_diff(1,3)"
   ]
  },
  {
   "cell_type": "code",
   "execution_count": 17,
   "id": "ef8a23f1",
   "metadata": {},
   "outputs": [
    {
     "name": "stdout",
     "output_type": "stream",
     "text": [
      "4\n",
      "-2\n"
     ]
    }
   ],
   "source": [
    "d,e = sum_diff(1,3)\n",
    "print(d)\n",
    "print(e)"
   ]
  },
  {
   "cell_type": "code",
   "execution_count": 19,
   "id": "ee1172a0",
   "metadata": {},
   "outputs": [
    {
     "name": "stdout",
     "output_type": "stream",
     "text": [
      "(4, -2)\n",
      "<class 'tuple'>\n"
     ]
    }
   ],
   "source": [
    "f = sum_diff(1,3)\n",
    "print(f)\n",
    "print(type(f))"
   ]
  },
  {
   "cell_type": "code",
   "execution_count": 21,
   "id": "a501b21c",
   "metadata": {},
   "outputs": [
    {
     "ename": "ValueError",
     "evalue": "not enough values to unpack (expected 3, got 2)",
     "output_type": "error",
     "traceback": [
      "\u001b[0;31m---------------------------------------------------------------------------\u001b[0m",
      "\u001b[0;31mValueError\u001b[0m                                Traceback (most recent call last)",
      "\u001b[0;32m<ipython-input-21-5550cd8d4419>\u001b[0m in \u001b[0;36m<module>\u001b[0;34m\u001b[0m\n\u001b[1;32m      1\u001b[0m \u001b[0;31m## output can not exceed then what is defined inside return of function\u001b[0m\u001b[0;34m\u001b[0m\u001b[0;34m\u001b[0m\u001b[0;34m\u001b[0m\u001b[0m\n\u001b[0;32m----> 2\u001b[0;31m \u001b[0md\u001b[0m\u001b[0;34m,\u001b[0m\u001b[0me\u001b[0m\u001b[0;34m,\u001b[0m\u001b[0mf\u001b[0m \u001b[0;34m=\u001b[0m \u001b[0msum_diff\u001b[0m\u001b[0;34m(\u001b[0m\u001b[0;36m1\u001b[0m\u001b[0;34m,\u001b[0m\u001b[0;36m3\u001b[0m\u001b[0;34m)\u001b[0m\u001b[0;34m\u001b[0m\u001b[0;34m\u001b[0m\u001b[0m\n\u001b[0m",
      "\u001b[0;31mValueError\u001b[0m: not enough values to unpack (expected 3, got 2)"
     ]
    }
   ],
   "source": [
    "## output can not exceed then what is defined inside return of function\n",
    "d,e,f = sum_diff(1,3)"
   ]
  }
 ],
 "metadata": {
  "kernelspec": {
   "display_name": "Python 3",
   "language": "python",
   "name": "python3"
  },
  "language_info": {
   "codemirror_mode": {
    "name": "ipython",
    "version": 3
   },
   "file_extension": ".py",
   "mimetype": "text/x-python",
   "name": "python",
   "nbconvert_exporter": "python",
   "pygments_lexer": "ipython3",
   "version": "3.8.8"
  }
 },
 "nbformat": 4,
 "nbformat_minor": 5
}
